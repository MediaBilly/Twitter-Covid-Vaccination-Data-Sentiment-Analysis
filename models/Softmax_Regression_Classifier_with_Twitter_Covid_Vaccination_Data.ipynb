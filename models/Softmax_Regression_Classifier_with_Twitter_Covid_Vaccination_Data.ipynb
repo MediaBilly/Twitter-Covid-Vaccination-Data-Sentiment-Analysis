{
  "nbformat": 4,
  "nbformat_minor": 0,
  "metadata": {
    "colab": {
      "name": "Softmax Regression Classifier with Twitter Covid Vaccination Data.ipynb",
      "provenance": [],
      "collapsed_sections": []
    },
    "kernelspec": {
      "name": "python3",
      "display_name": "Python 3"
    },
    "language_info": {
      "name": "python"
    }
  },
  "cells": [
    {
      "cell_type": "markdown",
      "metadata": {
        "id": "SsvRJ0eZ00qR"
      },
      "source": [
        "#Softmax Regression Classifier with Twitter Covid Vaccination Data"
      ]
    },
    {
      "cell_type": "markdown",
      "metadata": {
        "id": "Mo3YJm8vbhry"
      },
      "source": [
        "**Mount Google Drive(to read the datasets)**\n",
        "\n",
        "We will first mount the google drive storage to load the datasets. It is not necessary, but I did it this way in order to avoid uploading them every time. If you want, you can upload yours and just change the import paths. "
      ]
    },
    {
      "cell_type": "code",
      "metadata": {
        "colab": {
          "base_uri": "https://localhost:8080/"
        },
        "id": "WTDa84f8bpAv",
        "outputId": "03c6db82-c161-4aac-c88a-5afad0fb6c67"
      },
      "source": [
        "from google.colab import drive\n",
        "drive.mount('/content/gdrive')"
      ],
      "execution_count": null,
      "outputs": [
        {
          "output_type": "stream",
          "name": "stdout",
          "text": [
            "Mounted at /content/gdrive\n"
          ]
        }
      ]
    },
    {
      "cell_type": "markdown",
      "metadata": {
        "id": "_IyhkUqxZfj6"
      },
      "source": [
        "**Import necessary libraries**\n",
        "\n",
        "Then, we will import the necessary libraries\n"
      ]
    },
    {
      "cell_type": "code",
      "metadata": {
        "id": "HnMC3BgPZgpI"
      },
      "source": [
        "import pandas as pd\n",
        "import re\n",
        "from sklearn.feature_extraction.text import CountVectorizer, TfidfVectorizer\n",
        "from sklearn.linear_model import LogisticRegression\n",
        "import nltk\n",
        "from nltk.corpus import stopwords\n",
        "import numpy as np\n",
        "import matplotlib.pyplot as plt\n",
        "from sklearn.metrics import classification_report, confusion_matrix, ConfusionMatrixDisplay, f1_score, precision_score, recall_score\n",
        "\n",
        "pd.set_option('max_colwidth', 500)\n",
        "%matplotlib inline"
      ],
      "execution_count": null,
      "outputs": []
    },
    {
      "cell_type": "markdown",
      "metadata": {
        "id": "mFB6BeT9ZiMR"
      },
      "source": [
        "# Dataset loading\n",
        "Now, let's load our datasets:"
      ]
    },
    {
      "cell_type": "markdown",
      "metadata": {
        "id": "CR7cWQ842B9t"
      },
      "source": [
        "**Train Dataset**"
      ]
    },
    {
      "cell_type": "code",
      "metadata": {
        "colab": {
          "base_uri": "https://localhost:8080/",
          "height": 424
        },
        "id": "Ppcm9wQAZ6vu",
        "outputId": "88aeb728-f90b-4222-e59a-4faf849568d0"
      },
      "source": [
        "train_dataset = pd.read_csv('gdrive/MyDrive/NLP exercises/Datasets/Twitter Covid Vaccination data/vs_train.csv')\n",
        "train_dataset.drop(['Unnamed: 0'], axis=1, inplace=True)\n",
        "train_dataset"
      ],
      "execution_count": null,
      "outputs": [
        {
          "output_type": "execute_result",
          "data": {
            "text/html": [
              "<div>\n",
              "<style scoped>\n",
              "    .dataframe tbody tr th:only-of-type {\n",
              "        vertical-align: middle;\n",
              "    }\n",
              "\n",
              "    .dataframe tbody tr th {\n",
              "        vertical-align: top;\n",
              "    }\n",
              "\n",
              "    .dataframe thead th {\n",
              "        text-align: right;\n",
              "    }\n",
              "</style>\n",
              "<table border=\"1\" class=\"dataframe\">\n",
              "  <thead>\n",
              "    <tr style=\"text-align: right;\">\n",
              "      <th></th>\n",
              "      <th>tweet</th>\n",
              "      <th>label</th>\n",
              "    </tr>\n",
              "  </thead>\n",
              "  <tbody>\n",
              "    <tr>\n",
              "      <th>0</th>\n",
              "      <td>Sip N Shop Come thru right now #Marjais #PopularNobodies #MMR 🙌🙌🙌🙌 @ Marjais SipNShop http://t.co/JfWAH7uzWE</td>\n",
              "      <td>0</td>\n",
              "    </tr>\n",
              "    <tr>\n",
              "      <th>1</th>\n",
              "      <td>I don't know about you but My family and I will not take the #Covid19 vaccine anytime soon...</td>\n",
              "      <td>1</td>\n",
              "    </tr>\n",
              "    <tr>\n",
              "      <th>2</th>\n",
              "      <td>@MSignorile Immunizations should be mandatory. Period. In Oklahoma, they won't let kids go to school without them. It's dangerous otherwise!</td>\n",
              "      <td>2</td>\n",
              "    </tr>\n",
              "    <tr>\n",
              "      <th>3</th>\n",
              "      <td>President Obama spoke in favor of vaccination for children. Fox will start telling its viewers to \"choose\" against vaccination in 3,2,1...</td>\n",
              "      <td>0</td>\n",
              "    </tr>\n",
              "    <tr>\n",
              "      <th>4</th>\n",
              "      <td>\"@myfoxla: Arizona monitoring hundreds for measles linked to Disneyland http://t.co/tEoU2zAQat\" It's a Small World After All.</td>\n",
              "      <td>0</td>\n",
              "    </tr>\n",
              "    <tr>\n",
              "      <th>...</th>\n",
              "      <td>...</td>\n",
              "      <td>...</td>\n",
              "    </tr>\n",
              "    <tr>\n",
              "      <th>15971</th>\n",
              "      <td>@Salon if u believe the anti-vax nutcases caused measles u are ignoring the Obama illegal children who streamed to the US. coincidence?</td>\n",
              "      <td>1</td>\n",
              "    </tr>\n",
              "    <tr>\n",
              "      <th>15972</th>\n",
              "      <td>How do you feel about parents who don't #vaccinate their kids?\\r\\nhttps://t.co/k3O7Al8Au3\\r\\n#MeaslesOutbreak</td>\n",
              "      <td>0</td>\n",
              "    </tr>\n",
              "    <tr>\n",
              "      <th>15973</th>\n",
              "      <td>70 Preschoolers Tested for Measles in Simi Valley http://t.co/pTRjYu8SVr</td>\n",
              "      <td>0</td>\n",
              "    </tr>\n",
              "    <tr>\n",
              "      <th>15974</th>\n",
              "      <td>Finance Minister: Budget offers room to procure COVID-19 vaccines, if available https://t.co/VLdKXat3NJ</td>\n",
              "      <td>0</td>\n",
              "    </tr>\n",
              "    <tr>\n",
              "      <th>15975</th>\n",
              "      <td>Are you up to date on vaccines? Take CDC’s vaccine quiz to find out which vaccines are right for you. https://t.co/3OhDVEHE0V</td>\n",
              "      <td>2</td>\n",
              "    </tr>\n",
              "  </tbody>\n",
              "</table>\n",
              "<p>15976 rows × 2 columns</p>\n",
              "</div>"
            ],
            "text/plain": [
              "                                                                                                                                              tweet  label\n",
              "0                                      Sip N Shop Come thru right now #Marjais #PopularNobodies #MMR 🙌🙌🙌🙌 @ Marjais SipNShop http://t.co/JfWAH7uzWE      0\n",
              "1                                                     I don't know about you but My family and I will not take the #Covid19 vaccine anytime soon...      1\n",
              "2      @MSignorile Immunizations should be mandatory. Period. In Oklahoma, they won't let kids go to school without them. It's dangerous otherwise!      2\n",
              "3        President Obama spoke in favor of vaccination for children. Fox will start telling its viewers to \"choose\" against vaccination in 3,2,1...      0\n",
              "4                     \"@myfoxla: Arizona monitoring hundreds for measles linked to Disneyland http://t.co/tEoU2zAQat\" It's a Small World After All.      0\n",
              "...                                                                                                                                             ...    ...\n",
              "15971       @Salon if u believe the anti-vax nutcases caused measles u are ignoring the Obama illegal children who streamed to the US. coincidence?      1\n",
              "15972                                 How do you feel about parents who don't #vaccinate their kids?\\r\\nhttps://t.co/k3O7Al8Au3\\r\\n#MeaslesOutbreak      0\n",
              "15973                                                                      70 Preschoolers Tested for Measles in Simi Valley http://t.co/pTRjYu8SVr      0\n",
              "15974                                       Finance Minister: Budget offers room to procure COVID-19 vaccines, if available https://t.co/VLdKXat3NJ      0\n",
              "15975                 Are you up to date on vaccines? Take CDC’s vaccine quiz to find out which vaccines are right for you. https://t.co/3OhDVEHE0V      2\n",
              "\n",
              "[15976 rows x 2 columns]"
            ]
          },
          "metadata": {},
          "execution_count": 3
        }
      ]
    },
    {
      "cell_type": "markdown",
      "metadata": {
        "id": "oBQh4-s2Z_DW"
      },
      "source": [
        "**Validation Dataset**"
      ]
    },
    {
      "cell_type": "code",
      "metadata": {
        "colab": {
          "base_uri": "https://localhost:8080/",
          "height": 424
        },
        "id": "R-byDRQraCku",
        "outputId": "1a335e51-b8be-4bc6-ecf5-8818d5f3720c"
      },
      "source": [
        "validation_dataset = pd.read_csv('gdrive/MyDrive/NLP exercises/Datasets/Twitter Covid Vaccination data/vs_dev.csv')\n",
        "validation_dataset.drop(['Unnamed: 0'], axis=1, inplace=True)\n",
        "validation_dataset"
      ],
      "execution_count": null,
      "outputs": [
        {
          "output_type": "execute_result",
          "data": {
            "text/html": [
              "<div>\n",
              "<style scoped>\n",
              "    .dataframe tbody tr th:only-of-type {\n",
              "        vertical-align: middle;\n",
              "    }\n",
              "\n",
              "    .dataframe tbody tr th {\n",
              "        vertical-align: top;\n",
              "    }\n",
              "\n",
              "    .dataframe thead th {\n",
              "        text-align: right;\n",
              "    }\n",
              "</style>\n",
              "<table border=\"1\" class=\"dataframe\">\n",
              "  <thead>\n",
              "    <tr style=\"text-align: right;\">\n",
              "      <th></th>\n",
              "      <th>tweet</th>\n",
              "      <th>label</th>\n",
              "    </tr>\n",
              "  </thead>\n",
              "  <tbody>\n",
              "    <tr>\n",
              "      <th>0</th>\n",
              "      <td>@user They had a massive surge in with covid deaths immediately after the vaccine rollout, way more than they had during the entirety of the \"pandemic\" up to that point. Fuck those jabs, Dr.Death.</td>\n",
              "      <td>1</td>\n",
              "    </tr>\n",
              "    <tr>\n",
              "      <th>1</th>\n",
              "      <td>Required vaccines for school: Parents and guardians of children with school exclusion letters now have an... http://t.co/KVl8Dt86dz</td>\n",
              "      <td>0</td>\n",
              "    </tr>\n",
              "    <tr>\n",
              "      <th>2</th>\n",
              "      <td>“@KCStar: Two more Johnson County children have measles http://t.co/Rvx07sc” @sethmnookin</td>\n",
              "      <td>0</td>\n",
              "    </tr>\n",
              "    <tr>\n",
              "      <th>3</th>\n",
              "      <td>NV can do better. Which states are the best (and worst) at vaccinating their kids http://t.co/6GaZGgYA9z http://t.co/pTFRJZ2Tmr\"</td>\n",
              "      <td>2</td>\n",
              "    </tr>\n",
              "    <tr>\n",
              "      <th>4</th>\n",
              "      <td>Nothing like killing ourselves w/ our own fear MT@Alyssa_Milano: Vaccine fears have fueled the resurgence of preventable diseases.</td>\n",
              "      <td>2</td>\n",
              "    </tr>\n",
              "    <tr>\n",
              "      <th>...</th>\n",
              "      <td>...</td>\n",
              "      <td>...</td>\n",
              "    </tr>\n",
              "    <tr>\n",
              "      <th>2277</th>\n",
              "      <td>RT @abc7: Number of measles cases reported in Cali is at a 10-year high,  officials say http://t.co/J4tqBkJl  uggh not a good thing at all!!</td>\n",
              "      <td>0</td>\n",
              "    </tr>\n",
              "    <tr>\n",
              "      <th>2278</th>\n",
              "      <td>Evidence points to the idea that \"measles affects the immune system for two to three years\" after the disease. http://t.co/DbjIQVLQrS</td>\n",
              "      <td>0</td>\n",
              "    </tr>\n",
              "    <tr>\n",
              "      <th>2279</th>\n",
              "      <td>Where's @SavedYouAClick \"@voxdotcom: Why you should vaccinate your kids, in two minutes: http://t.co/HrZPqQERkY\"</td>\n",
              "      <td>2</td>\n",
              "    </tr>\n",
              "    <tr>\n",
              "      <th>2280</th>\n",
              "      <td>Some of my favorite people have autism. If that's your reason for bringing back diseases we have eviscerated, fuck you. #vaccineswork</td>\n",
              "      <td>2</td>\n",
              "    </tr>\n",
              "    <tr>\n",
              "      <th>2281</th>\n",
              "      <td>Coronavirus: The married couple behind the successful Pfizer COVID vaccine | Came to Germany as Turkish Migrant worker kids —- inspiring couple https://t.co/iR4UHRUXFH</td>\n",
              "      <td>0</td>\n",
              "    </tr>\n",
              "  </tbody>\n",
              "</table>\n",
              "<p>2282 rows × 2 columns</p>\n",
              "</div>"
            ],
            "text/plain": [
              "                                                                                                                                                                                                     tweet  label\n",
              "0     @user They had a massive surge in with covid deaths immediately after the vaccine rollout, way more than they had during the entirety of the \"pandemic\" up to that point. Fuck those jabs, Dr.Death.      1\n",
              "1                                                                      Required vaccines for school: Parents and guardians of children with school exclusion letters now have an... http://t.co/KVl8Dt86dz      0\n",
              "2                                                                                                                “@KCStar: Two more Johnson County children have measles http://t.co/Rvx07sc” @sethmnookin      0\n",
              "3                                                                         NV can do better. Which states are the best (and worst) at vaccinating their kids http://t.co/6GaZGgYA9z http://t.co/pTFRJZ2Tmr\"      2\n",
              "4                                                                       Nothing like killing ourselves w/ our own fear MT@Alyssa_Milano: Vaccine fears have fueled the resurgence of preventable diseases.      2\n",
              "...                                                                                                                                                                                                    ...    ...\n",
              "2277                                                          RT @abc7: Number of measles cases reported in Cali is at a 10-year high,  officials say http://t.co/J4tqBkJl  uggh not a good thing at all!!      0\n",
              "2278                                                                 Evidence points to the idea that \"measles affects the immune system for two to three years\" after the disease. http://t.co/DbjIQVLQrS      0\n",
              "2279                                                                                      Where's @SavedYouAClick \"@voxdotcom: Why you should vaccinate your kids, in two minutes: http://t.co/HrZPqQERkY\"      2\n",
              "2280                                                                 Some of my favorite people have autism. If that's your reason for bringing back diseases we have eviscerated, fuck you. #vaccineswork      2\n",
              "2281                               Coronavirus: The married couple behind the successful Pfizer COVID vaccine | Came to Germany as Turkish Migrant worker kids —- inspiring couple https://t.co/iR4UHRUXFH      0\n",
              "\n",
              "[2282 rows x 2 columns]"
            ]
          },
          "metadata": {},
          "execution_count": 4
        }
      ]
    },
    {
      "cell_type": "markdown",
      "metadata": {
        "id": "5sniVBlx1myf"
      },
      "source": [
        "**Test Dataset**\n",
        "\n",
        "Note: I used the same dataset as the validation, because the assignment's test set was hidden. You can plug your own just by changing the path."
      ]
    },
    {
      "cell_type": "code",
      "metadata": {
        "colab": {
          "base_uri": "https://localhost:8080/",
          "height": 424
        },
        "id": "-LACSS4Y1miv",
        "outputId": "2d540f1b-68ee-4369-fd6f-2398217c990e"
      },
      "source": [
        "test_dataset = pd.read_csv('gdrive/MyDrive/NLP exercises/Datasets/Twitter Covid Vaccination data/vs_dev.csv')\n",
        "test_dataset.drop(['Unnamed: 0'], axis=1, inplace=True)\n",
        "test_dataset"
      ],
      "execution_count": null,
      "outputs": [
        {
          "output_type": "execute_result",
          "data": {
            "text/html": [
              "<div>\n",
              "<style scoped>\n",
              "    .dataframe tbody tr th:only-of-type {\n",
              "        vertical-align: middle;\n",
              "    }\n",
              "\n",
              "    .dataframe tbody tr th {\n",
              "        vertical-align: top;\n",
              "    }\n",
              "\n",
              "    .dataframe thead th {\n",
              "        text-align: right;\n",
              "    }\n",
              "</style>\n",
              "<table border=\"1\" class=\"dataframe\">\n",
              "  <thead>\n",
              "    <tr style=\"text-align: right;\">\n",
              "      <th></th>\n",
              "      <th>tweet</th>\n",
              "      <th>label</th>\n",
              "    </tr>\n",
              "  </thead>\n",
              "  <tbody>\n",
              "    <tr>\n",
              "      <th>0</th>\n",
              "      <td>@user They had a massive surge in with covid deaths immediately after the vaccine rollout, way more than they had during the entirety of the \"pandemic\" up to that point. Fuck those jabs, Dr.Death.</td>\n",
              "      <td>1</td>\n",
              "    </tr>\n",
              "    <tr>\n",
              "      <th>1</th>\n",
              "      <td>Required vaccines for school: Parents and guardians of children with school exclusion letters now have an... http://t.co/KVl8Dt86dz</td>\n",
              "      <td>0</td>\n",
              "    </tr>\n",
              "    <tr>\n",
              "      <th>2</th>\n",
              "      <td>“@KCStar: Two more Johnson County children have measles http://t.co/Rvx07sc” @sethmnookin</td>\n",
              "      <td>0</td>\n",
              "    </tr>\n",
              "    <tr>\n",
              "      <th>3</th>\n",
              "      <td>NV can do better. Which states are the best (and worst) at vaccinating their kids http://t.co/6GaZGgYA9z http://t.co/pTFRJZ2Tmr\"</td>\n",
              "      <td>2</td>\n",
              "    </tr>\n",
              "    <tr>\n",
              "      <th>4</th>\n",
              "      <td>Nothing like killing ourselves w/ our own fear MT@Alyssa_Milano: Vaccine fears have fueled the resurgence of preventable diseases.</td>\n",
              "      <td>2</td>\n",
              "    </tr>\n",
              "    <tr>\n",
              "      <th>...</th>\n",
              "      <td>...</td>\n",
              "      <td>...</td>\n",
              "    </tr>\n",
              "    <tr>\n",
              "      <th>2277</th>\n",
              "      <td>RT @abc7: Number of measles cases reported in Cali is at a 10-year high,  officials say http://t.co/J4tqBkJl  uggh not a good thing at all!!</td>\n",
              "      <td>0</td>\n",
              "    </tr>\n",
              "    <tr>\n",
              "      <th>2278</th>\n",
              "      <td>Evidence points to the idea that \"measles affects the immune system for two to three years\" after the disease. http://t.co/DbjIQVLQrS</td>\n",
              "      <td>0</td>\n",
              "    </tr>\n",
              "    <tr>\n",
              "      <th>2279</th>\n",
              "      <td>Where's @SavedYouAClick \"@voxdotcom: Why you should vaccinate your kids, in two minutes: http://t.co/HrZPqQERkY\"</td>\n",
              "      <td>2</td>\n",
              "    </tr>\n",
              "    <tr>\n",
              "      <th>2280</th>\n",
              "      <td>Some of my favorite people have autism. If that's your reason for bringing back diseases we have eviscerated, fuck you. #vaccineswork</td>\n",
              "      <td>2</td>\n",
              "    </tr>\n",
              "    <tr>\n",
              "      <th>2281</th>\n",
              "      <td>Coronavirus: The married couple behind the successful Pfizer COVID vaccine | Came to Germany as Turkish Migrant worker kids —- inspiring couple https://t.co/iR4UHRUXFH</td>\n",
              "      <td>0</td>\n",
              "    </tr>\n",
              "  </tbody>\n",
              "</table>\n",
              "<p>2282 rows × 2 columns</p>\n",
              "</div>"
            ],
            "text/plain": [
              "                                                                                                                                                                                                     tweet  label\n",
              "0     @user They had a massive surge in with covid deaths immediately after the vaccine rollout, way more than they had during the entirety of the \"pandemic\" up to that point. Fuck those jabs, Dr.Death.      1\n",
              "1                                                                      Required vaccines for school: Parents and guardians of children with school exclusion letters now have an... http://t.co/KVl8Dt86dz      0\n",
              "2                                                                                                                “@KCStar: Two more Johnson County children have measles http://t.co/Rvx07sc” @sethmnookin      0\n",
              "3                                                                         NV can do better. Which states are the best (and worst) at vaccinating their kids http://t.co/6GaZGgYA9z http://t.co/pTFRJZ2Tmr\"      2\n",
              "4                                                                       Nothing like killing ourselves w/ our own fear MT@Alyssa_Milano: Vaccine fears have fueled the resurgence of preventable diseases.      2\n",
              "...                                                                                                                                                                                                    ...    ...\n",
              "2277                                                          RT @abc7: Number of measles cases reported in Cali is at a 10-year high,  officials say http://t.co/J4tqBkJl  uggh not a good thing at all!!      0\n",
              "2278                                                                 Evidence points to the idea that \"measles affects the immune system for two to three years\" after the disease. http://t.co/DbjIQVLQrS      0\n",
              "2279                                                                                      Where's @SavedYouAClick \"@voxdotcom: Why you should vaccinate your kids, in two minutes: http://t.co/HrZPqQERkY\"      2\n",
              "2280                                                                 Some of my favorite people have autism. If that's your reason for bringing back diseases we have eviscerated, fuck you. #vaccineswork      2\n",
              "2281                               Coronavirus: The married couple behind the successful Pfizer COVID vaccine | Came to Germany as Turkish Migrant worker kids —- inspiring couple https://t.co/iR4UHRUXFH      0\n",
              "\n",
              "[2282 rows x 2 columns]"
            ]
          },
          "metadata": {},
          "execution_count": 5
        }
      ]
    },
    {
      "cell_type": "markdown",
      "metadata": {
        "id": "J2jwfbLAIvrS"
      },
      "source": [
        "# Data Visualization\n",
        "And now, we will visualize the amount of tweets of each label on our datasets to get a brief overview about their distribution."
      ]
    },
    {
      "cell_type": "markdown",
      "metadata": {
        "id": "CehQz8ayIzkB"
      },
      "source": [
        "**Train dataset**"
      ]
    },
    {
      "cell_type": "code",
      "metadata": {
        "colab": {
          "base_uri": "https://localhost:8080/",
          "height": 296
        },
        "id": "-ZBgb6WzI2Da",
        "outputId": "ec7805dc-6783-4720-e747-8a4d622ef830"
      },
      "source": [
        "trainLabelCounts = train_dataset.groupby('label').count()\n",
        "trainLabelCounts.plot.bar(rot=0)"
      ],
      "execution_count": null,
      "outputs": [
        {
          "output_type": "execute_result",
          "data": {
            "text/plain": [
              "<matplotlib.axes._subplots.AxesSubplot at 0x7fd4d6c4b610>"
            ]
          },
          "metadata": {},
          "execution_count": 6
        },
        {
          "output_type": "display_data",
          "data": {
            "image/png": "[encoded data removed]",
            "text/plain": [
              "<Figure size 432x288 with 1 Axes>"
            ]
          },
          "metadata": {
            "needs_background": "light"
          }
        }
      ]
    },
    {
      "cell_type": "markdown",
      "metadata": {
        "id": "avHQKGIOJvlO"
      },
      "source": [
        "**Validation dataset**"
      ]
    },
    {
      "cell_type": "code",
      "metadata": {
        "colab": {
          "base_uri": "https://localhost:8080/",
          "height": 296
        },
        "id": "svxn5-9lJyn1",
        "outputId": "4a0c3c02-e249-403a-ace4-3cb952dec4f4"
      },
      "source": [
        "validationLabelCounts = validation_dataset.groupby('label').count()\n",
        "validationLabelCounts.plot.bar(rot=0)"
      ],
      "execution_count": null,
      "outputs": [
        {
          "output_type": "execute_result",
          "data": {
            "text/plain": [
              "<matplotlib.axes._subplots.AxesSubplot at 0x7fd4d6d81f10>"
            ]
          },
          "metadata": {},
          "execution_count": 7
        },
        {
          "output_type": "display_data",
          "data": {
            "image/png": "[encoded data removed]",
            "text/plain": [
              "<Figure size 432x288 with 1 Axes>"
            ]
          },
          "metadata": {
            "needs_background": "light"
          }
        }
      ]
    },
    {
      "cell_type": "markdown",
      "metadata": {
        "id": "XBU_XLJJ2-hc"
      },
      "source": [
        "**Test Dataset**"
      ]
    },
    {
      "cell_type": "code",
      "metadata": {
        "colab": {
          "base_uri": "https://localhost:8080/",
          "height": 296
        },
        "id": "3wxSXXtL3SPJ",
        "outputId": "951b2e58-6a2e-4cc2-e1be-a3345fa9d65a"
      },
      "source": [
        "testLabelCounts = test_dataset.groupby('label').count()\n",
        "testLabelCounts.plot.bar(rot=0)"
      ],
      "execution_count": null,
      "outputs": [
        {
          "output_type": "execute_result",
          "data": {
            "text/plain": [
              "<matplotlib.axes._subplots.AxesSubplot at 0x7fd4d66ca710>"
            ]
          },
          "metadata": {},
          "execution_count": 8
        },
        {
          "output_type": "display_data",
          "data": {
            "image/png": "[encoded data removed]",
            "text/plain": [
              "<Figure size 432x288 with 1 Axes>"
            ]
          },
          "metadata": {
            "needs_background": "light"
          }
        }
      ]
    },
    {
      "cell_type": "markdown",
      "metadata": {
        "id": "jaUDN_wI6b1V"
      },
      "source": [
        "As you can see, there are not as many label 1 (anti-vax) tweets as the other two classes. So, we expect less score in class 1."
      ]
    },
    {
      "cell_type": "markdown",
      "metadata": {
        "id": "oHZNmvKzhkEj"
      },
      "source": [
        "# Text Preprocessing\n",
        "Now, we will clean our tweets from useless information in order to make a good vectorization later. More specifically, we will remove tags, urls, punctuation (except ' and ’ because we will need them to remove stopwords like it's), underscore(_) characters, whitespace, single characters, numbers, and we will convert the texts to lowercase because all words are the same in both upper and lower cases. Note that we will keep the hashtags(without the # symbol), because they contain useful information about the tweets."
      ]
    },
    {
      "cell_type": "code",
      "metadata": {
        "id": "hd9DBW-tkvFb"
      },
      "source": [
        "def text_preprocessing(text):\n",
        "  # Remove tags\n",
        "  text = re.sub(r'@\\s?\\w+',' ',text)\n",
        "  # Remove urls\n",
        "  text = re.sub(r'https?://\\S+',' ',text)\n",
        "  # Remove punctuation(except ' and ’)\n",
        "  text = re.sub(r'[^’\\'\\s\\w]',' ',text)\n",
        "  # Remove underscore characters\n",
        "  text = re.sub(r'_', ' ', text)\n",
        "  # Remove \\r and \\n\n",
        "  text = re.sub(r'[\\r\\n]',' ', text)\n",
        "  # Remove single characters\n",
        "  text = re.sub(r'\\s+[a-zA-Z]\\s+', ' ',text)\n",
        "  # Remove single characters from start\n",
        "  text = re.sub(r'^[a-zA-Z]\\s+', '', text)\n",
        "  # Remove single characters from end\n",
        "  text = re.sub(r'\\s+[a-zA-Z]$', '', text)\n",
        "  # Remove numbers\n",
        "  text = re.sub(r'\\d+',' ',text)\n",
        "  # Convert multiple spaces to single space and remove beginning and end spaces\n",
        "  text = re.sub(r' +',' ',text).strip()\n",
        "  # Convert to lowercase\n",
        "  text = text.lower()\n",
        "\n",
        "  return text"
      ],
      "execution_count": null,
      "outputs": []
    },
    {
      "cell_type": "markdown",
      "metadata": {
        "id": "Sjb_1gU95KMq"
      },
      "source": [
        "**Train Dataset**"
      ]
    },
    {
      "cell_type": "code",
      "metadata": {
        "colab": {
          "base_uri": "https://localhost:8080/",
          "height": 424
        },
        "id": "pvxJgZuUlR1j",
        "outputId": "d8466b83-b2dc-474e-e391-92603881aacd"
      },
      "source": [
        "train_dataset['tweet'] = train_dataset['tweet'].apply(lambda tweet: text_preprocessing(tweet))\n",
        "train_dataset"
      ],
      "execution_count": null,
      "outputs": [
        {
          "output_type": "execute_result",
          "data": {
            "text/html": [
              "<div>\n",
              "<style scoped>\n",
              "    .dataframe tbody tr th:only-of-type {\n",
              "        vertical-align: middle;\n",
              "    }\n",
              "\n",
              "    .dataframe tbody tr th {\n",
              "        vertical-align: top;\n",
              "    }\n",
              "\n",
              "    .dataframe thead th {\n",
              "        text-align: right;\n",
              "    }\n",
              "</style>\n",
              "<table border=\"1\" class=\"dataframe\">\n",
              "  <thead>\n",
              "    <tr style=\"text-align: right;\">\n",
              "      <th></th>\n",
              "      <th>tweet</th>\n",
              "      <th>label</th>\n",
              "    </tr>\n",
              "  </thead>\n",
              "  <tbody>\n",
              "    <tr>\n",
              "      <th>0</th>\n",
              "      <td>sip shop come thru right now marjais popularnobodies mmr sipnshop</td>\n",
              "      <td>0</td>\n",
              "    </tr>\n",
              "    <tr>\n",
              "      <th>1</th>\n",
              "      <td>don't know about you but my family and will not take the covid vaccine anytime soon</td>\n",
              "      <td>1</td>\n",
              "    </tr>\n",
              "    <tr>\n",
              "      <th>2</th>\n",
              "      <td>immunizations should be mandatory period in oklahoma they won't let kids go to school without them it's dangerous otherwise</td>\n",
              "      <td>2</td>\n",
              "    </tr>\n",
              "    <tr>\n",
              "      <th>3</th>\n",
              "      <td>president obama spoke in favor of vaccination for children fox will start telling its viewers to choose against vaccination in</td>\n",
              "      <td>0</td>\n",
              "    </tr>\n",
              "    <tr>\n",
              "      <th>4</th>\n",
              "      <td>arizona monitoring hundreds for measles linked to disneyland it's small world after all</td>\n",
              "      <td>0</td>\n",
              "    </tr>\n",
              "    <tr>\n",
              "      <th>...</th>\n",
              "      <td>...</td>\n",
              "      <td>...</td>\n",
              "    </tr>\n",
              "    <tr>\n",
              "      <th>15971</th>\n",
              "      <td>if believe the anti vax nutcases caused measles are ignoring the obama illegal children who streamed to the us coincidence</td>\n",
              "      <td>1</td>\n",
              "    </tr>\n",
              "    <tr>\n",
              "      <th>15972</th>\n",
              "      <td>how do you feel about parents who don't vaccinate their kids measlesoutbreak</td>\n",
              "      <td>0</td>\n",
              "    </tr>\n",
              "    <tr>\n",
              "      <th>15973</th>\n",
              "      <td>preschoolers tested for measles in simi valley</td>\n",
              "      <td>0</td>\n",
              "    </tr>\n",
              "    <tr>\n",
              "      <th>15974</th>\n",
              "      <td>finance minister budget offers room to procure covid vaccines if available</td>\n",
              "      <td>0</td>\n",
              "    </tr>\n",
              "    <tr>\n",
              "      <th>15975</th>\n",
              "      <td>are you up to date on vaccines take cdc’s vaccine quiz to find out which vaccines are right for you</td>\n",
              "      <td>2</td>\n",
              "    </tr>\n",
              "  </tbody>\n",
              "</table>\n",
              "<p>15976 rows × 2 columns</p>\n",
              "</div>"
            ],
            "text/plain": [
              "                                                                                                                                tweet  label\n",
              "0                                                                   sip shop come thru right now marjais popularnobodies mmr sipnshop      0\n",
              "1                                                 don't know about you but my family and will not take the covid vaccine anytime soon      1\n",
              "2         immunizations should be mandatory period in oklahoma they won't let kids go to school without them it's dangerous otherwise      2\n",
              "3      president obama spoke in favor of vaccination for children fox will start telling its viewers to choose against vaccination in      0\n",
              "4                                             arizona monitoring hundreds for measles linked to disneyland it's small world after all      0\n",
              "...                                                                                                                               ...    ...\n",
              "15971      if believe the anti vax nutcases caused measles are ignoring the obama illegal children who streamed to the us coincidence      1\n",
              "15972                                                    how do you feel about parents who don't vaccinate their kids measlesoutbreak      0\n",
              "15973                                                                                  preschoolers tested for measles in simi valley      0\n",
              "15974                                                      finance minister budget offers room to procure covid vaccines if available      0\n",
              "15975                             are you up to date on vaccines take cdc’s vaccine quiz to find out which vaccines are right for you      2\n",
              "\n",
              "[15976 rows x 2 columns]"
            ]
          },
          "metadata": {},
          "execution_count": 10
        }
      ]
    },
    {
      "cell_type": "markdown",
      "metadata": {
        "id": "0tojah1n5O2R"
      },
      "source": [
        "**Validation Dataset**"
      ]
    },
    {
      "cell_type": "code",
      "metadata": {
        "colab": {
          "base_uri": "https://localhost:8080/",
          "height": 424
        },
        "id": "x9l6CA2YzxV8",
        "outputId": "4cf48fc7-1895-4a1a-fa84-46ea44f245fc"
      },
      "source": [
        "validation_dataset['tweet'] = validation_dataset['tweet'].apply(lambda tweet: text_preprocessing(tweet))\n",
        "validation_dataset"
      ],
      "execution_count": null,
      "outputs": [
        {
          "output_type": "execute_result",
          "data": {
            "text/html": [
              "<div>\n",
              "<style scoped>\n",
              "    .dataframe tbody tr th:only-of-type {\n",
              "        vertical-align: middle;\n",
              "    }\n",
              "\n",
              "    .dataframe tbody tr th {\n",
              "        vertical-align: top;\n",
              "    }\n",
              "\n",
              "    .dataframe thead th {\n",
              "        text-align: right;\n",
              "    }\n",
              "</style>\n",
              "<table border=\"1\" class=\"dataframe\">\n",
              "  <thead>\n",
              "    <tr style=\"text-align: right;\">\n",
              "      <th></th>\n",
              "      <th>tweet</th>\n",
              "      <th>label</th>\n",
              "    </tr>\n",
              "  </thead>\n",
              "  <tbody>\n",
              "    <tr>\n",
              "      <th>0</th>\n",
              "      <td>they had massive surge in with covid deaths immediately after the vaccine rollout way more than they had during the entirety of the pandemic up to that point fuck those jabs dr death</td>\n",
              "      <td>1</td>\n",
              "    </tr>\n",
              "    <tr>\n",
              "      <th>1</th>\n",
              "      <td>required vaccines for school parents and guardians of children with school exclusion letters now have an</td>\n",
              "      <td>0</td>\n",
              "    </tr>\n",
              "    <tr>\n",
              "      <th>2</th>\n",
              "      <td>two more johnson county children have measles</td>\n",
              "      <td>0</td>\n",
              "    </tr>\n",
              "    <tr>\n",
              "      <th>3</th>\n",
              "      <td>nv can do better which states are the best and worst at vaccinating their kids</td>\n",
              "      <td>2</td>\n",
              "    </tr>\n",
              "    <tr>\n",
              "      <th>4</th>\n",
              "      <td>nothing like killing ourselves our own fear mt vaccine fears have fueled the resurgence of preventable diseases</td>\n",
              "      <td>2</td>\n",
              "    </tr>\n",
              "    <tr>\n",
              "      <th>...</th>\n",
              "      <td>...</td>\n",
              "      <td>...</td>\n",
              "    </tr>\n",
              "    <tr>\n",
              "      <th>2277</th>\n",
              "      <td>rt number of measles cases reported in cali is at year high officials say uggh not good thing at all</td>\n",
              "      <td>0</td>\n",
              "    </tr>\n",
              "    <tr>\n",
              "      <th>2278</th>\n",
              "      <td>evidence points to the idea that measles affects the immune system for two to three years after the disease</td>\n",
              "      <td>0</td>\n",
              "    </tr>\n",
              "    <tr>\n",
              "      <th>2279</th>\n",
              "      <td>where's why you should vaccinate your kids in two minutes</td>\n",
              "      <td>2</td>\n",
              "    </tr>\n",
              "    <tr>\n",
              "      <th>2280</th>\n",
              "      <td>some of my favorite people have autism if that's your reason for bringing back diseases we have eviscerated fuck you vaccineswork</td>\n",
              "      <td>2</td>\n",
              "    </tr>\n",
              "    <tr>\n",
              "      <th>2281</th>\n",
              "      <td>coronavirus the married couple behind the successful pfizer covid vaccine came to germany as turkish migrant worker kids inspiring couple</td>\n",
              "      <td>0</td>\n",
              "    </tr>\n",
              "  </tbody>\n",
              "</table>\n",
              "<p>2282 rows × 2 columns</p>\n",
              "</div>"
            ],
            "text/plain": [
              "                                                                                                                                                                                       tweet  label\n",
              "0     they had massive surge in with covid deaths immediately after the vaccine rollout way more than they had during the entirety of the pandemic up to that point fuck those jabs dr death      1\n",
              "1                                                                                   required vaccines for school parents and guardians of children with school exclusion letters now have an      0\n",
              "2                                                                                                                                              two more johnson county children have measles      0\n",
              "3                                                                                                             nv can do better which states are the best and worst at vaccinating their kids      2\n",
              "4                                                                            nothing like killing ourselves our own fear mt vaccine fears have fueled the resurgence of preventable diseases      2\n",
              "...                                                                                                                                                                                      ...    ...\n",
              "2277                                                                                    rt number of measles cases reported in cali is at year high officials say uggh not good thing at all      0\n",
              "2278                                                                             evidence points to the idea that measles affects the immune system for two to three years after the disease      0\n",
              "2279                                                                                                                               where's why you should vaccinate your kids in two minutes      2\n",
              "2280                                                       some of my favorite people have autism if that's your reason for bringing back diseases we have eviscerated fuck you vaccineswork      2\n",
              "2281                                               coronavirus the married couple behind the successful pfizer covid vaccine came to germany as turkish migrant worker kids inspiring couple      0\n",
              "\n",
              "[2282 rows x 2 columns]"
            ]
          },
          "metadata": {},
          "execution_count": 11
        }
      ]
    },
    {
      "cell_type": "markdown",
      "metadata": {
        "id": "bJ2oaVyr59Qv"
      },
      "source": [
        "**Test Dataset**"
      ]
    },
    {
      "cell_type": "code",
      "metadata": {
        "colab": {
          "base_uri": "https://localhost:8080/",
          "height": 424
        },
        "id": "sF3vy-5O5_0_",
        "outputId": "d8325670-46d6-4e1c-c556-fa2b0b67d641"
      },
      "source": [
        "test_dataset['tweet'] = test_dataset['tweet'].apply(lambda tweet: text_preprocessing(tweet))\n",
        "test_dataset"
      ],
      "execution_count": null,
      "outputs": [
        {
          "output_type": "execute_result",
          "data": {
            "text/html": [
              "<div>\n",
              "<style scoped>\n",
              "    .dataframe tbody tr th:only-of-type {\n",
              "        vertical-align: middle;\n",
              "    }\n",
              "\n",
              "    .dataframe tbody tr th {\n",
              "        vertical-align: top;\n",
              "    }\n",
              "\n",
              "    .dataframe thead th {\n",
              "        text-align: right;\n",
              "    }\n",
              "</style>\n",
              "<table border=\"1\" class=\"dataframe\">\n",
              "  <thead>\n",
              "    <tr style=\"text-align: right;\">\n",
              "      <th></th>\n",
              "      <th>tweet</th>\n",
              "      <th>label</th>\n",
              "    </tr>\n",
              "  </thead>\n",
              "  <tbody>\n",
              "    <tr>\n",
              "      <th>0</th>\n",
              "      <td>they had massive surge in with covid deaths immediately after the vaccine rollout way more than they had during the entirety of the pandemic up to that point fuck those jabs dr death</td>\n",
              "      <td>1</td>\n",
              "    </tr>\n",
              "    <tr>\n",
              "      <th>1</th>\n",
              "      <td>required vaccines for school parents and guardians of children with school exclusion letters now have an</td>\n",
              "      <td>0</td>\n",
              "    </tr>\n",
              "    <tr>\n",
              "      <th>2</th>\n",
              "      <td>two more johnson county children have measles</td>\n",
              "      <td>0</td>\n",
              "    </tr>\n",
              "    <tr>\n",
              "      <th>3</th>\n",
              "      <td>nv can do better which states are the best and worst at vaccinating their kids</td>\n",
              "      <td>2</td>\n",
              "    </tr>\n",
              "    <tr>\n",
              "      <th>4</th>\n",
              "      <td>nothing like killing ourselves our own fear mt vaccine fears have fueled the resurgence of preventable diseases</td>\n",
              "      <td>2</td>\n",
              "    </tr>\n",
              "    <tr>\n",
              "      <th>...</th>\n",
              "      <td>...</td>\n",
              "      <td>...</td>\n",
              "    </tr>\n",
              "    <tr>\n",
              "      <th>2277</th>\n",
              "      <td>rt number of measles cases reported in cali is at year high officials say uggh not good thing at all</td>\n",
              "      <td>0</td>\n",
              "    </tr>\n",
              "    <tr>\n",
              "      <th>2278</th>\n",
              "      <td>evidence points to the idea that measles affects the immune system for two to three years after the disease</td>\n",
              "      <td>0</td>\n",
              "    </tr>\n",
              "    <tr>\n",
              "      <th>2279</th>\n",
              "      <td>where's why you should vaccinate your kids in two minutes</td>\n",
              "      <td>2</td>\n",
              "    </tr>\n",
              "    <tr>\n",
              "      <th>2280</th>\n",
              "      <td>some of my favorite people have autism if that's your reason for bringing back diseases we have eviscerated fuck you vaccineswork</td>\n",
              "      <td>2</td>\n",
              "    </tr>\n",
              "    <tr>\n",
              "      <th>2281</th>\n",
              "      <td>coronavirus the married couple behind the successful pfizer covid vaccine came to germany as turkish migrant worker kids inspiring couple</td>\n",
              "      <td>0</td>\n",
              "    </tr>\n",
              "  </tbody>\n",
              "</table>\n",
              "<p>2282 rows × 2 columns</p>\n",
              "</div>"
            ],
            "text/plain": [
              "                                                                                                                                                                                       tweet  label\n",
              "0     they had massive surge in with covid deaths immediately after the vaccine rollout way more than they had during the entirety of the pandemic up to that point fuck those jabs dr death      1\n",
              "1                                                                                   required vaccines for school parents and guardians of children with school exclusion letters now have an      0\n",
              "2                                                                                                                                              two more johnson county children have measles      0\n",
              "3                                                                                                             nv can do better which states are the best and worst at vaccinating their kids      2\n",
              "4                                                                            nothing like killing ourselves our own fear mt vaccine fears have fueled the resurgence of preventable diseases      2\n",
              "...                                                                                                                                                                                      ...    ...\n",
              "2277                                                                                    rt number of measles cases reported in cali is at year high officials say uggh not good thing at all      0\n",
              "2278                                                                             evidence points to the idea that measles affects the immune system for two to three years after the disease      0\n",
              "2279                                                                                                                               where's why you should vaccinate your kids in two minutes      2\n",
              "2280                                                       some of my favorite people have autism if that's your reason for bringing back diseases we have eviscerated fuck you vaccineswork      2\n",
              "2281                                               coronavirus the married couple behind the successful pfizer covid vaccine came to germany as turkish migrant worker kids inspiring couple      0\n",
              "\n",
              "[2282 rows x 2 columns]"
            ]
          },
          "metadata": {},
          "execution_count": 12
        }
      ]
    },
    {
      "cell_type": "markdown",
      "metadata": {
        "id": "jdEjtJasZCTW"
      },
      "source": [
        "# Stopwords Removal\n",
        "Now, we will remove some stopwords(words that do not have any important value for the texts) from all the tweets."
      ]
    },
    {
      "cell_type": "markdown",
      "metadata": {
        "id": "TANA9S6o7-vQ"
      },
      "source": [
        "First, let's download the stopwords that we are going to remove:"
      ]
    },
    {
      "cell_type": "code",
      "metadata": {
        "colab": {
          "base_uri": "https://localhost:8080/"
        },
        "id": "io8RhjT1ZFdG",
        "outputId": "386067a0-0f97-4322-ce52-e8fab87fb758"
      },
      "source": [
        "nltk.download('stopwords')\n",
        "print(stopwords.words('english'))"
      ],
      "execution_count": null,
      "outputs": [
        {
          "output_type": "stream",
          "name": "stdout",
          "text": [
            "[nltk_data] Downloading package stopwords to /root/nltk_data...\n",
            "[nltk_data]   Unzipping corpora/stopwords.zip.\n",
            "['i', 'me', 'my', 'myself', 'we', 'our', 'ours', 'ourselves', 'you', \"you're\", \"you've\", \"you'll\", \"you'd\", 'your', 'yours', 'yourself', 'yourselves', 'he', 'him', 'his', 'himself', 'she', \"she's\", 'her', 'hers', 'herself', 'it', \"it's\", 'its', 'itself', 'they', 'them', 'their', 'theirs', 'themselves', 'what', 'which', 'who', 'whom', 'this', 'that', \"that'll\", 'these', 'those', 'am', 'is', 'are', 'was', 'were', 'be', 'been', 'being', 'have', 'has', 'had', 'having', 'do', 'does', 'did', 'doing', 'a', 'an', 'the', 'and', 'but', 'if', 'or', 'because', 'as', 'until', 'while', 'of', 'at', 'by', 'for', 'with', 'about', 'against', 'between', 'into', 'through', 'during', 'before', 'after', 'above', 'below', 'to', 'from', 'up', 'down', 'in', 'out', 'on', 'off', 'over', 'under', 'again', 'further', 'then', 'once', 'here', 'there', 'when', 'where', 'why', 'how', 'all', 'any', 'both', 'each', 'few', 'more', 'most', 'other', 'some', 'such', 'no', 'nor', 'not', 'only', 'own', 'same', 'so', 'than', 'too', 'very', 's', 't', 'can', 'will', 'just', 'don', \"don't\", 'should', \"should've\", 'now', 'd', 'll', 'm', 'o', 're', 've', 'y', 'ain', 'aren', \"aren't\", 'couldn', \"couldn't\", 'didn', \"didn't\", 'doesn', \"doesn't\", 'hadn', \"hadn't\", 'hasn', \"hasn't\", 'haven', \"haven't\", 'isn', \"isn't\", 'ma', 'mightn', \"mightn't\", 'mustn', \"mustn't\", 'needn', \"needn't\", 'shan', \"shan't\", 'shouldn', \"shouldn't\", 'wasn', \"wasn't\", 'weren', \"weren't\", 'won', \"won't\", 'wouldn', \"wouldn't\"]\n"
          ]
        }
      ]
    },
    {
      "cell_type": "markdown",
      "metadata": {
        "id": "tjBD85sq8E7P"
      },
      "source": [
        "Then, let's remove them from our datasets:"
      ]
    },
    {
      "cell_type": "code",
      "metadata": {
        "id": "usFDSYKxaFAC"
      },
      "source": [
        "def remove_stopwords(text):\n",
        "  tokens = text.split(' ')\n",
        "  return ' '.join([w for w in tokens if w not in stopwords.words('english')])"
      ],
      "execution_count": null,
      "outputs": []
    },
    {
      "cell_type": "code",
      "metadata": {
        "colab": {
          "base_uri": "https://localhost:8080/",
          "height": 424
        },
        "id": "UYwEQ6HoagA5",
        "outputId": "8a1c2546-9895-49c7-b8f3-6215c64bdbb9"
      },
      "source": [
        "train_dataset['tweet'] = train_dataset['tweet'].apply(remove_stopwords)\n",
        "train_dataset"
      ],
      "execution_count": null,
      "outputs": [
        {
          "output_type": "execute_result",
          "data": {
            "text/html": [
              "<div>\n",
              "<style scoped>\n",
              "    .dataframe tbody tr th:only-of-type {\n",
              "        vertical-align: middle;\n",
              "    }\n",
              "\n",
              "    .dataframe tbody tr th {\n",
              "        vertical-align: top;\n",
              "    }\n",
              "\n",
              "    .dataframe thead th {\n",
              "        text-align: right;\n",
              "    }\n",
              "</style>\n",
              "<table border=\"1\" class=\"dataframe\">\n",
              "  <thead>\n",
              "    <tr style=\"text-align: right;\">\n",
              "      <th></th>\n",
              "      <th>tweet</th>\n",
              "      <th>label</th>\n",
              "    </tr>\n",
              "  </thead>\n",
              "  <tbody>\n",
              "    <tr>\n",
              "      <th>0</th>\n",
              "      <td>sip shop come thru right marjais popularnobodies mmr sipnshop</td>\n",
              "      <td>0</td>\n",
              "    </tr>\n",
              "    <tr>\n",
              "      <th>1</th>\n",
              "      <td>know family take covid vaccine anytime soon</td>\n",
              "      <td>1</td>\n",
              "    </tr>\n",
              "    <tr>\n",
              "      <th>2</th>\n",
              "      <td>immunizations mandatory period oklahoma let kids go school without dangerous otherwise</td>\n",
              "      <td>2</td>\n",
              "    </tr>\n",
              "    <tr>\n",
              "      <th>3</th>\n",
              "      <td>president obama spoke favor vaccination children fox start telling viewers choose vaccination</td>\n",
              "      <td>0</td>\n",
              "    </tr>\n",
              "    <tr>\n",
              "      <th>4</th>\n",
              "      <td>arizona monitoring hundreds measles linked disneyland small world</td>\n",
              "      <td>0</td>\n",
              "    </tr>\n",
              "    <tr>\n",
              "      <th>...</th>\n",
              "      <td>...</td>\n",
              "      <td>...</td>\n",
              "    </tr>\n",
              "    <tr>\n",
              "      <th>15971</th>\n",
              "      <td>believe anti vax nutcases caused measles ignoring obama illegal children streamed us coincidence</td>\n",
              "      <td>1</td>\n",
              "    </tr>\n",
              "    <tr>\n",
              "      <th>15972</th>\n",
              "      <td>feel parents vaccinate kids measlesoutbreak</td>\n",
              "      <td>0</td>\n",
              "    </tr>\n",
              "    <tr>\n",
              "      <th>15973</th>\n",
              "      <td>preschoolers tested measles simi valley</td>\n",
              "      <td>0</td>\n",
              "    </tr>\n",
              "    <tr>\n",
              "      <th>15974</th>\n",
              "      <td>finance minister budget offers room procure covid vaccines available</td>\n",
              "      <td>0</td>\n",
              "    </tr>\n",
              "    <tr>\n",
              "      <th>15975</th>\n",
              "      <td>date vaccines take cdc’s vaccine quiz find vaccines right</td>\n",
              "      <td>2</td>\n",
              "    </tr>\n",
              "  </tbody>\n",
              "</table>\n",
              "<p>15976 rows × 2 columns</p>\n",
              "</div>"
            ],
            "text/plain": [
              "                                                                                                  tweet  label\n",
              "0                                         sip shop come thru right marjais popularnobodies mmr sipnshop      0\n",
              "1                                                           know family take covid vaccine anytime soon      1\n",
              "2                immunizations mandatory period oklahoma let kids go school without dangerous otherwise      2\n",
              "3         president obama spoke favor vaccination children fox start telling viewers choose vaccination      0\n",
              "4                                     arizona monitoring hundreds measles linked disneyland small world      0\n",
              "...                                                                                                 ...    ...\n",
              "15971  believe anti vax nutcases caused measles ignoring obama illegal children streamed us coincidence      1\n",
              "15972                                                       feel parents vaccinate kids measlesoutbreak      0\n",
              "15973                                                           preschoolers tested measles simi valley      0\n",
              "15974                              finance minister budget offers room procure covid vaccines available      0\n",
              "15975                                         date vaccines take cdc’s vaccine quiz find vaccines right      2\n",
              "\n",
              "[15976 rows x 2 columns]"
            ]
          },
          "metadata": {},
          "execution_count": 15
        }
      ]
    },
    {
      "cell_type": "code",
      "metadata": {
        "colab": {
          "base_uri": "https://localhost:8080/",
          "height": 424
        },
        "id": "hPRmdAs3ZFdC",
        "outputId": "5ced0d93-dcd1-451a-9be7-f5a9a0df76dc"
      },
      "source": [
        "validation_dataset['tweet'] = validation_dataset['tweet'].apply(remove_stopwords)\n",
        "validation_dataset"
      ],
      "execution_count": null,
      "outputs": [
        {
          "output_type": "execute_result",
          "data": {
            "text/html": [
              "<div>\n",
              "<style scoped>\n",
              "    .dataframe tbody tr th:only-of-type {\n",
              "        vertical-align: middle;\n",
              "    }\n",
              "\n",
              "    .dataframe tbody tr th {\n",
              "        vertical-align: top;\n",
              "    }\n",
              "\n",
              "    .dataframe thead th {\n",
              "        text-align: right;\n",
              "    }\n",
              "</style>\n",
              "<table border=\"1\" class=\"dataframe\">\n",
              "  <thead>\n",
              "    <tr style=\"text-align: right;\">\n",
              "      <th></th>\n",
              "      <th>tweet</th>\n",
              "      <th>label</th>\n",
              "    </tr>\n",
              "  </thead>\n",
              "  <tbody>\n",
              "    <tr>\n",
              "      <th>0</th>\n",
              "      <td>massive surge covid deaths immediately vaccine rollout way entirety pandemic point fuck jabs dr death</td>\n",
              "      <td>1</td>\n",
              "    </tr>\n",
              "    <tr>\n",
              "      <th>1</th>\n",
              "      <td>required vaccines school parents guardians children school exclusion letters</td>\n",
              "      <td>0</td>\n",
              "    </tr>\n",
              "    <tr>\n",
              "      <th>2</th>\n",
              "      <td>two johnson county children measles</td>\n",
              "      <td>0</td>\n",
              "    </tr>\n",
              "    <tr>\n",
              "      <th>3</th>\n",
              "      <td>nv better states best worst vaccinating kids</td>\n",
              "      <td>2</td>\n",
              "    </tr>\n",
              "    <tr>\n",
              "      <th>4</th>\n",
              "      <td>nothing like killing fear mt vaccine fears fueled resurgence preventable diseases</td>\n",
              "      <td>2</td>\n",
              "    </tr>\n",
              "    <tr>\n",
              "      <th>...</th>\n",
              "      <td>...</td>\n",
              "      <td>...</td>\n",
              "    </tr>\n",
              "    <tr>\n",
              "      <th>2277</th>\n",
              "      <td>rt number measles cases reported cali year high officials say uggh good thing</td>\n",
              "      <td>0</td>\n",
              "    </tr>\n",
              "    <tr>\n",
              "      <th>2278</th>\n",
              "      <td>evidence points idea measles affects immune system two three years disease</td>\n",
              "      <td>0</td>\n",
              "    </tr>\n",
              "    <tr>\n",
              "      <th>2279</th>\n",
              "      <td>where's vaccinate kids two minutes</td>\n",
              "      <td>2</td>\n",
              "    </tr>\n",
              "    <tr>\n",
              "      <th>2280</th>\n",
              "      <td>favorite people autism that's reason bringing back diseases eviscerated fuck vaccineswork</td>\n",
              "      <td>2</td>\n",
              "    </tr>\n",
              "    <tr>\n",
              "      <th>2281</th>\n",
              "      <td>coronavirus married couple behind successful pfizer covid vaccine came germany turkish migrant worker kids inspiring couple</td>\n",
              "      <td>0</td>\n",
              "    </tr>\n",
              "  </tbody>\n",
              "</table>\n",
              "<p>2282 rows × 2 columns</p>\n",
              "</div>"
            ],
            "text/plain": [
              "                                                                                                                            tweet  label\n",
              "0                           massive surge covid deaths immediately vaccine rollout way entirety pandemic point fuck jabs dr death      1\n",
              "1                                                    required vaccines school parents guardians children school exclusion letters      0\n",
              "2                                                                                             two johnson county children measles      0\n",
              "3                                                                                    nv better states best worst vaccinating kids      2\n",
              "4                                               nothing like killing fear mt vaccine fears fueled resurgence preventable diseases      2\n",
              "...                                                                                                                           ...    ...\n",
              "2277                                                rt number measles cases reported cali year high officials say uggh good thing      0\n",
              "2278                                                   evidence points idea measles affects immune system two three years disease      0\n",
              "2279                                                                                           where's vaccinate kids two minutes      2\n",
              "2280                                    favorite people autism that's reason bringing back diseases eviscerated fuck vaccineswork      2\n",
              "2281  coronavirus married couple behind successful pfizer covid vaccine came germany turkish migrant worker kids inspiring couple      0\n",
              "\n",
              "[2282 rows x 2 columns]"
            ]
          },
          "metadata": {},
          "execution_count": 16
        }
      ]
    },
    {
      "cell_type": "code",
      "metadata": {
        "colab": {
          "base_uri": "https://localhost:8080/",
          "height": 424
        },
        "id": "MBeh-lLl8Kjo",
        "outputId": "5610bf23-b6df-4dcb-dd71-7a193b90b6ba"
      },
      "source": [
        "test_dataset['tweet'] = test_dataset['tweet'].apply(remove_stopwords)\n",
        "test_dataset"
      ],
      "execution_count": null,
      "outputs": [
        {
          "output_type": "execute_result",
          "data": {
            "text/html": [
              "<div>\n",
              "<style scoped>\n",
              "    .dataframe tbody tr th:only-of-type {\n",
              "        vertical-align: middle;\n",
              "    }\n",
              "\n",
              "    .dataframe tbody tr th {\n",
              "        vertical-align: top;\n",
              "    }\n",
              "\n",
              "    .dataframe thead th {\n",
              "        text-align: right;\n",
              "    }\n",
              "</style>\n",
              "<table border=\"1\" class=\"dataframe\">\n",
              "  <thead>\n",
              "    <tr style=\"text-align: right;\">\n",
              "      <th></th>\n",
              "      <th>tweet</th>\n",
              "      <th>label</th>\n",
              "    </tr>\n",
              "  </thead>\n",
              "  <tbody>\n",
              "    <tr>\n",
              "      <th>0</th>\n",
              "      <td>massive surge covid deaths immediately vaccine rollout way entirety pandemic point fuck jabs dr death</td>\n",
              "      <td>1</td>\n",
              "    </tr>\n",
              "    <tr>\n",
              "      <th>1</th>\n",
              "      <td>required vaccines school parents guardians children school exclusion letters</td>\n",
              "      <td>0</td>\n",
              "    </tr>\n",
              "    <tr>\n",
              "      <th>2</th>\n",
              "      <td>two johnson county children measles</td>\n",
              "      <td>0</td>\n",
              "    </tr>\n",
              "    <tr>\n",
              "      <th>3</th>\n",
              "      <td>nv better states best worst vaccinating kids</td>\n",
              "      <td>2</td>\n",
              "    </tr>\n",
              "    <tr>\n",
              "      <th>4</th>\n",
              "      <td>nothing like killing fear mt vaccine fears fueled resurgence preventable diseases</td>\n",
              "      <td>2</td>\n",
              "    </tr>\n",
              "    <tr>\n",
              "      <th>...</th>\n",
              "      <td>...</td>\n",
              "      <td>...</td>\n",
              "    </tr>\n",
              "    <tr>\n",
              "      <th>2277</th>\n",
              "      <td>rt number measles cases reported cali year high officials say uggh good thing</td>\n",
              "      <td>0</td>\n",
              "    </tr>\n",
              "    <tr>\n",
              "      <th>2278</th>\n",
              "      <td>evidence points idea measles affects immune system two three years disease</td>\n",
              "      <td>0</td>\n",
              "    </tr>\n",
              "    <tr>\n",
              "      <th>2279</th>\n",
              "      <td>where's vaccinate kids two minutes</td>\n",
              "      <td>2</td>\n",
              "    </tr>\n",
              "    <tr>\n",
              "      <th>2280</th>\n",
              "      <td>favorite people autism that's reason bringing back diseases eviscerated fuck vaccineswork</td>\n",
              "      <td>2</td>\n",
              "    </tr>\n",
              "    <tr>\n",
              "      <th>2281</th>\n",
              "      <td>coronavirus married couple behind successful pfizer covid vaccine came germany turkish migrant worker kids inspiring couple</td>\n",
              "      <td>0</td>\n",
              "    </tr>\n",
              "  </tbody>\n",
              "</table>\n",
              "<p>2282 rows × 2 columns</p>\n",
              "</div>"
            ],
            "text/plain": [
              "                                                                                                                            tweet  label\n",
              "0                           massive surge covid deaths immediately vaccine rollout way entirety pandemic point fuck jabs dr death      1\n",
              "1                                                    required vaccines school parents guardians children school exclusion letters      0\n",
              "2                                                                                             two johnson county children measles      0\n",
              "3                                                                                    nv better states best worst vaccinating kids      2\n",
              "4                                               nothing like killing fear mt vaccine fears fueled resurgence preventable diseases      2\n",
              "...                                                                                                                           ...    ...\n",
              "2277                                                rt number measles cases reported cali year high officials say uggh good thing      0\n",
              "2278                                                   evidence points idea measles affects immune system two three years disease      0\n",
              "2279                                                                                           where's vaccinate kids two minutes      2\n",
              "2280                                    favorite people autism that's reason bringing back diseases eviscerated fuck vaccineswork      2\n",
              "2281  coronavirus married couple behind successful pfizer covid vaccine came germany turkish migrant worker kids inspiring couple      0\n",
              "\n",
              "[2282 rows x 2 columns]"
            ]
          },
          "metadata": {},
          "execution_count": 17
        }
      ]
    },
    {
      "cell_type": "markdown",
      "metadata": {
        "id": "wFXpU-gLDlss"
      },
      "source": [
        "# Model comparison\n",
        "We will make experiments with different models (different vectorizers and their parameters, and also different C parameter for the logistic regressor) and compare each other's performance. "
      ]
    },
    {
      "cell_type": "markdown",
      "metadata": {
        "id": "V-w8z9oJEyRi"
      },
      "source": [
        "## Model 1: Count vectorizer and Logistic Regression\n"
      ]
    },
    {
      "cell_type": "markdown",
      "metadata": {
        "id": "DQrgJUbsEyRo"
      },
      "source": [
        "**Text Vectorization**\n",
        "\n",
        "We will convert all the tweets to vectors in order to be used by the softmax regressor."
      ]
    },
    {
      "cell_type": "code",
      "metadata": {
        "id": "oQoIsf2DEyRo"
      },
      "source": [
        "vectorizer = CountVectorizer().fit(train_dataset['tweet'].values)"
      ],
      "execution_count": null,
      "outputs": []
    },
    {
      "cell_type": "code",
      "metadata": {
        "colab": {
          "base_uri": "https://localhost:8080/"
        },
        "id": "dmZ-SReKEyRo",
        "outputId": "6931e9cd-eaa5-431c-c15c-591f6d3fb574"
      },
      "source": [
        "X_train = vectorizer.transform(train_dataset['tweet'].values)\n",
        "X_train"
      ],
      "execution_count": null,
      "outputs": [
        {
          "output_type": "execute_result",
          "data": {
            "text/plain": [
              "<15976x18205 sparse matrix of type '<class 'numpy.int64'>'\n",
              "\twith 161284 stored elements in Compressed Sparse Row format>"
            ]
          },
          "metadata": {},
          "execution_count": 19
        }
      ]
    },
    {
      "cell_type": "code",
      "metadata": {
        "colab": {
          "base_uri": "https://localhost:8080/"
        },
        "id": "plImH0BzEyRp",
        "outputId": "54bd2ce1-e890-4811-9bb6-60c47f71f859"
      },
      "source": [
        "y_train = train_dataset['label'].values\n",
        "y_train"
      ],
      "execution_count": null,
      "outputs": [
        {
          "output_type": "execute_result",
          "data": {
            "text/plain": [
              "array([0, 1, 2, ..., 0, 0, 2])"
            ]
          },
          "metadata": {},
          "execution_count": 20
        }
      ]
    },
    {
      "cell_type": "code",
      "metadata": {
        "colab": {
          "base_uri": "https://localhost:8080/"
        },
        "id": "1eejCaAGEyRp",
        "outputId": "3bf8e371-7971-40b6-abe6-871e74792d44"
      },
      "source": [
        "X_val = vectorizer.transform(validation_dataset['tweet'].values)\n",
        "X_val"
      ],
      "execution_count": null,
      "outputs": [
        {
          "output_type": "execute_result",
          "data": {
            "text/plain": [
              "<2282x18205 sparse matrix of type '<class 'numpy.int64'>'\n",
              "\twith 21504 stored elements in Compressed Sparse Row format>"
            ]
          },
          "metadata": {},
          "execution_count": 21
        }
      ]
    },
    {
      "cell_type": "code",
      "metadata": {
        "colab": {
          "base_uri": "https://localhost:8080/"
        },
        "id": "oemBb-2SEyRp",
        "outputId": "f6098ecf-f0df-445f-8145-91c812309fb8"
      },
      "source": [
        "y_val = validation_dataset['label'].values\n",
        "y_val"
      ],
      "execution_count": null,
      "outputs": [
        {
          "output_type": "execute_result",
          "data": {
            "text/plain": [
              "array([1, 0, 0, ..., 2, 2, 0])"
            ]
          },
          "metadata": {},
          "execution_count": 22
        }
      ]
    },
    {
      "cell_type": "code",
      "metadata": {
        "colab": {
          "base_uri": "https://localhost:8080/"
        },
        "id": "FAAGgrx6EyRp",
        "outputId": "350fd64d-79c9-4161-d37e-4dd363801171"
      },
      "source": [
        "X_test = vectorizer.transform(test_dataset['tweet'].values)\n",
        "X_test"
      ],
      "execution_count": null,
      "outputs": [
        {
          "output_type": "execute_result",
          "data": {
            "text/plain": [
              "<2282x18205 sparse matrix of type '<class 'numpy.int64'>'\n",
              "\twith 21504 stored elements in Compressed Sparse Row format>"
            ]
          },
          "metadata": {},
          "execution_count": 23
        }
      ]
    },
    {
      "cell_type": "code",
      "metadata": {
        "colab": {
          "base_uri": "https://localhost:8080/"
        },
        "id": "2JHn1GEKEyRp",
        "outputId": "9ece3577-e504-4685-c964-756d6aae437f"
      },
      "source": [
        "y_test = test_dataset['label'].values\n",
        "y_test"
      ],
      "execution_count": null,
      "outputs": [
        {
          "output_type": "execute_result",
          "data": {
            "text/plain": [
              "array([1, 0, 0, ..., 2, 2, 0])"
            ]
          },
          "metadata": {},
          "execution_count": 24
        }
      ]
    },
    {
      "cell_type": "markdown",
      "metadata": {
        "id": "6-KYuOsSEyRq"
      },
      "source": [
        "**Training Phase**"
      ]
    },
    {
      "cell_type": "code",
      "metadata": {
        "id": "O6jSXgEUEyRq"
      },
      "source": [
        "clf = LogisticRegression(max_iter=5000, tol=1e-8, multi_class='multinomial')"
      ],
      "execution_count": null,
      "outputs": []
    },
    {
      "cell_type": "code",
      "metadata": {
        "id": "Ze89TFi_EyRq"
      },
      "source": [
        "def plot_learning_curve(X_train, y_train, X_val, y_val, model, train_sizes):\n",
        "  train_scores = []\n",
        "  validation_scores = []\n",
        "  for train_size in train_sizes:\n",
        "    model.fit(X_train[:train_size], y_train[:train_size])\n",
        "    y_true_pred = model.predict(X_train[:train_size])\n",
        "    train_scores += [f1_score(y_train[:train_size], y_true_pred, average='weighted')]\n",
        "    y_pred = model.predict(X_val)\n",
        "    validation_scores += [f1_score(y_val, y_pred, average='weighted')]\n",
        "  plt.grid()\n",
        "  plt.plot(train_sizes, train_scores, \"o-\", label=\"Train\")\n",
        "  plt.plot(train_sizes, validation_scores, \"o-\", label=\"Validation\")\n",
        "  plt.xlabel(\"Training examples\")\n",
        "  plt.ylabel(\"F1 Score\")\n",
        "  plt.legend()\n",
        "  plt.show()"
      ],
      "execution_count": null,
      "outputs": []
    },
    {
      "cell_type": "code",
      "metadata": {
        "colab": {
          "base_uri": "https://localhost:8080/",
          "height": 279
        },
        "id": "DH3YCppCEyRq",
        "outputId": "a7c4c35d-d1e1-49aa-b972-d6b31b146123"
      },
      "source": [
        "plot_learning_curve(X_train, y_train, X_val, y_val, clf, np.linspace(10, X_train.shape[0], 15, dtype=np.int))"
      ],
      "execution_count": null,
      "outputs": [
        {
          "output_type": "display_data",
          "data": {
            "image/png": "[encoded data removed]",
            "text/plain": [
              "<Figure size 432x288 with 1 Axes>"
            ]
          },
          "metadata": {
            "needs_background": "light"
          }
        }
      ]
    },
    {
      "cell_type": "markdown",
      "metadata": {
        "id": "92wYDBn1EyRq"
      },
      "source": [
        "**Test Evaluation**"
      ]
    },
    {
      "cell_type": "code",
      "metadata": {
        "id": "FGTNMXZ4FKG-"
      },
      "source": [
        "def evaluate_model(model, X_test, y_test):\n",
        "  y_pred = clf.predict(X_test)\n",
        "  print(classification_report(y_test, y_pred))\n",
        "  print(\"Precision:\", precision_score(y_test, y_pred, average='weighted'))\n",
        "  print(\"Recall:\", recall_score(y_test, y_pred, average='weighted'))\n",
        "  print(\"F1 Score:\", f1_score(y_test, y_pred, average='weighted'))\n",
        "  cm = confusion_matrix(y_val, y_pred)\n",
        "  cm_disp = ConfusionMatrixDisplay(confusion_matrix=cm, display_labels=clf.classes_)\n",
        "  cm_disp.plot()\n",
        "  plt.show()"
      ],
      "execution_count": null,
      "outputs": []
    },
    {
      "cell_type": "code",
      "metadata": {
        "colab": {
          "base_uri": "https://localhost:8080/",
          "height": 505
        },
        "id": "txSHE1WCEyRq",
        "outputId": "f33d81cf-7831-4324-cb95-93e4f2dc3789"
      },
      "source": [
        "evaluate_model(clf, X_test, y_test)"
      ],
      "execution_count": null,
      "outputs": [
        {
          "output_type": "stream",
          "name": "stdout",
          "text": [
            "              precision    recall  f1-score   support\n",
            "\n",
            "           0       0.76      0.78      0.77      1065\n",
            "           1       0.60      0.45      0.52       296\n",
            "           2       0.69      0.72      0.71       921\n",
            "\n",
            "    accuracy                           0.72      2282\n",
            "   macro avg       0.68      0.65      0.66      2282\n",
            "weighted avg       0.71      0.72      0.71      2282\n",
            "\n",
            "Precision: 0.7122716240814401\n",
            "Recall: 0.7160385626643295\n",
            "F1 Score: 0.7126295635041843\n"
          ]
        },
        {
          "output_type": "display_data",
          "data": {
            "image/png": "[encoded data removed]",
            "text/plain": [
              "<Figure size 432x288 with 2 Axes>"
            ]
          },
          "metadata": {
            "needs_background": "light"
          }
        }
      ]
    },
    {
      "cell_type": "markdown",
      "metadata": {
        "id": "eQH2-M4IGY4S"
      },
      "source": [
        "As you can see from the learning curve, our model is overfitting because the gap between the train and validation scores is big and both scores are not small. This is due to the large-dimension document vectors which contain useless information(noise)."
      ]
    },
    {
      "cell_type": "markdown",
      "metadata": {
        "id": "4TxJesmuGGts"
      },
      "source": [
        "## Model 2: Count vectorizer with min_df=4, max_df=0.3 and Logistic Regression\n",
        "\n"
      ]
    },
    {
      "cell_type": "markdown",
      "metadata": {
        "id": "jXHLqbV-GyU5"
      },
      "source": [
        "We will now reduce the dimensionality of the tweet vectors by considering only words that appear on at least 4 documents and at most 30% of all the documents."
      ]
    },
    {
      "cell_type": "markdown",
      "metadata": {
        "id": "b3u1FwLFGGty"
      },
      "source": [
        "**Text Vectorization**\n",
        "\n",
        "We will convert all the tweets to vectors in order to be used by the softmax regressor."
      ]
    },
    {
      "cell_type": "code",
      "metadata": {
        "id": "iqkHj2MvGGty"
      },
      "source": [
        "vectorizer = CountVectorizer(min_df=4, max_df=0.3).fit(train_dataset['tweet'].values)"
      ],
      "execution_count": null,
      "outputs": []
    },
    {
      "cell_type": "code",
      "metadata": {
        "colab": {
          "base_uri": "https://localhost:8080/"
        },
        "id": "DtHbEJAtGGty",
        "outputId": "3cdaff4f-c036-4082-ed8b-cef5e59a14e9"
      },
      "source": [
        "X_train = vectorizer.transform(train_dataset['tweet'].values)\n",
        "X_train"
      ],
      "execution_count": null,
      "outputs": [
        {
          "output_type": "execute_result",
          "data": {
            "text/plain": [
              "<15976x4721 sparse matrix of type '<class 'numpy.int64'>'\n",
              "\twith 142929 stored elements in Compressed Sparse Row format>"
            ]
          },
          "metadata": {},
          "execution_count": 33
        }
      ]
    },
    {
      "cell_type": "code",
      "metadata": {
        "colab": {
          "base_uri": "https://localhost:8080/"
        },
        "id": "drRORsTuGGtz",
        "outputId": "61d10a2d-01eb-4ec5-b660-e65b413a927b"
      },
      "source": [
        "y_train = train_dataset['label'].values\n",
        "y_train"
      ],
      "execution_count": null,
      "outputs": [
        {
          "output_type": "execute_result",
          "data": {
            "text/plain": [
              "array([0, 1, 2, ..., 0, 0, 2])"
            ]
          },
          "metadata": {},
          "execution_count": 34
        }
      ]
    },
    {
      "cell_type": "code",
      "metadata": {
        "colab": {
          "base_uri": "https://localhost:8080/"
        },
        "id": "qIKAVHzqGGtz",
        "outputId": "989da63f-580c-493a-a4f9-3052e8c9b7b4"
      },
      "source": [
        "X_val = vectorizer.transform(validation_dataset['tweet'].values)\n",
        "X_val"
      ],
      "execution_count": null,
      "outputs": [
        {
          "output_type": "execute_result",
          "data": {
            "text/plain": [
              "<2282x4721 sparse matrix of type '<class 'numpy.int64'>'\n",
              "\twith 19854 stored elements in Compressed Sparse Row format>"
            ]
          },
          "metadata": {},
          "execution_count": 35
        }
      ]
    },
    {
      "cell_type": "code",
      "metadata": {
        "colab": {
          "base_uri": "https://localhost:8080/"
        },
        "id": "523BVd39GGtz",
        "outputId": "1e4a600c-567d-447a-8dcf-debe6fe29dca"
      },
      "source": [
        "y_val = validation_dataset['label'].values\n",
        "y_val"
      ],
      "execution_count": null,
      "outputs": [
        {
          "output_type": "execute_result",
          "data": {
            "text/plain": [
              "array([1, 0, 0, ..., 2, 2, 0])"
            ]
          },
          "metadata": {},
          "execution_count": 36
        }
      ]
    },
    {
      "cell_type": "code",
      "metadata": {
        "colab": {
          "base_uri": "https://localhost:8080/"
        },
        "id": "r7nCD4cyGGtz",
        "outputId": "f318699d-d7be-4adf-fc99-c52d48b9f34f"
      },
      "source": [
        "X_test = vectorizer.transform(test_dataset['tweet'].values)\n",
        "X_test"
      ],
      "execution_count": null,
      "outputs": [
        {
          "output_type": "execute_result",
          "data": {
            "text/plain": [
              "<2282x4721 sparse matrix of type '<class 'numpy.int64'>'\n",
              "\twith 19854 stored elements in Compressed Sparse Row format>"
            ]
          },
          "metadata": {},
          "execution_count": 37
        }
      ]
    },
    {
      "cell_type": "code",
      "metadata": {
        "colab": {
          "base_uri": "https://localhost:8080/"
        },
        "id": "kzTIT1DWGGtz",
        "outputId": "6c57f56f-e686-4bcc-8d17-f8f2b3bb81e6"
      },
      "source": [
        "y_test = test_dataset['label'].values\n",
        "y_test"
      ],
      "execution_count": null,
      "outputs": [
        {
          "output_type": "execute_result",
          "data": {
            "text/plain": [
              "array([1, 0, 0, ..., 2, 2, 0])"
            ]
          },
          "metadata": {},
          "execution_count": 38
        }
      ]
    },
    {
      "cell_type": "markdown",
      "metadata": {
        "id": "ohKC5uZTGGtz"
      },
      "source": [
        "**Training Phase**"
      ]
    },
    {
      "cell_type": "code",
      "metadata": {
        "id": "Ck7esNmhGGtz"
      },
      "source": [
        "clf = LogisticRegression(max_iter=5000, tol=1e-8, multi_class='multinomial')"
      ],
      "execution_count": null,
      "outputs": []
    },
    {
      "cell_type": "code",
      "metadata": {
        "colab": {
          "base_uri": "https://localhost:8080/",
          "height": 279
        },
        "id": "uiR4TF6OGGt0",
        "outputId": "4aca1efb-0894-4032-c149-ce58f0302c51"
      },
      "source": [
        "plot_learning_curve(X_train, y_train, X_val, y_val, clf, np.linspace(10, X_train.shape[0], 15, dtype=np.int))"
      ],
      "execution_count": null,
      "outputs": [
        {
          "output_type": "display_data",
          "data": {
            "image/png": "[encoded data removed]",
            "text/plain": [
              "<Figure size 432x288 with 1 Axes>"
            ]
          },
          "metadata": {
            "needs_background": "light"
          }
        }
      ]
    },
    {
      "cell_type": "markdown",
      "metadata": {
        "id": "fTKEOnEtGGt0"
      },
      "source": [
        "**Test Evaluation**"
      ]
    },
    {
      "cell_type": "code",
      "metadata": {
        "colab": {
          "base_uri": "https://localhost:8080/",
          "height": 505
        },
        "id": "yFotJYDwGGt0",
        "outputId": "52a78230-406c-438a-cd39-30d37a7630e4"
      },
      "source": [
        "evaluate_model(clf, X_test, y_test)"
      ],
      "execution_count": null,
      "outputs": [
        {
          "output_type": "stream",
          "name": "stdout",
          "text": [
            "              precision    recall  f1-score   support\n",
            "\n",
            "           0       0.76      0.79      0.78      1065\n",
            "           1       0.60      0.47      0.53       296\n",
            "           2       0.70      0.72      0.71       921\n",
            "\n",
            "    accuracy                           0.72      2282\n",
            "   macro avg       0.69      0.66      0.67      2282\n",
            "weighted avg       0.72      0.72      0.72      2282\n",
            "\n",
            "Precision: 0.7169787720554675\n",
            "Recall: 0.7208588957055214\n",
            "F1 Score: 0.7177617297072508\n"
          ]
        },
        {
          "output_type": "display_data",
          "data": {
            "image/png": "[encoded data removed]",
            "text/plain": [
              "<Figure size 432x288 with 2 Axes>"
            ]
          },
          "metadata": {
            "needs_background": "light"
          }
        }
      ]
    },
    {
      "cell_type": "markdown",
      "metadata": {
        "id": "a7fgF_HTHeBN"
      },
      "source": [
        "Compared to the previous model, we can see some improvements on our model because of the better generalization (less overfitting which can be seen from the learning curve). "
      ]
    },
    {
      "cell_type": "markdown",
      "metadata": {
        "id": "n-Mr6Pt8IMrk"
      },
      "source": [
        "## Model 3: Tf-Idf vectorizer with min_df=4, max_df=0.3 and Logistic Regression\n",
        "\n"
      ]
    },
    {
      "cell_type": "markdown",
      "metadata": {
        "id": "FSXvWLzOIMrk"
      },
      "source": [
        "Now, let's try a different vectorizer. We will use tf-idf vectorization, and we expect better accuracy and F1-score because the tf-idf vectorization algorithm gives small weights on words that appear very frequently (and thus are not so useful) and big weights on less frequent words which contain useful information."
      ]
    },
    {
      "cell_type": "markdown",
      "metadata": {
        "id": "PPUJVskLIMrk"
      },
      "source": [
        "**Text Vectorization**\n",
        "\n",
        "We will convert all the tweets to vectors in order to be used by the softmax regressor."
      ]
    },
    {
      "cell_type": "code",
      "metadata": {
        "id": "3BUHyninIMrl"
      },
      "source": [
        "vectorizer = TfidfVectorizer(min_df=4, max_df=0.3).fit(train_dataset['tweet'].values)"
      ],
      "execution_count": null,
      "outputs": []
    },
    {
      "cell_type": "code",
      "metadata": {
        "colab": {
          "base_uri": "https://localhost:8080/"
        },
        "id": "SbQ1C_J7IMrl",
        "outputId": "5d7fc21d-c746-4533-f813-73e67b7ea158"
      },
      "source": [
        "X_train = vectorizer.transform(train_dataset['tweet'].values)\n",
        "X_train"
      ],
      "execution_count": null,
      "outputs": [
        {
          "output_type": "execute_result",
          "data": {
            "text/plain": [
              "<15976x4721 sparse matrix of type '<class 'numpy.float64'>'\n",
              "\twith 142929 stored elements in Compressed Sparse Row format>"
            ]
          },
          "metadata": {},
          "execution_count": 43
        }
      ]
    },
    {
      "cell_type": "code",
      "metadata": {
        "colab": {
          "base_uri": "https://localhost:8080/"
        },
        "id": "5qQsrD4BIMrl",
        "outputId": "000fa7a3-f0e8-44c8-81c8-c07130ac84d2"
      },
      "source": [
        "y_train = train_dataset['label'].values\n",
        "y_train"
      ],
      "execution_count": null,
      "outputs": [
        {
          "output_type": "execute_result",
          "data": {
            "text/plain": [
              "array([0, 1, 2, ..., 0, 0, 2])"
            ]
          },
          "metadata": {},
          "execution_count": 44
        }
      ]
    },
    {
      "cell_type": "code",
      "metadata": {
        "colab": {
          "base_uri": "https://localhost:8080/"
        },
        "id": "1c1LkHGJIMrl",
        "outputId": "e9546a83-c8d1-4f9b-ebde-674780b9f946"
      },
      "source": [
        "X_val = vectorizer.transform(validation_dataset['tweet'].values)\n",
        "X_val"
      ],
      "execution_count": null,
      "outputs": [
        {
          "output_type": "execute_result",
          "data": {
            "text/plain": [
              "<2282x4721 sparse matrix of type '<class 'numpy.float64'>'\n",
              "\twith 19854 stored elements in Compressed Sparse Row format>"
            ]
          },
          "metadata": {},
          "execution_count": 45
        }
      ]
    },
    {
      "cell_type": "code",
      "metadata": {
        "colab": {
          "base_uri": "https://localhost:8080/"
        },
        "id": "TlqXT2cvIMrm",
        "outputId": "6360f5e7-c86d-472c-81a6-3f46a817e1e9"
      },
      "source": [
        "y_val = validation_dataset['label'].values\n",
        "y_val"
      ],
      "execution_count": null,
      "outputs": [
        {
          "output_type": "execute_result",
          "data": {
            "text/plain": [
              "array([1, 0, 0, ..., 2, 2, 0])"
            ]
          },
          "metadata": {},
          "execution_count": 46
        }
      ]
    },
    {
      "cell_type": "code",
      "metadata": {
        "colab": {
          "base_uri": "https://localhost:8080/"
        },
        "id": "ReBT_KFRIMrm",
        "outputId": "32c74760-e3c4-438f-9629-49b9c2279608"
      },
      "source": [
        "X_test = vectorizer.transform(test_dataset['tweet'].values)\n",
        "X_test"
      ],
      "execution_count": null,
      "outputs": [
        {
          "output_type": "execute_result",
          "data": {
            "text/plain": [
              "<2282x4721 sparse matrix of type '<class 'numpy.float64'>'\n",
              "\twith 19854 stored elements in Compressed Sparse Row format>"
            ]
          },
          "metadata": {},
          "execution_count": 47
        }
      ]
    },
    {
      "cell_type": "code",
      "metadata": {
        "colab": {
          "base_uri": "https://localhost:8080/"
        },
        "id": "7e1mtueWIMrm",
        "outputId": "4529bee7-e758-4b06-88a5-5af54747c1ae"
      },
      "source": [
        "y_test = test_dataset['label'].values\n",
        "y_test"
      ],
      "execution_count": null,
      "outputs": [
        {
          "output_type": "execute_result",
          "data": {
            "text/plain": [
              "array([1, 0, 0, ..., 2, 2, 0])"
            ]
          },
          "metadata": {},
          "execution_count": 48
        }
      ]
    },
    {
      "cell_type": "markdown",
      "metadata": {
        "id": "ovnZFUKMIMrm"
      },
      "source": [
        "**Training Phase**"
      ]
    },
    {
      "cell_type": "code",
      "metadata": {
        "id": "Po1LgOPWIMrm"
      },
      "source": [
        "clf = LogisticRegression(max_iter=5000, tol=1e-8, multi_class='multinomial')"
      ],
      "execution_count": null,
      "outputs": []
    },
    {
      "cell_type": "code",
      "metadata": {
        "colab": {
          "base_uri": "https://localhost:8080/",
          "height": 279
        },
        "id": "EsTEfXF7IMrn",
        "outputId": "d82039d0-f223-49e5-95d0-2fca8f067afc"
      },
      "source": [
        "plot_learning_curve(X_train, y_train, X_val, y_val, clf, np.linspace(10, X_train.shape[0], 15, dtype=np.int))"
      ],
      "execution_count": null,
      "outputs": [
        {
          "output_type": "display_data",
          "data": {
            "image/png": "[encoded data removed]",
            "text/plain": [
              "<Figure size 432x288 with 1 Axes>"
            ]
          },
          "metadata": {
            "needs_background": "light"
          }
        }
      ]
    },
    {
      "cell_type": "markdown",
      "metadata": {
        "id": "2xpgUxvVIMrn"
      },
      "source": [
        "**Test Evaluation**"
      ]
    },
    {
      "cell_type": "code",
      "metadata": {
        "colab": {
          "base_uri": "https://localhost:8080/",
          "height": 505
        },
        "id": "xqkkmlpNIMrn",
        "outputId": "a552ee3b-ce41-4081-a743-9a81c5457d63"
      },
      "source": [
        "evaluate_model(clf, X_test, y_test)"
      ],
      "execution_count": null,
      "outputs": [
        {
          "output_type": "stream",
          "name": "stdout",
          "text": [
            "              precision    recall  f1-score   support\n",
            "\n",
            "           0       0.77      0.80      0.78      1065\n",
            "           1       0.68      0.41      0.51       296\n",
            "           2       0.69      0.75      0.72       921\n",
            "\n",
            "    accuracy                           0.73      2282\n",
            "   macro avg       0.71      0.65      0.67      2282\n",
            "weighted avg       0.73      0.73      0.72      2282\n",
            "\n",
            "Precision: 0.726833237840286\n",
            "Recall: 0.7291849255039439\n",
            "F1 Score: 0.7231624355988493\n"
          ]
        },
        {
          "output_type": "display_data",
          "data": {
            "image/png": "[encoded data removed]",
            "text/plain": [
              "<Figure size 432x288 with 2 Axes>"
            ]
          },
          "metadata": {
            "needs_background": "light"
          }
        }
      ]
    },
    {
      "cell_type": "markdown",
      "metadata": {
        "id": "BaAAoAl8IMrn"
      },
      "source": [
        "As you can see, compared to the count vectorizer, we get much better accuracy because of better vectorization. Can we do better?"
      ]
    },
    {
      "cell_type": "markdown",
      "metadata": {
        "id": "r_z7AneHEI_B"
      },
      "source": [
        "## Best model: Tf-Idf vectorizer with min_df=4, max_df=0.3 and Logistic Regression with C=1.83"
      ]
    },
    {
      "cell_type": "markdown",
      "metadata": {
        "id": "yjzCD2rUJxew"
      },
      "source": [
        "We will now try to prevent some more overfitting by using a regularization factor(C parameter in LogisticRegression) of 1.83. In my experimets, this value gave the best f1 score increase."
      ]
    },
    {
      "cell_type": "markdown",
      "metadata": {
        "id": "x51RureDAkn8"
      },
      "source": [
        "**Text Vectorization**\n",
        "\n",
        "We will convert all the tweets to vectors in order to be used by the softmax regressor."
      ]
    },
    {
      "cell_type": "code",
      "metadata": {
        "id": "O6xfk7QJAnBC"
      },
      "source": [
        "vectorizer = TfidfVectorizer(min_df=4, max_df=0.3).fit(train_dataset['tweet'].values)"
      ],
      "execution_count": null,
      "outputs": []
    },
    {
      "cell_type": "code",
      "metadata": {
        "colab": {
          "base_uri": "https://localhost:8080/"
        },
        "id": "xLLaPSGFCdg8",
        "outputId": "2476671c-1153-41dd-baec-f24abbe416d9"
      },
      "source": [
        "X_train = vectorizer.transform(train_dataset['tweet'].values)\n",
        "X_train"
      ],
      "execution_count": null,
      "outputs": [
        {
          "output_type": "execute_result",
          "data": {
            "text/plain": [
              "<15976x4721 sparse matrix of type '<class 'numpy.float64'>'\n",
              "\twith 142929 stored elements in Compressed Sparse Row format>"
            ]
          },
          "metadata": {},
          "execution_count": 53
        }
      ]
    },
    {
      "cell_type": "code",
      "metadata": {
        "colab": {
          "base_uri": "https://localhost:8080/"
        },
        "id": "EfkiGwhBCq4L",
        "outputId": "60f6cdc3-16b3-4d3c-f4f4-1f4f449a1375"
      },
      "source": [
        "y_train = train_dataset['label'].values\n",
        "y_train"
      ],
      "execution_count": null,
      "outputs": [
        {
          "output_type": "execute_result",
          "data": {
            "text/plain": [
              "array([0, 1, 2, ..., 0, 0, 2])"
            ]
          },
          "metadata": {},
          "execution_count": 54
        }
      ]
    },
    {
      "cell_type": "code",
      "metadata": {
        "colab": {
          "base_uri": "https://localhost:8080/"
        },
        "id": "kmEFo3r7CyoL",
        "outputId": "6639e1f1-117d-45d4-8100-03a9709df96e"
      },
      "source": [
        "X_val = vectorizer.transform(validation_dataset['tweet'].values)\n",
        "X_val"
      ],
      "execution_count": null,
      "outputs": [
        {
          "output_type": "execute_result",
          "data": {
            "text/plain": [
              "<2282x4721 sparse matrix of type '<class 'numpy.float64'>'\n",
              "\twith 19854 stored elements in Compressed Sparse Row format>"
            ]
          },
          "metadata": {},
          "execution_count": 55
        }
      ]
    },
    {
      "cell_type": "code",
      "metadata": {
        "colab": {
          "base_uri": "https://localhost:8080/"
        },
        "id": "Cn3fUezFC_CK",
        "outputId": "05bf0bcc-ee62-4eb9-a0b0-30cb4947d7c5"
      },
      "source": [
        "y_val = validation_dataset['label'].values\n",
        "y_val"
      ],
      "execution_count": null,
      "outputs": [
        {
          "output_type": "execute_result",
          "data": {
            "text/plain": [
              "array([1, 0, 0, ..., 2, 2, 0])"
            ]
          },
          "metadata": {},
          "execution_count": 56
        }
      ]
    },
    {
      "cell_type": "code",
      "metadata": {
        "colab": {
          "base_uri": "https://localhost:8080/"
        },
        "id": "fpOjope3-Za-",
        "outputId": "cd9aa835-edf8-4719-a79a-0656f4a7203f"
      },
      "source": [
        "X_test = vectorizer.transform(test_dataset['tweet'].values)\n",
        "X_test"
      ],
      "execution_count": null,
      "outputs": [
        {
          "output_type": "execute_result",
          "data": {
            "text/plain": [
              "<2282x4721 sparse matrix of type '<class 'numpy.float64'>'\n",
              "\twith 19854 stored elements in Compressed Sparse Row format>"
            ]
          },
          "metadata": {},
          "execution_count": 57
        }
      ]
    },
    {
      "cell_type": "code",
      "metadata": {
        "colab": {
          "base_uri": "https://localhost:8080/"
        },
        "id": "oxUhPL7--ZO_",
        "outputId": "e805f858-a246-44f0-bb2f-52ce170084e2"
      },
      "source": [
        "y_test = test_dataset['label'].values\n",
        "y_test"
      ],
      "execution_count": null,
      "outputs": [
        {
          "output_type": "execute_result",
          "data": {
            "text/plain": [
              "array([1, 0, 0, ..., 2, 2, 0])"
            ]
          },
          "metadata": {},
          "execution_count": 58
        }
      ]
    },
    {
      "cell_type": "markdown",
      "metadata": {
        "id": "mdUhM_TfJRFC"
      },
      "source": [
        "**Training Phase**"
      ]
    },
    {
      "cell_type": "code",
      "metadata": {
        "id": "qV--GgMsJTmA"
      },
      "source": [
        "clf = LogisticRegression(max_iter=5000, tol=1e-8, C=1.83, multi_class='multinomial')"
      ],
      "execution_count": null,
      "outputs": []
    },
    {
      "cell_type": "code",
      "metadata": {
        "colab": {
          "base_uri": "https://localhost:8080/",
          "height": 279
        },
        "id": "yQOeA6C5TS4l",
        "outputId": "5e5fd615-870d-4cc5-a5e3-d8e57b3387e3"
      },
      "source": [
        "plot_learning_curve(X_train, y_train, X_val, y_val, clf, np.linspace(10, X_train.shape[0], 15, dtype=np.int))"
      ],
      "execution_count": null,
      "outputs": [
        {
          "output_type": "display_data",
          "data": {
            "image/png": "[encoded data removed]",
            "text/plain": [
              "<Figure size 432x288 with 1 Axes>"
            ]
          },
          "metadata": {
            "needs_background": "light"
          }
        }
      ]
    },
    {
      "cell_type": "markdown",
      "metadata": {
        "id": "q9sb9AFQJ1Jf"
      },
      "source": [
        "**Test Evaluation**"
      ]
    },
    {
      "cell_type": "code",
      "metadata": {
        "colab": {
          "base_uri": "https://localhost:8080/",
          "height": 505
        },
        "id": "94KrlywdJ3lF",
        "outputId": "9cff7304-e276-401f-f9d1-f318ea3be727"
      },
      "source": [
        "evaluate_model(clf, X_test, y_test)"
      ],
      "execution_count": null,
      "outputs": [
        {
          "output_type": "stream",
          "name": "stdout",
          "text": [
            "              precision    recall  f1-score   support\n",
            "\n",
            "           0       0.78      0.80      0.79      1065\n",
            "           1       0.65      0.45      0.53       296\n",
            "           2       0.70      0.75      0.73       921\n",
            "\n",
            "    accuracy                           0.73      2282\n",
            "   macro avg       0.71      0.67      0.68      2282\n",
            "weighted avg       0.73      0.73      0.73      2282\n",
            "\n",
            "Precision: 0.7309318630270937\n",
            "Recall: 0.7340052585451359\n",
            "F1 Score: 0.7296732963585068\n"
          ]
        },
        {
          "output_type": "display_data",
          "data": {
            "image/png": "[encoded data removed]",
            "text/plain": [
              "<Figure size 432x288 with 2 Axes>"
            ]
          },
          "metadata": {
            "needs_background": "light"
          }
        }
      ]
    },
    {
      "cell_type": "markdown",
      "metadata": {
        "id": "oiAASHJSKe-y"
      },
      "source": [
        "As you can see, the test f1 score has increased by a significant amount, which means better regularization!!!"
      ]
    },
    {
      "cell_type": "markdown",
      "metadata": {
        "id": "fBzQZ2UZKuHS"
      },
      "source": [
        "# Conclusion\n",
        "The key to NLP tasks is to find the best vectorization method that produces text vectors that contain as much useful information as possible and also are not too big in dimension. \n",
        "\n",
        "Also, the dataset must be as balanced as possible in order to be able to predict all the labels as accurately as possible. This can be seen from the fact that the label 1 predictions in this dataset are not as good as the other labels, because as i showed in the beginning, label 1 has much less examples than the other labels."
      ]
    }
  ]
}