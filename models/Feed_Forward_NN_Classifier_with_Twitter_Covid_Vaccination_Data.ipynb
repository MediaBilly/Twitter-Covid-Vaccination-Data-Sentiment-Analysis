{
  "nbformat": 4,
  "nbformat_minor": 0,
  "metadata": {
    "colab": {
      "name": "Feed Forward NN Classifier with Twitter Covid Vaccination Data.ipynb",
      "provenance": [],
      "collapsed_sections": []
    },
    "kernelspec": {
      "name": "python3",
      "display_name": "Python 3"
    },
    "language_info": {
      "name": "python"
    },
    "accelerator": "GPU"
  },
  "cells": [
    {
      "cell_type": "markdown",
      "metadata": {
        "id": "SsvRJ0eZ00qR"
      },
      "source": [
        "#Feed Forward NN Classifier with Twitter Covid Vaccination Data"
      ]
    },
    {
      "cell_type": "markdown",
      "metadata": {
        "id": "Mo3YJm8vbhry"
      },
      "source": [
        "**Mount Google Drive(to read the datasets)**\n",
        "\n",
        "We will first mount the google drive storage to load the datasets. It is not necessary, but I did it this way in order to avoid uploading them every time. If you want, you can upload yours and just change the import paths. "
      ]
    },
    {
      "cell_type": "code",
      "metadata": {
        "colab": {
          "base_uri": "https://localhost:8080/"
        },
        "id": "WTDa84f8bpAv",
        "outputId": "3e950cc8-64e3-4ea9-8fde-613f69f4b2d9"
      },
      "source": [
        "from google.colab import drive\n",
        "drive.mount('/content/gdrive')"
      ],
      "execution_count": null,
      "outputs": [
        {
          "output_type": "stream",
          "name": "stdout",
          "text": [
            "Mounted at /content/gdrive\n"
          ]
        }
      ]
    },
    {
      "cell_type": "markdown",
      "metadata": {
        "id": "_IyhkUqxZfj6"
      },
      "source": [
        "**Import necessary libraries**\n",
        "\n",
        "Then, we will import the necessary libraries\n"
      ]
    },
    {
      "cell_type": "code",
      "metadata": {
        "id": "HnMC3BgPZgpI"
      },
      "source": [
        "import pandas as pd\n",
        "import re\n",
        "import random\n",
        "from sklearn.feature_extraction.text import TfidfVectorizer\n",
        "import nltk\n",
        "from nltk.corpus import stopwords\n",
        "import numpy as np\n",
        "import matplotlib.pyplot as plt\n",
        "import torch\n",
        "import torch.nn as nn\n",
        "from sklearn.preprocessing import label_binarize\n",
        "from scipy.special import softmax\n",
        "from sklearn.metrics import classification_report, confusion_matrix, ConfusionMatrixDisplay, f1_score, precision_score, recall_score, roc_curve, auc\n",
        "\n",
        "pd.set_option('max_colwidth', 500)\n",
        "%matplotlib inline"
      ],
      "execution_count": null,
      "outputs": []
    },
    {
      "cell_type": "markdown",
      "source": [
        "**Set random seed**\n",
        "\n",
        "Set a constant random seed in order to get the same (deterministic) outputs every time we run our models."
      ],
      "metadata": {
        "id": "VZWp8YvIpxrm"
      }
    },
    {
      "cell_type": "code",
      "source": [
        "seed = 17064\n",
        "def reset_seed():\n",
        "  torch.manual_seed(seed)\n",
        "  random.seed(seed)\n",
        "  np.random.seed(seed)\n",
        "reset_seed()"
      ],
      "metadata": {
        "id": "DhL4vwzyp_Xz"
      },
      "execution_count": null,
      "outputs": []
    },
    {
      "cell_type": "markdown",
      "source": [
        "**Enable CUDA**\n",
        "\n",
        "Enable CUDA for GPU utilization by our model. This makes calculations and thus the training of our models faster."
      ],
      "metadata": {
        "id": "dNq9VnAmCXM1"
      }
    },
    {
      "cell_type": "code",
      "source": [
        "device = torch.device('cuda' if torch.cuda.is_available() else 'cpu')\n",
        "device"
      ],
      "metadata": {
        "colab": {
          "base_uri": "https://localhost:8080/"
        },
        "id": "T8n9SLO_Ctc1",
        "outputId": "c1a4b2df-286a-4085-dd37-3936bb84f3d8"
      },
      "execution_count": null,
      "outputs": [
        {
          "output_type": "execute_result",
          "data": {
            "text/plain": [
              "device(type='cuda')"
            ]
          },
          "metadata": {},
          "execution_count": 4
        }
      ]
    },
    {
      "cell_type": "markdown",
      "metadata": {
        "id": "mFB6BeT9ZiMR"
      },
      "source": [
        "# Dataset loading\n",
        "Now, let's load our datasets:"
      ]
    },
    {
      "cell_type": "markdown",
      "metadata": {
        "id": "CR7cWQ842B9t"
      },
      "source": [
        "**Train Dataset**"
      ]
    },
    {
      "cell_type": "code",
      "metadata": {
        "colab": {
          "base_uri": "https://localhost:8080/",
          "height": 424
        },
        "id": "Ppcm9wQAZ6vu",
        "outputId": "86dab8fc-8432-4359-bcf8-3c6ca1c075e6"
      },
      "source": [
        "train_dataset = pd.read_csv('gdrive/MyDrive/NLP exercises/Datasets/Twitter Covid Vaccination data/vs_train.csv')\n",
        "train_dataset.drop(['Unnamed: 0'], axis=1, inplace=True)\n",
        "train_dataset"
      ],
      "execution_count": null,
      "outputs": [
        {
          "output_type": "execute_result",
          "data": {
            "text/html": [
              "\n",
              "  <div id=\"df-c1b30db6-fb36-4259-9777-410773e8d233\">\n",
              "    <div class=\"colab-df-container\">\n",
              "      <div>\n",
              "<style scoped>\n",
              "    .dataframe tbody tr th:only-of-type {\n",
              "        vertical-align: middle;\n",
              "    }\n",
              "\n",
              "    .dataframe tbody tr th {\n",
              "        vertical-align: top;\n",
              "    }\n",
              "\n",
              "    .dataframe thead th {\n",
              "        text-align: right;\n",
              "    }\n",
              "</style>\n",
              "<table border=\"1\" class=\"dataframe\">\n",
              "  <thead>\n",
              "    <tr style=\"text-align: right;\">\n",
              "      <th></th>\n",
              "      <th>tweet</th>\n",
              "      <th>label</th>\n",
              "    </tr>\n",
              "  </thead>\n",
              "  <tbody>\n",
              "    <tr>\n",
              "      <th>0</th>\n",
              "      <td>Sip N Shop Come thru right now #Marjais #PopularNobodies #MMR 🙌🙌🙌🙌 @ Marjais SipNShop http://t.co/JfWAH7uzWE</td>\n",
              "      <td>0</td>\n",
              "    </tr>\n",
              "    <tr>\n",
              "      <th>1</th>\n",
              "      <td>I don't know about you but My family and I will not take the #Covid19 vaccine anytime soon...</td>\n",
              "      <td>1</td>\n",
              "    </tr>\n",
              "    <tr>\n",
              "      <th>2</th>\n",
              "      <td>@MSignorile Immunizations should be mandatory. Period. In Oklahoma, they won't let kids go to school without them. It's dangerous otherwise!</td>\n",
              "      <td>2</td>\n",
              "    </tr>\n",
              "    <tr>\n",
              "      <th>3</th>\n",
              "      <td>President Obama spoke in favor of vaccination for children. Fox will start telling its viewers to \"choose\" against vaccination in 3,2,1...</td>\n",
              "      <td>0</td>\n",
              "    </tr>\n",
              "    <tr>\n",
              "      <th>4</th>\n",
              "      <td>\"@myfoxla: Arizona monitoring hundreds for measles linked to Disneyland http://t.co/tEoU2zAQat\" It's a Small World After All.</td>\n",
              "      <td>0</td>\n",
              "    </tr>\n",
              "    <tr>\n",
              "      <th>...</th>\n",
              "      <td>...</td>\n",
              "      <td>...</td>\n",
              "    </tr>\n",
              "    <tr>\n",
              "      <th>15971</th>\n",
              "      <td>@Salon if u believe the anti-vax nutcases caused measles u are ignoring the Obama illegal children who streamed to the US. coincidence?</td>\n",
              "      <td>1</td>\n",
              "    </tr>\n",
              "    <tr>\n",
              "      <th>15972</th>\n",
              "      <td>How do you feel about parents who don't #vaccinate their kids?\\r\\nhttps://t.co/k3O7Al8Au3\\r\\n#MeaslesOutbreak</td>\n",
              "      <td>0</td>\n",
              "    </tr>\n",
              "    <tr>\n",
              "      <th>15973</th>\n",
              "      <td>70 Preschoolers Tested for Measles in Simi Valley http://t.co/pTRjYu8SVr</td>\n",
              "      <td>0</td>\n",
              "    </tr>\n",
              "    <tr>\n",
              "      <th>15974</th>\n",
              "      <td>Finance Minister: Budget offers room to procure COVID-19 vaccines, if available https://t.co/VLdKXat3NJ</td>\n",
              "      <td>0</td>\n",
              "    </tr>\n",
              "    <tr>\n",
              "      <th>15975</th>\n",
              "      <td>Are you up to date on vaccines? Take CDC’s vaccine quiz to find out which vaccines are right for you. https://t.co/3OhDVEHE0V</td>\n",
              "      <td>2</td>\n",
              "    </tr>\n",
              "  </tbody>\n",
              "</table>\n",
              "<p>15976 rows × 2 columns</p>\n",
              "</div>\n",
              "      <button class=\"colab-df-convert\" onclick=\"convertToInteractive('df-c1b30db6-fb36-4259-9777-410773e8d233')\"\n",
              "              title=\"Convert this dataframe to an interactive table.\"\n",
              "              style=\"display:none;\">\n",
              "        \n",
              "  <svg xmlns=\"http://www.w3.org/2000/svg\" height=\"24px\"viewBox=\"0 0 24 24\"\n",
              "       width=\"24px\">\n",
              "    <path d=\"M0 0h24v24H0V0z\" fill=\"none\"/>\n",
              "    <path d=\"M18.56 5.44l.94 2.06.94-2.06 2.06-.94-2.06-.94-.94-2.06-.94 2.06-2.06.94zm-11 1L8.5 8.5l.94-2.06 2.06-.94-2.06-.94L8.5 2.5l-.94 2.06-2.06.94zm10 10l.94 2.06.94-2.06 2.06-.94-2.06-.94-.94-2.06-.94 2.06-2.06.94z\"/><path d=\"M17.41 7.96l-1.37-1.37c-.4-.4-.92-.59-1.43-.59-.52 0-1.04.2-1.43.59L10.3 9.45l-7.72 7.72c-.78.78-.78 2.05 0 2.83L4 21.41c.39.39.9.59 1.41.59.51 0 1.02-.2 1.41-.59l7.78-7.78 2.81-2.81c.8-.78.8-2.07 0-2.86zM5.41 20L4 18.59l7.72-7.72 1.47 1.35L5.41 20z\"/>\n",
              "  </svg>\n",
              "      </button>\n",
              "      \n",
              "  <style>\n",
              "    .colab-df-container {\n",
              "      display:flex;\n",
              "      flex-wrap:wrap;\n",
              "      gap: 12px;\n",
              "    }\n",
              "\n",
              "    .colab-df-convert {\n",
              "      background-color: #E8F0FE;\n",
              "      border: none;\n",
              "      border-radius: 50%;\n",
              "      cursor: pointer;\n",
              "      display: none;\n",
              "      fill: #1967D2;\n",
              "      height: 32px;\n",
              "      padding: 0 0 0 0;\n",
              "      width: 32px;\n",
              "    }\n",
              "\n",
              "    .colab-df-convert:hover {\n",
              "      background-color: #E2EBFA;\n",
              "      box-shadow: 0px 1px 2px rgba(60, 64, 67, 0.3), 0px 1px 3px 1px rgba(60, 64, 67, 0.15);\n",
              "      fill: #174EA6;\n",
              "    }\n",
              "\n",
              "    [theme=dark] .colab-df-convert {\n",
              "      background-color: #3B4455;\n",
              "      fill: #D2E3FC;\n",
              "    }\n",
              "\n",
              "    [theme=dark] .colab-df-convert:hover {\n",
              "      background-color: #434B5C;\n",
              "      box-shadow: 0px 1px 3px 1px rgba(0, 0, 0, 0.15);\n",
              "      filter: drop-shadow(0px 1px 2px rgba(0, 0, 0, 0.3));\n",
              "      fill: #FFFFFF;\n",
              "    }\n",
              "  </style>\n",
              "\n",
              "      <script>\n",
              "        const buttonEl =\n",
              "          document.querySelector('#df-c1b30db6-fb36-4259-9777-410773e8d233 button.colab-df-convert');\n",
              "        buttonEl.style.display =\n",
              "          google.colab.kernel.accessAllowed ? 'block' : 'none';\n",
              "\n",
              "        async function convertToInteractive(key) {\n",
              "          const element = document.querySelector('#df-c1b30db6-fb36-4259-9777-410773e8d233');\n",
              "          const dataTable =\n",
              "            await google.colab.kernel.invokeFunction('convertToInteractive',\n",
              "                                                     [key], {});\n",
              "          if (!dataTable) return;\n",
              "\n",
              "          const docLinkHtml = 'Like what you see? Visit the ' +\n",
              "            '<a target=\"_blank\" href=https://colab.research.google.com/notebooks/data_table.ipynb>data table notebook</a>'\n",
              "            + ' to learn more about interactive tables.';\n",
              "          element.innerHTML = '';\n",
              "          dataTable['output_type'] = 'display_data';\n",
              "          await google.colab.output.renderOutput(dataTable, element);\n",
              "          const docLink = document.createElement('div');\n",
              "          docLink.innerHTML = docLinkHtml;\n",
              "          element.appendChild(docLink);\n",
              "        }\n",
              "      </script>\n",
              "    </div>\n",
              "  </div>\n",
              "  "
            ],
            "text/plain": [
              "                                                                                                                                              tweet  label\n",
              "0                                      Sip N Shop Come thru right now #Marjais #PopularNobodies #MMR 🙌🙌🙌🙌 @ Marjais SipNShop http://t.co/JfWAH7uzWE      0\n",
              "1                                                     I don't know about you but My family and I will not take the #Covid19 vaccine anytime soon...      1\n",
              "2      @MSignorile Immunizations should be mandatory. Period. In Oklahoma, they won't let kids go to school without them. It's dangerous otherwise!      2\n",
              "3        President Obama spoke in favor of vaccination for children. Fox will start telling its viewers to \"choose\" against vaccination in 3,2,1...      0\n",
              "4                     \"@myfoxla: Arizona monitoring hundreds for measles linked to Disneyland http://t.co/tEoU2zAQat\" It's a Small World After All.      0\n",
              "...                                                                                                                                             ...    ...\n",
              "15971       @Salon if u believe the anti-vax nutcases caused measles u are ignoring the Obama illegal children who streamed to the US. coincidence?      1\n",
              "15972                                 How do you feel about parents who don't #vaccinate their kids?\\r\\nhttps://t.co/k3O7Al8Au3\\r\\n#MeaslesOutbreak      0\n",
              "15973                                                                      70 Preschoolers Tested for Measles in Simi Valley http://t.co/pTRjYu8SVr      0\n",
              "15974                                       Finance Minister: Budget offers room to procure COVID-19 vaccines, if available https://t.co/VLdKXat3NJ      0\n",
              "15975                 Are you up to date on vaccines? Take CDC’s vaccine quiz to find out which vaccines are right for you. https://t.co/3OhDVEHE0V      2\n",
              "\n",
              "[15976 rows x 2 columns]"
            ]
          },
          "metadata": {},
          "execution_count": 5
        }
      ]
    },
    {
      "cell_type": "markdown",
      "metadata": {
        "id": "oBQh4-s2Z_DW"
      },
      "source": [
        "**Validation Dataset**"
      ]
    },
    {
      "cell_type": "code",
      "metadata": {
        "colab": {
          "base_uri": "https://localhost:8080/",
          "height": 424
        },
        "id": "R-byDRQraCku",
        "outputId": "9a5fc264-6dbd-4b33-d00b-eeff50da7941"
      },
      "source": [
        "validation_dataset = pd.read_csv('gdrive/MyDrive/NLP exercises/Datasets/Twitter Covid Vaccination data/vs_dev.csv')\n",
        "validation_dataset.drop(['Unnamed: 0'], axis=1, inplace=True)\n",
        "validation_dataset"
      ],
      "execution_count": null,
      "outputs": [
        {
          "output_type": "execute_result",
          "data": {
            "text/html": [
              "\n",
              "  <div id=\"df-1b0e391e-ac21-4fb0-afb3-8117656df9e7\">\n",
              "    <div class=\"colab-df-container\">\n",
              "      <div>\n",
              "<style scoped>\n",
              "    .dataframe tbody tr th:only-of-type {\n",
              "        vertical-align: middle;\n",
              "    }\n",
              "\n",
              "    .dataframe tbody tr th {\n",
              "        vertical-align: top;\n",
              "    }\n",
              "\n",
              "    .dataframe thead th {\n",
              "        text-align: right;\n",
              "    }\n",
              "</style>\n",
              "<table border=\"1\" class=\"dataframe\">\n",
              "  <thead>\n",
              "    <tr style=\"text-align: right;\">\n",
              "      <th></th>\n",
              "      <th>tweet</th>\n",
              "      <th>label</th>\n",
              "    </tr>\n",
              "  </thead>\n",
              "  <tbody>\n",
              "    <tr>\n",
              "      <th>0</th>\n",
              "      <td>@user They had a massive surge in with covid deaths immediately after the vaccine rollout, way more than they had during the entirety of the \"pandemic\" up to that point. Fuck those jabs, Dr.Death.</td>\n",
              "      <td>1</td>\n",
              "    </tr>\n",
              "    <tr>\n",
              "      <th>1</th>\n",
              "      <td>Required vaccines for school: Parents and guardians of children with school exclusion letters now have an... http://t.co/KVl8Dt86dz</td>\n",
              "      <td>0</td>\n",
              "    </tr>\n",
              "    <tr>\n",
              "      <th>2</th>\n",
              "      <td>“@KCStar: Two more Johnson County children have measles http://t.co/Rvx07sc” @sethmnookin</td>\n",
              "      <td>0</td>\n",
              "    </tr>\n",
              "    <tr>\n",
              "      <th>3</th>\n",
              "      <td>NV can do better. Which states are the best (and worst) at vaccinating their kids http://t.co/6GaZGgYA9z http://t.co/pTFRJZ2Tmr\"</td>\n",
              "      <td>2</td>\n",
              "    </tr>\n",
              "    <tr>\n",
              "      <th>4</th>\n",
              "      <td>Nothing like killing ourselves w/ our own fear MT@Alyssa_Milano: Vaccine fears have fueled the resurgence of preventable diseases.</td>\n",
              "      <td>2</td>\n",
              "    </tr>\n",
              "    <tr>\n",
              "      <th>...</th>\n",
              "      <td>...</td>\n",
              "      <td>...</td>\n",
              "    </tr>\n",
              "    <tr>\n",
              "      <th>2277</th>\n",
              "      <td>RT @abc7: Number of measles cases reported in Cali is at a 10-year high,  officials say http://t.co/J4tqBkJl  uggh not a good thing at all!!</td>\n",
              "      <td>0</td>\n",
              "    </tr>\n",
              "    <tr>\n",
              "      <th>2278</th>\n",
              "      <td>Evidence points to the idea that \"measles affects the immune system for two to three years\" after the disease. http://t.co/DbjIQVLQrS</td>\n",
              "      <td>0</td>\n",
              "    </tr>\n",
              "    <tr>\n",
              "      <th>2279</th>\n",
              "      <td>Where's @SavedYouAClick \"@voxdotcom: Why you should vaccinate your kids, in two minutes: http://t.co/HrZPqQERkY\"</td>\n",
              "      <td>2</td>\n",
              "    </tr>\n",
              "    <tr>\n",
              "      <th>2280</th>\n",
              "      <td>Some of my favorite people have autism. If that's your reason for bringing back diseases we have eviscerated, fuck you. #vaccineswork</td>\n",
              "      <td>2</td>\n",
              "    </tr>\n",
              "    <tr>\n",
              "      <th>2281</th>\n",
              "      <td>Coronavirus: The married couple behind the successful Pfizer COVID vaccine | Came to Germany as Turkish Migrant worker kids —- inspiring couple https://t.co/iR4UHRUXFH</td>\n",
              "      <td>0</td>\n",
              "    </tr>\n",
              "  </tbody>\n",
              "</table>\n",
              "<p>2282 rows × 2 columns</p>\n",
              "</div>\n",
              "      <button class=\"colab-df-convert\" onclick=\"convertToInteractive('df-1b0e391e-ac21-4fb0-afb3-8117656df9e7')\"\n",
              "              title=\"Convert this dataframe to an interactive table.\"\n",
              "              style=\"display:none;\">\n",
              "        \n",
              "  <svg xmlns=\"http://www.w3.org/2000/svg\" height=\"24px\"viewBox=\"0 0 24 24\"\n",
              "       width=\"24px\">\n",
              "    <path d=\"M0 0h24v24H0V0z\" fill=\"none\"/>\n",
              "    <path d=\"M18.56 5.44l.94 2.06.94-2.06 2.06-.94-2.06-.94-.94-2.06-.94 2.06-2.06.94zm-11 1L8.5 8.5l.94-2.06 2.06-.94-2.06-.94L8.5 2.5l-.94 2.06-2.06.94zm10 10l.94 2.06.94-2.06 2.06-.94-2.06-.94-.94-2.06-.94 2.06-2.06.94z\"/><path d=\"M17.41 7.96l-1.37-1.37c-.4-.4-.92-.59-1.43-.59-.52 0-1.04.2-1.43.59L10.3 9.45l-7.72 7.72c-.78.78-.78 2.05 0 2.83L4 21.41c.39.39.9.59 1.41.59.51 0 1.02-.2 1.41-.59l7.78-7.78 2.81-2.81c.8-.78.8-2.07 0-2.86zM5.41 20L4 18.59l7.72-7.72 1.47 1.35L5.41 20z\"/>\n",
              "  </svg>\n",
              "      </button>\n",
              "      \n",
              "  <style>\n",
              "    .colab-df-container {\n",
              "      display:flex;\n",
              "      flex-wrap:wrap;\n",
              "      gap: 12px;\n",
              "    }\n",
              "\n",
              "    .colab-df-convert {\n",
              "      background-color: #E8F0FE;\n",
              "      border: none;\n",
              "      border-radius: 50%;\n",
              "      cursor: pointer;\n",
              "      display: none;\n",
              "      fill: #1967D2;\n",
              "      height: 32px;\n",
              "      padding: 0 0 0 0;\n",
              "      width: 32px;\n",
              "    }\n",
              "\n",
              "    .colab-df-convert:hover {\n",
              "      background-color: #E2EBFA;\n",
              "      box-shadow: 0px 1px 2px rgba(60, 64, 67, 0.3), 0px 1px 3px 1px rgba(60, 64, 67, 0.15);\n",
              "      fill: #174EA6;\n",
              "    }\n",
              "\n",
              "    [theme=dark] .colab-df-convert {\n",
              "      background-color: #3B4455;\n",
              "      fill: #D2E3FC;\n",
              "    }\n",
              "\n",
              "    [theme=dark] .colab-df-convert:hover {\n",
              "      background-color: #434B5C;\n",
              "      box-shadow: 0px 1px 3px 1px rgba(0, 0, 0, 0.15);\n",
              "      filter: drop-shadow(0px 1px 2px rgba(0, 0, 0, 0.3));\n",
              "      fill: #FFFFFF;\n",
              "    }\n",
              "  </style>\n",
              "\n",
              "      <script>\n",
              "        const buttonEl =\n",
              "          document.querySelector('#df-1b0e391e-ac21-4fb0-afb3-8117656df9e7 button.colab-df-convert');\n",
              "        buttonEl.style.display =\n",
              "          google.colab.kernel.accessAllowed ? 'block' : 'none';\n",
              "\n",
              "        async function convertToInteractive(key) {\n",
              "          const element = document.querySelector('#df-1b0e391e-ac21-4fb0-afb3-8117656df9e7');\n",
              "          const dataTable =\n",
              "            await google.colab.kernel.invokeFunction('convertToInteractive',\n",
              "                                                     [key], {});\n",
              "          if (!dataTable) return;\n",
              "\n",
              "          const docLinkHtml = 'Like what you see? Visit the ' +\n",
              "            '<a target=\"_blank\" href=https://colab.research.google.com/notebooks/data_table.ipynb>data table notebook</a>'\n",
              "            + ' to learn more about interactive tables.';\n",
              "          element.innerHTML = '';\n",
              "          dataTable['output_type'] = 'display_data';\n",
              "          await google.colab.output.renderOutput(dataTable, element);\n",
              "          const docLink = document.createElement('div');\n",
              "          docLink.innerHTML = docLinkHtml;\n",
              "          element.appendChild(docLink);\n",
              "        }\n",
              "      </script>\n",
              "    </div>\n",
              "  </div>\n",
              "  "
            ],
            "text/plain": [
              "                                                                                                                                                                                                     tweet  label\n",
              "0     @user They had a massive surge in with covid deaths immediately after the vaccine rollout, way more than they had during the entirety of the \"pandemic\" up to that point. Fuck those jabs, Dr.Death.      1\n",
              "1                                                                      Required vaccines for school: Parents and guardians of children with school exclusion letters now have an... http://t.co/KVl8Dt86dz      0\n",
              "2                                                                                                                “@KCStar: Two more Johnson County children have measles http://t.co/Rvx07sc” @sethmnookin      0\n",
              "3                                                                         NV can do better. Which states are the best (and worst) at vaccinating their kids http://t.co/6GaZGgYA9z http://t.co/pTFRJZ2Tmr\"      2\n",
              "4                                                                       Nothing like killing ourselves w/ our own fear MT@Alyssa_Milano: Vaccine fears have fueled the resurgence of preventable diseases.      2\n",
              "...                                                                                                                                                                                                    ...    ...\n",
              "2277                                                          RT @abc7: Number of measles cases reported in Cali is at a 10-year high,  officials say http://t.co/J4tqBkJl  uggh not a good thing at all!!      0\n",
              "2278                                                                 Evidence points to the idea that \"measles affects the immune system for two to three years\" after the disease. http://t.co/DbjIQVLQrS      0\n",
              "2279                                                                                      Where's @SavedYouAClick \"@voxdotcom: Why you should vaccinate your kids, in two minutes: http://t.co/HrZPqQERkY\"      2\n",
              "2280                                                                 Some of my favorite people have autism. If that's your reason for bringing back diseases we have eviscerated, fuck you. #vaccineswork      2\n",
              "2281                               Coronavirus: The married couple behind the successful Pfizer COVID vaccine | Came to Germany as Turkish Migrant worker kids —- inspiring couple https://t.co/iR4UHRUXFH      0\n",
              "\n",
              "[2282 rows x 2 columns]"
            ]
          },
          "metadata": {},
          "execution_count": 6
        }
      ]
    },
    {
      "cell_type": "markdown",
      "source": [
        "**Test Dataset**\n",
        "\n",
        "Note: I used the same dataset as the validation, because the assignment's test set was hidden. You can plug your own just by changing the path."
      ],
      "metadata": {
        "id": "wHtpQfhjTqva"
      }
    },
    {
      "cell_type": "code",
      "source": [
        "test_dataset = pd.read_csv('gdrive/MyDrive/NLP exercises/Datasets/Twitter Covid Vaccination data/vs_dev.csv')\n",
        "test_dataset.drop(['Unnamed: 0'], axis=1, inplace=True)\n",
        "test_dataset"
      ],
      "metadata": {
        "colab": {
          "base_uri": "https://localhost:8080/",
          "height": 424
        },
        "id": "QnQqPVGzTr0D",
        "outputId": "6f2e6d78-1635-4059-8853-23fd306113d1"
      },
      "execution_count": null,
      "outputs": [
        {
          "output_type": "execute_result",
          "data": {
            "text/html": [
              "\n",
              "  <div id=\"df-6e686ab0-6924-4041-afb9-e1c0d094f463\">\n",
              "    <div class=\"colab-df-container\">\n",
              "      <div>\n",
              "<style scoped>\n",
              "    .dataframe tbody tr th:only-of-type {\n",
              "        vertical-align: middle;\n",
              "    }\n",
              "\n",
              "    .dataframe tbody tr th {\n",
              "        vertical-align: top;\n",
              "    }\n",
              "\n",
              "    .dataframe thead th {\n",
              "        text-align: right;\n",
              "    }\n",
              "</style>\n",
              "<table border=\"1\" class=\"dataframe\">\n",
              "  <thead>\n",
              "    <tr style=\"text-align: right;\">\n",
              "      <th></th>\n",
              "      <th>tweet</th>\n",
              "      <th>label</th>\n",
              "    </tr>\n",
              "  </thead>\n",
              "  <tbody>\n",
              "    <tr>\n",
              "      <th>0</th>\n",
              "      <td>@user They had a massive surge in with covid deaths immediately after the vaccine rollout, way more than they had during the entirety of the \"pandemic\" up to that point. Fuck those jabs, Dr.Death.</td>\n",
              "      <td>1</td>\n",
              "    </tr>\n",
              "    <tr>\n",
              "      <th>1</th>\n",
              "      <td>Required vaccines for school: Parents and guardians of children with school exclusion letters now have an... http://t.co/KVl8Dt86dz</td>\n",
              "      <td>0</td>\n",
              "    </tr>\n",
              "    <tr>\n",
              "      <th>2</th>\n",
              "      <td>“@KCStar: Two more Johnson County children have measles http://t.co/Rvx07sc” @sethmnookin</td>\n",
              "      <td>0</td>\n",
              "    </tr>\n",
              "    <tr>\n",
              "      <th>3</th>\n",
              "      <td>NV can do better. Which states are the best (and worst) at vaccinating their kids http://t.co/6GaZGgYA9z http://t.co/pTFRJZ2Tmr\"</td>\n",
              "      <td>2</td>\n",
              "    </tr>\n",
              "    <tr>\n",
              "      <th>4</th>\n",
              "      <td>Nothing like killing ourselves w/ our own fear MT@Alyssa_Milano: Vaccine fears have fueled the resurgence of preventable diseases.</td>\n",
              "      <td>2</td>\n",
              "    </tr>\n",
              "    <tr>\n",
              "      <th>...</th>\n",
              "      <td>...</td>\n",
              "      <td>...</td>\n",
              "    </tr>\n",
              "    <tr>\n",
              "      <th>2277</th>\n",
              "      <td>RT @abc7: Number of measles cases reported in Cali is at a 10-year high,  officials say http://t.co/J4tqBkJl  uggh not a good thing at all!!</td>\n",
              "      <td>0</td>\n",
              "    </tr>\n",
              "    <tr>\n",
              "      <th>2278</th>\n",
              "      <td>Evidence points to the idea that \"measles affects the immune system for two to three years\" after the disease. http://t.co/DbjIQVLQrS</td>\n",
              "      <td>0</td>\n",
              "    </tr>\n",
              "    <tr>\n",
              "      <th>2279</th>\n",
              "      <td>Where's @SavedYouAClick \"@voxdotcom: Why you should vaccinate your kids, in two minutes: http://t.co/HrZPqQERkY\"</td>\n",
              "      <td>2</td>\n",
              "    </tr>\n",
              "    <tr>\n",
              "      <th>2280</th>\n",
              "      <td>Some of my favorite people have autism. If that's your reason for bringing back diseases we have eviscerated, fuck you. #vaccineswork</td>\n",
              "      <td>2</td>\n",
              "    </tr>\n",
              "    <tr>\n",
              "      <th>2281</th>\n",
              "      <td>Coronavirus: The married couple behind the successful Pfizer COVID vaccine | Came to Germany as Turkish Migrant worker kids —- inspiring couple https://t.co/iR4UHRUXFH</td>\n",
              "      <td>0</td>\n",
              "    </tr>\n",
              "  </tbody>\n",
              "</table>\n",
              "<p>2282 rows × 2 columns</p>\n",
              "</div>\n",
              "      <button class=\"colab-df-convert\" onclick=\"convertToInteractive('df-6e686ab0-6924-4041-afb9-e1c0d094f463')\"\n",
              "              title=\"Convert this dataframe to an interactive table.\"\n",
              "              style=\"display:none;\">\n",
              "        \n",
              "  <svg xmlns=\"http://www.w3.org/2000/svg\" height=\"24px\"viewBox=\"0 0 24 24\"\n",
              "       width=\"24px\">\n",
              "    <path d=\"M0 0h24v24H0V0z\" fill=\"none\"/>\n",
              "    <path d=\"M18.56 5.44l.94 2.06.94-2.06 2.06-.94-2.06-.94-.94-2.06-.94 2.06-2.06.94zm-11 1L8.5 8.5l.94-2.06 2.06-.94-2.06-.94L8.5 2.5l-.94 2.06-2.06.94zm10 10l.94 2.06.94-2.06 2.06-.94-2.06-.94-.94-2.06-.94 2.06-2.06.94z\"/><path d=\"M17.41 7.96l-1.37-1.37c-.4-.4-.92-.59-1.43-.59-.52 0-1.04.2-1.43.59L10.3 9.45l-7.72 7.72c-.78.78-.78 2.05 0 2.83L4 21.41c.39.39.9.59 1.41.59.51 0 1.02-.2 1.41-.59l7.78-7.78 2.81-2.81c.8-.78.8-2.07 0-2.86zM5.41 20L4 18.59l7.72-7.72 1.47 1.35L5.41 20z\"/>\n",
              "  </svg>\n",
              "      </button>\n",
              "      \n",
              "  <style>\n",
              "    .colab-df-container {\n",
              "      display:flex;\n",
              "      flex-wrap:wrap;\n",
              "      gap: 12px;\n",
              "    }\n",
              "\n",
              "    .colab-df-convert {\n",
              "      background-color: #E8F0FE;\n",
              "      border: none;\n",
              "      border-radius: 50%;\n",
              "      cursor: pointer;\n",
              "      display: none;\n",
              "      fill: #1967D2;\n",
              "      height: 32px;\n",
              "      padding: 0 0 0 0;\n",
              "      width: 32px;\n",
              "    }\n",
              "\n",
              "    .colab-df-convert:hover {\n",
              "      background-color: #E2EBFA;\n",
              "      box-shadow: 0px 1px 2px rgba(60, 64, 67, 0.3), 0px 1px 3px 1px rgba(60, 64, 67, 0.15);\n",
              "      fill: #174EA6;\n",
              "    }\n",
              "\n",
              "    [theme=dark] .colab-df-convert {\n",
              "      background-color: #3B4455;\n",
              "      fill: #D2E3FC;\n",
              "    }\n",
              "\n",
              "    [theme=dark] .colab-df-convert:hover {\n",
              "      background-color: #434B5C;\n",
              "      box-shadow: 0px 1px 3px 1px rgba(0, 0, 0, 0.15);\n",
              "      filter: drop-shadow(0px 1px 2px rgba(0, 0, 0, 0.3));\n",
              "      fill: #FFFFFF;\n",
              "    }\n",
              "  </style>\n",
              "\n",
              "      <script>\n",
              "        const buttonEl =\n",
              "          document.querySelector('#df-6e686ab0-6924-4041-afb9-e1c0d094f463 button.colab-df-convert');\n",
              "        buttonEl.style.display =\n",
              "          google.colab.kernel.accessAllowed ? 'block' : 'none';\n",
              "\n",
              "        async function convertToInteractive(key) {\n",
              "          const element = document.querySelector('#df-6e686ab0-6924-4041-afb9-e1c0d094f463');\n",
              "          const dataTable =\n",
              "            await google.colab.kernel.invokeFunction('convertToInteractive',\n",
              "                                                     [key], {});\n",
              "          if (!dataTable) return;\n",
              "\n",
              "          const docLinkHtml = 'Like what you see? Visit the ' +\n",
              "            '<a target=\"_blank\" href=https://colab.research.google.com/notebooks/data_table.ipynb>data table notebook</a>'\n",
              "            + ' to learn more about interactive tables.';\n",
              "          element.innerHTML = '';\n",
              "          dataTable['output_type'] = 'display_data';\n",
              "          await google.colab.output.renderOutput(dataTable, element);\n",
              "          const docLink = document.createElement('div');\n",
              "          docLink.innerHTML = docLinkHtml;\n",
              "          element.appendChild(docLink);\n",
              "        }\n",
              "      </script>\n",
              "    </div>\n",
              "  </div>\n",
              "  "
            ],
            "text/plain": [
              "                                                                                                                                                                                                     tweet  label\n",
              "0     @user They had a massive surge in with covid deaths immediately after the vaccine rollout, way more than they had during the entirety of the \"pandemic\" up to that point. Fuck those jabs, Dr.Death.      1\n",
              "1                                                                      Required vaccines for school: Parents and guardians of children with school exclusion letters now have an... http://t.co/KVl8Dt86dz      0\n",
              "2                                                                                                                “@KCStar: Two more Johnson County children have measles http://t.co/Rvx07sc” @sethmnookin      0\n",
              "3                                                                         NV can do better. Which states are the best (and worst) at vaccinating their kids http://t.co/6GaZGgYA9z http://t.co/pTFRJZ2Tmr\"      2\n",
              "4                                                                       Nothing like killing ourselves w/ our own fear MT@Alyssa_Milano: Vaccine fears have fueled the resurgence of preventable diseases.      2\n",
              "...                                                                                                                                                                                                    ...    ...\n",
              "2277                                                          RT @abc7: Number of measles cases reported in Cali is at a 10-year high,  officials say http://t.co/J4tqBkJl  uggh not a good thing at all!!      0\n",
              "2278                                                                 Evidence points to the idea that \"measles affects the immune system for two to three years\" after the disease. http://t.co/DbjIQVLQrS      0\n",
              "2279                                                                                      Where's @SavedYouAClick \"@voxdotcom: Why you should vaccinate your kids, in two minutes: http://t.co/HrZPqQERkY\"      2\n",
              "2280                                                                 Some of my favorite people have autism. If that's your reason for bringing back diseases we have eviscerated, fuck you. #vaccineswork      2\n",
              "2281                               Coronavirus: The married couple behind the successful Pfizer COVID vaccine | Came to Germany as Turkish Migrant worker kids —- inspiring couple https://t.co/iR4UHRUXFH      0\n",
              "\n",
              "[2282 rows x 2 columns]"
            ]
          },
          "metadata": {},
          "execution_count": 7
        }
      ]
    },
    {
      "cell_type": "markdown",
      "metadata": {
        "id": "J2jwfbLAIvrS"
      },
      "source": [
        "# Data Visualization\n",
        "And now, we will visualize the amount of tweets of each label on our datasets to get a brief overview about their distribution."
      ]
    },
    {
      "cell_type": "markdown",
      "metadata": {
        "id": "CehQz8ayIzkB"
      },
      "source": [
        "**Train dataset**"
      ]
    },
    {
      "cell_type": "code",
      "metadata": {
        "colab": {
          "base_uri": "https://localhost:8080/",
          "height": 296
        },
        "id": "-ZBgb6WzI2Da",
        "outputId": "45d004dd-9fd5-4490-ae46-2fae7b75a047"
      },
      "source": [
        "trainLabelCounts = train_dataset.groupby('label').count()\n",
        "trainLabelCounts.plot.bar(rot=0)"
      ],
      "execution_count": null,
      "outputs": [
        {
          "output_type": "execute_result",
          "data": {
            "text/plain": [
              "<matplotlib.axes._subplots.AxesSubplot at 0x7f86c02f3110>"
            ]
          },
          "metadata": {},
          "execution_count": 8
        },
        {
          "output_type": "display_data",
          "data": {
            "image/png": "[encoded data removed]",
            "text/plain": [
              "<Figure size 432x288 with 1 Axes>"
            ]
          },
          "metadata": {
            "needs_background": "light"
          }
        }
      ]
    },
    {
      "cell_type": "markdown",
      "metadata": {
        "id": "avHQKGIOJvlO"
      },
      "source": [
        "**Validation dataset**"
      ]
    },
    {
      "cell_type": "code",
      "metadata": {
        "colab": {
          "base_uri": "https://localhost:8080/",
          "height": 296
        },
        "id": "svxn5-9lJyn1",
        "outputId": "5997647d-bb54-48ab-b9df-36bc92ba404f"
      },
      "source": [
        "validationLabelCounts = validation_dataset.groupby('label').count()\n",
        "validationLabelCounts.plot.bar(rot=0)"
      ],
      "execution_count": null,
      "outputs": [
        {
          "output_type": "execute_result",
          "data": {
            "text/plain": [
              "<matplotlib.axes._subplots.AxesSubplot at 0x7f86c01d38d0>"
            ]
          },
          "metadata": {},
          "execution_count": 9
        },
        {
          "output_type": "display_data",
          "data": {
            "image/png": "[encoded data removed]",
            "text/plain": [
              "<Figure size 432x288 with 1 Axes>"
            ]
          },
          "metadata": {
            "needs_background": "light"
          }
        }
      ]
    },
    {
      "cell_type": "markdown",
      "source": [
        "**Test Dataset**"
      ],
      "metadata": {
        "id": "J7JqqJQnT1Dx"
      }
    },
    {
      "cell_type": "code",
      "source": [
        "testLabelCounts = test_dataset.groupby('label').count()\n",
        "testLabelCounts.plot.bar(rot=0)"
      ],
      "metadata": {
        "colab": {
          "base_uri": "https://localhost:8080/",
          "height": 296
        },
        "id": "GsLKMhPFT1yC",
        "outputId": "8b10a3a2-354a-4f08-ea2e-5ceae66c3629"
      },
      "execution_count": null,
      "outputs": [
        {
          "output_type": "execute_result",
          "data": {
            "text/plain": [
              "<matplotlib.axes._subplots.AxesSubplot at 0x7f86c0164b50>"
            ]
          },
          "metadata": {},
          "execution_count": 10
        },
        {
          "output_type": "display_data",
          "data": {
            "image/png": "[encoded data removed]",
            "text/plain": [
              "<Figure size 432x288 with 1 Axes>"
            ]
          },
          "metadata": {
            "needs_background": "light"
          }
        }
      ]
    },
    {
      "cell_type": "markdown",
      "metadata": {
        "id": "jaUDN_wI6b1V"
      },
      "source": [
        "As you can see, there are not as many label 1 (anti-vax) tweets as the other two classes. So, we expect less score in class 1."
      ]
    },
    {
      "cell_type": "markdown",
      "metadata": {
        "id": "oHZNmvKzhkEj"
      },
      "source": [
        "# Text Preprocessing\n",
        "Now, we will clean our tweets from useless information in order to make a good vectorization later. More specifically, we will remove tags, urls, punctuation (except ' and ’ because we will need them to remove stopwords like it's), underscore(_) characters, whitespace, single characters, numbers, and we will convert the texts to lowercase because all words are the same in both upper and lower cases. Note that we will keep the hashtags(without the # symbol), because they contain useful information about the tweets."
      ]
    },
    {
      "cell_type": "code",
      "metadata": {
        "id": "hd9DBW-tkvFb"
      },
      "source": [
        "def text_preprocessing(text: str):\n",
        "  # Remove tags\n",
        "  text = re.sub(r'@\\s?\\w+',' ',text)\n",
        "  # Remove urls\n",
        "  text = re.sub(r'https?://\\S+',' ',text)\n",
        "  # Remove punctuation(except ' and ’)\n",
        "  text = re.sub(r'[^’\\'\\s\\w]',' ',text)\n",
        "  # Remove underscore characters\n",
        "  text = re.sub(r'_', ' ', text)\n",
        "  # Remove \\r and \\n\n",
        "  text = re.sub(r'[\\r\\n]',' ', text)\n",
        "  # Remove single characters\n",
        "  text = re.sub(r'\\s+[a-zA-Z]\\s+', ' ',text)\n",
        "  # Remove single characters from start\n",
        "  text = re.sub(r'^[a-zA-Z]\\s+', '', text)\n",
        "  # Remove single characters from end\n",
        "  text = re.sub(r'\\s+[a-zA-Z]$', '', text)\n",
        "  # Remove numbers\n",
        "  text = re.sub(r'\\d+',' ',text)\n",
        "  # Convert multiple spaces to single space and remove beginning and end spaces\n",
        "  text = re.sub(r' +',' ',text).strip()\n",
        "  # Convert to lowercase\n",
        "  text = text.lower()\n",
        "\n",
        "  return text"
      ],
      "execution_count": null,
      "outputs": []
    },
    {
      "cell_type": "markdown",
      "metadata": {
        "id": "Sjb_1gU95KMq"
      },
      "source": [
        "**Train Dataset**"
      ]
    },
    {
      "cell_type": "code",
      "metadata": {
        "colab": {
          "base_uri": "https://localhost:8080/",
          "height": 424
        },
        "id": "pvxJgZuUlR1j",
        "outputId": "b0d43280-47d5-43d2-8b4c-1ff499c0d2c9"
      },
      "source": [
        "train_dataset['tweet'] = train_dataset['tweet'].apply(lambda tweet: text_preprocessing(tweet))\n",
        "train_dataset"
      ],
      "execution_count": null,
      "outputs": [
        {
          "output_type": "execute_result",
          "data": {
            "text/html": [
              "\n",
              "  <div id=\"df-5f6d0b0b-3d46-4999-821d-946c6b469b33\">\n",
              "    <div class=\"colab-df-container\">\n",
              "      <div>\n",
              "<style scoped>\n",
              "    .dataframe tbody tr th:only-of-type {\n",
              "        vertical-align: middle;\n",
              "    }\n",
              "\n",
              "    .dataframe tbody tr th {\n",
              "        vertical-align: top;\n",
              "    }\n",
              "\n",
              "    .dataframe thead th {\n",
              "        text-align: right;\n",
              "    }\n",
              "</style>\n",
              "<table border=\"1\" class=\"dataframe\">\n",
              "  <thead>\n",
              "    <tr style=\"text-align: right;\">\n",
              "      <th></th>\n",
              "      <th>tweet</th>\n",
              "      <th>label</th>\n",
              "    </tr>\n",
              "  </thead>\n",
              "  <tbody>\n",
              "    <tr>\n",
              "      <th>0</th>\n",
              "      <td>sip shop come thru right now marjais popularnobodies mmr sipnshop</td>\n",
              "      <td>0</td>\n",
              "    </tr>\n",
              "    <tr>\n",
              "      <th>1</th>\n",
              "      <td>don't know about you but my family and will not take the covid vaccine anytime soon</td>\n",
              "      <td>1</td>\n",
              "    </tr>\n",
              "    <tr>\n",
              "      <th>2</th>\n",
              "      <td>immunizations should be mandatory period in oklahoma they won't let kids go to school without them it's dangerous otherwise</td>\n",
              "      <td>2</td>\n",
              "    </tr>\n",
              "    <tr>\n",
              "      <th>3</th>\n",
              "      <td>president obama spoke in favor of vaccination for children fox will start telling its viewers to choose against vaccination in</td>\n",
              "      <td>0</td>\n",
              "    </tr>\n",
              "    <tr>\n",
              "      <th>4</th>\n",
              "      <td>arizona monitoring hundreds for measles linked to disneyland it's small world after all</td>\n",
              "      <td>0</td>\n",
              "    </tr>\n",
              "    <tr>\n",
              "      <th>...</th>\n",
              "      <td>...</td>\n",
              "      <td>...</td>\n",
              "    </tr>\n",
              "    <tr>\n",
              "      <th>15971</th>\n",
              "      <td>if believe the anti vax nutcases caused measles are ignoring the obama illegal children who streamed to the us coincidence</td>\n",
              "      <td>1</td>\n",
              "    </tr>\n",
              "    <tr>\n",
              "      <th>15972</th>\n",
              "      <td>how do you feel about parents who don't vaccinate their kids measlesoutbreak</td>\n",
              "      <td>0</td>\n",
              "    </tr>\n",
              "    <tr>\n",
              "      <th>15973</th>\n",
              "      <td>preschoolers tested for measles in simi valley</td>\n",
              "      <td>0</td>\n",
              "    </tr>\n",
              "    <tr>\n",
              "      <th>15974</th>\n",
              "      <td>finance minister budget offers room to procure covid vaccines if available</td>\n",
              "      <td>0</td>\n",
              "    </tr>\n",
              "    <tr>\n",
              "      <th>15975</th>\n",
              "      <td>are you up to date on vaccines take cdc’s vaccine quiz to find out which vaccines are right for you</td>\n",
              "      <td>2</td>\n",
              "    </tr>\n",
              "  </tbody>\n",
              "</table>\n",
              "<p>15976 rows × 2 columns</p>\n",
              "</div>\n",
              "      <button class=\"colab-df-convert\" onclick=\"convertToInteractive('df-5f6d0b0b-3d46-4999-821d-946c6b469b33')\"\n",
              "              title=\"Convert this dataframe to an interactive table.\"\n",
              "              style=\"display:none;\">\n",
              "        \n",
              "  <svg xmlns=\"http://www.w3.org/2000/svg\" height=\"24px\"viewBox=\"0 0 24 24\"\n",
              "       width=\"24px\">\n",
              "    <path d=\"M0 0h24v24H0V0z\" fill=\"none\"/>\n",
              "    <path d=\"M18.56 5.44l.94 2.06.94-2.06 2.06-.94-2.06-.94-.94-2.06-.94 2.06-2.06.94zm-11 1L8.5 8.5l.94-2.06 2.06-.94-2.06-.94L8.5 2.5l-.94 2.06-2.06.94zm10 10l.94 2.06.94-2.06 2.06-.94-2.06-.94-.94-2.06-.94 2.06-2.06.94z\"/><path d=\"M17.41 7.96l-1.37-1.37c-.4-.4-.92-.59-1.43-.59-.52 0-1.04.2-1.43.59L10.3 9.45l-7.72 7.72c-.78.78-.78 2.05 0 2.83L4 21.41c.39.39.9.59 1.41.59.51 0 1.02-.2 1.41-.59l7.78-7.78 2.81-2.81c.8-.78.8-2.07 0-2.86zM5.41 20L4 18.59l7.72-7.72 1.47 1.35L5.41 20z\"/>\n",
              "  </svg>\n",
              "      </button>\n",
              "      \n",
              "  <style>\n",
              "    .colab-df-container {\n",
              "      display:flex;\n",
              "      flex-wrap:wrap;\n",
              "      gap: 12px;\n",
              "    }\n",
              "\n",
              "    .colab-df-convert {\n",
              "      background-color: #E8F0FE;\n",
              "      border: none;\n",
              "      border-radius: 50%;\n",
              "      cursor: pointer;\n",
              "      display: none;\n",
              "      fill: #1967D2;\n",
              "      height: 32px;\n",
              "      padding: 0 0 0 0;\n",
              "      width: 32px;\n",
              "    }\n",
              "\n",
              "    .colab-df-convert:hover {\n",
              "      background-color: #E2EBFA;\n",
              "      box-shadow: 0px 1px 2px rgba(60, 64, 67, 0.3), 0px 1px 3px 1px rgba(60, 64, 67, 0.15);\n",
              "      fill: #174EA6;\n",
              "    }\n",
              "\n",
              "    [theme=dark] .colab-df-convert {\n",
              "      background-color: #3B4455;\n",
              "      fill: #D2E3FC;\n",
              "    }\n",
              "\n",
              "    [theme=dark] .colab-df-convert:hover {\n",
              "      background-color: #434B5C;\n",
              "      box-shadow: 0px 1px 3px 1px rgba(0, 0, 0, 0.15);\n",
              "      filter: drop-shadow(0px 1px 2px rgba(0, 0, 0, 0.3));\n",
              "      fill: #FFFFFF;\n",
              "    }\n",
              "  </style>\n",
              "\n",
              "      <script>\n",
              "        const buttonEl =\n",
              "          document.querySelector('#df-5f6d0b0b-3d46-4999-821d-946c6b469b33 button.colab-df-convert');\n",
              "        buttonEl.style.display =\n",
              "          google.colab.kernel.accessAllowed ? 'block' : 'none';\n",
              "\n",
              "        async function convertToInteractive(key) {\n",
              "          const element = document.querySelector('#df-5f6d0b0b-3d46-4999-821d-946c6b469b33');\n",
              "          const dataTable =\n",
              "            await google.colab.kernel.invokeFunction('convertToInteractive',\n",
              "                                                     [key], {});\n",
              "          if (!dataTable) return;\n",
              "\n",
              "          const docLinkHtml = 'Like what you see? Visit the ' +\n",
              "            '<a target=\"_blank\" href=https://colab.research.google.com/notebooks/data_table.ipynb>data table notebook</a>'\n",
              "            + ' to learn more about interactive tables.';\n",
              "          element.innerHTML = '';\n",
              "          dataTable['output_type'] = 'display_data';\n",
              "          await google.colab.output.renderOutput(dataTable, element);\n",
              "          const docLink = document.createElement('div');\n",
              "          docLink.innerHTML = docLinkHtml;\n",
              "          element.appendChild(docLink);\n",
              "        }\n",
              "      </script>\n",
              "    </div>\n",
              "  </div>\n",
              "  "
            ],
            "text/plain": [
              "                                                                                                                                tweet  label\n",
              "0                                                                   sip shop come thru right now marjais popularnobodies mmr sipnshop      0\n",
              "1                                                 don't know about you but my family and will not take the covid vaccine anytime soon      1\n",
              "2         immunizations should be mandatory period in oklahoma they won't let kids go to school without them it's dangerous otherwise      2\n",
              "3      president obama spoke in favor of vaccination for children fox will start telling its viewers to choose against vaccination in      0\n",
              "4                                             arizona monitoring hundreds for measles linked to disneyland it's small world after all      0\n",
              "...                                                                                                                               ...    ...\n",
              "15971      if believe the anti vax nutcases caused measles are ignoring the obama illegal children who streamed to the us coincidence      1\n",
              "15972                                                    how do you feel about parents who don't vaccinate their kids measlesoutbreak      0\n",
              "15973                                                                                  preschoolers tested for measles in simi valley      0\n",
              "15974                                                      finance minister budget offers room to procure covid vaccines if available      0\n",
              "15975                             are you up to date on vaccines take cdc’s vaccine quiz to find out which vaccines are right for you      2\n",
              "\n",
              "[15976 rows x 2 columns]"
            ]
          },
          "metadata": {},
          "execution_count": 12
        }
      ]
    },
    {
      "cell_type": "markdown",
      "metadata": {
        "id": "0tojah1n5O2R"
      },
      "source": [
        "**Validation Dataset**"
      ]
    },
    {
      "cell_type": "code",
      "metadata": {
        "colab": {
          "base_uri": "https://localhost:8080/",
          "height": 424
        },
        "id": "x9l6CA2YzxV8",
        "outputId": "16c32a3a-787c-4dca-e288-1687adbdd978"
      },
      "source": [
        "validation_dataset['tweet'] = validation_dataset['tweet'].apply(lambda tweet: text_preprocessing(tweet))\n",
        "validation_dataset"
      ],
      "execution_count": null,
      "outputs": [
        {
          "output_type": "execute_result",
          "data": {
            "text/html": [
              "\n",
              "  <div id=\"df-a1eb0ebd-5040-4fe8-a417-33e6dbce1cca\">\n",
              "    <div class=\"colab-df-container\">\n",
              "      <div>\n",
              "<style scoped>\n",
              "    .dataframe tbody tr th:only-of-type {\n",
              "        vertical-align: middle;\n",
              "    }\n",
              "\n",
              "    .dataframe tbody tr th {\n",
              "        vertical-align: top;\n",
              "    }\n",
              "\n",
              "    .dataframe thead th {\n",
              "        text-align: right;\n",
              "    }\n",
              "</style>\n",
              "<table border=\"1\" class=\"dataframe\">\n",
              "  <thead>\n",
              "    <tr style=\"text-align: right;\">\n",
              "      <th></th>\n",
              "      <th>tweet</th>\n",
              "      <th>label</th>\n",
              "    </tr>\n",
              "  </thead>\n",
              "  <tbody>\n",
              "    <tr>\n",
              "      <th>0</th>\n",
              "      <td>they had massive surge in with covid deaths immediately after the vaccine rollout way more than they had during the entirety of the pandemic up to that point fuck those jabs dr death</td>\n",
              "      <td>1</td>\n",
              "    </tr>\n",
              "    <tr>\n",
              "      <th>1</th>\n",
              "      <td>required vaccines for school parents and guardians of children with school exclusion letters now have an</td>\n",
              "      <td>0</td>\n",
              "    </tr>\n",
              "    <tr>\n",
              "      <th>2</th>\n",
              "      <td>two more johnson county children have measles</td>\n",
              "      <td>0</td>\n",
              "    </tr>\n",
              "    <tr>\n",
              "      <th>3</th>\n",
              "      <td>nv can do better which states are the best and worst at vaccinating their kids</td>\n",
              "      <td>2</td>\n",
              "    </tr>\n",
              "    <tr>\n",
              "      <th>4</th>\n",
              "      <td>nothing like killing ourselves our own fear mt vaccine fears have fueled the resurgence of preventable diseases</td>\n",
              "      <td>2</td>\n",
              "    </tr>\n",
              "    <tr>\n",
              "      <th>...</th>\n",
              "      <td>...</td>\n",
              "      <td>...</td>\n",
              "    </tr>\n",
              "    <tr>\n",
              "      <th>2277</th>\n",
              "      <td>rt number of measles cases reported in cali is at year high officials say uggh not good thing at all</td>\n",
              "      <td>0</td>\n",
              "    </tr>\n",
              "    <tr>\n",
              "      <th>2278</th>\n",
              "      <td>evidence points to the idea that measles affects the immune system for two to three years after the disease</td>\n",
              "      <td>0</td>\n",
              "    </tr>\n",
              "    <tr>\n",
              "      <th>2279</th>\n",
              "      <td>where's why you should vaccinate your kids in two minutes</td>\n",
              "      <td>2</td>\n",
              "    </tr>\n",
              "    <tr>\n",
              "      <th>2280</th>\n",
              "      <td>some of my favorite people have autism if that's your reason for bringing back diseases we have eviscerated fuck you vaccineswork</td>\n",
              "      <td>2</td>\n",
              "    </tr>\n",
              "    <tr>\n",
              "      <th>2281</th>\n",
              "      <td>coronavirus the married couple behind the successful pfizer covid vaccine came to germany as turkish migrant worker kids inspiring couple</td>\n",
              "      <td>0</td>\n",
              "    </tr>\n",
              "  </tbody>\n",
              "</table>\n",
              "<p>2282 rows × 2 columns</p>\n",
              "</div>\n",
              "      <button class=\"colab-df-convert\" onclick=\"convertToInteractive('df-a1eb0ebd-5040-4fe8-a417-33e6dbce1cca')\"\n",
              "              title=\"Convert this dataframe to an interactive table.\"\n",
              "              style=\"display:none;\">\n",
              "        \n",
              "  <svg xmlns=\"http://www.w3.org/2000/svg\" height=\"24px\"viewBox=\"0 0 24 24\"\n",
              "       width=\"24px\">\n",
              "    <path d=\"M0 0h24v24H0V0z\" fill=\"none\"/>\n",
              "    <path d=\"M18.56 5.44l.94 2.06.94-2.06 2.06-.94-2.06-.94-.94-2.06-.94 2.06-2.06.94zm-11 1L8.5 8.5l.94-2.06 2.06-.94-2.06-.94L8.5 2.5l-.94 2.06-2.06.94zm10 10l.94 2.06.94-2.06 2.06-.94-2.06-.94-.94-2.06-.94 2.06-2.06.94z\"/><path d=\"M17.41 7.96l-1.37-1.37c-.4-.4-.92-.59-1.43-.59-.52 0-1.04.2-1.43.59L10.3 9.45l-7.72 7.72c-.78.78-.78 2.05 0 2.83L4 21.41c.39.39.9.59 1.41.59.51 0 1.02-.2 1.41-.59l7.78-7.78 2.81-2.81c.8-.78.8-2.07 0-2.86zM5.41 20L4 18.59l7.72-7.72 1.47 1.35L5.41 20z\"/>\n",
              "  </svg>\n",
              "      </button>\n",
              "      \n",
              "  <style>\n",
              "    .colab-df-container {\n",
              "      display:flex;\n",
              "      flex-wrap:wrap;\n",
              "      gap: 12px;\n",
              "    }\n",
              "\n",
              "    .colab-df-convert {\n",
              "      background-color: #E8F0FE;\n",
              "      border: none;\n",
              "      border-radius: 50%;\n",
              "      cursor: pointer;\n",
              "      display: none;\n",
              "      fill: #1967D2;\n",
              "      height: 32px;\n",
              "      padding: 0 0 0 0;\n",
              "      width: 32px;\n",
              "    }\n",
              "\n",
              "    .colab-df-convert:hover {\n",
              "      background-color: #E2EBFA;\n",
              "      box-shadow: 0px 1px 2px rgba(60, 64, 67, 0.3), 0px 1px 3px 1px rgba(60, 64, 67, 0.15);\n",
              "      fill: #174EA6;\n",
              "    }\n",
              "\n",
              "    [theme=dark] .colab-df-convert {\n",
              "      background-color: #3B4455;\n",
              "      fill: #D2E3FC;\n",
              "    }\n",
              "\n",
              "    [theme=dark] .colab-df-convert:hover {\n",
              "      background-color: #434B5C;\n",
              "      box-shadow: 0px 1px 3px 1px rgba(0, 0, 0, 0.15);\n",
              "      filter: drop-shadow(0px 1px 2px rgba(0, 0, 0, 0.3));\n",
              "      fill: #FFFFFF;\n",
              "    }\n",
              "  </style>\n",
              "\n",
              "      <script>\n",
              "        const buttonEl =\n",
              "          document.querySelector('#df-a1eb0ebd-5040-4fe8-a417-33e6dbce1cca button.colab-df-convert');\n",
              "        buttonEl.style.display =\n",
              "          google.colab.kernel.accessAllowed ? 'block' : 'none';\n",
              "\n",
              "        async function convertToInteractive(key) {\n",
              "          const element = document.querySelector('#df-a1eb0ebd-5040-4fe8-a417-33e6dbce1cca');\n",
              "          const dataTable =\n",
              "            await google.colab.kernel.invokeFunction('convertToInteractive',\n",
              "                                                     [key], {});\n",
              "          if (!dataTable) return;\n",
              "\n",
              "          const docLinkHtml = 'Like what you see? Visit the ' +\n",
              "            '<a target=\"_blank\" href=https://colab.research.google.com/notebooks/data_table.ipynb>data table notebook</a>'\n",
              "            + ' to learn more about interactive tables.';\n",
              "          element.innerHTML = '';\n",
              "          dataTable['output_type'] = 'display_data';\n",
              "          await google.colab.output.renderOutput(dataTable, element);\n",
              "          const docLink = document.createElement('div');\n",
              "          docLink.innerHTML = docLinkHtml;\n",
              "          element.appendChild(docLink);\n",
              "        }\n",
              "      </script>\n",
              "    </div>\n",
              "  </div>\n",
              "  "
            ],
            "text/plain": [
              "                                                                                                                                                                                       tweet  label\n",
              "0     they had massive surge in with covid deaths immediately after the vaccine rollout way more than they had during the entirety of the pandemic up to that point fuck those jabs dr death      1\n",
              "1                                                                                   required vaccines for school parents and guardians of children with school exclusion letters now have an      0\n",
              "2                                                                                                                                              two more johnson county children have measles      0\n",
              "3                                                                                                             nv can do better which states are the best and worst at vaccinating their kids      2\n",
              "4                                                                            nothing like killing ourselves our own fear mt vaccine fears have fueled the resurgence of preventable diseases      2\n",
              "...                                                                                                                                                                                      ...    ...\n",
              "2277                                                                                    rt number of measles cases reported in cali is at year high officials say uggh not good thing at all      0\n",
              "2278                                                                             evidence points to the idea that measles affects the immune system for two to three years after the disease      0\n",
              "2279                                                                                                                               where's why you should vaccinate your kids in two minutes      2\n",
              "2280                                                       some of my favorite people have autism if that's your reason for bringing back diseases we have eviscerated fuck you vaccineswork      2\n",
              "2281                                               coronavirus the married couple behind the successful pfizer covid vaccine came to germany as turkish migrant worker kids inspiring couple      0\n",
              "\n",
              "[2282 rows x 2 columns]"
            ]
          },
          "metadata": {},
          "execution_count": 13
        }
      ]
    },
    {
      "cell_type": "markdown",
      "source": [
        "**Test Dataset**"
      ],
      "metadata": {
        "id": "2hTEbIvZUHbQ"
      }
    },
    {
      "cell_type": "code",
      "source": [
        "test_dataset['tweet'] = test_dataset['tweet'].apply(lambda tweet: text_preprocessing(tweet))\n",
        "test_dataset"
      ],
      "metadata": {
        "colab": {
          "base_uri": "https://localhost:8080/",
          "height": 424
        },
        "id": "eX1n09NoUIFI",
        "outputId": "04fdd9c8-58c7-4746-b5b7-7b420b7216c2"
      },
      "execution_count": null,
      "outputs": [
        {
          "output_type": "execute_result",
          "data": {
            "text/html": [
              "\n",
              "  <div id=\"df-0396e105-48c8-4e9a-965b-ee8423d45098\">\n",
              "    <div class=\"colab-df-container\">\n",
              "      <div>\n",
              "<style scoped>\n",
              "    .dataframe tbody tr th:only-of-type {\n",
              "        vertical-align: middle;\n",
              "    }\n",
              "\n",
              "    .dataframe tbody tr th {\n",
              "        vertical-align: top;\n",
              "    }\n",
              "\n",
              "    .dataframe thead th {\n",
              "        text-align: right;\n",
              "    }\n",
              "</style>\n",
              "<table border=\"1\" class=\"dataframe\">\n",
              "  <thead>\n",
              "    <tr style=\"text-align: right;\">\n",
              "      <th></th>\n",
              "      <th>tweet</th>\n",
              "      <th>label</th>\n",
              "    </tr>\n",
              "  </thead>\n",
              "  <tbody>\n",
              "    <tr>\n",
              "      <th>0</th>\n",
              "      <td>they had massive surge in with covid deaths immediately after the vaccine rollout way more than they had during the entirety of the pandemic up to that point fuck those jabs dr death</td>\n",
              "      <td>1</td>\n",
              "    </tr>\n",
              "    <tr>\n",
              "      <th>1</th>\n",
              "      <td>required vaccines for school parents and guardians of children with school exclusion letters now have an</td>\n",
              "      <td>0</td>\n",
              "    </tr>\n",
              "    <tr>\n",
              "      <th>2</th>\n",
              "      <td>two more johnson county children have measles</td>\n",
              "      <td>0</td>\n",
              "    </tr>\n",
              "    <tr>\n",
              "      <th>3</th>\n",
              "      <td>nv can do better which states are the best and worst at vaccinating their kids</td>\n",
              "      <td>2</td>\n",
              "    </tr>\n",
              "    <tr>\n",
              "      <th>4</th>\n",
              "      <td>nothing like killing ourselves our own fear mt vaccine fears have fueled the resurgence of preventable diseases</td>\n",
              "      <td>2</td>\n",
              "    </tr>\n",
              "    <tr>\n",
              "      <th>...</th>\n",
              "      <td>...</td>\n",
              "      <td>...</td>\n",
              "    </tr>\n",
              "    <tr>\n",
              "      <th>2277</th>\n",
              "      <td>rt number of measles cases reported in cali is at year high officials say uggh not good thing at all</td>\n",
              "      <td>0</td>\n",
              "    </tr>\n",
              "    <tr>\n",
              "      <th>2278</th>\n",
              "      <td>evidence points to the idea that measles affects the immune system for two to three years after the disease</td>\n",
              "      <td>0</td>\n",
              "    </tr>\n",
              "    <tr>\n",
              "      <th>2279</th>\n",
              "      <td>where's why you should vaccinate your kids in two minutes</td>\n",
              "      <td>2</td>\n",
              "    </tr>\n",
              "    <tr>\n",
              "      <th>2280</th>\n",
              "      <td>some of my favorite people have autism if that's your reason for bringing back diseases we have eviscerated fuck you vaccineswork</td>\n",
              "      <td>2</td>\n",
              "    </tr>\n",
              "    <tr>\n",
              "      <th>2281</th>\n",
              "      <td>coronavirus the married couple behind the successful pfizer covid vaccine came to germany as turkish migrant worker kids inspiring couple</td>\n",
              "      <td>0</td>\n",
              "    </tr>\n",
              "  </tbody>\n",
              "</table>\n",
              "<p>2282 rows × 2 columns</p>\n",
              "</div>\n",
              "      <button class=\"colab-df-convert\" onclick=\"convertToInteractive('df-0396e105-48c8-4e9a-965b-ee8423d45098')\"\n",
              "              title=\"Convert this dataframe to an interactive table.\"\n",
              "              style=\"display:none;\">\n",
              "        \n",
              "  <svg xmlns=\"http://www.w3.org/2000/svg\" height=\"24px\"viewBox=\"0 0 24 24\"\n",
              "       width=\"24px\">\n",
              "    <path d=\"M0 0h24v24H0V0z\" fill=\"none\"/>\n",
              "    <path d=\"M18.56 5.44l.94 2.06.94-2.06 2.06-.94-2.06-.94-.94-2.06-.94 2.06-2.06.94zm-11 1L8.5 8.5l.94-2.06 2.06-.94-2.06-.94L8.5 2.5l-.94 2.06-2.06.94zm10 10l.94 2.06.94-2.06 2.06-.94-2.06-.94-.94-2.06-.94 2.06-2.06.94z\"/><path d=\"M17.41 7.96l-1.37-1.37c-.4-.4-.92-.59-1.43-.59-.52 0-1.04.2-1.43.59L10.3 9.45l-7.72 7.72c-.78.78-.78 2.05 0 2.83L4 21.41c.39.39.9.59 1.41.59.51 0 1.02-.2 1.41-.59l7.78-7.78 2.81-2.81c.8-.78.8-2.07 0-2.86zM5.41 20L4 18.59l7.72-7.72 1.47 1.35L5.41 20z\"/>\n",
              "  </svg>\n",
              "      </button>\n",
              "      \n",
              "  <style>\n",
              "    .colab-df-container {\n",
              "      display:flex;\n",
              "      flex-wrap:wrap;\n",
              "      gap: 12px;\n",
              "    }\n",
              "\n",
              "    .colab-df-convert {\n",
              "      background-color: #E8F0FE;\n",
              "      border: none;\n",
              "      border-radius: 50%;\n",
              "      cursor: pointer;\n",
              "      display: none;\n",
              "      fill: #1967D2;\n",
              "      height: 32px;\n",
              "      padding: 0 0 0 0;\n",
              "      width: 32px;\n",
              "    }\n",
              "\n",
              "    .colab-df-convert:hover {\n",
              "      background-color: #E2EBFA;\n",
              "      box-shadow: 0px 1px 2px rgba(60, 64, 67, 0.3), 0px 1px 3px 1px rgba(60, 64, 67, 0.15);\n",
              "      fill: #174EA6;\n",
              "    }\n",
              "\n",
              "    [theme=dark] .colab-df-convert {\n",
              "      background-color: #3B4455;\n",
              "      fill: #D2E3FC;\n",
              "    }\n",
              "\n",
              "    [theme=dark] .colab-df-convert:hover {\n",
              "      background-color: #434B5C;\n",
              "      box-shadow: 0px 1px 3px 1px rgba(0, 0, 0, 0.15);\n",
              "      filter: drop-shadow(0px 1px 2px rgba(0, 0, 0, 0.3));\n",
              "      fill: #FFFFFF;\n",
              "    }\n",
              "  </style>\n",
              "\n",
              "      <script>\n",
              "        const buttonEl =\n",
              "          document.querySelector('#df-0396e105-48c8-4e9a-965b-ee8423d45098 button.colab-df-convert');\n",
              "        buttonEl.style.display =\n",
              "          google.colab.kernel.accessAllowed ? 'block' : 'none';\n",
              "\n",
              "        async function convertToInteractive(key) {\n",
              "          const element = document.querySelector('#df-0396e105-48c8-4e9a-965b-ee8423d45098');\n",
              "          const dataTable =\n",
              "            await google.colab.kernel.invokeFunction('convertToInteractive',\n",
              "                                                     [key], {});\n",
              "          if (!dataTable) return;\n",
              "\n",
              "          const docLinkHtml = 'Like what you see? Visit the ' +\n",
              "            '<a target=\"_blank\" href=https://colab.research.google.com/notebooks/data_table.ipynb>data table notebook</a>'\n",
              "            + ' to learn more about interactive tables.';\n",
              "          element.innerHTML = '';\n",
              "          dataTable['output_type'] = 'display_data';\n",
              "          await google.colab.output.renderOutput(dataTable, element);\n",
              "          const docLink = document.createElement('div');\n",
              "          docLink.innerHTML = docLinkHtml;\n",
              "          element.appendChild(docLink);\n",
              "        }\n",
              "      </script>\n",
              "    </div>\n",
              "  </div>\n",
              "  "
            ],
            "text/plain": [
              "                                                                                                                                                                                       tweet  label\n",
              "0     they had massive surge in with covid deaths immediately after the vaccine rollout way more than they had during the entirety of the pandemic up to that point fuck those jabs dr death      1\n",
              "1                                                                                   required vaccines for school parents and guardians of children with school exclusion letters now have an      0\n",
              "2                                                                                                                                              two more johnson county children have measles      0\n",
              "3                                                                                                             nv can do better which states are the best and worst at vaccinating their kids      2\n",
              "4                                                                            nothing like killing ourselves our own fear mt vaccine fears have fueled the resurgence of preventable diseases      2\n",
              "...                                                                                                                                                                                      ...    ...\n",
              "2277                                                                                    rt number of measles cases reported in cali is at year high officials say uggh not good thing at all      0\n",
              "2278                                                                             evidence points to the idea that measles affects the immune system for two to three years after the disease      0\n",
              "2279                                                                                                                               where's why you should vaccinate your kids in two minutes      2\n",
              "2280                                                       some of my favorite people have autism if that's your reason for bringing back diseases we have eviscerated fuck you vaccineswork      2\n",
              "2281                                               coronavirus the married couple behind the successful pfizer covid vaccine came to germany as turkish migrant worker kids inspiring couple      0\n",
              "\n",
              "[2282 rows x 2 columns]"
            ]
          },
          "metadata": {},
          "execution_count": 14
        }
      ]
    },
    {
      "cell_type": "markdown",
      "metadata": {
        "id": "jdEjtJasZCTW"
      },
      "source": [
        "# Stopwords Removal\n",
        "Now, we will remove some stopwords(words that do not have any important value for the texts) from all the tweets."
      ]
    },
    {
      "cell_type": "markdown",
      "metadata": {
        "id": "TANA9S6o7-vQ"
      },
      "source": [
        "First, let's download the stopwords that we are going to remove:"
      ]
    },
    {
      "cell_type": "code",
      "metadata": {
        "colab": {
          "base_uri": "https://localhost:8080/"
        },
        "id": "io8RhjT1ZFdG",
        "outputId": "4f2557d5-ac12-4ac9-caae-1df38f5d650f"
      },
      "source": [
        "nltk.download('stopwords')\n",
        "print(stopwords.words('english'))"
      ],
      "execution_count": null,
      "outputs": [
        {
          "output_type": "stream",
          "name": "stdout",
          "text": [
            "[nltk_data] Downloading package stopwords to /root/nltk_data...\n",
            "[nltk_data]   Unzipping corpora/stopwords.zip.\n",
            "['i', 'me', 'my', 'myself', 'we', 'our', 'ours', 'ourselves', 'you', \"you're\", \"you've\", \"you'll\", \"you'd\", 'your', 'yours', 'yourself', 'yourselves', 'he', 'him', 'his', 'himself', 'she', \"she's\", 'her', 'hers', 'herself', 'it', \"it's\", 'its', 'itself', 'they', 'them', 'their', 'theirs', 'themselves', 'what', 'which', 'who', 'whom', 'this', 'that', \"that'll\", 'these', 'those', 'am', 'is', 'are', 'was', 'were', 'be', 'been', 'being', 'have', 'has', 'had', 'having', 'do', 'does', 'did', 'doing', 'a', 'an', 'the', 'and', 'but', 'if', 'or', 'because', 'as', 'until', 'while', 'of', 'at', 'by', 'for', 'with', 'about', 'against', 'between', 'into', 'through', 'during', 'before', 'after', 'above', 'below', 'to', 'from', 'up', 'down', 'in', 'out', 'on', 'off', 'over', 'under', 'again', 'further', 'then', 'once', 'here', 'there', 'when', 'where', 'why', 'how', 'all', 'any', 'both', 'each', 'few', 'more', 'most', 'other', 'some', 'such', 'no', 'nor', 'not', 'only', 'own', 'same', 'so', 'than', 'too', 'very', 's', 't', 'can', 'will', 'just', 'don', \"don't\", 'should', \"should've\", 'now', 'd', 'll', 'm', 'o', 're', 've', 'y', 'ain', 'aren', \"aren't\", 'couldn', \"couldn't\", 'didn', \"didn't\", 'doesn', \"doesn't\", 'hadn', \"hadn't\", 'hasn', \"hasn't\", 'haven', \"haven't\", 'isn', \"isn't\", 'ma', 'mightn', \"mightn't\", 'mustn', \"mustn't\", 'needn', \"needn't\", 'shan', \"shan't\", 'shouldn', \"shouldn't\", 'wasn', \"wasn't\", 'weren', \"weren't\", 'won', \"won't\", 'wouldn', \"wouldn't\"]\n"
          ]
        }
      ]
    },
    {
      "cell_type": "markdown",
      "metadata": {
        "id": "tjBD85sq8E7P"
      },
      "source": [
        "Then, let's remove them from our datasets:"
      ]
    },
    {
      "cell_type": "code",
      "metadata": {
        "id": "usFDSYKxaFAC"
      },
      "source": [
        "def remove_stopwords(text):\n",
        "  tokens = text.split(' ')\n",
        "  return ' '.join([w for w in tokens if w not in stopwords.words('english')])"
      ],
      "execution_count": null,
      "outputs": []
    },
    {
      "cell_type": "code",
      "metadata": {
        "colab": {
          "base_uri": "https://localhost:8080/",
          "height": 424
        },
        "id": "UYwEQ6HoagA5",
        "outputId": "16ceb171-d0a8-47b7-9f7c-fbfd02800b45"
      },
      "source": [
        "train_dataset['tweet'] = train_dataset['tweet'].apply(remove_stopwords)\n",
        "train_dataset"
      ],
      "execution_count": null,
      "outputs": [
        {
          "output_type": "execute_result",
          "data": {
            "text/html": [
              "\n",
              "  <div id=\"df-294e6bdb-0768-4ec7-a0ce-3e67c9256f14\">\n",
              "    <div class=\"colab-df-container\">\n",
              "      <div>\n",
              "<style scoped>\n",
              "    .dataframe tbody tr th:only-of-type {\n",
              "        vertical-align: middle;\n",
              "    }\n",
              "\n",
              "    .dataframe tbody tr th {\n",
              "        vertical-align: top;\n",
              "    }\n",
              "\n",
              "    .dataframe thead th {\n",
              "        text-align: right;\n",
              "    }\n",
              "</style>\n",
              "<table border=\"1\" class=\"dataframe\">\n",
              "  <thead>\n",
              "    <tr style=\"text-align: right;\">\n",
              "      <th></th>\n",
              "      <th>tweet</th>\n",
              "      <th>label</th>\n",
              "    </tr>\n",
              "  </thead>\n",
              "  <tbody>\n",
              "    <tr>\n",
              "      <th>0</th>\n",
              "      <td>sip shop come thru right marjais popularnobodies mmr sipnshop</td>\n",
              "      <td>0</td>\n",
              "    </tr>\n",
              "    <tr>\n",
              "      <th>1</th>\n",
              "      <td>know family take covid vaccine anytime soon</td>\n",
              "      <td>1</td>\n",
              "    </tr>\n",
              "    <tr>\n",
              "      <th>2</th>\n",
              "      <td>immunizations mandatory period oklahoma let kids go school without dangerous otherwise</td>\n",
              "      <td>2</td>\n",
              "    </tr>\n",
              "    <tr>\n",
              "      <th>3</th>\n",
              "      <td>president obama spoke favor vaccination children fox start telling viewers choose vaccination</td>\n",
              "      <td>0</td>\n",
              "    </tr>\n",
              "    <tr>\n",
              "      <th>4</th>\n",
              "      <td>arizona monitoring hundreds measles linked disneyland small world</td>\n",
              "      <td>0</td>\n",
              "    </tr>\n",
              "    <tr>\n",
              "      <th>...</th>\n",
              "      <td>...</td>\n",
              "      <td>...</td>\n",
              "    </tr>\n",
              "    <tr>\n",
              "      <th>15971</th>\n",
              "      <td>believe anti vax nutcases caused measles ignoring obama illegal children streamed us coincidence</td>\n",
              "      <td>1</td>\n",
              "    </tr>\n",
              "    <tr>\n",
              "      <th>15972</th>\n",
              "      <td>feel parents vaccinate kids measlesoutbreak</td>\n",
              "      <td>0</td>\n",
              "    </tr>\n",
              "    <tr>\n",
              "      <th>15973</th>\n",
              "      <td>preschoolers tested measles simi valley</td>\n",
              "      <td>0</td>\n",
              "    </tr>\n",
              "    <tr>\n",
              "      <th>15974</th>\n",
              "      <td>finance minister budget offers room procure covid vaccines available</td>\n",
              "      <td>0</td>\n",
              "    </tr>\n",
              "    <tr>\n",
              "      <th>15975</th>\n",
              "      <td>date vaccines take cdc’s vaccine quiz find vaccines right</td>\n",
              "      <td>2</td>\n",
              "    </tr>\n",
              "  </tbody>\n",
              "</table>\n",
              "<p>15976 rows × 2 columns</p>\n",
              "</div>\n",
              "      <button class=\"colab-df-convert\" onclick=\"convertToInteractive('df-294e6bdb-0768-4ec7-a0ce-3e67c9256f14')\"\n",
              "              title=\"Convert this dataframe to an interactive table.\"\n",
              "              style=\"display:none;\">\n",
              "        \n",
              "  <svg xmlns=\"http://www.w3.org/2000/svg\" height=\"24px\"viewBox=\"0 0 24 24\"\n",
              "       width=\"24px\">\n",
              "    <path d=\"M0 0h24v24H0V0z\" fill=\"none\"/>\n",
              "    <path d=\"M18.56 5.44l.94 2.06.94-2.06 2.06-.94-2.06-.94-.94-2.06-.94 2.06-2.06.94zm-11 1L8.5 8.5l.94-2.06 2.06-.94-2.06-.94L8.5 2.5l-.94 2.06-2.06.94zm10 10l.94 2.06.94-2.06 2.06-.94-2.06-.94-.94-2.06-.94 2.06-2.06.94z\"/><path d=\"M17.41 7.96l-1.37-1.37c-.4-.4-.92-.59-1.43-.59-.52 0-1.04.2-1.43.59L10.3 9.45l-7.72 7.72c-.78.78-.78 2.05 0 2.83L4 21.41c.39.39.9.59 1.41.59.51 0 1.02-.2 1.41-.59l7.78-7.78 2.81-2.81c.8-.78.8-2.07 0-2.86zM5.41 20L4 18.59l7.72-7.72 1.47 1.35L5.41 20z\"/>\n",
              "  </svg>\n",
              "      </button>\n",
              "      \n",
              "  <style>\n",
              "    .colab-df-container {\n",
              "      display:flex;\n",
              "      flex-wrap:wrap;\n",
              "      gap: 12px;\n",
              "    }\n",
              "\n",
              "    .colab-df-convert {\n",
              "      background-color: #E8F0FE;\n",
              "      border: none;\n",
              "      border-radius: 50%;\n",
              "      cursor: pointer;\n",
              "      display: none;\n",
              "      fill: #1967D2;\n",
              "      height: 32px;\n",
              "      padding: 0 0 0 0;\n",
              "      width: 32px;\n",
              "    }\n",
              "\n",
              "    .colab-df-convert:hover {\n",
              "      background-color: #E2EBFA;\n",
              "      box-shadow: 0px 1px 2px rgba(60, 64, 67, 0.3), 0px 1px 3px 1px rgba(60, 64, 67, 0.15);\n",
              "      fill: #174EA6;\n",
              "    }\n",
              "\n",
              "    [theme=dark] .colab-df-convert {\n",
              "      background-color: #3B4455;\n",
              "      fill: #D2E3FC;\n",
              "    }\n",
              "\n",
              "    [theme=dark] .colab-df-convert:hover {\n",
              "      background-color: #434B5C;\n",
              "      box-shadow: 0px 1px 3px 1px rgba(0, 0, 0, 0.15);\n",
              "      filter: drop-shadow(0px 1px 2px rgba(0, 0, 0, 0.3));\n",
              "      fill: #FFFFFF;\n",
              "    }\n",
              "  </style>\n",
              "\n",
              "      <script>\n",
              "        const buttonEl =\n",
              "          document.querySelector('#df-294e6bdb-0768-4ec7-a0ce-3e67c9256f14 button.colab-df-convert');\n",
              "        buttonEl.style.display =\n",
              "          google.colab.kernel.accessAllowed ? 'block' : 'none';\n",
              "\n",
              "        async function convertToInteractive(key) {\n",
              "          const element = document.querySelector('#df-294e6bdb-0768-4ec7-a0ce-3e67c9256f14');\n",
              "          const dataTable =\n",
              "            await google.colab.kernel.invokeFunction('convertToInteractive',\n",
              "                                                     [key], {});\n",
              "          if (!dataTable) return;\n",
              "\n",
              "          const docLinkHtml = 'Like what you see? Visit the ' +\n",
              "            '<a target=\"_blank\" href=https://colab.research.google.com/notebooks/data_table.ipynb>data table notebook</a>'\n",
              "            + ' to learn more about interactive tables.';\n",
              "          element.innerHTML = '';\n",
              "          dataTable['output_type'] = 'display_data';\n",
              "          await google.colab.output.renderOutput(dataTable, element);\n",
              "          const docLink = document.createElement('div');\n",
              "          docLink.innerHTML = docLinkHtml;\n",
              "          element.appendChild(docLink);\n",
              "        }\n",
              "      </script>\n",
              "    </div>\n",
              "  </div>\n",
              "  "
            ],
            "text/plain": [
              "                                                                                                  tweet  label\n",
              "0                                         sip shop come thru right marjais popularnobodies mmr sipnshop      0\n",
              "1                                                           know family take covid vaccine anytime soon      1\n",
              "2                immunizations mandatory period oklahoma let kids go school without dangerous otherwise      2\n",
              "3         president obama spoke favor vaccination children fox start telling viewers choose vaccination      0\n",
              "4                                     arizona monitoring hundreds measles linked disneyland small world      0\n",
              "...                                                                                                 ...    ...\n",
              "15971  believe anti vax nutcases caused measles ignoring obama illegal children streamed us coincidence      1\n",
              "15972                                                       feel parents vaccinate kids measlesoutbreak      0\n",
              "15973                                                           preschoolers tested measles simi valley      0\n",
              "15974                              finance minister budget offers room procure covid vaccines available      0\n",
              "15975                                         date vaccines take cdc’s vaccine quiz find vaccines right      2\n",
              "\n",
              "[15976 rows x 2 columns]"
            ]
          },
          "metadata": {},
          "execution_count": 17
        }
      ]
    },
    {
      "cell_type": "code",
      "metadata": {
        "colab": {
          "base_uri": "https://localhost:8080/",
          "height": 424
        },
        "id": "hPRmdAs3ZFdC",
        "outputId": "7ed91299-0219-4cb7-c649-280cce7ee0b1"
      },
      "source": [
        "validation_dataset['tweet'] = validation_dataset['tweet'].apply(remove_stopwords)\n",
        "validation_dataset"
      ],
      "execution_count": null,
      "outputs": [
        {
          "output_type": "execute_result",
          "data": {
            "text/html": [
              "\n",
              "  <div id=\"df-5f7c1913-fff6-4648-8e46-37adb35fd7e4\">\n",
              "    <div class=\"colab-df-container\">\n",
              "      <div>\n",
              "<style scoped>\n",
              "    .dataframe tbody tr th:only-of-type {\n",
              "        vertical-align: middle;\n",
              "    }\n",
              "\n",
              "    .dataframe tbody tr th {\n",
              "        vertical-align: top;\n",
              "    }\n",
              "\n",
              "    .dataframe thead th {\n",
              "        text-align: right;\n",
              "    }\n",
              "</style>\n",
              "<table border=\"1\" class=\"dataframe\">\n",
              "  <thead>\n",
              "    <tr style=\"text-align: right;\">\n",
              "      <th></th>\n",
              "      <th>tweet</th>\n",
              "      <th>label</th>\n",
              "    </tr>\n",
              "  </thead>\n",
              "  <tbody>\n",
              "    <tr>\n",
              "      <th>0</th>\n",
              "      <td>massive surge covid deaths immediately vaccine rollout way entirety pandemic point fuck jabs dr death</td>\n",
              "      <td>1</td>\n",
              "    </tr>\n",
              "    <tr>\n",
              "      <th>1</th>\n",
              "      <td>required vaccines school parents guardians children school exclusion letters</td>\n",
              "      <td>0</td>\n",
              "    </tr>\n",
              "    <tr>\n",
              "      <th>2</th>\n",
              "      <td>two johnson county children measles</td>\n",
              "      <td>0</td>\n",
              "    </tr>\n",
              "    <tr>\n",
              "      <th>3</th>\n",
              "      <td>nv better states best worst vaccinating kids</td>\n",
              "      <td>2</td>\n",
              "    </tr>\n",
              "    <tr>\n",
              "      <th>4</th>\n",
              "      <td>nothing like killing fear mt vaccine fears fueled resurgence preventable diseases</td>\n",
              "      <td>2</td>\n",
              "    </tr>\n",
              "    <tr>\n",
              "      <th>...</th>\n",
              "      <td>...</td>\n",
              "      <td>...</td>\n",
              "    </tr>\n",
              "    <tr>\n",
              "      <th>2277</th>\n",
              "      <td>rt number measles cases reported cali year high officials say uggh good thing</td>\n",
              "      <td>0</td>\n",
              "    </tr>\n",
              "    <tr>\n",
              "      <th>2278</th>\n",
              "      <td>evidence points idea measles affects immune system two three years disease</td>\n",
              "      <td>0</td>\n",
              "    </tr>\n",
              "    <tr>\n",
              "      <th>2279</th>\n",
              "      <td>where's vaccinate kids two minutes</td>\n",
              "      <td>2</td>\n",
              "    </tr>\n",
              "    <tr>\n",
              "      <th>2280</th>\n",
              "      <td>favorite people autism that's reason bringing back diseases eviscerated fuck vaccineswork</td>\n",
              "      <td>2</td>\n",
              "    </tr>\n",
              "    <tr>\n",
              "      <th>2281</th>\n",
              "      <td>coronavirus married couple behind successful pfizer covid vaccine came germany turkish migrant worker kids inspiring couple</td>\n",
              "      <td>0</td>\n",
              "    </tr>\n",
              "  </tbody>\n",
              "</table>\n",
              "<p>2282 rows × 2 columns</p>\n",
              "</div>\n",
              "      <button class=\"colab-df-convert\" onclick=\"convertToInteractive('df-5f7c1913-fff6-4648-8e46-37adb35fd7e4')\"\n",
              "              title=\"Convert this dataframe to an interactive table.\"\n",
              "              style=\"display:none;\">\n",
              "        \n",
              "  <svg xmlns=\"http://www.w3.org/2000/svg\" height=\"24px\"viewBox=\"0 0 24 24\"\n",
              "       width=\"24px\">\n",
              "    <path d=\"M0 0h24v24H0V0z\" fill=\"none\"/>\n",
              "    <path d=\"M18.56 5.44l.94 2.06.94-2.06 2.06-.94-2.06-.94-.94-2.06-.94 2.06-2.06.94zm-11 1L8.5 8.5l.94-2.06 2.06-.94-2.06-.94L8.5 2.5l-.94 2.06-2.06.94zm10 10l.94 2.06.94-2.06 2.06-.94-2.06-.94-.94-2.06-.94 2.06-2.06.94z\"/><path d=\"M17.41 7.96l-1.37-1.37c-.4-.4-.92-.59-1.43-.59-.52 0-1.04.2-1.43.59L10.3 9.45l-7.72 7.72c-.78.78-.78 2.05 0 2.83L4 21.41c.39.39.9.59 1.41.59.51 0 1.02-.2 1.41-.59l7.78-7.78 2.81-2.81c.8-.78.8-2.07 0-2.86zM5.41 20L4 18.59l7.72-7.72 1.47 1.35L5.41 20z\"/>\n",
              "  </svg>\n",
              "      </button>\n",
              "      \n",
              "  <style>\n",
              "    .colab-df-container {\n",
              "      display:flex;\n",
              "      flex-wrap:wrap;\n",
              "      gap: 12px;\n",
              "    }\n",
              "\n",
              "    .colab-df-convert {\n",
              "      background-color: #E8F0FE;\n",
              "      border: none;\n",
              "      border-radius: 50%;\n",
              "      cursor: pointer;\n",
              "      display: none;\n",
              "      fill: #1967D2;\n",
              "      height: 32px;\n",
              "      padding: 0 0 0 0;\n",
              "      width: 32px;\n",
              "    }\n",
              "\n",
              "    .colab-df-convert:hover {\n",
              "      background-color: #E2EBFA;\n",
              "      box-shadow: 0px 1px 2px rgba(60, 64, 67, 0.3), 0px 1px 3px 1px rgba(60, 64, 67, 0.15);\n",
              "      fill: #174EA6;\n",
              "    }\n",
              "\n",
              "    [theme=dark] .colab-df-convert {\n",
              "      background-color: #3B4455;\n",
              "      fill: #D2E3FC;\n",
              "    }\n",
              "\n",
              "    [theme=dark] .colab-df-convert:hover {\n",
              "      background-color: #434B5C;\n",
              "      box-shadow: 0px 1px 3px 1px rgba(0, 0, 0, 0.15);\n",
              "      filter: drop-shadow(0px 1px 2px rgba(0, 0, 0, 0.3));\n",
              "      fill: #FFFFFF;\n",
              "    }\n",
              "  </style>\n",
              "\n",
              "      <script>\n",
              "        const buttonEl =\n",
              "          document.querySelector('#df-5f7c1913-fff6-4648-8e46-37adb35fd7e4 button.colab-df-convert');\n",
              "        buttonEl.style.display =\n",
              "          google.colab.kernel.accessAllowed ? 'block' : 'none';\n",
              "\n",
              "        async function convertToInteractive(key) {\n",
              "          const element = document.querySelector('#df-5f7c1913-fff6-4648-8e46-37adb35fd7e4');\n",
              "          const dataTable =\n",
              "            await google.colab.kernel.invokeFunction('convertToInteractive',\n",
              "                                                     [key], {});\n",
              "          if (!dataTable) return;\n",
              "\n",
              "          const docLinkHtml = 'Like what you see? Visit the ' +\n",
              "            '<a target=\"_blank\" href=https://colab.research.google.com/notebooks/data_table.ipynb>data table notebook</a>'\n",
              "            + ' to learn more about interactive tables.';\n",
              "          element.innerHTML = '';\n",
              "          dataTable['output_type'] = 'display_data';\n",
              "          await google.colab.output.renderOutput(dataTable, element);\n",
              "          const docLink = document.createElement('div');\n",
              "          docLink.innerHTML = docLinkHtml;\n",
              "          element.appendChild(docLink);\n",
              "        }\n",
              "      </script>\n",
              "    </div>\n",
              "  </div>\n",
              "  "
            ],
            "text/plain": [
              "                                                                                                                            tweet  label\n",
              "0                           massive surge covid deaths immediately vaccine rollout way entirety pandemic point fuck jabs dr death      1\n",
              "1                                                    required vaccines school parents guardians children school exclusion letters      0\n",
              "2                                                                                             two johnson county children measles      0\n",
              "3                                                                                    nv better states best worst vaccinating kids      2\n",
              "4                                               nothing like killing fear mt vaccine fears fueled resurgence preventable diseases      2\n",
              "...                                                                                                                           ...    ...\n",
              "2277                                                rt number measles cases reported cali year high officials say uggh good thing      0\n",
              "2278                                                   evidence points idea measles affects immune system two three years disease      0\n",
              "2279                                                                                           where's vaccinate kids two minutes      2\n",
              "2280                                    favorite people autism that's reason bringing back diseases eviscerated fuck vaccineswork      2\n",
              "2281  coronavirus married couple behind successful pfizer covid vaccine came germany turkish migrant worker kids inspiring couple      0\n",
              "\n",
              "[2282 rows x 2 columns]"
            ]
          },
          "metadata": {},
          "execution_count": 18
        }
      ]
    },
    {
      "cell_type": "code",
      "source": [
        "test_dataset['tweet'] = test_dataset['tweet'].apply(remove_stopwords)\n",
        "test_dataset"
      ],
      "metadata": {
        "colab": {
          "base_uri": "https://localhost:8080/",
          "height": 424
        },
        "id": "8gGPKw-DUgf3",
        "outputId": "b535e5d3-8ecb-45f6-a6c9-491e72716e30"
      },
      "execution_count": null,
      "outputs": [
        {
          "output_type": "execute_result",
          "data": {
            "text/html": [
              "\n",
              "  <div id=\"df-4dae8393-ead8-4765-b199-143302cfee7e\">\n",
              "    <div class=\"colab-df-container\">\n",
              "      <div>\n",
              "<style scoped>\n",
              "    .dataframe tbody tr th:only-of-type {\n",
              "        vertical-align: middle;\n",
              "    }\n",
              "\n",
              "    .dataframe tbody tr th {\n",
              "        vertical-align: top;\n",
              "    }\n",
              "\n",
              "    .dataframe thead th {\n",
              "        text-align: right;\n",
              "    }\n",
              "</style>\n",
              "<table border=\"1\" class=\"dataframe\">\n",
              "  <thead>\n",
              "    <tr style=\"text-align: right;\">\n",
              "      <th></th>\n",
              "      <th>tweet</th>\n",
              "      <th>label</th>\n",
              "    </tr>\n",
              "  </thead>\n",
              "  <tbody>\n",
              "    <tr>\n",
              "      <th>0</th>\n",
              "      <td>massive surge covid deaths immediately vaccine rollout way entirety pandemic point fuck jabs dr death</td>\n",
              "      <td>1</td>\n",
              "    </tr>\n",
              "    <tr>\n",
              "      <th>1</th>\n",
              "      <td>required vaccines school parents guardians children school exclusion letters</td>\n",
              "      <td>0</td>\n",
              "    </tr>\n",
              "    <tr>\n",
              "      <th>2</th>\n",
              "      <td>two johnson county children measles</td>\n",
              "      <td>0</td>\n",
              "    </tr>\n",
              "    <tr>\n",
              "      <th>3</th>\n",
              "      <td>nv better states best worst vaccinating kids</td>\n",
              "      <td>2</td>\n",
              "    </tr>\n",
              "    <tr>\n",
              "      <th>4</th>\n",
              "      <td>nothing like killing fear mt vaccine fears fueled resurgence preventable diseases</td>\n",
              "      <td>2</td>\n",
              "    </tr>\n",
              "    <tr>\n",
              "      <th>...</th>\n",
              "      <td>...</td>\n",
              "      <td>...</td>\n",
              "    </tr>\n",
              "    <tr>\n",
              "      <th>2277</th>\n",
              "      <td>rt number measles cases reported cali year high officials say uggh good thing</td>\n",
              "      <td>0</td>\n",
              "    </tr>\n",
              "    <tr>\n",
              "      <th>2278</th>\n",
              "      <td>evidence points idea measles affects immune system two three years disease</td>\n",
              "      <td>0</td>\n",
              "    </tr>\n",
              "    <tr>\n",
              "      <th>2279</th>\n",
              "      <td>where's vaccinate kids two minutes</td>\n",
              "      <td>2</td>\n",
              "    </tr>\n",
              "    <tr>\n",
              "      <th>2280</th>\n",
              "      <td>favorite people autism that's reason bringing back diseases eviscerated fuck vaccineswork</td>\n",
              "      <td>2</td>\n",
              "    </tr>\n",
              "    <tr>\n",
              "      <th>2281</th>\n",
              "      <td>coronavirus married couple behind successful pfizer covid vaccine came germany turkish migrant worker kids inspiring couple</td>\n",
              "      <td>0</td>\n",
              "    </tr>\n",
              "  </tbody>\n",
              "</table>\n",
              "<p>2282 rows × 2 columns</p>\n",
              "</div>\n",
              "      <button class=\"colab-df-convert\" onclick=\"convertToInteractive('df-4dae8393-ead8-4765-b199-143302cfee7e')\"\n",
              "              title=\"Convert this dataframe to an interactive table.\"\n",
              "              style=\"display:none;\">\n",
              "        \n",
              "  <svg xmlns=\"http://www.w3.org/2000/svg\" height=\"24px\"viewBox=\"0 0 24 24\"\n",
              "       width=\"24px\">\n",
              "    <path d=\"M0 0h24v24H0V0z\" fill=\"none\"/>\n",
              "    <path d=\"M18.56 5.44l.94 2.06.94-2.06 2.06-.94-2.06-.94-.94-2.06-.94 2.06-2.06.94zm-11 1L8.5 8.5l.94-2.06 2.06-.94-2.06-.94L8.5 2.5l-.94 2.06-2.06.94zm10 10l.94 2.06.94-2.06 2.06-.94-2.06-.94-.94-2.06-.94 2.06-2.06.94z\"/><path d=\"M17.41 7.96l-1.37-1.37c-.4-.4-.92-.59-1.43-.59-.52 0-1.04.2-1.43.59L10.3 9.45l-7.72 7.72c-.78.78-.78 2.05 0 2.83L4 21.41c.39.39.9.59 1.41.59.51 0 1.02-.2 1.41-.59l7.78-7.78 2.81-2.81c.8-.78.8-2.07 0-2.86zM5.41 20L4 18.59l7.72-7.72 1.47 1.35L5.41 20z\"/>\n",
              "  </svg>\n",
              "      </button>\n",
              "      \n",
              "  <style>\n",
              "    .colab-df-container {\n",
              "      display:flex;\n",
              "      flex-wrap:wrap;\n",
              "      gap: 12px;\n",
              "    }\n",
              "\n",
              "    .colab-df-convert {\n",
              "      background-color: #E8F0FE;\n",
              "      border: none;\n",
              "      border-radius: 50%;\n",
              "      cursor: pointer;\n",
              "      display: none;\n",
              "      fill: #1967D2;\n",
              "      height: 32px;\n",
              "      padding: 0 0 0 0;\n",
              "      width: 32px;\n",
              "    }\n",
              "\n",
              "    .colab-df-convert:hover {\n",
              "      background-color: #E2EBFA;\n",
              "      box-shadow: 0px 1px 2px rgba(60, 64, 67, 0.3), 0px 1px 3px 1px rgba(60, 64, 67, 0.15);\n",
              "      fill: #174EA6;\n",
              "    }\n",
              "\n",
              "    [theme=dark] .colab-df-convert {\n",
              "      background-color: #3B4455;\n",
              "      fill: #D2E3FC;\n",
              "    }\n",
              "\n",
              "    [theme=dark] .colab-df-convert:hover {\n",
              "      background-color: #434B5C;\n",
              "      box-shadow: 0px 1px 3px 1px rgba(0, 0, 0, 0.15);\n",
              "      filter: drop-shadow(0px 1px 2px rgba(0, 0, 0, 0.3));\n",
              "      fill: #FFFFFF;\n",
              "    }\n",
              "  </style>\n",
              "\n",
              "      <script>\n",
              "        const buttonEl =\n",
              "          document.querySelector('#df-4dae8393-ead8-4765-b199-143302cfee7e button.colab-df-convert');\n",
              "        buttonEl.style.display =\n",
              "          google.colab.kernel.accessAllowed ? 'block' : 'none';\n",
              "\n",
              "        async function convertToInteractive(key) {\n",
              "          const element = document.querySelector('#df-4dae8393-ead8-4765-b199-143302cfee7e');\n",
              "          const dataTable =\n",
              "            await google.colab.kernel.invokeFunction('convertToInteractive',\n",
              "                                                     [key], {});\n",
              "          if (!dataTable) return;\n",
              "\n",
              "          const docLinkHtml = 'Like what you see? Visit the ' +\n",
              "            '<a target=\"_blank\" href=https://colab.research.google.com/notebooks/data_table.ipynb>data table notebook</a>'\n",
              "            + ' to learn more about interactive tables.';\n",
              "          element.innerHTML = '';\n",
              "          dataTable['output_type'] = 'display_data';\n",
              "          await google.colab.output.renderOutput(dataTable, element);\n",
              "          const docLink = document.createElement('div');\n",
              "          docLink.innerHTML = docLinkHtml;\n",
              "          element.appendChild(docLink);\n",
              "        }\n",
              "      </script>\n",
              "    </div>\n",
              "  </div>\n",
              "  "
            ],
            "text/plain": [
              "                                                                                                                            tweet  label\n",
              "0                           massive surge covid deaths immediately vaccine rollout way entirety pandemic point fuck jabs dr death      1\n",
              "1                                                    required vaccines school parents guardians children school exclusion letters      0\n",
              "2                                                                                             two johnson county children measles      0\n",
              "3                                                                                    nv better states best worst vaccinating kids      2\n",
              "4                                               nothing like killing fear mt vaccine fears fueled resurgence preventable diseases      2\n",
              "...                                                                                                                           ...    ...\n",
              "2277                                                rt number measles cases reported cali year high officials say uggh good thing      0\n",
              "2278                                                   evidence points idea measles affects immune system two three years disease      0\n",
              "2279                                                                                           where's vaccinate kids two minutes      2\n",
              "2280                                    favorite people autism that's reason bringing back diseases eviscerated fuck vaccineswork      2\n",
              "2281  coronavirus married couple behind successful pfizer covid vaccine came germany turkish migrant worker kids inspiring couple      0\n",
              "\n",
              "[2282 rows x 2 columns]"
            ]
          },
          "metadata": {},
          "execution_count": 19
        }
      ]
    },
    {
      "cell_type": "markdown",
      "source": [
        "# General model definition\n",
        "\n",
        "We will now define the general model class for all the models we will experiment with (we will pass different parameters to get different layers,neurons and activation functions)."
      ],
      "metadata": {
        "id": "s3FjOwWt8jd9"
      }
    },
    {
      "cell_type": "code",
      "source": [
        "class Model(nn.Module):\n",
        "  def __init__(self, D_in: int, hiddenSizes: list, D_out: int, dropout_probability: int, activation_func: str, activation_func_arg: float = None):\n",
        "    super(Model, self).__init__()\n",
        "    self.linearLayers = []\n",
        "    if len(hiddenSizes) > 0:\n",
        "      self.linearLayers.append(nn.Linear(D_in, hiddenSizes[0], device=device))\n",
        "      for i in range(1, len(hiddenSizes)):\n",
        "        self.linearLayers.append(nn.Linear(hiddenSizes[i-1], hiddenSizes[i], device=device))\n",
        "      self.linearLayers.append(nn.Linear(hiddenSizes[-1], D_out))\n",
        "    else:\n",
        "      self.linearLayers.append(nn.Linear(D_in, D_out, device=device))\n",
        "    self.linearLayers = nn.ModuleList(self.linearLayers)\n",
        "    if activation_func_arg is not None:\n",
        "      self.activation = getattr(nn, activation_func)(activation_func_arg)\n",
        "    else:\n",
        "      self.activation = getattr(nn, activation_func)()\n",
        "    self.dropout = nn.Dropout(p=dropout_probability)\n",
        "\n",
        "  def forward(self, x):\n",
        "    out = self.linearLayers[0](x)\n",
        "    if len(self.linearLayers) > 1:\n",
        "      out = self.activation(out)\n",
        "      out = self.dropout(out)\n",
        "    for i in range(1, len(self.linearLayers)):\n",
        "      out = self.linearLayers[i](out)\n",
        "      if i < len(self.linearLayers) - 1:\n",
        "        out = self.activation(out)\n",
        "        out = self.dropout(out)\n",
        "    return out\n",
        "  \n",
        "  def accuracy(self, data: torch.tensor, true_labels: torch.tensor):\n",
        "    with torch.no_grad():\n",
        "      self.eval()\n",
        "      outputs = self(data)\n",
        "      _, predicted_labels = torch.max(outputs, 1)\n",
        "      total = true_labels.size(0)\n",
        "      correct = (true_labels == predicted_labels).sum().item()\n",
        "      return 100 * correct / total"
      ],
      "metadata": {
        "id": "e5OfObkiDa6U"
      },
      "execution_count": null,
      "outputs": []
    },
    {
      "cell_type": "markdown",
      "source": [
        "And then the training function."
      ],
      "metadata": {
        "id": "9Jq0W4DK3Ef5"
      }
    },
    {
      "cell_type": "code",
      "source": [
        "def train(model: Model, dataloader: torch.utils.data.DataLoader, X_val: torch.tensor, y_val: torch.tensor, learning_rate: float, epochs: int, optimizer: str):\n",
        "  loss_function = nn.CrossEntropyLoss()\n",
        "  opt = getattr(torch.optim, optimizer)(model.parameters(), lr=learning_rate)\n",
        "  print(\"Using optimizer: \", opt)\n",
        "  train_losses = []\n",
        "  validation_losses = []\n",
        "  for epoch in range(epochs):\n",
        "    model.train()\n",
        "    for x_batch, y_batch in dataloader:\n",
        "      y_pred = model(x_batch)\n",
        "      loss = loss_function(y_pred, y_batch)\n",
        "      #Perform backpropagation starting from the loss calculated in this epoch\n",
        "      loss.backward()\n",
        "      #Update model's weights based on the gradients calculated during backprop\n",
        "      opt.step()\n",
        "      #Delete previously stored gradients\n",
        "      opt.zero_grad()\n",
        "    with torch.no_grad():\n",
        "      model.eval()\n",
        "      y_pred = model(X_val)\n",
        "      val_loss = loss_function(y_pred, y_val)\n",
        "      val_acc = model.accuracy(X_val, y_val)\n",
        "      _, y_pred_labels = torch.max(y_pred, 1)\n",
        "      f1 = f1_score(y_val.cpu(), y_pred_labels.cpu(), average='weighted')\n",
        "      print(f\"Epoch {epoch:3}: Loss = {loss.item():.5f} Val_loss = {val_loss:.5f} Val_accuracy = {val_acc:.5f} F1_Score = {f1:.5f}\")\n",
        "      train_losses.append(loss.item())\n",
        "      validation_losses.append(val_loss)\n",
        "  return train_losses, validation_losses"
      ],
      "metadata": {
        "id": "vk2G4ig0KPbN"
      },
      "execution_count": null,
      "outputs": []
    },
    {
      "cell_type": "markdown",
      "source": [
        "We will also define functions for scores computations and also evaluation processes."
      ],
      "metadata": {
        "id": "YRf0cHRL9ACh"
      }
    },
    {
      "cell_type": "code",
      "source": [
        "def plot_loss_vs_epochs(train_losses, val_losses):\n",
        "  assert(len(train_losses) == len(validation_losses))\n",
        "  plt.grid()\n",
        "  plt.plot(list(range(len(train_losses))), train_losses, \"o-\", label=\"Train\")\n",
        "  plt.plot(list(range(len(train_losses))), validation_losses, \"o-\", label=\"Validation\")\n",
        "  plt.xlabel(\"Epochs\")\n",
        "  plt.ylabel(\"Loss\")\n",
        "  plt.legend()\n",
        "  plt.show()"
      ],
      "metadata": {
        "id": "-VEngw-svtzE"
      },
      "execution_count": null,
      "outputs": []
    },
    {
      "cell_type": "code",
      "source": [
        "def evaluate_model(model: Model, X_test, y_test):\n",
        "  with torch.no_grad():\n",
        "    model.eval()\n",
        "    _, y_pred = torch.max(model(X_test), 1)\n",
        "    y_pred = y_pred.cpu()\n",
        "    y_test = y_test.cpu()\n",
        "    print(classification_report(y_test, y_pred))\n",
        "    print(\"Precision:\", precision_score(y_test, y_pred, average='weighted'))\n",
        "    print(\"Recall:\", recall_score(y_test, y_pred, average='weighted'))\n",
        "    print(\"F1 Score:\", f1_score(y_test, y_pred, average='weighted'))\n",
        "    cm = confusion_matrix(y_test, y_pred)\n",
        "    cm_disp = ConfusionMatrixDisplay(confusion_matrix=cm, display_labels=[0, 1, 2])\n",
        "    cm_disp.plot()\n",
        "    plt.show()"
      ],
      "metadata": {
        "id": "f9_480vEUJk5"
      },
      "execution_count": null,
      "outputs": []
    },
    {
      "cell_type": "code",
      "source": [
        "def plot_roc_curve(y_score: torch.tensor, y_test: torch.tensor):\n",
        "  with torch.no_grad():\n",
        "    y_score = softmax(y_score)\n",
        "    y_test = label_binarize(y_test, classes=[0, 1, 2])\n",
        "\n",
        "    fpr, tpr, _ = roc_curve(y_test.ravel(), y_score.ravel())\n",
        "    roc_auc= auc(fpr, tpr)\n",
        "\n",
        "    plt.figure()\n",
        "    plt.plot(\n",
        "        fpr,\n",
        "        tpr,\n",
        "        label=\"micro-average ROC curve (area = {0:0.2f})\".format(roc_auc),\n",
        "        color=\"darkorange\",\n",
        "    )\n",
        "    plt.plot([0, 1], [0, 1], color=\"navy\",lw=2, linestyle=\"--\")\n",
        "    plt.xlim([0.0, 1.0])\n",
        "    plt.ylim([0.0, 1.05])\n",
        "    plt.xlabel(\"False Positive Rate\")\n",
        "    plt.ylabel(\"True Positive Rate\")\n",
        "    plt.legend(loc=\"lower right\")\n",
        "    plt.show()"
      ],
      "metadata": {
        "id": "ncTtrJ_x7xKe"
      },
      "execution_count": null,
      "outputs": []
    },
    {
      "cell_type": "markdown",
      "metadata": {
        "id": "wFXpU-gLDlss"
      },
      "source": [
        "# Model comparison\n",
        "We will make experiments with different feed-forward neural network models and compare each other's performance. The models are sorted from worst to best (best is last)."
      ]
    },
    {
      "cell_type": "markdown",
      "source": [
        "## Model 1: GloVe Wikipedia 300-dimensional word embeddings and Feed Forward NN with 2 hidden layers with 256 neurons each, CrossEntropyLoss function, ReLU activation, Adam optimizer.\n",
        "\n",
        "First of all, we will use pre-trained word embeddings from GloVe and for each tweet's representation, we will take the median of all it's word vectors. I chose the Wikipedia dataset 300-dimensional word-vectors because it gave the best score compared to others. Note that i tried all the available dimensions of word-vectors but the biggest ones gave the best results because of the information they keep due to big dimension."
      ],
      "metadata": {
        "id": "5XMA0ClzQrmY"
      }
    },
    {
      "cell_type": "markdown",
      "source": [
        "**Download GloVe embeddings**"
      ],
      "metadata": {
        "id": "62QPhF7qUwEw"
      }
    },
    {
      "cell_type": "code",
      "source": [
        "!wget https://nlp.stanford.edu/data/glove.6B.zip\n",
        "!unzip glove.6B.zip"
      ],
      "metadata": {
        "colab": {
          "base_uri": "https://localhost:8080/"
        },
        "outputId": "768dc04a-f252-4fa5-d266-6f0f5d289588",
        "id": "gDyxN0AnUwEw"
      },
      "execution_count": 27,
      "outputs": [
        {
          "output_type": "stream",
          "name": "stdout",
          "text": [
            "--2021-12-23 17:38:32--  https://nlp.stanford.edu/data/glove.6B.zip\n",
            "Resolving nlp.stanford.edu (nlp.stanford.edu)... 171.64.67.140\n",
            "Connecting to nlp.stanford.edu (nlp.stanford.edu)|171.64.67.140|:443... connected.\n",
            "HTTP request sent, awaiting response... 301 Moved Permanently\n",
            "Location: http://downloads.cs.stanford.edu/nlp/data/glove.6B.zip [following]\n",
            "--2021-12-23 17:38:33--  http://downloads.cs.stanford.edu/nlp/data/glove.6B.zip\n",
            "Resolving downloads.cs.stanford.edu (downloads.cs.stanford.edu)... 171.64.64.22\n",
            "Connecting to downloads.cs.stanford.edu (downloads.cs.stanford.edu)|171.64.64.22|:80... connected.\n",
            "HTTP request sent, awaiting response... 200 OK\n",
            "Length: 862182613 (822M) [application/zip]\n",
            "Saving to: ‘glove.6B.zip’\n",
            "\n",
            "glove.6B.zip        100%[===================>] 822.24M  5.13MB/s    in 2m 42s  \n",
            "\n",
            "2021-12-23 17:41:15 (5.09 MB/s) - ‘glove.6B.zip’ saved [862182613/862182613]\n",
            "\n",
            "Archive:  glove.6B.zip\n",
            "  inflating: glove.6B.50d.txt        \n",
            "  inflating: glove.6B.100d.txt       \n",
            "  inflating: glove.6B.200d.txt       \n",
            "  inflating: glove.6B.300d.txt       \n"
          ]
        }
      ]
    },
    {
      "cell_type": "markdown",
      "source": [
        "**Create Embeddings Dictionary**"
      ],
      "metadata": {
        "id": "BvV5ZXLUUwEx"
      }
    },
    {
      "cell_type": "code",
      "source": [
        "embed_dict = {}\n",
        "with open('glove.6B.300d.txt') as f:\n",
        "  for line in f:\n",
        "    values = line.split()\n",
        "    word = values[0]\n",
        "    vector = np.asarray(values[1:], 'float32')\n",
        "    embed_dict[word] = vector"
      ],
      "metadata": {
        "id": "aUeDz_TIUwEx"
      },
      "execution_count": 28,
      "outputs": []
    },
    {
      "cell_type": "markdown",
      "source": [
        "**Tweets Vectorization**\n"
      ],
      "metadata": {
        "id": "KdFA2hkyUwEx"
      }
    },
    {
      "cell_type": "code",
      "source": [
        "def vectorize_with_word_embeddings(X_values, y_values, embed_dict):\n",
        "  X = []\n",
        "  y = []\n",
        "  for idx, tweet in enumerate(X_values):\n",
        "    tweet_embeddings = []\n",
        "    for word in tweet.split(' '):\n",
        "      if word in embed_dict:\n",
        "        tweet_embeddings.append(list(embed_dict[word]))\n",
        "    # Ignore tweets that do not have any word embeddings\n",
        "    if len(tweet_embeddings) > 0:\n",
        "      X.append(list(np.mean(tweet_embeddings, axis=0)))\n",
        "      y.append(y_values[idx])\n",
        "  X = torch.tensor(np.asarray(X), dtype=torch.float, device=device)\n",
        "  y = torch.tensor(np.asarray(y), device=device)\n",
        "  print(X.shape, y.shape)\n",
        "  return X, y"
      ],
      "metadata": {
        "id": "m0uRS5OnUwEx"
      },
      "execution_count": 29,
      "outputs": []
    },
    {
      "cell_type": "code",
      "source": [
        "X_train, y_train = vectorize_with_word_embeddings(train_dataset['tweet'].values, train_dataset['label'].values, embed_dict)"
      ],
      "metadata": {
        "colab": {
          "base_uri": "https://localhost:8080/"
        },
        "outputId": "023f7a0f-18e1-4cf2-f88d-9e0c8203d277",
        "id": "miwNJg3RUwEx"
      },
      "execution_count": 81,
      "outputs": [
        {
          "output_type": "stream",
          "name": "stdout",
          "text": [
            "torch.Size([15972, 300]) torch.Size([15972])\n"
          ]
        }
      ]
    },
    {
      "cell_type": "code",
      "source": [
        "X_val, y_val = vectorize_with_word_embeddings(validation_dataset['tweet'].values, validation_dataset['label'].values, embed_dict)"
      ],
      "metadata": {
        "colab": {
          "base_uri": "https://localhost:8080/"
        },
        "outputId": "6acbcab7-d1bd-46e2-bce2-64f1a6adfb11",
        "id": "CmzQZDgNUwEx"
      },
      "execution_count": 82,
      "outputs": [
        {
          "output_type": "stream",
          "name": "stdout",
          "text": [
            "torch.Size([2281, 300]) torch.Size([2281])\n"
          ]
        }
      ]
    },
    {
      "cell_type": "code",
      "source": [
        "X_test, y_test = vectorize_with_word_embeddings(test_dataset['tweet'].values, test_dataset['label'].values, embed_dict)"
      ],
      "metadata": {
        "colab": {
          "base_uri": "https://localhost:8080/"
        },
        "id": "wBBN15TaYxuZ",
        "outputId": "e0ceb55c-03f8-4d39-9483-d5fb1efcb17b"
      },
      "execution_count": 83,
      "outputs": [
        {
          "output_type": "stream",
          "name": "stdout",
          "text": [
            "torch.Size([2281, 300]) torch.Size([2281])\n"
          ]
        }
      ]
    },
    {
      "cell_type": "code",
      "source": [
        "reset_seed()"
      ],
      "metadata": {
        "id": "v1Zbh9AbUwEx"
      },
      "execution_count": 84,
      "outputs": []
    },
    {
      "cell_type": "code",
      "source": [
        "model = Model(X_train.shape[1], [256, 256], 3, dropout_probability=0.7, activation_func=\"ReLU\").to(device)\n",
        "model"
      ],
      "metadata": {
        "colab": {
          "base_uri": "https://localhost:8080/"
        },
        "outputId": "c1179874-5c12-4b85-d841-638083640c60",
        "id": "Zad-r0DIUwEx"
      },
      "execution_count": 85,
      "outputs": [
        {
          "output_type": "execute_result",
          "data": {
            "text/plain": [
              "Model(\n",
              "  (linearLayers): ModuleList(\n",
              "    (0): Linear(in_features=300, out_features=256, bias=True)\n",
              "    (1): Linear(in_features=256, out_features=256, bias=True)\n",
              "    (2): Linear(in_features=256, out_features=3, bias=True)\n",
              "  )\n",
              "  (activation): ReLU()\n",
              "  (dropout): Dropout(p=0.7, inplace=False)\n",
              ")"
            ]
          },
          "metadata": {},
          "execution_count": 85
        }
      ]
    },
    {
      "cell_type": "code",
      "source": [
        "dataset = torch.utils.data.TensorDataset(X_train, y_train)\n",
        "dataloader = torch.utils.data.DataLoader(dataset, batch_size=1024)"
      ],
      "metadata": {
        "id": "faPU3Y6gUwEx"
      },
      "execution_count": 86,
      "outputs": []
    },
    {
      "cell_type": "code",
      "source": [
        "train_losses, validation_losses = train(model, dataloader, X_val, y_val, learning_rate=0.002, epochs=19, optimizer=\"Adam\")"
      ],
      "metadata": {
        "colab": {
          "base_uri": "https://localhost:8080/"
        },
        "outputId": "2e0d0daa-6bcb-440d-efbe-b546d34fb78a",
        "id": "o_0lxXDBUwEx"
      },
      "execution_count": 87,
      "outputs": [
        {
          "output_type": "stream",
          "name": "stdout",
          "text": [
            "Using optimizer:  Adam (\n",
            "Parameter Group 0\n",
            "    amsgrad: False\n",
            "    betas: (0.9, 0.999)\n",
            "    eps: 1e-08\n",
            "    lr: 0.002\n",
            "    weight_decay: 0\n",
            ")\n",
            "Epoch   0: Loss = 0.85272 Val_loss = 0.82368 Val_accuracy = 63.56861 F1_Score = 0.59296\n",
            "Epoch   1: Loss = 0.78767 Val_loss = 0.76361 Val_accuracy = 67.07584 F1_Score = 0.62691\n",
            "Epoch   2: Loss = 0.75596 Val_loss = 0.74030 Val_accuracy = 67.20737 F1_Score = 0.62845\n",
            "Epoch   3: Loss = 0.73514 Val_loss = 0.72607 Val_accuracy = 67.82113 F1_Score = 0.63498\n",
            "Epoch   4: Loss = 0.74367 Val_loss = 0.71457 Val_accuracy = 68.69794 F1_Score = 0.64300\n",
            "Epoch   5: Loss = 0.71347 Val_loss = 0.70538 Val_accuracy = 68.91714 F1_Score = 0.64827\n",
            "Epoch   6: Loss = 0.70200 Val_loss = 0.70028 Val_accuracy = 69.70627 F1_Score = 0.66611\n",
            "Epoch   7: Loss = 0.69278 Val_loss = 0.69487 Val_accuracy = 70.67076 F1_Score = 0.69313\n",
            "Epoch   8: Loss = 0.66670 Val_loss = 0.68952 Val_accuracy = 70.75844 F1_Score = 0.69694\n",
            "Epoch   9: Loss = 0.66542 Val_loss = 0.68452 Val_accuracy = 70.84612 F1_Score = 0.70006\n",
            "Epoch  10: Loss = 0.66640 Val_loss = 0.68156 Val_accuracy = 71.45989 F1_Score = 0.71115\n",
            "Epoch  11: Loss = 0.63360 Val_loss = 0.68295 Val_accuracy = 70.97764 F1_Score = 0.70755\n",
            "Epoch  12: Loss = 0.63811 Val_loss = 0.68007 Val_accuracy = 71.28452 F1_Score = 0.70648\n",
            "Epoch  13: Loss = 0.60214 Val_loss = 0.67319 Val_accuracy = 72.11749 F1_Score = 0.71730\n",
            "Epoch  14: Loss = 0.61747 Val_loss = 0.67090 Val_accuracy = 71.81061 F1_Score = 0.71079\n",
            "Epoch  15: Loss = 0.60448 Val_loss = 0.67232 Val_accuracy = 71.94213 F1_Score = 0.71402\n",
            "Epoch  16: Loss = 0.59607 Val_loss = 0.67322 Val_accuracy = 71.89829 F1_Score = 0.71476\n",
            "Epoch  17: Loss = 0.58409 Val_loss = 0.66840 Val_accuracy = 72.64358 F1_Score = 0.72346\n",
            "Epoch  18: Loss = 0.57841 Val_loss = 0.66862 Val_accuracy = 73.12582 F1_Score = 0.73065\n"
          ]
        }
      ]
    },
    {
      "cell_type": "code",
      "source": [
        "print(f\"Train Accuracy = {model.accuracy(X_train, y_train)}\")\n",
        "print(f\"Test Accuracy = {model.accuracy(X_test, y_test)}\")"
      ],
      "metadata": {
        "colab": {
          "base_uri": "https://localhost:8080/"
        },
        "outputId": "fddb2e1b-2845-4b70-84f6-e409041d8e06",
        "id": "QtElAbISUwEx"
      },
      "execution_count": 88,
      "outputs": [
        {
          "output_type": "stream",
          "name": "stdout",
          "text": [
            "Train Accuracy = 78.39343851740546\n",
            "Test Accuracy = 73.12582200789127\n"
          ]
        }
      ]
    },
    {
      "cell_type": "code",
      "source": [
        "evaluate_model(model, X_test, y_test)"
      ],
      "metadata": {
        "colab": {
          "base_uri": "https://localhost:8080/",
          "height": 507
        },
        "outputId": "c2e5f9d7-1164-4230-e419-f46bbfa35cb6",
        "id": "FmTVaKrTUwEy"
      },
      "execution_count": 89,
      "outputs": [
        {
          "output_type": "stream",
          "name": "stdout",
          "text": [
            "              precision    recall  f1-score   support\n",
            "\n",
            "           0       0.84      0.76      0.80      1064\n",
            "           1       0.53      0.46      0.49       296\n",
            "           2       0.68      0.79      0.73       921\n",
            "\n",
            "    accuracy                           0.73      2281\n",
            "   macro avg       0.68      0.67      0.67      2281\n",
            "weighted avg       0.74      0.73      0.73      2281\n",
            "\n",
            "Precision: 0.7356416186144834\n",
            "Recall: 0.7312582200789127\n",
            "F1 Score: 0.730647307987311\n"
          ]
        },
        {
          "output_type": "display_data",
          "data": {
            "image/png": "[encoded data removed]",
            "text/plain": [
              "<Figure size 432x288 with 2 Axes>"
            ]
          },
          "metadata": {
            "needs_background": "light"
          }
        }
      ]
    },
    {
      "cell_type": "code",
      "source": [
        "plot_loss_vs_epochs(train_losses, validation_losses)"
      ],
      "metadata": {
        "colab": {
          "base_uri": "https://localhost:8080/",
          "height": 279
        },
        "outputId": "3a907035-fba3-4bd1-ff52-c668ecbc01ff",
        "id": "aFpoYDbIUwEy"
      },
      "execution_count": 90,
      "outputs": [
        {
          "output_type": "display_data",
          "data": {
            "image/png": "[encoded data removed]",
            "text/plain": [
              "<Figure size 432x288 with 1 Axes>"
            ]
          },
          "metadata": {
            "needs_background": "light"
          }
        }
      ]
    },
    {
      "cell_type": "code",
      "source": [
        "plot_roc_curve(model(X_test).cpu(), y_test.cpu())"
      ],
      "metadata": {
        "colab": {
          "base_uri": "https://localhost:8080/",
          "height": 279
        },
        "id": "kSddnCM5IbYB",
        "outputId": "5b188c0a-ddc2-4bc6-ea03-b663a1fbd485"
      },
      "execution_count": 91,
      "outputs": [
        {
          "output_type": "display_data",
          "data": {
            "image/png": "[encoded data removed]",
            "text/plain": [
              "<Figure size 432x288 with 1 Axes>"
            ]
          },
          "metadata": {
            "needs_background": "light"
          }
        }
      ]
    },
    {
      "cell_type": "markdown",
      "source": [
        "As you can see, we got a bit better f1 score and more uniformly distributed correct predictions compared to the best softmax regression model from the previous assignment which gave f1_score=0.7296732963585068. This may be because of the more complex and with more degrees model compared to the softmax regression one. That's a good sign."
      ],
      "metadata": {
        "id": "kGCweEnUZKKf"
      }
    },
    {
      "cell_type": "markdown",
      "metadata": {
        "id": "r_z7AneHEI_B"
      },
      "source": [
        "## Model 2: Tf-Idf vectorizer with min_df=4, max_df=0.3 and Feed Forward NN with 1 hidden layer with 2048 neurons, CrossEntropyLoss function, ReLU activation, Adam optimizer.\n",
        "\n",
        "Now, let's try a different approach. I will use the tf-idf vectorizer with the same parameters that i used in the previous assignment, but this time with a feed-forward neural network with the parameters specified above."
      ]
    },
    {
      "cell_type": "markdown",
      "metadata": {
        "id": "x51RureDAkn8"
      },
      "source": [
        "**Text Vectorization**\n",
        "\n",
        "We will convert all the tweets to pytorch tensors in order to be used by our neural network."
      ]
    },
    {
      "cell_type": "code",
      "metadata": {
        "id": "O6xfk7QJAnBC"
      },
      "source": [
        "vectorizer = TfidfVectorizer(min_df=4, max_df=0.3).fit(train_dataset['tweet'].values)"
      ],
      "execution_count": 92,
      "outputs": []
    },
    {
      "cell_type": "code",
      "metadata": {
        "colab": {
          "base_uri": "https://localhost:8080/"
        },
        "id": "xLLaPSGFCdg8",
        "outputId": "0a7d605a-e902-4af3-dbc3-7d2f40f6ec93"
      },
      "source": [
        "X_train = torch.tensor(vectorizer.transform(train_dataset['tweet'].values).todense(), dtype=torch.float, device=device)\n",
        "X_train.shape"
      ],
      "execution_count": 93,
      "outputs": [
        {
          "output_type": "execute_result",
          "data": {
            "text/plain": [
              "torch.Size([15976, 4721])"
            ]
          },
          "metadata": {},
          "execution_count": 93
        }
      ]
    },
    {
      "cell_type": "code",
      "metadata": {
        "colab": {
          "base_uri": "https://localhost:8080/"
        },
        "id": "EfkiGwhBCq4L",
        "outputId": "390e9581-b957-4ee6-eb67-1c94c340014a"
      },
      "source": [
        "y_train = torch.tensor(train_dataset['label'].values, device=device)\n",
        "y_train"
      ],
      "execution_count": 94,
      "outputs": [
        {
          "output_type": "execute_result",
          "data": {
            "text/plain": [
              "tensor([0, 1, 2,  ..., 0, 0, 2], device='cuda:0')"
            ]
          },
          "metadata": {},
          "execution_count": 94
        }
      ]
    },
    {
      "cell_type": "code",
      "metadata": {
        "colab": {
          "base_uri": "https://localhost:8080/"
        },
        "id": "kmEFo3r7CyoL",
        "outputId": "c838887c-f212-4fac-9f26-8eae52e5530f"
      },
      "source": [
        "X_val = torch.tensor(vectorizer.transform(validation_dataset['tweet'].values).todense(), dtype=torch.float, device=device)\n",
        "X_val.shape"
      ],
      "execution_count": 95,
      "outputs": [
        {
          "output_type": "execute_result",
          "data": {
            "text/plain": [
              "torch.Size([2282, 4721])"
            ]
          },
          "metadata": {},
          "execution_count": 95
        }
      ]
    },
    {
      "cell_type": "code",
      "metadata": {
        "colab": {
          "base_uri": "https://localhost:8080/"
        },
        "id": "Cn3fUezFC_CK",
        "outputId": "c7b74e4c-4ddf-427e-db29-d49008fb946d"
      },
      "source": [
        "y_val = torch.tensor(validation_dataset['label'].values, device=device)\n",
        "y_val"
      ],
      "execution_count": 96,
      "outputs": [
        {
          "output_type": "execute_result",
          "data": {
            "text/plain": [
              "tensor([1, 0, 0,  ..., 2, 2, 0], device='cuda:0')"
            ]
          },
          "metadata": {},
          "execution_count": 96
        }
      ]
    },
    {
      "cell_type": "code",
      "source": [
        "X_test = torch.tensor(vectorizer.transform(test_dataset['tweet'].values).todense(), dtype=torch.float, device=device)\n",
        "X_test.shape"
      ],
      "metadata": {
        "colab": {
          "base_uri": "https://localhost:8080/"
        },
        "id": "2V8AqfnocEDd",
        "outputId": "77b801dd-a55a-4c34-9d8b-d7175281d6fc"
      },
      "execution_count": 97,
      "outputs": [
        {
          "output_type": "execute_result",
          "data": {
            "text/plain": [
              "torch.Size([2282, 4721])"
            ]
          },
          "metadata": {},
          "execution_count": 97
        }
      ]
    },
    {
      "cell_type": "code",
      "source": [
        "y_test = torch.tensor(test_dataset['label'].values, device=device)\n",
        "y_test"
      ],
      "metadata": {
        "colab": {
          "base_uri": "https://localhost:8080/"
        },
        "id": "6bDrjk5AcH2d",
        "outputId": "a806b4ff-c505-49c5-dfe2-3f2e81474819"
      },
      "execution_count": 98,
      "outputs": [
        {
          "output_type": "execute_result",
          "data": {
            "text/plain": [
              "tensor([1, 0, 0,  ..., 2, 2, 0], device='cuda:0')"
            ]
          },
          "metadata": {},
          "execution_count": 98
        }
      ]
    },
    {
      "cell_type": "markdown",
      "source": [
        "**Model Definition**"
      ],
      "metadata": {
        "id": "YTnXrhUiB1oc"
      }
    },
    {
      "cell_type": "code",
      "source": [
        "reset_seed()"
      ],
      "metadata": {
        "id": "0bz1Opm1lutC"
      },
      "execution_count": 104,
      "outputs": []
    },
    {
      "cell_type": "code",
      "source": [
        "model = Model(X_train.shape[1], [2048], 3, dropout_probability=0.85, activation_func=\"ReLU\").to(device)\n",
        "model"
      ],
      "metadata": {
        "id": "Xj-TeaQSJch6",
        "colab": {
          "base_uri": "https://localhost:8080/"
        },
        "outputId": "4a07f8a8-6457-47b6-cd03-a3c53a7c6077"
      },
      "execution_count": 105,
      "outputs": [
        {
          "output_type": "execute_result",
          "data": {
            "text/plain": [
              "Model(\n",
              "  (linearLayers): ModuleList(\n",
              "    (0): Linear(in_features=4721, out_features=2048, bias=True)\n",
              "    (1): Linear(in_features=2048, out_features=3, bias=True)\n",
              "  )\n",
              "  (activation): ReLU()\n",
              "  (dropout): Dropout(p=0.85, inplace=False)\n",
              ")"
            ]
          },
          "metadata": {},
          "execution_count": 105
        }
      ]
    },
    {
      "cell_type": "code",
      "source": [
        "dataset = torch.utils.data.TensorDataset(X_train, y_train)\n",
        "dataloader = torch.utils.data.DataLoader(dataset, batch_size=1024)"
      ],
      "metadata": {
        "id": "CSiM5FfmPjBW"
      },
      "execution_count": 106,
      "outputs": []
    },
    {
      "cell_type": "markdown",
      "metadata": {
        "id": "mdUhM_TfJRFC"
      },
      "source": [
        "**Training Phase**"
      ]
    },
    {
      "cell_type": "code",
      "source": [
        "train_losses, validation_losses = train(model, dataloader, X_val, y_val, learning_rate=0.0009, epochs=9, optimizer=\"Adam\")"
      ],
      "metadata": {
        "colab": {
          "base_uri": "https://localhost:8080/"
        },
        "id": "Yz-uC9UZ3ad7",
        "outputId": "085de62a-f572-4ae1-91bd-e3c0cc229949"
      },
      "execution_count": 107,
      "outputs": [
        {
          "output_type": "stream",
          "name": "stdout",
          "text": [
            "Using optimizer:  Adam (\n",
            "Parameter Group 0\n",
            "    amsgrad: False\n",
            "    betas: (0.9, 0.999)\n",
            "    eps: 1e-08\n",
            "    lr: 0.0009\n",
            "    weight_decay: 0\n",
            ")\n",
            "Epoch   0: Loss = 0.96555 Val_loss = 0.94636 Val_accuracy = 59.85977 F1_Score = 0.53555\n",
            "Epoch   1: Loss = 0.83916 Val_loss = 0.82189 Val_accuracy = 68.18580 F1_Score = 0.63412\n",
            "Epoch   2: Loss = 0.70570 Val_loss = 0.72517 Val_accuracy = 68.53637 F1_Score = 0.63871\n",
            "Epoch   3: Loss = 0.63934 Val_loss = 0.69086 Val_accuracy = 68.93076 F1_Score = 0.64613\n",
            "Epoch   4: Loss = 0.56728 Val_loss = 0.67268 Val_accuracy = 71.42857 F1_Score = 0.69460\n",
            "Epoch   5: Loss = 0.52613 Val_loss = 0.66283 Val_accuracy = 72.65557 F1_Score = 0.71811\n",
            "Epoch   6: Loss = 0.47950 Val_loss = 0.66206 Val_accuracy = 72.83085 F1_Score = 0.72357\n",
            "Epoch   7: Loss = 0.44038 Val_loss = 0.66728 Val_accuracy = 73.04996 F1_Score = 0.72743\n",
            "Epoch   8: Loss = 0.42241 Val_loss = 0.67607 Val_accuracy = 73.26906 F1_Score = 0.73029\n"
          ]
        }
      ]
    },
    {
      "cell_type": "markdown",
      "metadata": {
        "id": "q9sb9AFQJ1Jf"
      },
      "source": [
        "**Model Evaluation**"
      ]
    },
    {
      "cell_type": "code",
      "source": [
        "print(f\"Train Accuracy = {model.accuracy(X_train, y_train)}\")\n",
        "print(f\"Test Accuracy = {model.accuracy(X_test, y_test)}\")"
      ],
      "metadata": {
        "colab": {
          "base_uri": "https://localhost:8080/"
        },
        "id": "yp7vmZh2WBtn",
        "outputId": "57f5ef1d-c029-4b36-8d8b-cf6ad9d5cf11"
      },
      "execution_count": 108,
      "outputs": [
        {
          "output_type": "stream",
          "name": "stdout",
          "text": [
            "Train Accuracy = 84.3264897346019\n",
            "Test Accuracy = 73.26906222611744\n"
          ]
        }
      ]
    },
    {
      "cell_type": "code",
      "source": [
        "evaluate_model(model, X_test, y_test)"
      ],
      "metadata": {
        "colab": {
          "base_uri": "https://localhost:8080/",
          "height": 505
        },
        "id": "LI4pRQ6NVTQT",
        "outputId": "35680300-fcf8-45a6-9513-7a60569292c8"
      },
      "execution_count": 109,
      "outputs": [
        {
          "output_type": "stream",
          "name": "stdout",
          "text": [
            "              precision    recall  f1-score   support\n",
            "\n",
            "           0       0.78      0.79      0.78      1065\n",
            "           1       0.64      0.50      0.56       296\n",
            "           2       0.71      0.74      0.72       921\n",
            "\n",
            "    accuracy                           0.73      2282\n",
            "   macro avg       0.71      0.68      0.69      2282\n",
            "weighted avg       0.73      0.73      0.73      2282\n",
            "\n",
            "Precision: 0.7303047871197413\n",
            "Recall: 0.7326906222611744\n",
            "F1 Score: 0.7302920614855655\n"
          ]
        },
        {
          "output_type": "display_data",
          "data": {
            "image/png": "[encoded data removed]",
            "text/plain": [
              "<Figure size 432x288 with 2 Axes>"
            ]
          },
          "metadata": {
            "needs_background": "light"
          }
        }
      ]
    },
    {
      "cell_type": "code",
      "source": [
        "plot_loss_vs_epochs(train_losses, validation_losses)"
      ],
      "metadata": {
        "colab": {
          "base_uri": "https://localhost:8080/",
          "height": 279
        },
        "id": "GqMUjELEwi4A",
        "outputId": "9afab34f-c000-471d-fa28-82db8e211635"
      },
      "execution_count": 110,
      "outputs": [
        {
          "output_type": "display_data",
          "data": {
            "image/png": "[encoded data removed]",
            "text/plain": [
              "<Figure size 432x288 with 1 Axes>"
            ]
          },
          "metadata": {
            "needs_background": "light"
          }
        }
      ]
    },
    {
      "cell_type": "code",
      "source": [
        "plot_roc_curve(model(X_test).cpu(), y_test.cpu())"
      ],
      "metadata": {
        "colab": {
          "base_uri": "https://localhost:8080/",
          "height": 279
        },
        "id": "U5WNpNWhCy4N",
        "outputId": "7de51b43-5ed4-4079-96c4-e22cc61a9e4b"
      },
      "execution_count": 111,
      "outputs": [
        {
          "output_type": "display_data",
          "data": {
            "image/png": "[encoded data removed]",
            "text/plain": [
              "<Figure size 432x288 with 1 Axes>"
            ]
          },
          "metadata": {
            "needs_background": "light"
          }
        }
      ]
    },
    {
      "cell_type": "markdown",
      "source": [
        "As you can see, we got better accuracy score compared to the previous model and also the area under the roc curve is bigger by 0.01 unit. So, i will continue the experiments with this approach."
      ],
      "metadata": {
        "id": "mABGKNqldrRZ"
      }
    },
    {
      "cell_type": "markdown",
      "metadata": {
        "id": "eGP04Pf1akuE"
      },
      "source": [
        "## Model 3 (best model): Tf-Idf vectorizer with min_df=4, max_df=0.3 and Feed Forward NN with 1 hidden layer with 2048 neurons, CrossEntropyLoss function, LeakyReLU activation, Adamax optimizer.\n",
        "\n",
        "After a lot of experiments, i did not managed to increase the f1 score by modifying the neural network neurons, batch size, dropout and learning rate, so i decided to experiment with different optimizer and activation functions. After a few experiments, i managed to increase the f1 score of the previous model by changing the activation function to LeakyReLU with negative slope=0.001, and the optimizer to Adamax. I also changed the training epochs in order to reach a good training point."
      ]
    },
    {
      "cell_type": "markdown",
      "metadata": {
        "id": "RTc2QXlHakuK"
      },
      "source": [
        "**Text Vectorization**\n",
        "\n",
        "We will convert all the tweets to pytorch tensors in order to be used by our neural network."
      ]
    },
    {
      "cell_type": "code",
      "metadata": {
        "id": "KLi79hk_akuK"
      },
      "source": [
        "vectorizer = TfidfVectorizer(min_df=4, max_df=0.3).fit(train_dataset['tweet'].values)"
      ],
      "execution_count": 113,
      "outputs": []
    },
    {
      "cell_type": "code",
      "metadata": {
        "colab": {
          "base_uri": "https://localhost:8080/"
        },
        "outputId": "51bcf365-d8f8-445a-c26d-79304c8f63b4",
        "id": "x9yNmPQTakuK"
      },
      "source": [
        "X_train = torch.tensor(vectorizer.transform(train_dataset['tweet'].values).todense(), dtype=torch.float, device=device)\n",
        "X_train.shape"
      ],
      "execution_count": 114,
      "outputs": [
        {
          "output_type": "execute_result",
          "data": {
            "text/plain": [
              "torch.Size([15976, 4721])"
            ]
          },
          "metadata": {},
          "execution_count": 114
        }
      ]
    },
    {
      "cell_type": "code",
      "metadata": {
        "colab": {
          "base_uri": "https://localhost:8080/"
        },
        "outputId": "5a948dc1-e682-4f4c-e3a7-bbc052a3ce55",
        "id": "ckbOxdegakuK"
      },
      "source": [
        "y_train = torch.tensor(train_dataset['label'].values, device=device)\n",
        "y_train"
      ],
      "execution_count": 115,
      "outputs": [
        {
          "output_type": "execute_result",
          "data": {
            "text/plain": [
              "tensor([0, 1, 2,  ..., 0, 0, 2], device='cuda:0')"
            ]
          },
          "metadata": {},
          "execution_count": 115
        }
      ]
    },
    {
      "cell_type": "code",
      "metadata": {
        "colab": {
          "base_uri": "https://localhost:8080/"
        },
        "outputId": "8f285a15-641b-4400-82ae-f88b905c1c61",
        "id": "n2lee5RnakuL"
      },
      "source": [
        "X_val = torch.tensor(vectorizer.transform(validation_dataset['tweet'].values).todense(), dtype=torch.float, device=device)\n",
        "X_val.shape"
      ],
      "execution_count": 116,
      "outputs": [
        {
          "output_type": "execute_result",
          "data": {
            "text/plain": [
              "torch.Size([2282, 4721])"
            ]
          },
          "metadata": {},
          "execution_count": 116
        }
      ]
    },
    {
      "cell_type": "code",
      "metadata": {
        "colab": {
          "base_uri": "https://localhost:8080/"
        },
        "outputId": "622ced82-3360-40c3-ec38-217636a9b2b2",
        "id": "oTvUpTdiakuL"
      },
      "source": [
        "y_val = torch.tensor(validation_dataset['label'].values, device=device)\n",
        "y_val"
      ],
      "execution_count": 117,
      "outputs": [
        {
          "output_type": "execute_result",
          "data": {
            "text/plain": [
              "tensor([1, 0, 0,  ..., 2, 2, 0], device='cuda:0')"
            ]
          },
          "metadata": {},
          "execution_count": 117
        }
      ]
    },
    {
      "cell_type": "code",
      "source": [
        "X_test = torch.tensor(vectorizer.transform(test_dataset['tweet'].values).todense(), dtype=torch.float, device=device)\n",
        "X_test.shape"
      ],
      "metadata": {
        "colab": {
          "base_uri": "https://localhost:8080/"
        },
        "id": "ddzUoFHCfrZ0",
        "outputId": "ec2d705f-3bc9-47fa-869d-9b0e5cda09ff"
      },
      "execution_count": 118,
      "outputs": [
        {
          "output_type": "execute_result",
          "data": {
            "text/plain": [
              "torch.Size([2282, 4721])"
            ]
          },
          "metadata": {},
          "execution_count": 118
        }
      ]
    },
    {
      "cell_type": "code",
      "source": [
        "y_test = torch.tensor(test_dataset['label'].values, device=device)\n",
        "y_test"
      ],
      "metadata": {
        "colab": {
          "base_uri": "https://localhost:8080/"
        },
        "id": "bxq2VJSbfwRS",
        "outputId": "7cc1f0f7-9617-46a1-8d05-6872bd768044"
      },
      "execution_count": 119,
      "outputs": [
        {
          "output_type": "execute_result",
          "data": {
            "text/plain": [
              "tensor([1, 0, 0,  ..., 2, 2, 0], device='cuda:0')"
            ]
          },
          "metadata": {},
          "execution_count": 119
        }
      ]
    },
    {
      "cell_type": "markdown",
      "source": [
        "**Model Definition**"
      ],
      "metadata": {
        "id": "T4feCnuVakuL"
      }
    },
    {
      "cell_type": "code",
      "source": [
        "reset_seed()"
      ],
      "metadata": {
        "id": "_wU9DxppakuL"
      },
      "execution_count": 120,
      "outputs": []
    },
    {
      "cell_type": "code",
      "source": [
        "model = Model(X_train.shape[1], [2048], 3, dropout_probability=0.85, activation_func=\"LeakyReLU\", activation_func_arg=0.001).to(device)\n",
        "model"
      ],
      "metadata": {
        "colab": {
          "base_uri": "https://localhost:8080/"
        },
        "outputId": "1862874d-1a59-4035-f9ba-5904a396663b",
        "id": "XZuWKQTqakuL"
      },
      "execution_count": 121,
      "outputs": [
        {
          "output_type": "execute_result",
          "data": {
            "text/plain": [
              "Model(\n",
              "  (linearLayers): ModuleList(\n",
              "    (0): Linear(in_features=4721, out_features=2048, bias=True)\n",
              "    (1): Linear(in_features=2048, out_features=3, bias=True)\n",
              "  )\n",
              "  (activation): LeakyReLU(negative_slope=0.001)\n",
              "  (dropout): Dropout(p=0.85, inplace=False)\n",
              ")"
            ]
          },
          "metadata": {},
          "execution_count": 121
        }
      ]
    },
    {
      "cell_type": "code",
      "source": [
        "dataset = torch.utils.data.TensorDataset(X_train, y_train)\n",
        "dataloader = torch.utils.data.DataLoader(dataset, batch_size=1024)"
      ],
      "metadata": {
        "id": "WugPCPuiakuL"
      },
      "execution_count": 122,
      "outputs": []
    },
    {
      "cell_type": "markdown",
      "metadata": {
        "id": "smNnH0QXakuM"
      },
      "source": [
        "**Training Phase**"
      ]
    },
    {
      "cell_type": "code",
      "source": [
        "train_losses, validation_losses = train(model, dataloader, X_val, y_val, learning_rate=0.0009, epochs=23, optimizer=\"Adamax\")"
      ],
      "metadata": {
        "colab": {
          "base_uri": "https://localhost:8080/"
        },
        "outputId": "30719df6-4dd3-46f9-97c6-fc96161a47c1",
        "id": "a89JTkcXakuM"
      },
      "execution_count": 123,
      "outputs": [
        {
          "output_type": "stream",
          "name": "stdout",
          "text": [
            "Using optimizer:  Adamax (\n",
            "Parameter Group 0\n",
            "    betas: (0.9, 0.999)\n",
            "    eps: 1e-08\n",
            "    lr: 0.0009\n",
            "    weight_decay: 0\n",
            ")\n",
            "Epoch   0: Loss = 1.00598 Val_loss = 0.99416 Val_accuracy = 57.09904 F1_Score = 0.49585\n",
            "Epoch   1: Loss = 0.93942 Val_loss = 0.92242 Val_accuracy = 58.76424 F1_Score = 0.52082\n",
            "Epoch   2: Loss = 0.88278 Val_loss = 0.86771 Val_accuracy = 66.38913 F1_Score = 0.61404\n",
            "Epoch   3: Loss = 0.82086 Val_loss = 0.81148 Val_accuracy = 68.05434 F1_Score = 0.63353\n",
            "Epoch   4: Loss = 0.75929 Val_loss = 0.76771 Val_accuracy = 68.40491 F1_Score = 0.63737\n",
            "Epoch   5: Loss = 0.72577 Val_loss = 0.73849 Val_accuracy = 68.75548 F1_Score = 0.64119\n",
            "Epoch   6: Loss = 0.69501 Val_loss = 0.71915 Val_accuracy = 68.84312 F1_Score = 0.64270\n",
            "Epoch   7: Loss = 0.66917 Val_loss = 0.70512 Val_accuracy = 69.10605 F1_Score = 0.64808\n",
            "Epoch   8: Loss = 0.64916 Val_loss = 0.69404 Val_accuracy = 69.63190 F1_Score = 0.65824\n",
            "Epoch   9: Loss = 0.62325 Val_loss = 0.68481 Val_accuracy = 70.11394 F1_Score = 0.67139\n",
            "Epoch  10: Loss = 0.60854 Val_loss = 0.67701 Val_accuracy = 70.94654 F1_Score = 0.68631\n",
            "Epoch  11: Loss = 0.60005 Val_loss = 0.67051 Val_accuracy = 71.47239 F1_Score = 0.69680\n",
            "Epoch  12: Loss = 0.57825 Val_loss = 0.66526 Val_accuracy = 71.95443 F1_Score = 0.70516\n",
            "Epoch  13: Loss = 0.56971 Val_loss = 0.66109 Val_accuracy = 72.43646 F1_Score = 0.71364\n",
            "Epoch  14: Loss = 0.55307 Val_loss = 0.65778 Val_accuracy = 72.48028 F1_Score = 0.71632\n",
            "Epoch  15: Loss = 0.54299 Val_loss = 0.65532 Val_accuracy = 72.65557 F1_Score = 0.71944\n",
            "Epoch  16: Loss = 0.53613 Val_loss = 0.65355 Val_accuracy = 72.96231 F1_Score = 0.72317\n",
            "Epoch  17: Loss = 0.51739 Val_loss = 0.65234 Val_accuracy = 73.13760 F1_Score = 0.72563\n",
            "Epoch  18: Loss = 0.51209 Val_loss = 0.65164 Val_accuracy = 73.31288 F1_Score = 0.72782\n",
            "Epoch  19: Loss = 0.49697 Val_loss = 0.65142 Val_accuracy = 73.53199 F1_Score = 0.73037\n",
            "Epoch  20: Loss = 0.49202 Val_loss = 0.65158 Val_accuracy = 73.44435 F1_Score = 0.72972\n",
            "Epoch  21: Loss = 0.48374 Val_loss = 0.65197 Val_accuracy = 73.66345 F1_Score = 0.73246\n",
            "Epoch  22: Loss = 0.47409 Val_loss = 0.65267 Val_accuracy = 73.79492 F1_Score = 0.73424\n"
          ]
        }
      ]
    },
    {
      "cell_type": "markdown",
      "metadata": {
        "id": "oBBHryJJakuM"
      },
      "source": [
        "**Model Evaluation**"
      ]
    },
    {
      "cell_type": "code",
      "source": [
        "print(f\"Train Accuracy = {model.accuracy(X_train, y_train)}\")\n",
        "print(f\"Test Accuracy = {model.accuracy(X_test, y_test)}\")"
      ],
      "metadata": {
        "colab": {
          "base_uri": "https://localhost:8080/"
        },
        "outputId": "24b580cb-60e3-4267-ce05-296d827eb76a",
        "id": "Kc0m2ibOakuM"
      },
      "execution_count": 124,
      "outputs": [
        {
          "output_type": "stream",
          "name": "stdout",
          "text": [
            "Train Accuracy = 81.8915873810716\n",
            "Test Accuracy = 73.79491673970202\n"
          ]
        }
      ]
    },
    {
      "cell_type": "code",
      "source": [
        "evaluate_model(model, X_test, y_test)"
      ],
      "metadata": {
        "colab": {
          "base_uri": "https://localhost:8080/",
          "height": 505
        },
        "outputId": "7a928bd4-e37c-463c-bf8d-5532c519b580",
        "id": "L-U4AVRAakuM"
      },
      "execution_count": 128,
      "outputs": [
        {
          "output_type": "stream",
          "name": "stdout",
          "text": [
            "              precision    recall  f1-score   support\n",
            "\n",
            "           0       0.78      0.80      0.79      1065\n",
            "           1       0.64      0.47      0.54       296\n",
            "           2       0.71      0.76      0.73       921\n",
            "\n",
            "    accuracy                           0.74      2282\n",
            "   macro avg       0.71      0.67      0.69      2282\n",
            "weighted avg       0.73      0.74      0.73      2282\n",
            "\n",
            "Precision: 0.7347964133252263\n",
            "Recall: 0.7379491673970202\n",
            "F1 Score: 0.734242890146098\n"
          ]
        },
        {
          "output_type": "display_data",
          "data": {
            "image/png": "[encoded data removed]",
            "text/plain": [
              "<Figure size 432x288 with 2 Axes>"
            ]
          },
          "metadata": {
            "needs_background": "light"
          }
        }
      ]
    },
    {
      "cell_type": "code",
      "source": [
        "plot_loss_vs_epochs(train_losses, validation_losses)"
      ],
      "metadata": {
        "colab": {
          "base_uri": "https://localhost:8080/",
          "height": 279
        },
        "outputId": "35b53492-87b0-4cbf-fa84-39557f3ae4c8",
        "id": "tLsCJHJEakuM"
      },
      "execution_count": 126,
      "outputs": [
        {
          "output_type": "display_data",
          "data": {
            "image/png": "[encoded data removed]",
            "text/plain": [
              "<Figure size 432x288 with 1 Axes>"
            ]
          },
          "metadata": {
            "needs_background": "light"
          }
        }
      ]
    },
    {
      "cell_type": "code",
      "source": [
        "plot_roc_curve(model(X_test).cpu(), y_test.cpu())"
      ],
      "metadata": {
        "colab": {
          "base_uri": "https://localhost:8080/",
          "height": 279
        },
        "outputId": "fd57b9a1-c9e3-4f2f-f9c6-1a3fbb643c8e",
        "id": "nwNvvwjhakuM"
      },
      "execution_count": 127,
      "outputs": [
        {
          "output_type": "display_data",
          "data": {
            "image/png": "[encoded data removed]",
            "text/plain": [
              "<Figure size 432x288 with 1 Axes>"
            ]
          },
          "metadata": {
            "needs_background": "light"
          }
        }
      ]
    },
    {
      "cell_type": "markdown",
      "source": [
        "As you can see, we got bigger f1 score and true predictions compared to the previous models, but i didn't manage to get a higher score, because these algorithms are not the best for text processing as they do not keep the order of the words in the text which is very important, but we know that LSTMs do and i will experiment with those in the next assignment. Also, regarding to the loss function, i didn't try another one, because we know CrossEntropyLoss is the best for multi-class problems."
      ],
      "metadata": {
        "id": "UmauVZAegd7B"
      }
    }
  ]
}