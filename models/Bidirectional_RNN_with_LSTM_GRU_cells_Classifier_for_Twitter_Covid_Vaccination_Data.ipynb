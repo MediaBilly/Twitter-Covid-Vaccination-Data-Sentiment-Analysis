{
  "nbformat": 4,
  "nbformat_minor": 0,
  "metadata": {
    "colab": {
      "name": "BEST_Bidirectional RNN with LSTM_GRU cells Classifier for Twitter Covid Vaccination Data.ipynb",
      "provenance": [],
      "collapsed_sections": []
    },
    "kernelspec": {
      "name": "python3",
      "display_name": "Python 3"
    },
    "language_info": {
      "name": "python"
    },
    "accelerator": "GPU"
  },
  "cells": [
    {
      "cell_type": "markdown",
      "metadata": {
        "id": "SsvRJ0eZ00qR"
      },
      "source": [
        "# Bidirectional RNN with LSTM/GRU cells Classifier for Twitter Covid Vaccination Data"
      ]
    },
    {
      "cell_type": "markdown",
      "source": [
        "**GPU info**\n",
        "\n",
        "To get the same results (best ones) you should have a Tesla T4 GPU. Because google colab does not give you the same GPU every time, you must keep closing and re-opening sessions until you get a Tesla T4 GPU like the one below."
      ],
      "metadata": {
        "id": "wX3EO93se9Ih"
      }
    },
    {
      "cell_type": "code",
      "source": [
        "!nvidia-smi"
      ],
      "metadata": {
        "colab": {
          "base_uri": "https://localhost:8080/"
        },
        "id": "EzSxq8yrNoZq",
        "outputId": "509ba92d-388a-40ef-8b46-4692d02b455c"
      },
      "execution_count": 1,
      "outputs": [
        {
          "output_type": "stream",
          "name": "stdout",
          "text": [
            "Sun Jan 30 16:38:38 2022       \n",
            "+-----------------------------------------------------------------------------+\n",
            "| NVIDIA-SMI 495.46       Driver Version: 460.32.03    CUDA Version: 11.2     |\n",
            "|-------------------------------+----------------------+----------------------+\n",
            "| GPU  Name        Persistence-M| Bus-Id        Disp.A | Volatile Uncorr. ECC |\n",
            "| Fan  Temp  Perf  Pwr:Usage/Cap|         Memory-Usage | GPU-Util  Compute M. |\n",
            "|                               |                      |               MIG M. |\n",
            "|===============================+======================+======================|\n",
            "|   0  Tesla T4            Off  | 00000000:00:04.0 Off |                    0 |\n",
            "| N/A   34C    P8     9W /  70W |      0MiB / 15109MiB |      0%      Default |\n",
            "|                               |                      |                  N/A |\n",
            "+-------------------------------+----------------------+----------------------+\n",
            "                                                                               \n",
            "+-----------------------------------------------------------------------------+\n",
            "| Processes:                                                                  |\n",
            "|  GPU   GI   CI        PID   Type   Process name                  GPU Memory |\n",
            "|        ID   ID                                                   Usage      |\n",
            "|=============================================================================|\n",
            "|  No running processes found                                                 |\n",
            "+-----------------------------------------------------------------------------+\n"
          ]
        }
      ]
    },
    {
      "cell_type": "markdown",
      "metadata": {
        "id": "Mo3YJm8vbhry"
      },
      "source": [
        "**Mount Google Drive(to read the datasets)**\n",
        "\n",
        "We will first mount the google drive storage to load the datasets. It is not necessary, but I did it this way in order to avoid uploading them every time. If you want, you can upload yours and just change the import paths. "
      ]
    },
    {
      "cell_type": "code",
      "metadata": {
        "id": "WTDa84f8bpAv",
        "colab": {
          "base_uri": "https://localhost:8080/"
        },
        "outputId": "a70c6602-d7a1-4fe4-db50-50d03070c4ba"
      },
      "source": [
        "from google.colab import drive\n",
        "drive.mount('/content/gdrive')"
      ],
      "execution_count": null,
      "outputs": [
        {
          "output_type": "stream",
          "name": "stdout",
          "text": [
            "Mounted at /content/gdrive\n"
          ]
        }
      ]
    },
    {
      "cell_type": "markdown",
      "metadata": {
        "id": "_IyhkUqxZfj6"
      },
      "source": [
        "**Import necessary libraries**\n",
        "\n",
        "Then, we will import the necessary libraries\n"
      ]
    },
    {
      "cell_type": "code",
      "metadata": {
        "id": "HnMC3BgPZgpI"
      },
      "source": [
        "import pandas as pd\n",
        "import re\n",
        "import random\n",
        "import nltk\n",
        "from nltk.corpus import stopwords\n",
        "import numpy as np\n",
        "import matplotlib.pyplot as plt\n",
        "import torch\n",
        "import torch.nn as nn\n",
        "from enum import Enum\n",
        "from torchtext.legacy import data\n",
        "from torchtext.vocab import GloVe\n",
        "from sklearn.preprocessing import label_binarize\n",
        "from scipy.special import softmax\n",
        "from sklearn.metrics import classification_report, confusion_matrix, ConfusionMatrixDisplay, f1_score, precision_score, recall_score, roc_curve, auc\n",
        "\n",
        "pd.set_option('max_colwidth', 500)\n",
        "%matplotlib inline"
      ],
      "execution_count": 2,
      "outputs": []
    },
    {
      "cell_type": "markdown",
      "source": [
        "**Enable CUDA**\n",
        "\n",
        "Enable CUDA for GPU utilization by our model. This makes calculations and thus the training of our models faster."
      ],
      "metadata": {
        "id": "dNq9VnAmCXM1"
      }
    },
    {
      "cell_type": "code",
      "source": [
        "device = torch.device('cuda:0' if torch.cuda.is_available() else 'cpu')\n",
        "device"
      ],
      "metadata": {
        "colab": {
          "base_uri": "https://localhost:8080/"
        },
        "id": "T8n9SLO_Ctc1",
        "outputId": "f4417268-962b-44c6-ce46-5ff74a3a3d49"
      },
      "execution_count": 3,
      "outputs": [
        {
          "output_type": "execute_result",
          "data": {
            "text/plain": [
              "device(type='cuda', index=0)"
            ]
          },
          "metadata": {},
          "execution_count": 3
        }
      ]
    },
    {
      "cell_type": "markdown",
      "source": [
        "**Set random seed**\n",
        "\n",
        "Set a constant random seed in order to get the same (deterministic) outputs every time we run our models."
      ],
      "metadata": {
        "id": "VZWp8YvIpxrm"
      }
    },
    {
      "cell_type": "code",
      "source": [
        "seed = 17064\n",
        "def reset_seed():\n",
        "  random.seed(seed)\n",
        "  np.random.seed(seed)\n",
        "  torch.manual_seed(seed)\n",
        "  torch.cuda.manual_seed_all(seed)\n",
        "reset_seed()"
      ],
      "metadata": {
        "id": "DhL4vwzyp_Xz"
      },
      "execution_count": 4,
      "outputs": []
    },
    {
      "cell_type": "markdown",
      "metadata": {
        "id": "mFB6BeT9ZiMR"
      },
      "source": [
        "# Dataset loading\n",
        "Now, let's load our datasets:"
      ]
    },
    {
      "cell_type": "markdown",
      "metadata": {
        "id": "CR7cWQ842B9t"
      },
      "source": [
        "**Train Dataset**"
      ]
    },
    {
      "cell_type": "code",
      "metadata": {
        "colab": {
          "base_uri": "https://localhost:8080/",
          "height": 424
        },
        "id": "Ppcm9wQAZ6vu",
        "outputId": "61f3f88d-f01c-4275-8106-b48d74a0d6cf"
      },
      "source": [
        "train_dataset = pd.read_csv('gdrive/MyDrive/NLP exercises/Datasets/Twitter Covid Vaccination data/vs_train.csv')\n",
        "train_dataset.drop(['Unnamed: 0'], axis=1, inplace=True)\n",
        "train_dataset"
      ],
      "execution_count": 5,
      "outputs": [
        {
          "output_type": "execute_result",
          "data": {
            "text/html": [
              "\n",
              "  <div id=\"df-7515b78c-2cf5-4cf2-bcf4-2a7007ae789f\">\n",
              "    <div class=\"colab-df-container\">\n",
              "      <div>\n",
              "<style scoped>\n",
              "    .dataframe tbody tr th:only-of-type {\n",
              "        vertical-align: middle;\n",
              "    }\n",
              "\n",
              "    .dataframe tbody tr th {\n",
              "        vertical-align: top;\n",
              "    }\n",
              "\n",
              "    .dataframe thead th {\n",
              "        text-align: right;\n",
              "    }\n",
              "</style>\n",
              "<table border=\"1\" class=\"dataframe\">\n",
              "  <thead>\n",
              "    <tr style=\"text-align: right;\">\n",
              "      <th></th>\n",
              "      <th>tweet</th>\n",
              "      <th>label</th>\n",
              "    </tr>\n",
              "  </thead>\n",
              "  <tbody>\n",
              "    <tr>\n",
              "      <th>0</th>\n",
              "      <td>Sip N Shop Come thru right now #Marjais #PopularNobodies #MMR 🙌🙌🙌🙌 @ Marjais SipNShop http://t.co/JfWAH7uzWE</td>\n",
              "      <td>0</td>\n",
              "    </tr>\n",
              "    <tr>\n",
              "      <th>1</th>\n",
              "      <td>I don't know about you but My family and I will not take the #Covid19 vaccine anytime soon...</td>\n",
              "      <td>1</td>\n",
              "    </tr>\n",
              "    <tr>\n",
              "      <th>2</th>\n",
              "      <td>@MSignorile Immunizations should be mandatory. Period. In Oklahoma, they won't let kids go to school without them. It's dangerous otherwise!</td>\n",
              "      <td>2</td>\n",
              "    </tr>\n",
              "    <tr>\n",
              "      <th>3</th>\n",
              "      <td>President Obama spoke in favor of vaccination for children. Fox will start telling its viewers to \"choose\" against vaccination in 3,2,1...</td>\n",
              "      <td>0</td>\n",
              "    </tr>\n",
              "    <tr>\n",
              "      <th>4</th>\n",
              "      <td>\"@myfoxla: Arizona monitoring hundreds for measles linked to Disneyland http://t.co/tEoU2zAQat\" It's a Small World After All.</td>\n",
              "      <td>0</td>\n",
              "    </tr>\n",
              "    <tr>\n",
              "      <th>...</th>\n",
              "      <td>...</td>\n",
              "      <td>...</td>\n",
              "    </tr>\n",
              "    <tr>\n",
              "      <th>15971</th>\n",
              "      <td>@Salon if u believe the anti-vax nutcases caused measles u are ignoring the Obama illegal children who streamed to the US. coincidence?</td>\n",
              "      <td>1</td>\n",
              "    </tr>\n",
              "    <tr>\n",
              "      <th>15972</th>\n",
              "      <td>How do you feel about parents who don't #vaccinate their kids?\\r\\nhttps://t.co/k3O7Al8Au3\\r\\n#MeaslesOutbreak</td>\n",
              "      <td>0</td>\n",
              "    </tr>\n",
              "    <tr>\n",
              "      <th>15973</th>\n",
              "      <td>70 Preschoolers Tested for Measles in Simi Valley http://t.co/pTRjYu8SVr</td>\n",
              "      <td>0</td>\n",
              "    </tr>\n",
              "    <tr>\n",
              "      <th>15974</th>\n",
              "      <td>Finance Minister: Budget offers room to procure COVID-19 vaccines, if available https://t.co/VLdKXat3NJ</td>\n",
              "      <td>0</td>\n",
              "    </tr>\n",
              "    <tr>\n",
              "      <th>15975</th>\n",
              "      <td>Are you up to date on vaccines? Take CDC’s vaccine quiz to find out which vaccines are right for you. https://t.co/3OhDVEHE0V</td>\n",
              "      <td>2</td>\n",
              "    </tr>\n",
              "  </tbody>\n",
              "</table>\n",
              "<p>15976 rows × 2 columns</p>\n",
              "</div>\n",
              "      <button class=\"colab-df-convert\" onclick=\"convertToInteractive('df-7515b78c-2cf5-4cf2-bcf4-2a7007ae789f')\"\n",
              "              title=\"Convert this dataframe to an interactive table.\"\n",
              "              style=\"display:none;\">\n",
              "        \n",
              "  <svg xmlns=\"http://www.w3.org/2000/svg\" height=\"24px\"viewBox=\"0 0 24 24\"\n",
              "       width=\"24px\">\n",
              "    <path d=\"M0 0h24v24H0V0z\" fill=\"none\"/>\n",
              "    <path d=\"M18.56 5.44l.94 2.06.94-2.06 2.06-.94-2.06-.94-.94-2.06-.94 2.06-2.06.94zm-11 1L8.5 8.5l.94-2.06 2.06-.94-2.06-.94L8.5 2.5l-.94 2.06-2.06.94zm10 10l.94 2.06.94-2.06 2.06-.94-2.06-.94-.94-2.06-.94 2.06-2.06.94z\"/><path d=\"M17.41 7.96l-1.37-1.37c-.4-.4-.92-.59-1.43-.59-.52 0-1.04.2-1.43.59L10.3 9.45l-7.72 7.72c-.78.78-.78 2.05 0 2.83L4 21.41c.39.39.9.59 1.41.59.51 0 1.02-.2 1.41-.59l7.78-7.78 2.81-2.81c.8-.78.8-2.07 0-2.86zM5.41 20L4 18.59l7.72-7.72 1.47 1.35L5.41 20z\"/>\n",
              "  </svg>\n",
              "      </button>\n",
              "      \n",
              "  <style>\n",
              "    .colab-df-container {\n",
              "      display:flex;\n",
              "      flex-wrap:wrap;\n",
              "      gap: 12px;\n",
              "    }\n",
              "\n",
              "    .colab-df-convert {\n",
              "      background-color: #E8F0FE;\n",
              "      border: none;\n",
              "      border-radius: 50%;\n",
              "      cursor: pointer;\n",
              "      display: none;\n",
              "      fill: #1967D2;\n",
              "      height: 32px;\n",
              "      padding: 0 0 0 0;\n",
              "      width: 32px;\n",
              "    }\n",
              "\n",
              "    .colab-df-convert:hover {\n",
              "      background-color: #E2EBFA;\n",
              "      box-shadow: 0px 1px 2px rgba(60, 64, 67, 0.3), 0px 1px 3px 1px rgba(60, 64, 67, 0.15);\n",
              "      fill: #174EA6;\n",
              "    }\n",
              "\n",
              "    [theme=dark] .colab-df-convert {\n",
              "      background-color: #3B4455;\n",
              "      fill: #D2E3FC;\n",
              "    }\n",
              "\n",
              "    [theme=dark] .colab-df-convert:hover {\n",
              "      background-color: #434B5C;\n",
              "      box-shadow: 0px 1px 3px 1px rgba(0, 0, 0, 0.15);\n",
              "      filter: drop-shadow(0px 1px 2px rgba(0, 0, 0, 0.3));\n",
              "      fill: #FFFFFF;\n",
              "    }\n",
              "  </style>\n",
              "\n",
              "      <script>\n",
              "        const buttonEl =\n",
              "          document.querySelector('#df-7515b78c-2cf5-4cf2-bcf4-2a7007ae789f button.colab-df-convert');\n",
              "        buttonEl.style.display =\n",
              "          google.colab.kernel.accessAllowed ? 'block' : 'none';\n",
              "\n",
              "        async function convertToInteractive(key) {\n",
              "          const element = document.querySelector('#df-7515b78c-2cf5-4cf2-bcf4-2a7007ae789f');\n",
              "          const dataTable =\n",
              "            await google.colab.kernel.invokeFunction('convertToInteractive',\n",
              "                                                     [key], {});\n",
              "          if (!dataTable) return;\n",
              "\n",
              "          const docLinkHtml = 'Like what you see? Visit the ' +\n",
              "            '<a target=\"_blank\" href=https://colab.research.google.com/notebooks/data_table.ipynb>data table notebook</a>'\n",
              "            + ' to learn more about interactive tables.';\n",
              "          element.innerHTML = '';\n",
              "          dataTable['output_type'] = 'display_data';\n",
              "          await google.colab.output.renderOutput(dataTable, element);\n",
              "          const docLink = document.createElement('div');\n",
              "          docLink.innerHTML = docLinkHtml;\n",
              "          element.appendChild(docLink);\n",
              "        }\n",
              "      </script>\n",
              "    </div>\n",
              "  </div>\n",
              "  "
            ],
            "text/plain": [
              "                                                                                                                                              tweet  label\n",
              "0                                      Sip N Shop Come thru right now #Marjais #PopularNobodies #MMR 🙌🙌🙌🙌 @ Marjais SipNShop http://t.co/JfWAH7uzWE      0\n",
              "1                                                     I don't know about you but My family and I will not take the #Covid19 vaccine anytime soon...      1\n",
              "2      @MSignorile Immunizations should be mandatory. Period. In Oklahoma, they won't let kids go to school without them. It's dangerous otherwise!      2\n",
              "3        President Obama spoke in favor of vaccination for children. Fox will start telling its viewers to \"choose\" against vaccination in 3,2,1...      0\n",
              "4                     \"@myfoxla: Arizona monitoring hundreds for measles linked to Disneyland http://t.co/tEoU2zAQat\" It's a Small World After All.      0\n",
              "...                                                                                                                                             ...    ...\n",
              "15971       @Salon if u believe the anti-vax nutcases caused measles u are ignoring the Obama illegal children who streamed to the US. coincidence?      1\n",
              "15972                                 How do you feel about parents who don't #vaccinate their kids?\\r\\nhttps://t.co/k3O7Al8Au3\\r\\n#MeaslesOutbreak      0\n",
              "15973                                                                      70 Preschoolers Tested for Measles in Simi Valley http://t.co/pTRjYu8SVr      0\n",
              "15974                                       Finance Minister: Budget offers room to procure COVID-19 vaccines, if available https://t.co/VLdKXat3NJ      0\n",
              "15975                 Are you up to date on vaccines? Take CDC’s vaccine quiz to find out which vaccines are right for you. https://t.co/3OhDVEHE0V      2\n",
              "\n",
              "[15976 rows x 2 columns]"
            ]
          },
          "metadata": {},
          "execution_count": 5
        }
      ]
    },
    {
      "cell_type": "markdown",
      "metadata": {
        "id": "oBQh4-s2Z_DW"
      },
      "source": [
        "**Validation Dataset**"
      ]
    },
    {
      "cell_type": "code",
      "metadata": {
        "colab": {
          "base_uri": "https://localhost:8080/",
          "height": 424
        },
        "id": "R-byDRQraCku",
        "outputId": "208d2841-998a-431b-a7f3-bd22a234aec9"
      },
      "source": [
        "validation_dataset = pd.read_csv('gdrive/MyDrive/NLP exercises/Datasets/Twitter Covid Vaccination data/vs_dev.csv')\n",
        "validation_dataset.drop(['Unnamed: 0'], axis=1, inplace=True)\n",
        "validation_dataset"
      ],
      "execution_count": 6,
      "outputs": [
        {
          "output_type": "execute_result",
          "data": {
            "text/html": [
              "\n",
              "  <div id=\"df-59bbdd5a-df8e-4bd3-ae9f-fe801ff47c6d\">\n",
              "    <div class=\"colab-df-container\">\n",
              "      <div>\n",
              "<style scoped>\n",
              "    .dataframe tbody tr th:only-of-type {\n",
              "        vertical-align: middle;\n",
              "    }\n",
              "\n",
              "    .dataframe tbody tr th {\n",
              "        vertical-align: top;\n",
              "    }\n",
              "\n",
              "    .dataframe thead th {\n",
              "        text-align: right;\n",
              "    }\n",
              "</style>\n",
              "<table border=\"1\" class=\"dataframe\">\n",
              "  <thead>\n",
              "    <tr style=\"text-align: right;\">\n",
              "      <th></th>\n",
              "      <th>tweet</th>\n",
              "      <th>label</th>\n",
              "    </tr>\n",
              "  </thead>\n",
              "  <tbody>\n",
              "    <tr>\n",
              "      <th>0</th>\n",
              "      <td>@user They had a massive surge in with covid deaths immediately after the vaccine rollout, way more than they had during the entirety of the \"pandemic\" up to that point. Fuck those jabs, Dr.Death.</td>\n",
              "      <td>1</td>\n",
              "    </tr>\n",
              "    <tr>\n",
              "      <th>1</th>\n",
              "      <td>Required vaccines for school: Parents and guardians of children with school exclusion letters now have an... http://t.co/KVl8Dt86dz</td>\n",
              "      <td>0</td>\n",
              "    </tr>\n",
              "    <tr>\n",
              "      <th>2</th>\n",
              "      <td>“@KCStar: Two more Johnson County children have measles http://t.co/Rvx07sc” @sethmnookin</td>\n",
              "      <td>0</td>\n",
              "    </tr>\n",
              "    <tr>\n",
              "      <th>3</th>\n",
              "      <td>NV can do better. Which states are the best (and worst) at vaccinating their kids http://t.co/6GaZGgYA9z http://t.co/pTFRJZ2Tmr\"</td>\n",
              "      <td>2</td>\n",
              "    </tr>\n",
              "    <tr>\n",
              "      <th>4</th>\n",
              "      <td>Nothing like killing ourselves w/ our own fear MT@Alyssa_Milano: Vaccine fears have fueled the resurgence of preventable diseases.</td>\n",
              "      <td>2</td>\n",
              "    </tr>\n",
              "    <tr>\n",
              "      <th>...</th>\n",
              "      <td>...</td>\n",
              "      <td>...</td>\n",
              "    </tr>\n",
              "    <tr>\n",
              "      <th>2277</th>\n",
              "      <td>RT @abc7: Number of measles cases reported in Cali is at a 10-year high,  officials say http://t.co/J4tqBkJl  uggh not a good thing at all!!</td>\n",
              "      <td>0</td>\n",
              "    </tr>\n",
              "    <tr>\n",
              "      <th>2278</th>\n",
              "      <td>Evidence points to the idea that \"measles affects the immune system for two to three years\" after the disease. http://t.co/DbjIQVLQrS</td>\n",
              "      <td>0</td>\n",
              "    </tr>\n",
              "    <tr>\n",
              "      <th>2279</th>\n",
              "      <td>Where's @SavedYouAClick \"@voxdotcom: Why you should vaccinate your kids, in two minutes: http://t.co/HrZPqQERkY\"</td>\n",
              "      <td>2</td>\n",
              "    </tr>\n",
              "    <tr>\n",
              "      <th>2280</th>\n",
              "      <td>Some of my favorite people have autism. If that's your reason for bringing back diseases we have eviscerated, fuck you. #vaccineswork</td>\n",
              "      <td>2</td>\n",
              "    </tr>\n",
              "    <tr>\n",
              "      <th>2281</th>\n",
              "      <td>Coronavirus: The married couple behind the successful Pfizer COVID vaccine | Came to Germany as Turkish Migrant worker kids —- inspiring couple https://t.co/iR4UHRUXFH</td>\n",
              "      <td>0</td>\n",
              "    </tr>\n",
              "  </tbody>\n",
              "</table>\n",
              "<p>2282 rows × 2 columns</p>\n",
              "</div>\n",
              "      <button class=\"colab-df-convert\" onclick=\"convertToInteractive('df-59bbdd5a-df8e-4bd3-ae9f-fe801ff47c6d')\"\n",
              "              title=\"Convert this dataframe to an interactive table.\"\n",
              "              style=\"display:none;\">\n",
              "        \n",
              "  <svg xmlns=\"http://www.w3.org/2000/svg\" height=\"24px\"viewBox=\"0 0 24 24\"\n",
              "       width=\"24px\">\n",
              "    <path d=\"M0 0h24v24H0V0z\" fill=\"none\"/>\n",
              "    <path d=\"M18.56 5.44l.94 2.06.94-2.06 2.06-.94-2.06-.94-.94-2.06-.94 2.06-2.06.94zm-11 1L8.5 8.5l.94-2.06 2.06-.94-2.06-.94L8.5 2.5l-.94 2.06-2.06.94zm10 10l.94 2.06.94-2.06 2.06-.94-2.06-.94-.94-2.06-.94 2.06-2.06.94z\"/><path d=\"M17.41 7.96l-1.37-1.37c-.4-.4-.92-.59-1.43-.59-.52 0-1.04.2-1.43.59L10.3 9.45l-7.72 7.72c-.78.78-.78 2.05 0 2.83L4 21.41c.39.39.9.59 1.41.59.51 0 1.02-.2 1.41-.59l7.78-7.78 2.81-2.81c.8-.78.8-2.07 0-2.86zM5.41 20L4 18.59l7.72-7.72 1.47 1.35L5.41 20z\"/>\n",
              "  </svg>\n",
              "      </button>\n",
              "      \n",
              "  <style>\n",
              "    .colab-df-container {\n",
              "      display:flex;\n",
              "      flex-wrap:wrap;\n",
              "      gap: 12px;\n",
              "    }\n",
              "\n",
              "    .colab-df-convert {\n",
              "      background-color: #E8F0FE;\n",
              "      border: none;\n",
              "      border-radius: 50%;\n",
              "      cursor: pointer;\n",
              "      display: none;\n",
              "      fill: #1967D2;\n",
              "      height: 32px;\n",
              "      padding: 0 0 0 0;\n",
              "      width: 32px;\n",
              "    }\n",
              "\n",
              "    .colab-df-convert:hover {\n",
              "      background-color: #E2EBFA;\n",
              "      box-shadow: 0px 1px 2px rgba(60, 64, 67, 0.3), 0px 1px 3px 1px rgba(60, 64, 67, 0.15);\n",
              "      fill: #174EA6;\n",
              "    }\n",
              "\n",
              "    [theme=dark] .colab-df-convert {\n",
              "      background-color: #3B4455;\n",
              "      fill: #D2E3FC;\n",
              "    }\n",
              "\n",
              "    [theme=dark] .colab-df-convert:hover {\n",
              "      background-color: #434B5C;\n",
              "      box-shadow: 0px 1px 3px 1px rgba(0, 0, 0, 0.15);\n",
              "      filter: drop-shadow(0px 1px 2px rgba(0, 0, 0, 0.3));\n",
              "      fill: #FFFFFF;\n",
              "    }\n",
              "  </style>\n",
              "\n",
              "      <script>\n",
              "        const buttonEl =\n",
              "          document.querySelector('#df-59bbdd5a-df8e-4bd3-ae9f-fe801ff47c6d button.colab-df-convert');\n",
              "        buttonEl.style.display =\n",
              "          google.colab.kernel.accessAllowed ? 'block' : 'none';\n",
              "\n",
              "        async function convertToInteractive(key) {\n",
              "          const element = document.querySelector('#df-59bbdd5a-df8e-4bd3-ae9f-fe801ff47c6d');\n",
              "          const dataTable =\n",
              "            await google.colab.kernel.invokeFunction('convertToInteractive',\n",
              "                                                     [key], {});\n",
              "          if (!dataTable) return;\n",
              "\n",
              "          const docLinkHtml = 'Like what you see? Visit the ' +\n",
              "            '<a target=\"_blank\" href=https://colab.research.google.com/notebooks/data_table.ipynb>data table notebook</a>'\n",
              "            + ' to learn more about interactive tables.';\n",
              "          element.innerHTML = '';\n",
              "          dataTable['output_type'] = 'display_data';\n",
              "          await google.colab.output.renderOutput(dataTable, element);\n",
              "          const docLink = document.createElement('div');\n",
              "          docLink.innerHTML = docLinkHtml;\n",
              "          element.appendChild(docLink);\n",
              "        }\n",
              "      </script>\n",
              "    </div>\n",
              "  </div>\n",
              "  "
            ],
            "text/plain": [
              "                                                                                                                                                                                                     tweet  label\n",
              "0     @user They had a massive surge in with covid deaths immediately after the vaccine rollout, way more than they had during the entirety of the \"pandemic\" up to that point. Fuck those jabs, Dr.Death.      1\n",
              "1                                                                      Required vaccines for school: Parents and guardians of children with school exclusion letters now have an... http://t.co/KVl8Dt86dz      0\n",
              "2                                                                                                                “@KCStar: Two more Johnson County children have measles http://t.co/Rvx07sc” @sethmnookin      0\n",
              "3                                                                         NV can do better. Which states are the best (and worst) at vaccinating their kids http://t.co/6GaZGgYA9z http://t.co/pTFRJZ2Tmr\"      2\n",
              "4                                                                       Nothing like killing ourselves w/ our own fear MT@Alyssa_Milano: Vaccine fears have fueled the resurgence of preventable diseases.      2\n",
              "...                                                                                                                                                                                                    ...    ...\n",
              "2277                                                          RT @abc7: Number of measles cases reported in Cali is at a 10-year high,  officials say http://t.co/J4tqBkJl  uggh not a good thing at all!!      0\n",
              "2278                                                                 Evidence points to the idea that \"measles affects the immune system for two to three years\" after the disease. http://t.co/DbjIQVLQrS      0\n",
              "2279                                                                                      Where's @SavedYouAClick \"@voxdotcom: Why you should vaccinate your kids, in two minutes: http://t.co/HrZPqQERkY\"      2\n",
              "2280                                                                 Some of my favorite people have autism. If that's your reason for bringing back diseases we have eviscerated, fuck you. #vaccineswork      2\n",
              "2281                               Coronavirus: The married couple behind the successful Pfizer COVID vaccine | Came to Germany as Turkish Migrant worker kids —- inspiring couple https://t.co/iR4UHRUXFH      0\n",
              "\n",
              "[2282 rows x 2 columns]"
            ]
          },
          "metadata": {},
          "execution_count": 6
        }
      ]
    },
    {
      "cell_type": "markdown",
      "source": [
        "**Test Dataset**\n",
        "\n",
        "Note: I used the same dataset as the validation, because the assignment's test set was hidden. You can plug your own just by changing the path."
      ],
      "metadata": {
        "id": "wHtpQfhjTqva"
      }
    },
    {
      "cell_type": "code",
      "source": [
        "test_dataset = pd.read_csv('gdrive/MyDrive/NLP exercises/Datasets/Twitter Covid Vaccination data/vs_dev.csv')\n",
        "test_dataset.drop(['Unnamed: 0'], axis=1, inplace=True)\n",
        "test_dataset"
      ],
      "metadata": {
        "colab": {
          "base_uri": "https://localhost:8080/",
          "height": 424
        },
        "id": "QnQqPVGzTr0D",
        "outputId": "09a5e7a2-6cba-4f0d-b8fb-795fd76b415b"
      },
      "execution_count": 7,
      "outputs": [
        {
          "output_type": "execute_result",
          "data": {
            "text/html": [
              "\n",
              "  <div id=\"df-e2b2480a-b305-485e-8032-79753b53d47e\">\n",
              "    <div class=\"colab-df-container\">\n",
              "      <div>\n",
              "<style scoped>\n",
              "    .dataframe tbody tr th:only-of-type {\n",
              "        vertical-align: middle;\n",
              "    }\n",
              "\n",
              "    .dataframe tbody tr th {\n",
              "        vertical-align: top;\n",
              "    }\n",
              "\n",
              "    .dataframe thead th {\n",
              "        text-align: right;\n",
              "    }\n",
              "</style>\n",
              "<table border=\"1\" class=\"dataframe\">\n",
              "  <thead>\n",
              "    <tr style=\"text-align: right;\">\n",
              "      <th></th>\n",
              "      <th>tweet</th>\n",
              "      <th>label</th>\n",
              "    </tr>\n",
              "  </thead>\n",
              "  <tbody>\n",
              "    <tr>\n",
              "      <th>0</th>\n",
              "      <td>@user They had a massive surge in with covid deaths immediately after the vaccine rollout, way more than they had during the entirety of the \"pandemic\" up to that point. Fuck those jabs, Dr.Death.</td>\n",
              "      <td>1</td>\n",
              "    </tr>\n",
              "    <tr>\n",
              "      <th>1</th>\n",
              "      <td>Required vaccines for school: Parents and guardians of children with school exclusion letters now have an... http://t.co/KVl8Dt86dz</td>\n",
              "      <td>0</td>\n",
              "    </tr>\n",
              "    <tr>\n",
              "      <th>2</th>\n",
              "      <td>“@KCStar: Two more Johnson County children have measles http://t.co/Rvx07sc” @sethmnookin</td>\n",
              "      <td>0</td>\n",
              "    </tr>\n",
              "    <tr>\n",
              "      <th>3</th>\n",
              "      <td>NV can do better. Which states are the best (and worst) at vaccinating their kids http://t.co/6GaZGgYA9z http://t.co/pTFRJZ2Tmr\"</td>\n",
              "      <td>2</td>\n",
              "    </tr>\n",
              "    <tr>\n",
              "      <th>4</th>\n",
              "      <td>Nothing like killing ourselves w/ our own fear MT@Alyssa_Milano: Vaccine fears have fueled the resurgence of preventable diseases.</td>\n",
              "      <td>2</td>\n",
              "    </tr>\n",
              "    <tr>\n",
              "      <th>...</th>\n",
              "      <td>...</td>\n",
              "      <td>...</td>\n",
              "    </tr>\n",
              "    <tr>\n",
              "      <th>2277</th>\n",
              "      <td>RT @abc7: Number of measles cases reported in Cali is at a 10-year high,  officials say http://t.co/J4tqBkJl  uggh not a good thing at all!!</td>\n",
              "      <td>0</td>\n",
              "    </tr>\n",
              "    <tr>\n",
              "      <th>2278</th>\n",
              "      <td>Evidence points to the idea that \"measles affects the immune system for two to three years\" after the disease. http://t.co/DbjIQVLQrS</td>\n",
              "      <td>0</td>\n",
              "    </tr>\n",
              "    <tr>\n",
              "      <th>2279</th>\n",
              "      <td>Where's @SavedYouAClick \"@voxdotcom: Why you should vaccinate your kids, in two minutes: http://t.co/HrZPqQERkY\"</td>\n",
              "      <td>2</td>\n",
              "    </tr>\n",
              "    <tr>\n",
              "      <th>2280</th>\n",
              "      <td>Some of my favorite people have autism. If that's your reason for bringing back diseases we have eviscerated, fuck you. #vaccineswork</td>\n",
              "      <td>2</td>\n",
              "    </tr>\n",
              "    <tr>\n",
              "      <th>2281</th>\n",
              "      <td>Coronavirus: The married couple behind the successful Pfizer COVID vaccine | Came to Germany as Turkish Migrant worker kids —- inspiring couple https://t.co/iR4UHRUXFH</td>\n",
              "      <td>0</td>\n",
              "    </tr>\n",
              "  </tbody>\n",
              "</table>\n",
              "<p>2282 rows × 2 columns</p>\n",
              "</div>\n",
              "      <button class=\"colab-df-convert\" onclick=\"convertToInteractive('df-e2b2480a-b305-485e-8032-79753b53d47e')\"\n",
              "              title=\"Convert this dataframe to an interactive table.\"\n",
              "              style=\"display:none;\">\n",
              "        \n",
              "  <svg xmlns=\"http://www.w3.org/2000/svg\" height=\"24px\"viewBox=\"0 0 24 24\"\n",
              "       width=\"24px\">\n",
              "    <path d=\"M0 0h24v24H0V0z\" fill=\"none\"/>\n",
              "    <path d=\"M18.56 5.44l.94 2.06.94-2.06 2.06-.94-2.06-.94-.94-2.06-.94 2.06-2.06.94zm-11 1L8.5 8.5l.94-2.06 2.06-.94-2.06-.94L8.5 2.5l-.94 2.06-2.06.94zm10 10l.94 2.06.94-2.06 2.06-.94-2.06-.94-.94-2.06-.94 2.06-2.06.94z\"/><path d=\"M17.41 7.96l-1.37-1.37c-.4-.4-.92-.59-1.43-.59-.52 0-1.04.2-1.43.59L10.3 9.45l-7.72 7.72c-.78.78-.78 2.05 0 2.83L4 21.41c.39.39.9.59 1.41.59.51 0 1.02-.2 1.41-.59l7.78-7.78 2.81-2.81c.8-.78.8-2.07 0-2.86zM5.41 20L4 18.59l7.72-7.72 1.47 1.35L5.41 20z\"/>\n",
              "  </svg>\n",
              "      </button>\n",
              "      \n",
              "  <style>\n",
              "    .colab-df-container {\n",
              "      display:flex;\n",
              "      flex-wrap:wrap;\n",
              "      gap: 12px;\n",
              "    }\n",
              "\n",
              "    .colab-df-convert {\n",
              "      background-color: #E8F0FE;\n",
              "      border: none;\n",
              "      border-radius: 50%;\n",
              "      cursor: pointer;\n",
              "      display: none;\n",
              "      fill: #1967D2;\n",
              "      height: 32px;\n",
              "      padding: 0 0 0 0;\n",
              "      width: 32px;\n",
              "    }\n",
              "\n",
              "    .colab-df-convert:hover {\n",
              "      background-color: #E2EBFA;\n",
              "      box-shadow: 0px 1px 2px rgba(60, 64, 67, 0.3), 0px 1px 3px 1px rgba(60, 64, 67, 0.15);\n",
              "      fill: #174EA6;\n",
              "    }\n",
              "\n",
              "    [theme=dark] .colab-df-convert {\n",
              "      background-color: #3B4455;\n",
              "      fill: #D2E3FC;\n",
              "    }\n",
              "\n",
              "    [theme=dark] .colab-df-convert:hover {\n",
              "      background-color: #434B5C;\n",
              "      box-shadow: 0px 1px 3px 1px rgba(0, 0, 0, 0.15);\n",
              "      filter: drop-shadow(0px 1px 2px rgba(0, 0, 0, 0.3));\n",
              "      fill: #FFFFFF;\n",
              "    }\n",
              "  </style>\n",
              "\n",
              "      <script>\n",
              "        const buttonEl =\n",
              "          document.querySelector('#df-e2b2480a-b305-485e-8032-79753b53d47e button.colab-df-convert');\n",
              "        buttonEl.style.display =\n",
              "          google.colab.kernel.accessAllowed ? 'block' : 'none';\n",
              "\n",
              "        async function convertToInteractive(key) {\n",
              "          const element = document.querySelector('#df-e2b2480a-b305-485e-8032-79753b53d47e');\n",
              "          const dataTable =\n",
              "            await google.colab.kernel.invokeFunction('convertToInteractive',\n",
              "                                                     [key], {});\n",
              "          if (!dataTable) return;\n",
              "\n",
              "          const docLinkHtml = 'Like what you see? Visit the ' +\n",
              "            '<a target=\"_blank\" href=https://colab.research.google.com/notebooks/data_table.ipynb>data table notebook</a>'\n",
              "            + ' to learn more about interactive tables.';\n",
              "          element.innerHTML = '';\n",
              "          dataTable['output_type'] = 'display_data';\n",
              "          await google.colab.output.renderOutput(dataTable, element);\n",
              "          const docLink = document.createElement('div');\n",
              "          docLink.innerHTML = docLinkHtml;\n",
              "          element.appendChild(docLink);\n",
              "        }\n",
              "      </script>\n",
              "    </div>\n",
              "  </div>\n",
              "  "
            ],
            "text/plain": [
              "                                                                                                                                                                                                     tweet  label\n",
              "0     @user They had a massive surge in with covid deaths immediately after the vaccine rollout, way more than they had during the entirety of the \"pandemic\" up to that point. Fuck those jabs, Dr.Death.      1\n",
              "1                                                                      Required vaccines for school: Parents and guardians of children with school exclusion letters now have an... http://t.co/KVl8Dt86dz      0\n",
              "2                                                                                                                “@KCStar: Two more Johnson County children have measles http://t.co/Rvx07sc” @sethmnookin      0\n",
              "3                                                                         NV can do better. Which states are the best (and worst) at vaccinating their kids http://t.co/6GaZGgYA9z http://t.co/pTFRJZ2Tmr\"      2\n",
              "4                                                                       Nothing like killing ourselves w/ our own fear MT@Alyssa_Milano: Vaccine fears have fueled the resurgence of preventable diseases.      2\n",
              "...                                                                                                                                                                                                    ...    ...\n",
              "2277                                                          RT @abc7: Number of measles cases reported in Cali is at a 10-year high,  officials say http://t.co/J4tqBkJl  uggh not a good thing at all!!      0\n",
              "2278                                                                 Evidence points to the idea that \"measles affects the immune system for two to three years\" after the disease. http://t.co/DbjIQVLQrS      0\n",
              "2279                                                                                      Where's @SavedYouAClick \"@voxdotcom: Why you should vaccinate your kids, in two minutes: http://t.co/HrZPqQERkY\"      2\n",
              "2280                                                                 Some of my favorite people have autism. If that's your reason for bringing back diseases we have eviscerated, fuck you. #vaccineswork      2\n",
              "2281                               Coronavirus: The married couple behind the successful Pfizer COVID vaccine | Came to Germany as Turkish Migrant worker kids —- inspiring couple https://t.co/iR4UHRUXFH      0\n",
              "\n",
              "[2282 rows x 2 columns]"
            ]
          },
          "metadata": {},
          "execution_count": 7
        }
      ]
    },
    {
      "cell_type": "markdown",
      "metadata": {
        "id": "oHZNmvKzhkEj"
      },
      "source": [
        "# Text Preprocessing\n",
        "Now, we will clean our tweets from useless information in order to make a good vectorization later. More specifically, we will remove tags, urls. html symbols like &amp, punctuation (except ' and ’ because we will need them to remove stopwords like it's), underscore(_) characters, whitespace, single characters, numbers, and we will convert the texts to lowercase because all words are the same in both upper and lower cases. Note that we will keep the hashtags(without the # symbol), because they contain useful information about the tweets."
      ]
    },
    {
      "cell_type": "code",
      "metadata": {
        "id": "hd9DBW-tkvFb"
      },
      "source": [
        "def text_preprocessing(text: str):\n",
        "  # Remove tags\n",
        "  text = re.sub(r'@\\s?\\w+',' ',text)\n",
        "  # Remove urls\n",
        "  text = re.sub(r'https?://\\S+',' ',text)\n",
        "  # Remove html symbols\n",
        "  text = re.sub(r'&\\w+', '', text)\n",
        "  # Replace ’ with '\n",
        "  text = re.sub(r'’','\\'', text)\n",
        "  # Remove punctuation(except ' and ’)\n",
        "  text = re.sub(r'[^’\\'\\s\\w]',' ',text)\n",
        "  # Remove underscore characters\n",
        "  text = re.sub(r'_', ' ', text)\n",
        "  # Remove \\r and \\n\n",
        "  text = re.sub(r'[\\r\\n]',' ', text)\n",
        "  # Remove single characters\n",
        "  text = re.sub(r'\\s+[a-zA-Z]\\s+', ' ',text)\n",
        "  # Remove single characters from start\n",
        "  text = re.sub(r'^[a-zA-Z]\\s+', '', text)\n",
        "  # Remove single characters from end\n",
        "  text = re.sub(r'\\s+[a-zA-Z]$', '', text)\n",
        "  # Remove numbers\n",
        "  text = re.sub(r'\\d+','',text)\n",
        "  # Remove single ' and 's\n",
        "  text = re.sub(r'\\'s?', '', text)\n",
        "  # Convert multiple spaces to single space and remove beginning and end spaces\n",
        "  text = re.sub(r' +',' ',text).strip()\n",
        "  # Convert to lowercase\n",
        "  text = text.lower()\n",
        "\n",
        "  return text"
      ],
      "execution_count": 8,
      "outputs": []
    },
    {
      "cell_type": "markdown",
      "metadata": {
        "id": "Sjb_1gU95KMq"
      },
      "source": [
        "**Train Dataset**"
      ]
    },
    {
      "cell_type": "code",
      "metadata": {
        "colab": {
          "base_uri": "https://localhost:8080/",
          "height": 424
        },
        "id": "pvxJgZuUlR1j",
        "outputId": "4b1ed01d-8b73-4e10-97e6-f49fd9486bc4"
      },
      "source": [
        "train_dataset['tweet'] = train_dataset['tweet'].apply(lambda tweet: text_preprocessing(tweet))\n",
        "train_dataset"
      ],
      "execution_count": 9,
      "outputs": [
        {
          "output_type": "execute_result",
          "data": {
            "text/html": [
              "\n",
              "  <div id=\"df-f9de2118-0a65-488b-96a8-49a30726ba30\">\n",
              "    <div class=\"colab-df-container\">\n",
              "      <div>\n",
              "<style scoped>\n",
              "    .dataframe tbody tr th:only-of-type {\n",
              "        vertical-align: middle;\n",
              "    }\n",
              "\n",
              "    .dataframe tbody tr th {\n",
              "        vertical-align: top;\n",
              "    }\n",
              "\n",
              "    .dataframe thead th {\n",
              "        text-align: right;\n",
              "    }\n",
              "</style>\n",
              "<table border=\"1\" class=\"dataframe\">\n",
              "  <thead>\n",
              "    <tr style=\"text-align: right;\">\n",
              "      <th></th>\n",
              "      <th>tweet</th>\n",
              "      <th>label</th>\n",
              "    </tr>\n",
              "  </thead>\n",
              "  <tbody>\n",
              "    <tr>\n",
              "      <th>0</th>\n",
              "      <td>sip shop come thru right now marjais popularnobodies mmr sipnshop</td>\n",
              "      <td>0</td>\n",
              "    </tr>\n",
              "    <tr>\n",
              "      <th>1</th>\n",
              "      <td>dont know about you but my family and will not take the covid vaccine anytime soon</td>\n",
              "      <td>1</td>\n",
              "    </tr>\n",
              "    <tr>\n",
              "      <th>2</th>\n",
              "      <td>immunizations should be mandatory period in oklahoma they wont let kids go to school without them it dangerous otherwise</td>\n",
              "      <td>2</td>\n",
              "    </tr>\n",
              "    <tr>\n",
              "      <th>3</th>\n",
              "      <td>president obama spoke in favor of vaccination for children fox will start telling its viewers to choose against vaccination in</td>\n",
              "      <td>0</td>\n",
              "    </tr>\n",
              "    <tr>\n",
              "      <th>4</th>\n",
              "      <td>arizona monitoring hundreds for measles linked to disneyland it small world after all</td>\n",
              "      <td>0</td>\n",
              "    </tr>\n",
              "    <tr>\n",
              "      <th>...</th>\n",
              "      <td>...</td>\n",
              "      <td>...</td>\n",
              "    </tr>\n",
              "    <tr>\n",
              "      <th>15971</th>\n",
              "      <td>if believe the anti vax nutcases caused measles are ignoring the obama illegal children who streamed to the us coincidence</td>\n",
              "      <td>1</td>\n",
              "    </tr>\n",
              "    <tr>\n",
              "      <th>15972</th>\n",
              "      <td>how do you feel about parents who dont vaccinate their kids measlesoutbreak</td>\n",
              "      <td>0</td>\n",
              "    </tr>\n",
              "    <tr>\n",
              "      <th>15973</th>\n",
              "      <td>preschoolers tested for measles in simi valley</td>\n",
              "      <td>0</td>\n",
              "    </tr>\n",
              "    <tr>\n",
              "      <th>15974</th>\n",
              "      <td>finance minister budget offers room to procure covid vaccines if available</td>\n",
              "      <td>0</td>\n",
              "    </tr>\n",
              "    <tr>\n",
              "      <th>15975</th>\n",
              "      <td>are you up to date on vaccines take cdc vaccine quiz to find out which vaccines are right for you</td>\n",
              "      <td>2</td>\n",
              "    </tr>\n",
              "  </tbody>\n",
              "</table>\n",
              "<p>15976 rows × 2 columns</p>\n",
              "</div>\n",
              "      <button class=\"colab-df-convert\" onclick=\"convertToInteractive('df-f9de2118-0a65-488b-96a8-49a30726ba30')\"\n",
              "              title=\"Convert this dataframe to an interactive table.\"\n",
              "              style=\"display:none;\">\n",
              "        \n",
              "  <svg xmlns=\"http://www.w3.org/2000/svg\" height=\"24px\"viewBox=\"0 0 24 24\"\n",
              "       width=\"24px\">\n",
              "    <path d=\"M0 0h24v24H0V0z\" fill=\"none\"/>\n",
              "    <path d=\"M18.56 5.44l.94 2.06.94-2.06 2.06-.94-2.06-.94-.94-2.06-.94 2.06-2.06.94zm-11 1L8.5 8.5l.94-2.06 2.06-.94-2.06-.94L8.5 2.5l-.94 2.06-2.06.94zm10 10l.94 2.06.94-2.06 2.06-.94-2.06-.94-.94-2.06-.94 2.06-2.06.94z\"/><path d=\"M17.41 7.96l-1.37-1.37c-.4-.4-.92-.59-1.43-.59-.52 0-1.04.2-1.43.59L10.3 9.45l-7.72 7.72c-.78.78-.78 2.05 0 2.83L4 21.41c.39.39.9.59 1.41.59.51 0 1.02-.2 1.41-.59l7.78-7.78 2.81-2.81c.8-.78.8-2.07 0-2.86zM5.41 20L4 18.59l7.72-7.72 1.47 1.35L5.41 20z\"/>\n",
              "  </svg>\n",
              "      </button>\n",
              "      \n",
              "  <style>\n",
              "    .colab-df-container {\n",
              "      display:flex;\n",
              "      flex-wrap:wrap;\n",
              "      gap: 12px;\n",
              "    }\n",
              "\n",
              "    .colab-df-convert {\n",
              "      background-color: #E8F0FE;\n",
              "      border: none;\n",
              "      border-radius: 50%;\n",
              "      cursor: pointer;\n",
              "      display: none;\n",
              "      fill: #1967D2;\n",
              "      height: 32px;\n",
              "      padding: 0 0 0 0;\n",
              "      width: 32px;\n",
              "    }\n",
              "\n",
              "    .colab-df-convert:hover {\n",
              "      background-color: #E2EBFA;\n",
              "      box-shadow: 0px 1px 2px rgba(60, 64, 67, 0.3), 0px 1px 3px 1px rgba(60, 64, 67, 0.15);\n",
              "      fill: #174EA6;\n",
              "    }\n",
              "\n",
              "    [theme=dark] .colab-df-convert {\n",
              "      background-color: #3B4455;\n",
              "      fill: #D2E3FC;\n",
              "    }\n",
              "\n",
              "    [theme=dark] .colab-df-convert:hover {\n",
              "      background-color: #434B5C;\n",
              "      box-shadow: 0px 1px 3px 1px rgba(0, 0, 0, 0.15);\n",
              "      filter: drop-shadow(0px 1px 2px rgba(0, 0, 0, 0.3));\n",
              "      fill: #FFFFFF;\n",
              "    }\n",
              "  </style>\n",
              "\n",
              "      <script>\n",
              "        const buttonEl =\n",
              "          document.querySelector('#df-f9de2118-0a65-488b-96a8-49a30726ba30 button.colab-df-convert');\n",
              "        buttonEl.style.display =\n",
              "          google.colab.kernel.accessAllowed ? 'block' : 'none';\n",
              "\n",
              "        async function convertToInteractive(key) {\n",
              "          const element = document.querySelector('#df-f9de2118-0a65-488b-96a8-49a30726ba30');\n",
              "          const dataTable =\n",
              "            await google.colab.kernel.invokeFunction('convertToInteractive',\n",
              "                                                     [key], {});\n",
              "          if (!dataTable) return;\n",
              "\n",
              "          const docLinkHtml = 'Like what you see? Visit the ' +\n",
              "            '<a target=\"_blank\" href=https://colab.research.google.com/notebooks/data_table.ipynb>data table notebook</a>'\n",
              "            + ' to learn more about interactive tables.';\n",
              "          element.innerHTML = '';\n",
              "          dataTable['output_type'] = 'display_data';\n",
              "          await google.colab.output.renderOutput(dataTable, element);\n",
              "          const docLink = document.createElement('div');\n",
              "          docLink.innerHTML = docLinkHtml;\n",
              "          element.appendChild(docLink);\n",
              "        }\n",
              "      </script>\n",
              "    </div>\n",
              "  </div>\n",
              "  "
            ],
            "text/plain": [
              "                                                                                                                                tweet  label\n",
              "0                                                                   sip shop come thru right now marjais popularnobodies mmr sipnshop      0\n",
              "1                                                  dont know about you but my family and will not take the covid vaccine anytime soon      1\n",
              "2            immunizations should be mandatory period in oklahoma they wont let kids go to school without them it dangerous otherwise      2\n",
              "3      president obama spoke in favor of vaccination for children fox will start telling its viewers to choose against vaccination in      0\n",
              "4                                               arizona monitoring hundreds for measles linked to disneyland it small world after all      0\n",
              "...                                                                                                                               ...    ...\n",
              "15971      if believe the anti vax nutcases caused measles are ignoring the obama illegal children who streamed to the us coincidence      1\n",
              "15972                                                     how do you feel about parents who dont vaccinate their kids measlesoutbreak      0\n",
              "15973                                                                                  preschoolers tested for measles in simi valley      0\n",
              "15974                                                      finance minister budget offers room to procure covid vaccines if available      0\n",
              "15975                               are you up to date on vaccines take cdc vaccine quiz to find out which vaccines are right for you      2\n",
              "\n",
              "[15976 rows x 2 columns]"
            ]
          },
          "metadata": {},
          "execution_count": 9
        }
      ]
    },
    {
      "cell_type": "markdown",
      "metadata": {
        "id": "0tojah1n5O2R"
      },
      "source": [
        "**Validation Dataset**"
      ]
    },
    {
      "cell_type": "code",
      "metadata": {
        "colab": {
          "base_uri": "https://localhost:8080/",
          "height": 424
        },
        "id": "x9l6CA2YzxV8",
        "outputId": "1f4620ca-c623-4a3d-e0f0-4fa90147af58"
      },
      "source": [
        "validation_dataset['tweet'] = validation_dataset['tweet'].apply(lambda tweet: text_preprocessing(tweet))\n",
        "validation_dataset"
      ],
      "execution_count": 10,
      "outputs": [
        {
          "output_type": "execute_result",
          "data": {
            "text/html": [
              "\n",
              "  <div id=\"df-6b1af1fd-7c73-43dd-a737-7a1cac245658\">\n",
              "    <div class=\"colab-df-container\">\n",
              "      <div>\n",
              "<style scoped>\n",
              "    .dataframe tbody tr th:only-of-type {\n",
              "        vertical-align: middle;\n",
              "    }\n",
              "\n",
              "    .dataframe tbody tr th {\n",
              "        vertical-align: top;\n",
              "    }\n",
              "\n",
              "    .dataframe thead th {\n",
              "        text-align: right;\n",
              "    }\n",
              "</style>\n",
              "<table border=\"1\" class=\"dataframe\">\n",
              "  <thead>\n",
              "    <tr style=\"text-align: right;\">\n",
              "      <th></th>\n",
              "      <th>tweet</th>\n",
              "      <th>label</th>\n",
              "    </tr>\n",
              "  </thead>\n",
              "  <tbody>\n",
              "    <tr>\n",
              "      <th>0</th>\n",
              "      <td>they had massive surge in with covid deaths immediately after the vaccine rollout way more than they had during the entirety of the pandemic up to that point fuck those jabs dr death</td>\n",
              "      <td>1</td>\n",
              "    </tr>\n",
              "    <tr>\n",
              "      <th>1</th>\n",
              "      <td>required vaccines for school parents and guardians of children with school exclusion letters now have an</td>\n",
              "      <td>0</td>\n",
              "    </tr>\n",
              "    <tr>\n",
              "      <th>2</th>\n",
              "      <td>two more johnson county children have measles</td>\n",
              "      <td>0</td>\n",
              "    </tr>\n",
              "    <tr>\n",
              "      <th>3</th>\n",
              "      <td>nv can do better which states are the best and worst at vaccinating their kids</td>\n",
              "      <td>2</td>\n",
              "    </tr>\n",
              "    <tr>\n",
              "      <th>4</th>\n",
              "      <td>nothing like killing ourselves our own fear mt vaccine fears have fueled the resurgence of preventable diseases</td>\n",
              "      <td>2</td>\n",
              "    </tr>\n",
              "    <tr>\n",
              "      <th>...</th>\n",
              "      <td>...</td>\n",
              "      <td>...</td>\n",
              "    </tr>\n",
              "    <tr>\n",
              "      <th>2277</th>\n",
              "      <td>rt number of measles cases reported in cali is at year high officials say uggh not good thing at all</td>\n",
              "      <td>0</td>\n",
              "    </tr>\n",
              "    <tr>\n",
              "      <th>2278</th>\n",
              "      <td>evidence points to the idea that measles affects the immune system for two to three years after the disease</td>\n",
              "      <td>0</td>\n",
              "    </tr>\n",
              "    <tr>\n",
              "      <th>2279</th>\n",
              "      <td>where why you should vaccinate your kids in two minutes</td>\n",
              "      <td>2</td>\n",
              "    </tr>\n",
              "    <tr>\n",
              "      <th>2280</th>\n",
              "      <td>some of my favorite people have autism if that your reason for bringing back diseases we have eviscerated fuck you vaccineswork</td>\n",
              "      <td>2</td>\n",
              "    </tr>\n",
              "    <tr>\n",
              "      <th>2281</th>\n",
              "      <td>coronavirus the married couple behind the successful pfizer covid vaccine came to germany as turkish migrant worker kids inspiring couple</td>\n",
              "      <td>0</td>\n",
              "    </tr>\n",
              "  </tbody>\n",
              "</table>\n",
              "<p>2282 rows × 2 columns</p>\n",
              "</div>\n",
              "      <button class=\"colab-df-convert\" onclick=\"convertToInteractive('df-6b1af1fd-7c73-43dd-a737-7a1cac245658')\"\n",
              "              title=\"Convert this dataframe to an interactive table.\"\n",
              "              style=\"display:none;\">\n",
              "        \n",
              "  <svg xmlns=\"http://www.w3.org/2000/svg\" height=\"24px\"viewBox=\"0 0 24 24\"\n",
              "       width=\"24px\">\n",
              "    <path d=\"M0 0h24v24H0V0z\" fill=\"none\"/>\n",
              "    <path d=\"M18.56 5.44l.94 2.06.94-2.06 2.06-.94-2.06-.94-.94-2.06-.94 2.06-2.06.94zm-11 1L8.5 8.5l.94-2.06 2.06-.94-2.06-.94L8.5 2.5l-.94 2.06-2.06.94zm10 10l.94 2.06.94-2.06 2.06-.94-2.06-.94-.94-2.06-.94 2.06-2.06.94z\"/><path d=\"M17.41 7.96l-1.37-1.37c-.4-.4-.92-.59-1.43-.59-.52 0-1.04.2-1.43.59L10.3 9.45l-7.72 7.72c-.78.78-.78 2.05 0 2.83L4 21.41c.39.39.9.59 1.41.59.51 0 1.02-.2 1.41-.59l7.78-7.78 2.81-2.81c.8-.78.8-2.07 0-2.86zM5.41 20L4 18.59l7.72-7.72 1.47 1.35L5.41 20z\"/>\n",
              "  </svg>\n",
              "      </button>\n",
              "      \n",
              "  <style>\n",
              "    .colab-df-container {\n",
              "      display:flex;\n",
              "      flex-wrap:wrap;\n",
              "      gap: 12px;\n",
              "    }\n",
              "\n",
              "    .colab-df-convert {\n",
              "      background-color: #E8F0FE;\n",
              "      border: none;\n",
              "      border-radius: 50%;\n",
              "      cursor: pointer;\n",
              "      display: none;\n",
              "      fill: #1967D2;\n",
              "      height: 32px;\n",
              "      padding: 0 0 0 0;\n",
              "      width: 32px;\n",
              "    }\n",
              "\n",
              "    .colab-df-convert:hover {\n",
              "      background-color: #E2EBFA;\n",
              "      box-shadow: 0px 1px 2px rgba(60, 64, 67, 0.3), 0px 1px 3px 1px rgba(60, 64, 67, 0.15);\n",
              "      fill: #174EA6;\n",
              "    }\n",
              "\n",
              "    [theme=dark] .colab-df-convert {\n",
              "      background-color: #3B4455;\n",
              "      fill: #D2E3FC;\n",
              "    }\n",
              "\n",
              "    [theme=dark] .colab-df-convert:hover {\n",
              "      background-color: #434B5C;\n",
              "      box-shadow: 0px 1px 3px 1px rgba(0, 0, 0, 0.15);\n",
              "      filter: drop-shadow(0px 1px 2px rgba(0, 0, 0, 0.3));\n",
              "      fill: #FFFFFF;\n",
              "    }\n",
              "  </style>\n",
              "\n",
              "      <script>\n",
              "        const buttonEl =\n",
              "          document.querySelector('#df-6b1af1fd-7c73-43dd-a737-7a1cac245658 button.colab-df-convert');\n",
              "        buttonEl.style.display =\n",
              "          google.colab.kernel.accessAllowed ? 'block' : 'none';\n",
              "\n",
              "        async function convertToInteractive(key) {\n",
              "          const element = document.querySelector('#df-6b1af1fd-7c73-43dd-a737-7a1cac245658');\n",
              "          const dataTable =\n",
              "            await google.colab.kernel.invokeFunction('convertToInteractive',\n",
              "                                                     [key], {});\n",
              "          if (!dataTable) return;\n",
              "\n",
              "          const docLinkHtml = 'Like what you see? Visit the ' +\n",
              "            '<a target=\"_blank\" href=https://colab.research.google.com/notebooks/data_table.ipynb>data table notebook</a>'\n",
              "            + ' to learn more about interactive tables.';\n",
              "          element.innerHTML = '';\n",
              "          dataTable['output_type'] = 'display_data';\n",
              "          await google.colab.output.renderOutput(dataTable, element);\n",
              "          const docLink = document.createElement('div');\n",
              "          docLink.innerHTML = docLinkHtml;\n",
              "          element.appendChild(docLink);\n",
              "        }\n",
              "      </script>\n",
              "    </div>\n",
              "  </div>\n",
              "  "
            ],
            "text/plain": [
              "                                                                                                                                                                                       tweet  label\n",
              "0     they had massive surge in with covid deaths immediately after the vaccine rollout way more than they had during the entirety of the pandemic up to that point fuck those jabs dr death      1\n",
              "1                                                                                   required vaccines for school parents and guardians of children with school exclusion letters now have an      0\n",
              "2                                                                                                                                              two more johnson county children have measles      0\n",
              "3                                                                                                             nv can do better which states are the best and worst at vaccinating their kids      2\n",
              "4                                                                            nothing like killing ourselves our own fear mt vaccine fears have fueled the resurgence of preventable diseases      2\n",
              "...                                                                                                                                                                                      ...    ...\n",
              "2277                                                                                    rt number of measles cases reported in cali is at year high officials say uggh not good thing at all      0\n",
              "2278                                                                             evidence points to the idea that measles affects the immune system for two to three years after the disease      0\n",
              "2279                                                                                                                                 where why you should vaccinate your kids in two minutes      2\n",
              "2280                                                         some of my favorite people have autism if that your reason for bringing back diseases we have eviscerated fuck you vaccineswork      2\n",
              "2281                                               coronavirus the married couple behind the successful pfizer covid vaccine came to germany as turkish migrant worker kids inspiring couple      0\n",
              "\n",
              "[2282 rows x 2 columns]"
            ]
          },
          "metadata": {},
          "execution_count": 10
        }
      ]
    },
    {
      "cell_type": "markdown",
      "source": [
        "**Test Dataset**"
      ],
      "metadata": {
        "id": "2hTEbIvZUHbQ"
      }
    },
    {
      "cell_type": "code",
      "source": [
        "test_dataset['tweet'] = test_dataset['tweet'].apply(lambda tweet: text_preprocessing(tweet))\n",
        "test_dataset"
      ],
      "metadata": {
        "colab": {
          "base_uri": "https://localhost:8080/",
          "height": 424
        },
        "id": "eX1n09NoUIFI",
        "outputId": "093fdfa4-42ea-4fee-ad25-7a5f6710b4d1"
      },
      "execution_count": 11,
      "outputs": [
        {
          "output_type": "execute_result",
          "data": {
            "text/html": [
              "\n",
              "  <div id=\"df-32f434ba-825a-40d9-af7c-e58f66b31b9c\">\n",
              "    <div class=\"colab-df-container\">\n",
              "      <div>\n",
              "<style scoped>\n",
              "    .dataframe tbody tr th:only-of-type {\n",
              "        vertical-align: middle;\n",
              "    }\n",
              "\n",
              "    .dataframe tbody tr th {\n",
              "        vertical-align: top;\n",
              "    }\n",
              "\n",
              "    .dataframe thead th {\n",
              "        text-align: right;\n",
              "    }\n",
              "</style>\n",
              "<table border=\"1\" class=\"dataframe\">\n",
              "  <thead>\n",
              "    <tr style=\"text-align: right;\">\n",
              "      <th></th>\n",
              "      <th>tweet</th>\n",
              "      <th>label</th>\n",
              "    </tr>\n",
              "  </thead>\n",
              "  <tbody>\n",
              "    <tr>\n",
              "      <th>0</th>\n",
              "      <td>they had massive surge in with covid deaths immediately after the vaccine rollout way more than they had during the entirety of the pandemic up to that point fuck those jabs dr death</td>\n",
              "      <td>1</td>\n",
              "    </tr>\n",
              "    <tr>\n",
              "      <th>1</th>\n",
              "      <td>required vaccines for school parents and guardians of children with school exclusion letters now have an</td>\n",
              "      <td>0</td>\n",
              "    </tr>\n",
              "    <tr>\n",
              "      <th>2</th>\n",
              "      <td>two more johnson county children have measles</td>\n",
              "      <td>0</td>\n",
              "    </tr>\n",
              "    <tr>\n",
              "      <th>3</th>\n",
              "      <td>nv can do better which states are the best and worst at vaccinating their kids</td>\n",
              "      <td>2</td>\n",
              "    </tr>\n",
              "    <tr>\n",
              "      <th>4</th>\n",
              "      <td>nothing like killing ourselves our own fear mt vaccine fears have fueled the resurgence of preventable diseases</td>\n",
              "      <td>2</td>\n",
              "    </tr>\n",
              "    <tr>\n",
              "      <th>...</th>\n",
              "      <td>...</td>\n",
              "      <td>...</td>\n",
              "    </tr>\n",
              "    <tr>\n",
              "      <th>2277</th>\n",
              "      <td>rt number of measles cases reported in cali is at year high officials say uggh not good thing at all</td>\n",
              "      <td>0</td>\n",
              "    </tr>\n",
              "    <tr>\n",
              "      <th>2278</th>\n",
              "      <td>evidence points to the idea that measles affects the immune system for two to three years after the disease</td>\n",
              "      <td>0</td>\n",
              "    </tr>\n",
              "    <tr>\n",
              "      <th>2279</th>\n",
              "      <td>where why you should vaccinate your kids in two minutes</td>\n",
              "      <td>2</td>\n",
              "    </tr>\n",
              "    <tr>\n",
              "      <th>2280</th>\n",
              "      <td>some of my favorite people have autism if that your reason for bringing back diseases we have eviscerated fuck you vaccineswork</td>\n",
              "      <td>2</td>\n",
              "    </tr>\n",
              "    <tr>\n",
              "      <th>2281</th>\n",
              "      <td>coronavirus the married couple behind the successful pfizer covid vaccine came to germany as turkish migrant worker kids inspiring couple</td>\n",
              "      <td>0</td>\n",
              "    </tr>\n",
              "  </tbody>\n",
              "</table>\n",
              "<p>2282 rows × 2 columns</p>\n",
              "</div>\n",
              "      <button class=\"colab-df-convert\" onclick=\"convertToInteractive('df-32f434ba-825a-40d9-af7c-e58f66b31b9c')\"\n",
              "              title=\"Convert this dataframe to an interactive table.\"\n",
              "              style=\"display:none;\">\n",
              "        \n",
              "  <svg xmlns=\"http://www.w3.org/2000/svg\" height=\"24px\"viewBox=\"0 0 24 24\"\n",
              "       width=\"24px\">\n",
              "    <path d=\"M0 0h24v24H0V0z\" fill=\"none\"/>\n",
              "    <path d=\"M18.56 5.44l.94 2.06.94-2.06 2.06-.94-2.06-.94-.94-2.06-.94 2.06-2.06.94zm-11 1L8.5 8.5l.94-2.06 2.06-.94-2.06-.94L8.5 2.5l-.94 2.06-2.06.94zm10 10l.94 2.06.94-2.06 2.06-.94-2.06-.94-.94-2.06-.94 2.06-2.06.94z\"/><path d=\"M17.41 7.96l-1.37-1.37c-.4-.4-.92-.59-1.43-.59-.52 0-1.04.2-1.43.59L10.3 9.45l-7.72 7.72c-.78.78-.78 2.05 0 2.83L4 21.41c.39.39.9.59 1.41.59.51 0 1.02-.2 1.41-.59l7.78-7.78 2.81-2.81c.8-.78.8-2.07 0-2.86zM5.41 20L4 18.59l7.72-7.72 1.47 1.35L5.41 20z\"/>\n",
              "  </svg>\n",
              "      </button>\n",
              "      \n",
              "  <style>\n",
              "    .colab-df-container {\n",
              "      display:flex;\n",
              "      flex-wrap:wrap;\n",
              "      gap: 12px;\n",
              "    }\n",
              "\n",
              "    .colab-df-convert {\n",
              "      background-color: #E8F0FE;\n",
              "      border: none;\n",
              "      border-radius: 50%;\n",
              "      cursor: pointer;\n",
              "      display: none;\n",
              "      fill: #1967D2;\n",
              "      height: 32px;\n",
              "      padding: 0 0 0 0;\n",
              "      width: 32px;\n",
              "    }\n",
              "\n",
              "    .colab-df-convert:hover {\n",
              "      background-color: #E2EBFA;\n",
              "      box-shadow: 0px 1px 2px rgba(60, 64, 67, 0.3), 0px 1px 3px 1px rgba(60, 64, 67, 0.15);\n",
              "      fill: #174EA6;\n",
              "    }\n",
              "\n",
              "    [theme=dark] .colab-df-convert {\n",
              "      background-color: #3B4455;\n",
              "      fill: #D2E3FC;\n",
              "    }\n",
              "\n",
              "    [theme=dark] .colab-df-convert:hover {\n",
              "      background-color: #434B5C;\n",
              "      box-shadow: 0px 1px 3px 1px rgba(0, 0, 0, 0.15);\n",
              "      filter: drop-shadow(0px 1px 2px rgba(0, 0, 0, 0.3));\n",
              "      fill: #FFFFFF;\n",
              "    }\n",
              "  </style>\n",
              "\n",
              "      <script>\n",
              "        const buttonEl =\n",
              "          document.querySelector('#df-32f434ba-825a-40d9-af7c-e58f66b31b9c button.colab-df-convert');\n",
              "        buttonEl.style.display =\n",
              "          google.colab.kernel.accessAllowed ? 'block' : 'none';\n",
              "\n",
              "        async function convertToInteractive(key) {\n",
              "          const element = document.querySelector('#df-32f434ba-825a-40d9-af7c-e58f66b31b9c');\n",
              "          const dataTable =\n",
              "            await google.colab.kernel.invokeFunction('convertToInteractive',\n",
              "                                                     [key], {});\n",
              "          if (!dataTable) return;\n",
              "\n",
              "          const docLinkHtml = 'Like what you see? Visit the ' +\n",
              "            '<a target=\"_blank\" href=https://colab.research.google.com/notebooks/data_table.ipynb>data table notebook</a>'\n",
              "            + ' to learn more about interactive tables.';\n",
              "          element.innerHTML = '';\n",
              "          dataTable['output_type'] = 'display_data';\n",
              "          await google.colab.output.renderOutput(dataTable, element);\n",
              "          const docLink = document.createElement('div');\n",
              "          docLink.innerHTML = docLinkHtml;\n",
              "          element.appendChild(docLink);\n",
              "        }\n",
              "      </script>\n",
              "    </div>\n",
              "  </div>\n",
              "  "
            ],
            "text/plain": [
              "                                                                                                                                                                                       tweet  label\n",
              "0     they had massive surge in with covid deaths immediately after the vaccine rollout way more than they had during the entirety of the pandemic up to that point fuck those jabs dr death      1\n",
              "1                                                                                   required vaccines for school parents and guardians of children with school exclusion letters now have an      0\n",
              "2                                                                                                                                              two more johnson county children have measles      0\n",
              "3                                                                                                             nv can do better which states are the best and worst at vaccinating their kids      2\n",
              "4                                                                            nothing like killing ourselves our own fear mt vaccine fears have fueled the resurgence of preventable diseases      2\n",
              "...                                                                                                                                                                                      ...    ...\n",
              "2277                                                                                    rt number of measles cases reported in cali is at year high officials say uggh not good thing at all      0\n",
              "2278                                                                             evidence points to the idea that measles affects the immune system for two to three years after the disease      0\n",
              "2279                                                                                                                                 where why you should vaccinate your kids in two minutes      2\n",
              "2280                                                         some of my favorite people have autism if that your reason for bringing back diseases we have eviscerated fuck you vaccineswork      2\n",
              "2281                                               coronavirus the married couple behind the successful pfizer covid vaccine came to germany as turkish migrant worker kids inspiring couple      0\n",
              "\n",
              "[2282 rows x 2 columns]"
            ]
          },
          "metadata": {},
          "execution_count": 11
        }
      ]
    },
    {
      "cell_type": "markdown",
      "metadata": {
        "id": "jdEjtJasZCTW"
      },
      "source": [
        "# Stopwords Removal\n",
        "Now, we will remove some stopwords(words that do not have any important value for the texts) from all the tweets. However, this time we will keep some stopwords like \"not\" because they are sometimes useful in the context of a tweet. For example, in the 2nd training sample \"don't know about you but my family and will **not** take the covid vaccine anytime soon\" the word **not** is the one that makes this tweet anti-vax, and without it (my family will take the covid vaccine...) it would be pro-vax."
      ]
    },
    {
      "cell_type": "markdown",
      "metadata": {
        "id": "TANA9S6o7-vQ"
      },
      "source": [
        "First, let's download the stopwords that we are going to remove:"
      ]
    },
    {
      "cell_type": "code",
      "metadata": {
        "colab": {
          "base_uri": "https://localhost:8080/"
        },
        "id": "io8RhjT1ZFdG",
        "outputId": "59866a55-d80e-49b1-ba20-347b51bb4935"
      },
      "source": [
        "nltk.download('stopwords')\n",
        "STOPWORDS = stopwords.words('english')\n",
        "print(len(STOPWORDS))\n",
        "STOPWORDS.remove('no')\n",
        "STOPWORDS.remove('nor')\n",
        "STOPWORDS.remove('not')\n",
        "STOPWORDS.remove('don\\'t')\n",
        "STOPWORDS.remove('don')\n",
        "STOPWORDS.remove('aren\\'t')\n",
        "STOPWORDS.remove('aren')\n",
        "STOPWORDS.remove('couldn')\n",
        "STOPWORDS.remove('couldn\\'t')\n",
        "STOPWORDS.remove('didn')\n",
        "STOPWORDS.remove('didn\\'t')\n",
        "STOPWORDS.remove('doesn')\n",
        "STOPWORDS.remove('doesn\\'t')\n",
        "STOPWORDS.remove('hadn')\n",
        "STOPWORDS.remove('hadn\\'t')\n",
        "STOPWORDS.remove('hasn')\n",
        "STOPWORDS.remove('hasn\\'t')\n",
        "STOPWORDS.remove('haven')\n",
        "STOPWORDS.remove('haven\\'t')\n",
        "STOPWORDS.remove('isn')\n",
        "STOPWORDS.remove('isn\\'t')\n",
        "STOPWORDS.remove('mightn')\n",
        "STOPWORDS.remove('mightn\\'t')\n",
        "STOPWORDS.remove('mustn')\n",
        "STOPWORDS.remove('mustn\\'t')\n",
        "STOPWORDS.remove('needn')\n",
        "STOPWORDS.remove('needn\\'t')\n",
        "STOPWORDS.remove('shan')\n",
        "STOPWORDS.remove('shan\\'t')\n",
        "STOPWORDS.remove('shouldn')\n",
        "STOPWORDS.remove('shouldn\\'t')\n",
        "STOPWORDS.remove('wasn')\n",
        "STOPWORDS.remove('wasn\\'t')\n",
        "STOPWORDS.remove('weren')\n",
        "STOPWORDS.remove('weren\\'t')\n",
        "STOPWORDS.remove('won')\n",
        "STOPWORDS.remove('won\\'t')\n",
        "STOPWORDS.remove('wouldn')\n",
        "STOPWORDS.remove('wouldn\\'t')\n",
        "print(len(STOPWORDS))\n",
        "print(STOPWORDS)"
      ],
      "execution_count": 12,
      "outputs": [
        {
          "output_type": "stream",
          "name": "stdout",
          "text": [
            "[nltk_data] Downloading package stopwords to /root/nltk_data...\n",
            "[nltk_data]   Unzipping corpora/stopwords.zip.\n",
            "179\n",
            "140\n",
            "['i', 'me', 'my', 'myself', 'we', 'our', 'ours', 'ourselves', 'you', \"you're\", \"you've\", \"you'll\", \"you'd\", 'your', 'yours', 'yourself', 'yourselves', 'he', 'him', 'his', 'himself', 'she', \"she's\", 'her', 'hers', 'herself', 'it', \"it's\", 'its', 'itself', 'they', 'them', 'their', 'theirs', 'themselves', 'what', 'which', 'who', 'whom', 'this', 'that', \"that'll\", 'these', 'those', 'am', 'is', 'are', 'was', 'were', 'be', 'been', 'being', 'have', 'has', 'had', 'having', 'do', 'does', 'did', 'doing', 'a', 'an', 'the', 'and', 'but', 'if', 'or', 'because', 'as', 'until', 'while', 'of', 'at', 'by', 'for', 'with', 'about', 'against', 'between', 'into', 'through', 'during', 'before', 'after', 'above', 'below', 'to', 'from', 'up', 'down', 'in', 'out', 'on', 'off', 'over', 'under', 'again', 'further', 'then', 'once', 'here', 'there', 'when', 'where', 'why', 'how', 'all', 'any', 'both', 'each', 'few', 'more', 'most', 'other', 'some', 'such', 'only', 'own', 'same', 'so', 'than', 'too', 'very', 's', 't', 'can', 'will', 'just', 'should', \"should've\", 'now', 'd', 'll', 'm', 'o', 're', 've', 'y', 'ain', 'ma']\n"
          ]
        }
      ]
    },
    {
      "cell_type": "markdown",
      "metadata": {
        "id": "tjBD85sq8E7P"
      },
      "source": [
        "Then, let's remove them from our datasets:"
      ]
    },
    {
      "cell_type": "code",
      "metadata": {
        "id": "usFDSYKxaFAC"
      },
      "source": [
        "def remove_stopwords(text):\n",
        "  tokens = text.split(' ')\n",
        "  return ' '.join([w for w in tokens if w not in STOPWORDS])"
      ],
      "execution_count": 13,
      "outputs": []
    },
    {
      "cell_type": "code",
      "metadata": {
        "colab": {
          "base_uri": "https://localhost:8080/",
          "height": 424
        },
        "id": "UYwEQ6HoagA5",
        "outputId": "ce080df6-a816-45a2-b1e4-8ce9a3e7d6d7"
      },
      "source": [
        "train_dataset['tweet'] = train_dataset['tweet'].apply(remove_stopwords)\n",
        "train_dataset"
      ],
      "execution_count": 14,
      "outputs": [
        {
          "output_type": "execute_result",
          "data": {
            "text/html": [
              "\n",
              "  <div id=\"df-3fde0bcb-b928-430a-b385-2a3aaaccc65b\">\n",
              "    <div class=\"colab-df-container\">\n",
              "      <div>\n",
              "<style scoped>\n",
              "    .dataframe tbody tr th:only-of-type {\n",
              "        vertical-align: middle;\n",
              "    }\n",
              "\n",
              "    .dataframe tbody tr th {\n",
              "        vertical-align: top;\n",
              "    }\n",
              "\n",
              "    .dataframe thead th {\n",
              "        text-align: right;\n",
              "    }\n",
              "</style>\n",
              "<table border=\"1\" class=\"dataframe\">\n",
              "  <thead>\n",
              "    <tr style=\"text-align: right;\">\n",
              "      <th></th>\n",
              "      <th>tweet</th>\n",
              "      <th>label</th>\n",
              "    </tr>\n",
              "  </thead>\n",
              "  <tbody>\n",
              "    <tr>\n",
              "      <th>0</th>\n",
              "      <td>sip shop come thru right marjais popularnobodies mmr sipnshop</td>\n",
              "      <td>0</td>\n",
              "    </tr>\n",
              "    <tr>\n",
              "      <th>1</th>\n",
              "      <td>dont know family not take covid vaccine anytime soon</td>\n",
              "      <td>1</td>\n",
              "    </tr>\n",
              "    <tr>\n",
              "      <th>2</th>\n",
              "      <td>immunizations mandatory period oklahoma wont let kids go school without dangerous otherwise</td>\n",
              "      <td>2</td>\n",
              "    </tr>\n",
              "    <tr>\n",
              "      <th>3</th>\n",
              "      <td>president obama spoke favor vaccination children fox start telling viewers choose vaccination</td>\n",
              "      <td>0</td>\n",
              "    </tr>\n",
              "    <tr>\n",
              "      <th>4</th>\n",
              "      <td>arizona monitoring hundreds measles linked disneyland small world</td>\n",
              "      <td>0</td>\n",
              "    </tr>\n",
              "    <tr>\n",
              "      <th>...</th>\n",
              "      <td>...</td>\n",
              "      <td>...</td>\n",
              "    </tr>\n",
              "    <tr>\n",
              "      <th>15971</th>\n",
              "      <td>believe anti vax nutcases caused measles ignoring obama illegal children streamed us coincidence</td>\n",
              "      <td>1</td>\n",
              "    </tr>\n",
              "    <tr>\n",
              "      <th>15972</th>\n",
              "      <td>feel parents dont vaccinate kids measlesoutbreak</td>\n",
              "      <td>0</td>\n",
              "    </tr>\n",
              "    <tr>\n",
              "      <th>15973</th>\n",
              "      <td>preschoolers tested measles simi valley</td>\n",
              "      <td>0</td>\n",
              "    </tr>\n",
              "    <tr>\n",
              "      <th>15974</th>\n",
              "      <td>finance minister budget offers room procure covid vaccines available</td>\n",
              "      <td>0</td>\n",
              "    </tr>\n",
              "    <tr>\n",
              "      <th>15975</th>\n",
              "      <td>date vaccines take cdc vaccine quiz find vaccines right</td>\n",
              "      <td>2</td>\n",
              "    </tr>\n",
              "  </tbody>\n",
              "</table>\n",
              "<p>15976 rows × 2 columns</p>\n",
              "</div>\n",
              "      <button class=\"colab-df-convert\" onclick=\"convertToInteractive('df-3fde0bcb-b928-430a-b385-2a3aaaccc65b')\"\n",
              "              title=\"Convert this dataframe to an interactive table.\"\n",
              "              style=\"display:none;\">\n",
              "        \n",
              "  <svg xmlns=\"http://www.w3.org/2000/svg\" height=\"24px\"viewBox=\"0 0 24 24\"\n",
              "       width=\"24px\">\n",
              "    <path d=\"M0 0h24v24H0V0z\" fill=\"none\"/>\n",
              "    <path d=\"M18.56 5.44l.94 2.06.94-2.06 2.06-.94-2.06-.94-.94-2.06-.94 2.06-2.06.94zm-11 1L8.5 8.5l.94-2.06 2.06-.94-2.06-.94L8.5 2.5l-.94 2.06-2.06.94zm10 10l.94 2.06.94-2.06 2.06-.94-2.06-.94-.94-2.06-.94 2.06-2.06.94z\"/><path d=\"M17.41 7.96l-1.37-1.37c-.4-.4-.92-.59-1.43-.59-.52 0-1.04.2-1.43.59L10.3 9.45l-7.72 7.72c-.78.78-.78 2.05 0 2.83L4 21.41c.39.39.9.59 1.41.59.51 0 1.02-.2 1.41-.59l7.78-7.78 2.81-2.81c.8-.78.8-2.07 0-2.86zM5.41 20L4 18.59l7.72-7.72 1.47 1.35L5.41 20z\"/>\n",
              "  </svg>\n",
              "      </button>\n",
              "      \n",
              "  <style>\n",
              "    .colab-df-container {\n",
              "      display:flex;\n",
              "      flex-wrap:wrap;\n",
              "      gap: 12px;\n",
              "    }\n",
              "\n",
              "    .colab-df-convert {\n",
              "      background-color: #E8F0FE;\n",
              "      border: none;\n",
              "      border-radius: 50%;\n",
              "      cursor: pointer;\n",
              "      display: none;\n",
              "      fill: #1967D2;\n",
              "      height: 32px;\n",
              "      padding: 0 0 0 0;\n",
              "      width: 32px;\n",
              "    }\n",
              "\n",
              "    .colab-df-convert:hover {\n",
              "      background-color: #E2EBFA;\n",
              "      box-shadow: 0px 1px 2px rgba(60, 64, 67, 0.3), 0px 1px 3px 1px rgba(60, 64, 67, 0.15);\n",
              "      fill: #174EA6;\n",
              "    }\n",
              "\n",
              "    [theme=dark] .colab-df-convert {\n",
              "      background-color: #3B4455;\n",
              "      fill: #D2E3FC;\n",
              "    }\n",
              "\n",
              "    [theme=dark] .colab-df-convert:hover {\n",
              "      background-color: #434B5C;\n",
              "      box-shadow: 0px 1px 3px 1px rgba(0, 0, 0, 0.15);\n",
              "      filter: drop-shadow(0px 1px 2px rgba(0, 0, 0, 0.3));\n",
              "      fill: #FFFFFF;\n",
              "    }\n",
              "  </style>\n",
              "\n",
              "      <script>\n",
              "        const buttonEl =\n",
              "          document.querySelector('#df-3fde0bcb-b928-430a-b385-2a3aaaccc65b button.colab-df-convert');\n",
              "        buttonEl.style.display =\n",
              "          google.colab.kernel.accessAllowed ? 'block' : 'none';\n",
              "\n",
              "        async function convertToInteractive(key) {\n",
              "          const element = document.querySelector('#df-3fde0bcb-b928-430a-b385-2a3aaaccc65b');\n",
              "          const dataTable =\n",
              "            await google.colab.kernel.invokeFunction('convertToInteractive',\n",
              "                                                     [key], {});\n",
              "          if (!dataTable) return;\n",
              "\n",
              "          const docLinkHtml = 'Like what you see? Visit the ' +\n",
              "            '<a target=\"_blank\" href=https://colab.research.google.com/notebooks/data_table.ipynb>data table notebook</a>'\n",
              "            + ' to learn more about interactive tables.';\n",
              "          element.innerHTML = '';\n",
              "          dataTable['output_type'] = 'display_data';\n",
              "          await google.colab.output.renderOutput(dataTable, element);\n",
              "          const docLink = document.createElement('div');\n",
              "          docLink.innerHTML = docLinkHtml;\n",
              "          element.appendChild(docLink);\n",
              "        }\n",
              "      </script>\n",
              "    </div>\n",
              "  </div>\n",
              "  "
            ],
            "text/plain": [
              "                                                                                                  tweet  label\n",
              "0                                         sip shop come thru right marjais popularnobodies mmr sipnshop      0\n",
              "1                                                  dont know family not take covid vaccine anytime soon      1\n",
              "2           immunizations mandatory period oklahoma wont let kids go school without dangerous otherwise      2\n",
              "3         president obama spoke favor vaccination children fox start telling viewers choose vaccination      0\n",
              "4                                     arizona monitoring hundreds measles linked disneyland small world      0\n",
              "...                                                                                                 ...    ...\n",
              "15971  believe anti vax nutcases caused measles ignoring obama illegal children streamed us coincidence      1\n",
              "15972                                                  feel parents dont vaccinate kids measlesoutbreak      0\n",
              "15973                                                           preschoolers tested measles simi valley      0\n",
              "15974                              finance minister budget offers room procure covid vaccines available      0\n",
              "15975                                           date vaccines take cdc vaccine quiz find vaccines right      2\n",
              "\n",
              "[15976 rows x 2 columns]"
            ]
          },
          "metadata": {},
          "execution_count": 14
        }
      ]
    },
    {
      "cell_type": "code",
      "metadata": {
        "colab": {
          "base_uri": "https://localhost:8080/",
          "height": 424
        },
        "id": "hPRmdAs3ZFdC",
        "outputId": "348fe133-01a4-4d0f-c4ea-ba342ca3d208"
      },
      "source": [
        "validation_dataset['tweet'] = validation_dataset['tweet'].apply(remove_stopwords)\n",
        "validation_dataset"
      ],
      "execution_count": 15,
      "outputs": [
        {
          "output_type": "execute_result",
          "data": {
            "text/html": [
              "\n",
              "  <div id=\"df-736f2eb1-ff79-4bd7-886a-2cdbe5fca903\">\n",
              "    <div class=\"colab-df-container\">\n",
              "      <div>\n",
              "<style scoped>\n",
              "    .dataframe tbody tr th:only-of-type {\n",
              "        vertical-align: middle;\n",
              "    }\n",
              "\n",
              "    .dataframe tbody tr th {\n",
              "        vertical-align: top;\n",
              "    }\n",
              "\n",
              "    .dataframe thead th {\n",
              "        text-align: right;\n",
              "    }\n",
              "</style>\n",
              "<table border=\"1\" class=\"dataframe\">\n",
              "  <thead>\n",
              "    <tr style=\"text-align: right;\">\n",
              "      <th></th>\n",
              "      <th>tweet</th>\n",
              "      <th>label</th>\n",
              "    </tr>\n",
              "  </thead>\n",
              "  <tbody>\n",
              "    <tr>\n",
              "      <th>0</th>\n",
              "      <td>massive surge covid deaths immediately vaccine rollout way entirety pandemic point fuck jabs dr death</td>\n",
              "      <td>1</td>\n",
              "    </tr>\n",
              "    <tr>\n",
              "      <th>1</th>\n",
              "      <td>required vaccines school parents guardians children school exclusion letters</td>\n",
              "      <td>0</td>\n",
              "    </tr>\n",
              "    <tr>\n",
              "      <th>2</th>\n",
              "      <td>two johnson county children measles</td>\n",
              "      <td>0</td>\n",
              "    </tr>\n",
              "    <tr>\n",
              "      <th>3</th>\n",
              "      <td>nv better states best worst vaccinating kids</td>\n",
              "      <td>2</td>\n",
              "    </tr>\n",
              "    <tr>\n",
              "      <th>4</th>\n",
              "      <td>nothing like killing fear mt vaccine fears fueled resurgence preventable diseases</td>\n",
              "      <td>2</td>\n",
              "    </tr>\n",
              "    <tr>\n",
              "      <th>...</th>\n",
              "      <td>...</td>\n",
              "      <td>...</td>\n",
              "    </tr>\n",
              "    <tr>\n",
              "      <th>2277</th>\n",
              "      <td>rt number measles cases reported cali year high officials say uggh not good thing</td>\n",
              "      <td>0</td>\n",
              "    </tr>\n",
              "    <tr>\n",
              "      <th>2278</th>\n",
              "      <td>evidence points idea measles affects immune system two three years disease</td>\n",
              "      <td>0</td>\n",
              "    </tr>\n",
              "    <tr>\n",
              "      <th>2279</th>\n",
              "      <td>vaccinate kids two minutes</td>\n",
              "      <td>2</td>\n",
              "    </tr>\n",
              "    <tr>\n",
              "      <th>2280</th>\n",
              "      <td>favorite people autism reason bringing back diseases eviscerated fuck vaccineswork</td>\n",
              "      <td>2</td>\n",
              "    </tr>\n",
              "    <tr>\n",
              "      <th>2281</th>\n",
              "      <td>coronavirus married couple behind successful pfizer covid vaccine came germany turkish migrant worker kids inspiring couple</td>\n",
              "      <td>0</td>\n",
              "    </tr>\n",
              "  </tbody>\n",
              "</table>\n",
              "<p>2282 rows × 2 columns</p>\n",
              "</div>\n",
              "      <button class=\"colab-df-convert\" onclick=\"convertToInteractive('df-736f2eb1-ff79-4bd7-886a-2cdbe5fca903')\"\n",
              "              title=\"Convert this dataframe to an interactive table.\"\n",
              "              style=\"display:none;\">\n",
              "        \n",
              "  <svg xmlns=\"http://www.w3.org/2000/svg\" height=\"24px\"viewBox=\"0 0 24 24\"\n",
              "       width=\"24px\">\n",
              "    <path d=\"M0 0h24v24H0V0z\" fill=\"none\"/>\n",
              "    <path d=\"M18.56 5.44l.94 2.06.94-2.06 2.06-.94-2.06-.94-.94-2.06-.94 2.06-2.06.94zm-11 1L8.5 8.5l.94-2.06 2.06-.94-2.06-.94L8.5 2.5l-.94 2.06-2.06.94zm10 10l.94 2.06.94-2.06 2.06-.94-2.06-.94-.94-2.06-.94 2.06-2.06.94z\"/><path d=\"M17.41 7.96l-1.37-1.37c-.4-.4-.92-.59-1.43-.59-.52 0-1.04.2-1.43.59L10.3 9.45l-7.72 7.72c-.78.78-.78 2.05 0 2.83L4 21.41c.39.39.9.59 1.41.59.51 0 1.02-.2 1.41-.59l7.78-7.78 2.81-2.81c.8-.78.8-2.07 0-2.86zM5.41 20L4 18.59l7.72-7.72 1.47 1.35L5.41 20z\"/>\n",
              "  </svg>\n",
              "      </button>\n",
              "      \n",
              "  <style>\n",
              "    .colab-df-container {\n",
              "      display:flex;\n",
              "      flex-wrap:wrap;\n",
              "      gap: 12px;\n",
              "    }\n",
              "\n",
              "    .colab-df-convert {\n",
              "      background-color: #E8F0FE;\n",
              "      border: none;\n",
              "      border-radius: 50%;\n",
              "      cursor: pointer;\n",
              "      display: none;\n",
              "      fill: #1967D2;\n",
              "      height: 32px;\n",
              "      padding: 0 0 0 0;\n",
              "      width: 32px;\n",
              "    }\n",
              "\n",
              "    .colab-df-convert:hover {\n",
              "      background-color: #E2EBFA;\n",
              "      box-shadow: 0px 1px 2px rgba(60, 64, 67, 0.3), 0px 1px 3px 1px rgba(60, 64, 67, 0.15);\n",
              "      fill: #174EA6;\n",
              "    }\n",
              "\n",
              "    [theme=dark] .colab-df-convert {\n",
              "      background-color: #3B4455;\n",
              "      fill: #D2E3FC;\n",
              "    }\n",
              "\n",
              "    [theme=dark] .colab-df-convert:hover {\n",
              "      background-color: #434B5C;\n",
              "      box-shadow: 0px 1px 3px 1px rgba(0, 0, 0, 0.15);\n",
              "      filter: drop-shadow(0px 1px 2px rgba(0, 0, 0, 0.3));\n",
              "      fill: #FFFFFF;\n",
              "    }\n",
              "  </style>\n",
              "\n",
              "      <script>\n",
              "        const buttonEl =\n",
              "          document.querySelector('#df-736f2eb1-ff79-4bd7-886a-2cdbe5fca903 button.colab-df-convert');\n",
              "        buttonEl.style.display =\n",
              "          google.colab.kernel.accessAllowed ? 'block' : 'none';\n",
              "\n",
              "        async function convertToInteractive(key) {\n",
              "          const element = document.querySelector('#df-736f2eb1-ff79-4bd7-886a-2cdbe5fca903');\n",
              "          const dataTable =\n",
              "            await google.colab.kernel.invokeFunction('convertToInteractive',\n",
              "                                                     [key], {});\n",
              "          if (!dataTable) return;\n",
              "\n",
              "          const docLinkHtml = 'Like what you see? Visit the ' +\n",
              "            '<a target=\"_blank\" href=https://colab.research.google.com/notebooks/data_table.ipynb>data table notebook</a>'\n",
              "            + ' to learn more about interactive tables.';\n",
              "          element.innerHTML = '';\n",
              "          dataTable['output_type'] = 'display_data';\n",
              "          await google.colab.output.renderOutput(dataTable, element);\n",
              "          const docLink = document.createElement('div');\n",
              "          docLink.innerHTML = docLinkHtml;\n",
              "          element.appendChild(docLink);\n",
              "        }\n",
              "      </script>\n",
              "    </div>\n",
              "  </div>\n",
              "  "
            ],
            "text/plain": [
              "                                                                                                                            tweet  label\n",
              "0                           massive surge covid deaths immediately vaccine rollout way entirety pandemic point fuck jabs dr death      1\n",
              "1                                                    required vaccines school parents guardians children school exclusion letters      0\n",
              "2                                                                                             two johnson county children measles      0\n",
              "3                                                                                    nv better states best worst vaccinating kids      2\n",
              "4                                               nothing like killing fear mt vaccine fears fueled resurgence preventable diseases      2\n",
              "...                                                                                                                           ...    ...\n",
              "2277                                            rt number measles cases reported cali year high officials say uggh not good thing      0\n",
              "2278                                                   evidence points idea measles affects immune system two three years disease      0\n",
              "2279                                                                                                   vaccinate kids two minutes      2\n",
              "2280                                           favorite people autism reason bringing back diseases eviscerated fuck vaccineswork      2\n",
              "2281  coronavirus married couple behind successful pfizer covid vaccine came germany turkish migrant worker kids inspiring couple      0\n",
              "\n",
              "[2282 rows x 2 columns]"
            ]
          },
          "metadata": {},
          "execution_count": 15
        }
      ]
    },
    {
      "cell_type": "code",
      "source": [
        "test_dataset['tweet'] = test_dataset['tweet'].apply(remove_stopwords)\n",
        "test_dataset"
      ],
      "metadata": {
        "colab": {
          "base_uri": "https://localhost:8080/",
          "height": 424
        },
        "id": "8gGPKw-DUgf3",
        "outputId": "5bcc908b-76dd-456d-efca-87ad084b625f"
      },
      "execution_count": 16,
      "outputs": [
        {
          "output_type": "execute_result",
          "data": {
            "text/html": [
              "\n",
              "  <div id=\"df-1c529112-016f-4893-b770-abaad43cf46e\">\n",
              "    <div class=\"colab-df-container\">\n",
              "      <div>\n",
              "<style scoped>\n",
              "    .dataframe tbody tr th:only-of-type {\n",
              "        vertical-align: middle;\n",
              "    }\n",
              "\n",
              "    .dataframe tbody tr th {\n",
              "        vertical-align: top;\n",
              "    }\n",
              "\n",
              "    .dataframe thead th {\n",
              "        text-align: right;\n",
              "    }\n",
              "</style>\n",
              "<table border=\"1\" class=\"dataframe\">\n",
              "  <thead>\n",
              "    <tr style=\"text-align: right;\">\n",
              "      <th></th>\n",
              "      <th>tweet</th>\n",
              "      <th>label</th>\n",
              "    </tr>\n",
              "  </thead>\n",
              "  <tbody>\n",
              "    <tr>\n",
              "      <th>0</th>\n",
              "      <td>massive surge covid deaths immediately vaccine rollout way entirety pandemic point fuck jabs dr death</td>\n",
              "      <td>1</td>\n",
              "    </tr>\n",
              "    <tr>\n",
              "      <th>1</th>\n",
              "      <td>required vaccines school parents guardians children school exclusion letters</td>\n",
              "      <td>0</td>\n",
              "    </tr>\n",
              "    <tr>\n",
              "      <th>2</th>\n",
              "      <td>two johnson county children measles</td>\n",
              "      <td>0</td>\n",
              "    </tr>\n",
              "    <tr>\n",
              "      <th>3</th>\n",
              "      <td>nv better states best worst vaccinating kids</td>\n",
              "      <td>2</td>\n",
              "    </tr>\n",
              "    <tr>\n",
              "      <th>4</th>\n",
              "      <td>nothing like killing fear mt vaccine fears fueled resurgence preventable diseases</td>\n",
              "      <td>2</td>\n",
              "    </tr>\n",
              "    <tr>\n",
              "      <th>...</th>\n",
              "      <td>...</td>\n",
              "      <td>...</td>\n",
              "    </tr>\n",
              "    <tr>\n",
              "      <th>2277</th>\n",
              "      <td>rt number measles cases reported cali year high officials say uggh not good thing</td>\n",
              "      <td>0</td>\n",
              "    </tr>\n",
              "    <tr>\n",
              "      <th>2278</th>\n",
              "      <td>evidence points idea measles affects immune system two three years disease</td>\n",
              "      <td>0</td>\n",
              "    </tr>\n",
              "    <tr>\n",
              "      <th>2279</th>\n",
              "      <td>vaccinate kids two minutes</td>\n",
              "      <td>2</td>\n",
              "    </tr>\n",
              "    <tr>\n",
              "      <th>2280</th>\n",
              "      <td>favorite people autism reason bringing back diseases eviscerated fuck vaccineswork</td>\n",
              "      <td>2</td>\n",
              "    </tr>\n",
              "    <tr>\n",
              "      <th>2281</th>\n",
              "      <td>coronavirus married couple behind successful pfizer covid vaccine came germany turkish migrant worker kids inspiring couple</td>\n",
              "      <td>0</td>\n",
              "    </tr>\n",
              "  </tbody>\n",
              "</table>\n",
              "<p>2282 rows × 2 columns</p>\n",
              "</div>\n",
              "      <button class=\"colab-df-convert\" onclick=\"convertToInteractive('df-1c529112-016f-4893-b770-abaad43cf46e')\"\n",
              "              title=\"Convert this dataframe to an interactive table.\"\n",
              "              style=\"display:none;\">\n",
              "        \n",
              "  <svg xmlns=\"http://www.w3.org/2000/svg\" height=\"24px\"viewBox=\"0 0 24 24\"\n",
              "       width=\"24px\">\n",
              "    <path d=\"M0 0h24v24H0V0z\" fill=\"none\"/>\n",
              "    <path d=\"M18.56 5.44l.94 2.06.94-2.06 2.06-.94-2.06-.94-.94-2.06-.94 2.06-2.06.94zm-11 1L8.5 8.5l.94-2.06 2.06-.94-2.06-.94L8.5 2.5l-.94 2.06-2.06.94zm10 10l.94 2.06.94-2.06 2.06-.94-2.06-.94-.94-2.06-.94 2.06-2.06.94z\"/><path d=\"M17.41 7.96l-1.37-1.37c-.4-.4-.92-.59-1.43-.59-.52 0-1.04.2-1.43.59L10.3 9.45l-7.72 7.72c-.78.78-.78 2.05 0 2.83L4 21.41c.39.39.9.59 1.41.59.51 0 1.02-.2 1.41-.59l7.78-7.78 2.81-2.81c.8-.78.8-2.07 0-2.86zM5.41 20L4 18.59l7.72-7.72 1.47 1.35L5.41 20z\"/>\n",
              "  </svg>\n",
              "      </button>\n",
              "      \n",
              "  <style>\n",
              "    .colab-df-container {\n",
              "      display:flex;\n",
              "      flex-wrap:wrap;\n",
              "      gap: 12px;\n",
              "    }\n",
              "\n",
              "    .colab-df-convert {\n",
              "      background-color: #E8F0FE;\n",
              "      border: none;\n",
              "      border-radius: 50%;\n",
              "      cursor: pointer;\n",
              "      display: none;\n",
              "      fill: #1967D2;\n",
              "      height: 32px;\n",
              "      padding: 0 0 0 0;\n",
              "      width: 32px;\n",
              "    }\n",
              "\n",
              "    .colab-df-convert:hover {\n",
              "      background-color: #E2EBFA;\n",
              "      box-shadow: 0px 1px 2px rgba(60, 64, 67, 0.3), 0px 1px 3px 1px rgba(60, 64, 67, 0.15);\n",
              "      fill: #174EA6;\n",
              "    }\n",
              "\n",
              "    [theme=dark] .colab-df-convert {\n",
              "      background-color: #3B4455;\n",
              "      fill: #D2E3FC;\n",
              "    }\n",
              "\n",
              "    [theme=dark] .colab-df-convert:hover {\n",
              "      background-color: #434B5C;\n",
              "      box-shadow: 0px 1px 3px 1px rgba(0, 0, 0, 0.15);\n",
              "      filter: drop-shadow(0px 1px 2px rgba(0, 0, 0, 0.3));\n",
              "      fill: #FFFFFF;\n",
              "    }\n",
              "  </style>\n",
              "\n",
              "      <script>\n",
              "        const buttonEl =\n",
              "          document.querySelector('#df-1c529112-016f-4893-b770-abaad43cf46e button.colab-df-convert');\n",
              "        buttonEl.style.display =\n",
              "          google.colab.kernel.accessAllowed ? 'block' : 'none';\n",
              "\n",
              "        async function convertToInteractive(key) {\n",
              "          const element = document.querySelector('#df-1c529112-016f-4893-b770-abaad43cf46e');\n",
              "          const dataTable =\n",
              "            await google.colab.kernel.invokeFunction('convertToInteractive',\n",
              "                                                     [key], {});\n",
              "          if (!dataTable) return;\n",
              "\n",
              "          const docLinkHtml = 'Like what you see? Visit the ' +\n",
              "            '<a target=\"_blank\" href=https://colab.research.google.com/notebooks/data_table.ipynb>data table notebook</a>'\n",
              "            + ' to learn more about interactive tables.';\n",
              "          element.innerHTML = '';\n",
              "          dataTable['output_type'] = 'display_data';\n",
              "          await google.colab.output.renderOutput(dataTable, element);\n",
              "          const docLink = document.createElement('div');\n",
              "          docLink.innerHTML = docLinkHtml;\n",
              "          element.appendChild(docLink);\n",
              "        }\n",
              "      </script>\n",
              "    </div>\n",
              "  </div>\n",
              "  "
            ],
            "text/plain": [
              "                                                                                                                            tweet  label\n",
              "0                           massive surge covid deaths immediately vaccine rollout way entirety pandemic point fuck jabs dr death      1\n",
              "1                                                    required vaccines school parents guardians children school exclusion letters      0\n",
              "2                                                                                             two johnson county children measles      0\n",
              "3                                                                                    nv better states best worst vaccinating kids      2\n",
              "4                                               nothing like killing fear mt vaccine fears fueled resurgence preventable diseases      2\n",
              "...                                                                                                                           ...    ...\n",
              "2277                                            rt number measles cases reported cali year high officials say uggh not good thing      0\n",
              "2278                                                   evidence points idea measles affects immune system two three years disease      0\n",
              "2279                                                                                                   vaccinate kids two minutes      2\n",
              "2280                                           favorite people autism reason bringing back diseases eviscerated fuck vaccineswork      2\n",
              "2281  coronavirus married couple behind successful pfizer covid vaccine came germany turkish migrant worker kids inspiring couple      0\n",
              "\n",
              "[2282 rows x 2 columns]"
            ]
          },
          "metadata": {},
          "execution_count": 16
        }
      ]
    },
    {
      "cell_type": "markdown",
      "source": [
        "# Data preparation\n",
        "\n",
        "Now, we will prepare out data(tweets) in order to work with outr RNNs.\n"
      ],
      "metadata": {
        "id": "Fxvwwzm5Yy3h"
      }
    },
    {
      "cell_type": "markdown",
      "source": [
        "**Download GloVe pre-trained word embeddings**\n",
        "\n",
        "First, we will download pre-trained word embeddings from GloVe to use as our word-embeddings. We will use the same embeddings as in the previous assignment:"
      ],
      "metadata": {
        "id": "P0KJ32sajVZr"
      }
    },
    {
      "cell_type": "code",
      "source": [
        "glove = GloVe(name=\"6B\", dim=300)"
      ],
      "metadata": {
        "id": "iCG_QXu0eU1E",
        "colab": {
          "base_uri": "https://localhost:8080/"
        },
        "outputId": "a9a75e6b-29a2-4b03-a055-b672271bba32"
      },
      "execution_count": 17,
      "outputs": [
        {
          "output_type": "stream",
          "name": "stderr",
          "text": [
            ".vector_cache/glove.6B.zip: 862MB [02:42, 5.30MB/s]                           \n",
            "100%|█████████▉| 399999/400000 [00:37<00:00, 10703.95it/s]\n"
          ]
        }
      ]
    },
    {
      "cell_type": "markdown",
      "source": [
        "**Drop tweets with unknown words from training set**\n",
        "\n",
        "We will also drop tweets from the training set that their words do not belong to any of our pre-trained word embeddings. The reason for this is because they produce noise which is bad for the training of our model."
      ],
      "metadata": {
        "id": "Sz7zhoHpelQU"
      }
    },
    {
      "cell_type": "code",
      "source": [
        "def drop_with_unknown_words(row):\n",
        "  known = False\n",
        "  for word in row['tweet'].split():\n",
        "    if word in glove.stoi.keys():\n",
        "      known = True\n",
        "  return known"
      ],
      "metadata": {
        "id": "hU2394ZHeoxr"
      },
      "execution_count": 18,
      "outputs": []
    },
    {
      "cell_type": "code",
      "source": [
        "train_dataset = train_dataset[train_dataset.apply(drop_with_unknown_words, axis=1)]\n",
        "train_dataset"
      ],
      "metadata": {
        "colab": {
          "base_uri": "https://localhost:8080/",
          "height": 424
        },
        "id": "LPHiFZDhgmc8",
        "outputId": "42aa8994-b9ab-4f3e-db09-172b28bb226f"
      },
      "execution_count": 19,
      "outputs": [
        {
          "output_type": "execute_result",
          "data": {
            "text/html": [
              "\n",
              "  <div id=\"df-97893426-49cd-4b06-a37e-efd3c7e451b4\">\n",
              "    <div class=\"colab-df-container\">\n",
              "      <div>\n",
              "<style scoped>\n",
              "    .dataframe tbody tr th:only-of-type {\n",
              "        vertical-align: middle;\n",
              "    }\n",
              "\n",
              "    .dataframe tbody tr th {\n",
              "        vertical-align: top;\n",
              "    }\n",
              "\n",
              "    .dataframe thead th {\n",
              "        text-align: right;\n",
              "    }\n",
              "</style>\n",
              "<table border=\"1\" class=\"dataframe\">\n",
              "  <thead>\n",
              "    <tr style=\"text-align: right;\">\n",
              "      <th></th>\n",
              "      <th>tweet</th>\n",
              "      <th>label</th>\n",
              "    </tr>\n",
              "  </thead>\n",
              "  <tbody>\n",
              "    <tr>\n",
              "      <th>0</th>\n",
              "      <td>sip shop come thru right marjais popularnobodies mmr sipnshop</td>\n",
              "      <td>0</td>\n",
              "    </tr>\n",
              "    <tr>\n",
              "      <th>1</th>\n",
              "      <td>dont know family not take covid vaccine anytime soon</td>\n",
              "      <td>1</td>\n",
              "    </tr>\n",
              "    <tr>\n",
              "      <th>2</th>\n",
              "      <td>immunizations mandatory period oklahoma wont let kids go school without dangerous otherwise</td>\n",
              "      <td>2</td>\n",
              "    </tr>\n",
              "    <tr>\n",
              "      <th>3</th>\n",
              "      <td>president obama spoke favor vaccination children fox start telling viewers choose vaccination</td>\n",
              "      <td>0</td>\n",
              "    </tr>\n",
              "    <tr>\n",
              "      <th>4</th>\n",
              "      <td>arizona monitoring hundreds measles linked disneyland small world</td>\n",
              "      <td>0</td>\n",
              "    </tr>\n",
              "    <tr>\n",
              "      <th>...</th>\n",
              "      <td>...</td>\n",
              "      <td>...</td>\n",
              "    </tr>\n",
              "    <tr>\n",
              "      <th>15971</th>\n",
              "      <td>believe anti vax nutcases caused measles ignoring obama illegal children streamed us coincidence</td>\n",
              "      <td>1</td>\n",
              "    </tr>\n",
              "    <tr>\n",
              "      <th>15972</th>\n",
              "      <td>feel parents dont vaccinate kids measlesoutbreak</td>\n",
              "      <td>0</td>\n",
              "    </tr>\n",
              "    <tr>\n",
              "      <th>15973</th>\n",
              "      <td>preschoolers tested measles simi valley</td>\n",
              "      <td>0</td>\n",
              "    </tr>\n",
              "    <tr>\n",
              "      <th>15974</th>\n",
              "      <td>finance minister budget offers room procure covid vaccines available</td>\n",
              "      <td>0</td>\n",
              "    </tr>\n",
              "    <tr>\n",
              "      <th>15975</th>\n",
              "      <td>date vaccines take cdc vaccine quiz find vaccines right</td>\n",
              "      <td>2</td>\n",
              "    </tr>\n",
              "  </tbody>\n",
              "</table>\n",
              "<p>15972 rows × 2 columns</p>\n",
              "</div>\n",
              "      <button class=\"colab-df-convert\" onclick=\"convertToInteractive('df-97893426-49cd-4b06-a37e-efd3c7e451b4')\"\n",
              "              title=\"Convert this dataframe to an interactive table.\"\n",
              "              style=\"display:none;\">\n",
              "        \n",
              "  <svg xmlns=\"http://www.w3.org/2000/svg\" height=\"24px\"viewBox=\"0 0 24 24\"\n",
              "       width=\"24px\">\n",
              "    <path d=\"M0 0h24v24H0V0z\" fill=\"none\"/>\n",
              "    <path d=\"M18.56 5.44l.94 2.06.94-2.06 2.06-.94-2.06-.94-.94-2.06-.94 2.06-2.06.94zm-11 1L8.5 8.5l.94-2.06 2.06-.94-2.06-.94L8.5 2.5l-.94 2.06-2.06.94zm10 10l.94 2.06.94-2.06 2.06-.94-2.06-.94-.94-2.06-.94 2.06-2.06.94z\"/><path d=\"M17.41 7.96l-1.37-1.37c-.4-.4-.92-.59-1.43-.59-.52 0-1.04.2-1.43.59L10.3 9.45l-7.72 7.72c-.78.78-.78 2.05 0 2.83L4 21.41c.39.39.9.59 1.41.59.51 0 1.02-.2 1.41-.59l7.78-7.78 2.81-2.81c.8-.78.8-2.07 0-2.86zM5.41 20L4 18.59l7.72-7.72 1.47 1.35L5.41 20z\"/>\n",
              "  </svg>\n",
              "      </button>\n",
              "      \n",
              "  <style>\n",
              "    .colab-df-container {\n",
              "      display:flex;\n",
              "      flex-wrap:wrap;\n",
              "      gap: 12px;\n",
              "    }\n",
              "\n",
              "    .colab-df-convert {\n",
              "      background-color: #E8F0FE;\n",
              "      border: none;\n",
              "      border-radius: 50%;\n",
              "      cursor: pointer;\n",
              "      display: none;\n",
              "      fill: #1967D2;\n",
              "      height: 32px;\n",
              "      padding: 0 0 0 0;\n",
              "      width: 32px;\n",
              "    }\n",
              "\n",
              "    .colab-df-convert:hover {\n",
              "      background-color: #E2EBFA;\n",
              "      box-shadow: 0px 1px 2px rgba(60, 64, 67, 0.3), 0px 1px 3px 1px rgba(60, 64, 67, 0.15);\n",
              "      fill: #174EA6;\n",
              "    }\n",
              "\n",
              "    [theme=dark] .colab-df-convert {\n",
              "      background-color: #3B4455;\n",
              "      fill: #D2E3FC;\n",
              "    }\n",
              "\n",
              "    [theme=dark] .colab-df-convert:hover {\n",
              "      background-color: #434B5C;\n",
              "      box-shadow: 0px 1px 3px 1px rgba(0, 0, 0, 0.15);\n",
              "      filter: drop-shadow(0px 1px 2px rgba(0, 0, 0, 0.3));\n",
              "      fill: #FFFFFF;\n",
              "    }\n",
              "  </style>\n",
              "\n",
              "      <script>\n",
              "        const buttonEl =\n",
              "          document.querySelector('#df-97893426-49cd-4b06-a37e-efd3c7e451b4 button.colab-df-convert');\n",
              "        buttonEl.style.display =\n",
              "          google.colab.kernel.accessAllowed ? 'block' : 'none';\n",
              "\n",
              "        async function convertToInteractive(key) {\n",
              "          const element = document.querySelector('#df-97893426-49cd-4b06-a37e-efd3c7e451b4');\n",
              "          const dataTable =\n",
              "            await google.colab.kernel.invokeFunction('convertToInteractive',\n",
              "                                                     [key], {});\n",
              "          if (!dataTable) return;\n",
              "\n",
              "          const docLinkHtml = 'Like what you see? Visit the ' +\n",
              "            '<a target=\"_blank\" href=https://colab.research.google.com/notebooks/data_table.ipynb>data table notebook</a>'\n",
              "            + ' to learn more about interactive tables.';\n",
              "          element.innerHTML = '';\n",
              "          dataTable['output_type'] = 'display_data';\n",
              "          await google.colab.output.renderOutput(dataTable, element);\n",
              "          const docLink = document.createElement('div');\n",
              "          docLink.innerHTML = docLinkHtml;\n",
              "          element.appendChild(docLink);\n",
              "        }\n",
              "      </script>\n",
              "    </div>\n",
              "  </div>\n",
              "  "
            ],
            "text/plain": [
              "                                                                                                  tweet  label\n",
              "0                                         sip shop come thru right marjais popularnobodies mmr sipnshop      0\n",
              "1                                                  dont know family not take covid vaccine anytime soon      1\n",
              "2           immunizations mandatory period oklahoma wont let kids go school without dangerous otherwise      2\n",
              "3         president obama spoke favor vaccination children fox start telling viewers choose vaccination      0\n",
              "4                                     arizona monitoring hundreds measles linked disneyland small world      0\n",
              "...                                                                                                 ...    ...\n",
              "15971  believe anti vax nutcases caused measles ignoring obama illegal children streamed us coincidence      1\n",
              "15972                                                  feel parents dont vaccinate kids measlesoutbreak      0\n",
              "15973                                                           preschoolers tested measles simi valley      0\n",
              "15974                              finance minister budget offers room procure covid vaccines available      0\n",
              "15975                                           date vaccines take cdc vaccine quiz find vaccines right      2\n",
              "\n",
              "[15972 rows x 2 columns]"
            ]
          },
          "metadata": {},
          "execution_count": 19
        }
      ]
    },
    {
      "cell_type": "markdown",
      "source": [
        "**Export preprocessed datasets to csv**\n",
        "\n",
        "We also need to export our pre-processed datasets to new csv files because we will need them later."
      ],
      "metadata": {
        "id": "GVg1Bg0mO5Cn"
      }
    },
    {
      "cell_type": "code",
      "source": [
        "train_dataset[['tweet', 'label']].to_csv(\"train_final.csv\")\n",
        "validation_dataset[['tweet', 'label']].to_csv(\"validation_final.csv\")\n",
        "test_dataset[['tweet', 'label']].to_csv(\"test_final.csv\")"
      ],
      "metadata": {
        "id": "1yTpOWEJPG2h"
      },
      "execution_count": 20,
      "outputs": []
    },
    {
      "cell_type": "markdown",
      "source": [
        "**Load pre-processed datasets using torchtext**"
      ],
      "metadata": {
        "id": "YSQpFPTXPVcc"
      }
    },
    {
      "cell_type": "markdown",
      "source": [
        "Defining the felds:"
      ],
      "metadata": {
        "id": "Qou_yihxWMfd"
      }
    },
    {
      "cell_type": "code",
      "source": [
        "tweet_field = data.Field(sequential=True, batch_first=True, lower=True, fix_length=40)\n",
        "label_field = data.Field(sequential=False, use_vocab=False, batch_first=True)\n",
        "\n",
        "fields = {\"tweet\": (\"t\", tweet_field), \"label\": (\"l\", label_field)}"
      ],
      "metadata": {
        "id": "VEPwWue4Pc68"
      },
      "execution_count": 21,
      "outputs": []
    },
    {
      "cell_type": "markdown",
      "source": [
        "Defining the datasets:"
      ],
      "metadata": {
        "id": "lXKkcPa_WP3V"
      }
    },
    {
      "cell_type": "code",
      "source": [
        "train_data, validation_data, test_data = data.TabularDataset.splits(path=\"\", train=\"train_final.csv\", validation=\"validation_final.csv\", test=\"test_final.csv\", format=\"csv\", fields=fields)"
      ],
      "metadata": {
        "id": "MR-UxPsAUkNn"
      },
      "execution_count": 22,
      "outputs": []
    },
    {
      "cell_type": "markdown",
      "source": [
        "Creating the vocabulary:"
      ],
      "metadata": {
        "id": "1RUgvlbnWUxc"
      }
    },
    {
      "cell_type": "code",
      "source": [
        "tweet_field.build_vocab(train_data, vectors=glove, min_freq=1)"
      ],
      "metadata": {
        "id": "7ct5vHwtpygl"
      },
      "execution_count": 23,
      "outputs": []
    },
    {
      "cell_type": "code",
      "source": [
        "len(tweet_field.vocab)"
      ],
      "metadata": {
        "colab": {
          "base_uri": "https://localhost:8080/"
        },
        "id": "9aQnSTY8ye3v",
        "outputId": "922c302c-5238-4dbf-bcd9-153e00c49481"
      },
      "execution_count": 24,
      "outputs": [
        {
          "output_type": "execute_result",
          "data": {
            "text/plain": [
              "18266"
            ]
          },
          "metadata": {},
          "execution_count": 24
        }
      ]
    },
    {
      "cell_type": "markdown",
      "source": [
        "# General model definition\n",
        "\n",
        "We will now define the general model class for all the models we will experiment with."
      ],
      "metadata": {
        "id": "s3FjOwWt8jd9"
      }
    },
    {
      "cell_type": "code",
      "source": [
        "class CellType(Enum):\n",
        "  LSTM=1\n",
        "  GRU=2\n",
        "\n",
        "class MyRNN(nn.Module):\n",
        "  def __init__(self, cell_type: CellType, num_embeddings: int, embeddings: torch.Tensor, embed_size: int, hidden_size: int, num_layers: int, dropout=0, skip_connections=False, attention=False):\n",
        "    super(MyRNN, self).__init__()\n",
        "\n",
        "    # Copy attributes to model\n",
        "    self.cell_type = cell_type\n",
        "    self.num_embeddings = num_embeddings\n",
        "    self.embed_size = embed_size\n",
        "    self.hidden_size = hidden_size\n",
        "    self.num_layers = num_layers\n",
        "    self.dropout = dropout\n",
        "    self.skip_connections = skip_connections\n",
        "    self.attention = attention\n",
        "\n",
        "    # Initialize embedding layer with given(glove) weights\n",
        "    self.embedding = nn.Embedding(self.num_embeddings, self.embed_size, device=device)\n",
        "    self.embedding.weight.data.copy_(embeddings)\n",
        "\n",
        "    # Disable embedding gradients in order not to be trained further.\n",
        "    self.embedding.weight.requires_grad = False\n",
        "    \n",
        "    # Initialize cells\n",
        "    self.cells_forward = []\n",
        "    self.cells_backward = []\n",
        "\n",
        "    for i in range(self.num_layers):\n",
        "      if self.cell_type == CellType.LSTM:\n",
        "        self.cells_forward.append(nn.LSTM(input_size=self.embed_size if i == 0 else self.hidden_size, hidden_size=self.hidden_size, num_layers=1, batch_first=True, bidirectional=False, device=device))\n",
        "        self.cells_backward.append(nn.LSTM(input_size=self.embed_size if i == 0 else self.hidden_size, hidden_size=self.hidden_size, num_layers=1, batch_first=True, bidirectional=False, device=device))\n",
        "      elif self.cell_type == CellType.GRU:\n",
        "        self.cells_forward.append(nn.GRU(input_size=self.embed_size if i == 0 else self.hidden_size, hidden_size=self.hidden_size, num_layers=1, batch_first=True, bidirectional=False, device=device))\n",
        "        self.cells_backward.append(nn.GRU(input_size=self.embed_size if i == 0 else self.hidden_size, hidden_size=self.hidden_size, num_layers=1, batch_first=True, bidirectional=False, device=device))\n",
        "\n",
        "    self.cells_forward = nn.ModuleList(self.cells_forward)\n",
        "    self.cells_backward = nn.ModuleList(self.cells_backward)\n",
        "\n",
        "    # Initialize a dropout layer to be used by our fully connected layer\n",
        "    self.dropout = nn.Dropout(self.dropout)\n",
        "\n",
        "    # If attention is enabled, initialize it's weights. We will use some kind of multihead self attention.\n",
        "    if self.attention:\n",
        "      # Initialize attention weights\n",
        "      self.W_Q_att = nn.Linear(self.hidden_size * 2, self.hidden_size * 2, bias=False, device=device)\n",
        "      self.W_K_att = nn.Linear(self.hidden_size * 2, self.hidden_size * 2, bias=False, device=device)\n",
        "      self.W_V_att = nn.Linear(self.hidden_size * 2, self.hidden_size * 2, bias=False, device=device)\n",
        "\n",
        "      # Initialize Multihead attention layer\n",
        "      self.mh_att = nn.MultiheadAttention(self.hidden_size * 2, num_heads=8, batch_first=True, device=device)\n",
        "\n",
        "    # Initialize final output linear layer\n",
        "    self.linear = nn.Linear(self.hidden_size * 2, 3, device=device)\n",
        "\n",
        "  def forward(self, x):\n",
        "    # Make a reversed copy of batch sequences\n",
        "    x_rev = torch.flip(x, [1])\n",
        "\n",
        "    # Pass word sequences through embedding layer\n",
        "    x = self.embedding(x)\n",
        "    x_rev = self.embedding(x_rev)\n",
        "\n",
        "    # And dropout\n",
        "    x = self.dropout(x)\n",
        "    x_rev = self.dropout(x_rev)\n",
        "\n",
        "    # Initialize where to store previous outputs if skip connections are enabled\n",
        "    if self.skip_connections:\n",
        "      out_prev = []\n",
        "      out_rev_prev = []\n",
        "\n",
        "    # Pass through rnn cells\n",
        "    for i in range(self.num_layers):\n",
        "      # Pass through the cells\n",
        "      if self.cell_type == CellType.LSTM:\n",
        "        out, (h_n, c_n) = self.cells_forward[i](x)\n",
        "        out_rev, (h_n_rev, c_n_rev) = self.cells_backward[i](x_rev)\n",
        "      else:\n",
        "        out, h_n = self.cells_forward[i](x)\n",
        "        out_rev, h_n_rev = self.cells_backward[i](x_rev)\n",
        "\n",
        "      # Add residual (skip) connections if enabled\n",
        "      if self.skip_connections:\n",
        "        for k in range(len(out_prev)):\n",
        "          out = out + out_prev[k]\n",
        "          out_rev = out_rev + out_rev_prev[k]\n",
        "        \n",
        "        out_prev.append(out)\n",
        "        out_rev_prev.append(out_rev)\n",
        "      \n",
        "      # Add dropout in between the lstms if enabled\n",
        "      if i < self.num_layers - 1:\n",
        "        out = self.dropout(out)\n",
        "        out_rev = self.dropout(out_rev)\n",
        "      \n",
        "      x = out\n",
        "      x_rev = out_rev\n",
        "    \n",
        "    # Compute final hidden state (encoder output) (concatenation of last layer hidden states for each direction)\n",
        "    last_hidden = torch.cat((h_n[-1], h_n_rev[-1]), dim=1)\n",
        "\n",
        "    # Calculate tweet vectors (pre-output vector) depending on whether or not attention is enabled\n",
        "    if self.attention:\n",
        "      # Concatenate outputs from both lstms\n",
        "      h = torch.cat((out, out_rev), dim=2)\n",
        "\n",
        "      # Calculate their corresponding query, key and value vectors\n",
        "      Q = self.W_Q_att(h)\n",
        "      K = self.W_K_att(h)\n",
        "      V = self.W_V_att(h)\n",
        "\n",
        "      # Pass output vectors by multihead attention layer \n",
        "      att, _ = self.mh_att(Q, K, V)\n",
        "\n",
        "      # Compute weighted sum\n",
        "      out = torch.sum(att * h, dim=1)\n",
        "\n",
        "    else:\n",
        "      out = last_hidden\n",
        "\n",
        "    # Pass by linear layer\n",
        "    return self.linear(out)\n",
        "\n",
        "  # Makes predictions in the dataloader's dataset and returns predicted labels, true labels and scores\n",
        "  def predict(self, dataloader):\n",
        "    with torch.no_grad():\n",
        "      self.eval()\n",
        "      y_true = torch.tensor([], dtype=torch.int, device='cpu')\n",
        "      y_pred = torch.tensor([], device='cpu')\n",
        "      scores = torch.tensor([], device='cpu')\n",
        "      for batch in dataloader:\n",
        "        y_true = torch.cat((y_true, batch.l.cpu()))\n",
        "        score = self(batch.t)\n",
        "        scores = torch.cat((scores, score.cpu()))\n",
        "        _, y_pred_labels = torch.max(score, 1)\n",
        "        y_pred = torch.cat((y_pred, y_pred_labels.cpu()))\n",
        "      return y_pred, y_true, scores"
      ],
      "metadata": {
        "id": "e5OfObkiDa6U"
      },
      "execution_count": 62,
      "outputs": []
    },
    {
      "cell_type": "markdown",
      "source": [
        "And also an accuracy calculator function:"
      ],
      "metadata": {
        "id": "pPU0JOUiwO4q"
      }
    },
    {
      "cell_type": "code",
      "source": [
        "def accuracy(true_labels: torch.tensor, predicted_labels: torch.tensor):\n",
        "  total = true_labels.size(0)\n",
        "  correct = (true_labels == predicted_labels).sum().item()\n",
        "  return 100 * correct / total"
      ],
      "metadata": {
        "id": "cQ-MD_KXwKwj"
      },
      "execution_count": 26,
      "outputs": []
    },
    {
      "cell_type": "markdown",
      "source": [
        "And then the training function."
      ],
      "metadata": {
        "id": "9Jq0W4DK3Ef5"
      }
    },
    {
      "cell_type": "code",
      "source": [
        "def train(model: MyRNN, dataloader, validation_dataloader, learning_rate: float, epochs: int, optimizer: str, clip_grad_value: float):\n",
        "  # Define the loss function\n",
        "  loss_function = nn.CrossEntropyLoss()\n",
        "\n",
        "  # Define the optimizer\n",
        "  opt = torch.optim.Adam(model.parameters(), lr=learning_rate)\n",
        "\n",
        "  # Initialize train and validation losses lists\n",
        "  train_losses = []\n",
        "  validation_losses = []\n",
        "\n",
        "  # Train for given # of epochs\n",
        "  for epoch in range(epochs):\n",
        "    model.train()\n",
        "    t_losses = []\n",
        "    for batch in dataloader:\n",
        "      # Delete previously stored gradients\n",
        "      opt.zero_grad()\n",
        "      # Calculate prediction probabilities\n",
        "      y_pred = model(batch.t)\n",
        "      # Calculate loss\n",
        "      loss = loss_function(y_pred, batch.l)\n",
        "      # Perform backpropagation starting from the loss calculated in this epoch\n",
        "      loss.backward()\n",
        "      # Clip params\n",
        "      nn.utils.clip_grad_norm_(model.parameters(), max_norm=clip_grad_value)\n",
        "      # Update model's weights based on the gradients calculated during backprop\n",
        "      opt.step()\n",
        "      t_losses.append(loss.item())\n",
        "    \n",
        "    # Calculate train loss in current epoch\n",
        "    train_loss = np.mean(t_losses) \n",
        "    train_losses.append(train_loss)\n",
        "    \n",
        "    # Calculate validation loss, f1 score and accuracy for the current epoch\n",
        "    y_pred, y_true, scores = model.predict(validation_dataloader)\n",
        "    val_loss = loss_function(scores, y_true).item()\n",
        "    validation_losses.append(val_loss)\n",
        "    acc = accuracy(y_true, y_pred)\n",
        "    f1 = f1_score(y_true, y_pred, average='weighted')\n",
        "\n",
        "    # Print current epoch status\n",
        "    print(f\"Epoch {epoch:3}: Loss = {train_loss:.5f} Val_loss = {val_loss:.5f} Val_accuracy = {acc:.5f} F1_Score = {f1:.5f}\")\n",
        "  return train_losses, validation_losses"
      ],
      "metadata": {
        "id": "vk2G4ig0KPbN"
      },
      "execution_count": 27,
      "outputs": []
    },
    {
      "cell_type": "markdown",
      "source": [
        "We will also define functions for scores computations and also evaluation processes."
      ],
      "metadata": {
        "id": "YRf0cHRL9ACh"
      }
    },
    {
      "cell_type": "code",
      "source": [
        "def plot_loss_vs_epochs(train_losses, val_losses):\n",
        "  assert(len(train_losses) == len(val_losses))\n",
        "  plt.grid()\n",
        "  plt.plot(list(range(len(train_losses))), train_losses, \"o-\", label=\"Train\")\n",
        "  plt.plot(list(range(len(train_losses))), val_losses, \"o-\", label=\"Validation\")\n",
        "  plt.xlabel(\"Epochs\")\n",
        "  plt.ylabel(\"Loss\")\n",
        "  plt.legend()\n",
        "  plt.show()"
      ],
      "metadata": {
        "id": "-VEngw-svtzE"
      },
      "execution_count": 28,
      "outputs": []
    },
    {
      "cell_type": "code",
      "source": [
        "def evaluate_model(y_true: torch.tensor, y_pred: torch.tensor):\n",
        "  print(classification_report(y_true, y_pred))\n",
        "  print(\"Precision:\", precision_score(y_true, y_pred, average='weighted'))\n",
        "  print(\"Recall:\", recall_score(y_true, y_pred, average='weighted'))\n",
        "  print(\"F1 Score:\", f1_score(y_true, y_pred, average='weighted'))\n",
        "  cm = confusion_matrix(y_true, y_pred)\n",
        "  cm_disp = ConfusionMatrixDisplay(confusion_matrix=cm, display_labels=[0, 1, 2])\n",
        "  cm_disp.plot()\n",
        "  plt.show()"
      ],
      "metadata": {
        "id": "f9_480vEUJk5"
      },
      "execution_count": 29,
      "outputs": []
    },
    {
      "cell_type": "code",
      "source": [
        "def plot_roc_curve(y_true: torch.tensor, scores: torch.tensor):\n",
        "  y_true = label_binarize(y_true, classes=[0, 1, 2])\n",
        "\n",
        "  fpr, tpr, _ = roc_curve(y_true.ravel(), scores.ravel())\n",
        "  roc_auc= auc(fpr, tpr)\n",
        "\n",
        "  plt.figure()\n",
        "  plt.plot(\n",
        "      fpr,\n",
        "      tpr,\n",
        "      label=\"micro-average ROC curve (area = {0:0.2f})\".format(roc_auc),\n",
        "      color=\"darkorange\",\n",
        "  )\n",
        "  plt.plot([0, 1], [0, 1], color=\"navy\",lw=2, linestyle=\"--\")\n",
        "  plt.xlim([0.0, 1.0])\n",
        "  plt.ylim([0.0, 1.05])\n",
        "  plt.xlabel(\"False Positive Rate\")\n",
        "  plt.ylabel(\"True Positive Rate\")\n",
        "  plt.legend(loc=\"lower right\")\n",
        "  plt.show()"
      ],
      "metadata": {
        "id": "ncTtrJ_x7xKe"
      },
      "execution_count": 30,
      "outputs": []
    },
    {
      "cell_type": "markdown",
      "metadata": {
        "id": "wFXpU-gLDlss"
      },
      "source": [
        "# Model comparison\n",
        "We will make experiments with different feed-forward neural network models and compare each other's performance. For batch size, i used everywhere 1024, and for the hidden dimension, after lots of experiments, i used everywhere 512 as these gave the best results for me."
      ]
    },
    {
      "cell_type": "markdown",
      "source": [
        "## Model 1: \n",
        "\n",
        "Let's try our first model with the following parameters:\n",
        "\n",
        "*   cell: LSTM\n",
        "*   hidden dimension: 512\n",
        "*   layers: 2\n",
        "*   skip connections: False\n",
        "*   gradient clipping: 0.99\n",
        "*   dropout: 20%\n",
        "\n",
        "\n",
        "\n",
        "\n",
        "\n"
      ],
      "metadata": {
        "id": "kJX9HKR6BDhf"
      }
    },
    {
      "cell_type": "code",
      "source": [
        "reset_seed()"
      ],
      "metadata": {
        "id": "EiAnftCaBElt"
      },
      "execution_count": 49,
      "outputs": []
    },
    {
      "cell_type": "code",
      "source": [
        "model = MyRNN(CellType.LSTM, len(tweet_field.vocab), tweet_field.vocab.vectors, 300, 512, 2, dropout=0.25, skip_connections=False)\n",
        "model"
      ],
      "metadata": {
        "colab": {
          "base_uri": "https://localhost:8080/"
        },
        "id": "VjpySTk8BHUm",
        "outputId": "769d956b-00b0-432d-e43f-a0f23bcc9747"
      },
      "execution_count": 50,
      "outputs": [
        {
          "output_type": "execute_result",
          "data": {
            "text/plain": [
              "MyRNN(\n",
              "  (embedding): Embedding(18266, 300)\n",
              "  (cells_forward): ModuleList(\n",
              "    (0): LSTM(300, 512, batch_first=True)\n",
              "    (1): LSTM(512, 512, batch_first=True)\n",
              "  )\n",
              "  (cells_backward): ModuleList(\n",
              "    (0): LSTM(300, 512, batch_first=True)\n",
              "    (1): LSTM(512, 512, batch_first=True)\n",
              "  )\n",
              "  (dropout): Dropout(p=0.25, inplace=False)\n",
              "  (linear): Linear(in_features=1024, out_features=3, bias=True)\n",
              ")"
            ]
          },
          "metadata": {},
          "execution_count": 50
        }
      ]
    },
    {
      "cell_type": "code",
      "source": [
        "train_iterator, validation_iterator, test_iterator = data.BucketIterator.splits((train_data, validation_data, test_data), batch_size=1024, sort=False, shuffle=True, device=device)"
      ],
      "metadata": {
        "id": "xqdMh6Ko5Uvl"
      },
      "execution_count": 51,
      "outputs": []
    },
    {
      "cell_type": "code",
      "source": [
        "train_losses, validation_losses = train(model, train_iterator,validation_iterator, learning_rate=0.001, epochs=9, optimizer=\"Adam\", clip_grad_value=0.99)"
      ],
      "metadata": {
        "id": "NImn9iaICsW4",
        "colab": {
          "base_uri": "https://localhost:8080/"
        },
        "outputId": "be8f6290-8bf9-44bf-f437-5b0b00a09619"
      },
      "execution_count": 52,
      "outputs": [
        {
          "output_type": "stream",
          "name": "stdout",
          "text": [
            "Epoch   0: Loss = 0.92307 Val_loss = 0.80650 Val_accuracy = 63.97897 F1_Score = 0.59694\n",
            "Epoch   1: Loss = 0.77940 Val_loss = 0.74970 Val_accuracy = 66.12621 F1_Score = 0.63364\n",
            "Epoch   2: Loss = 0.72243 Val_loss = 0.69989 Val_accuracy = 68.49255 F1_Score = 0.67364\n",
            "Epoch   3: Loss = 0.68769 Val_loss = 0.67982 Val_accuracy = 69.98247 F1_Score = 0.69188\n",
            "Epoch   4: Loss = 0.66532 Val_loss = 0.67153 Val_accuracy = 70.20158 F1_Score = 0.70250\n",
            "Epoch   5: Loss = 0.64219 Val_loss = 0.65144 Val_accuracy = 71.86678 F1_Score = 0.71741\n",
            "Epoch   6: Loss = 0.62271 Val_loss = 0.65590 Val_accuracy = 71.51621 F1_Score = 0.70202\n",
            "Epoch   7: Loss = 0.60344 Val_loss = 0.64846 Val_accuracy = 72.34882 F1_Score = 0.71476\n",
            "Epoch   8: Loss = 0.58551 Val_loss = 0.64755 Val_accuracy = 73.79492 F1_Score = 0.73719\n"
          ]
        }
      ]
    },
    {
      "cell_type": "code",
      "source": [
        "y_pred, y_true, scores = model.predict(test_iterator)"
      ],
      "metadata": {
        "id": "EYO_PXSvL_wo"
      },
      "execution_count": 53,
      "outputs": []
    },
    {
      "cell_type": "code",
      "source": [
        "evaluate_model(y_true, y_pred)"
      ],
      "metadata": {
        "id": "fWKNGwKQJQpg",
        "colab": {
          "base_uri": "https://localhost:8080/",
          "height": 505
        },
        "outputId": "39faa654-e04c-45ce-bd14-7f53c952d815"
      },
      "execution_count": 54,
      "outputs": [
        {
          "output_type": "stream",
          "name": "stdout",
          "text": [
            "              precision    recall  f1-score   support\n",
            "\n",
            "           0       0.81      0.78      0.79      1065\n",
            "           1       0.60      0.52      0.56       296\n",
            "           2       0.70      0.76      0.73       921\n",
            "\n",
            "    accuracy                           0.74      2282\n",
            "   macro avg       0.70      0.69      0.69      2282\n",
            "weighted avg       0.74      0.74      0.74      2282\n",
            "\n",
            "Precision: 0.7387190534417\n",
            "Recall: 0.7379491673970202\n",
            "F1 Score: 0.7371872540348149\n"
          ]
        },
        {
          "output_type": "display_data",
          "data": {
            "image/png": "[encoded data removed]",
            "text/plain": [
              "<Figure size 432x288 with 2 Axes>"
            ]
          },
          "metadata": {
            "needs_background": "light"
          }
        }
      ]
    },
    {
      "cell_type": "code",
      "source": [
        "plot_loss_vs_epochs(train_losses, validation_losses)"
      ],
      "metadata": {
        "colab": {
          "base_uri": "https://localhost:8080/",
          "height": 279
        },
        "id": "jWNh_LirJXJ4",
        "outputId": "6a885890-4caa-4a1e-a3ae-c2c9683656ae"
      },
      "execution_count": 55,
      "outputs": [
        {
          "output_type": "display_data",
          "data": {
            "image/png": "[encoded data removed]",
            "text/plain": [
              "<Figure size 432x288 with 1 Axes>"
            ]
          },
          "metadata": {
            "needs_background": "light"
          }
        }
      ]
    },
    {
      "cell_type": "code",
      "source": [
        "plot_roc_curve(y_true, scores)"
      ],
      "metadata": {
        "id": "2K4UMWeOJZ9e",
        "colab": {
          "base_uri": "https://localhost:8080/",
          "height": 279
        },
        "outputId": "2e6f4a8e-d2f8-406c-dffc-469631a0ba73"
      },
      "execution_count": 56,
      "outputs": [
        {
          "output_type": "display_data",
          "data": {
            "image/png": "[encoded data removed]",
            "text/plain": [
              "<Figure size 432x288 with 1 Axes>"
            ]
          },
          "metadata": {
            "needs_background": "light"
          }
        }
      ]
    },
    {
      "cell_type": "markdown",
      "source": [
        "## Model 2: \n",
        "\n",
        "Now, let's retrain with skip connections enabled:\n",
        "\n",
        "*   cell: LSTM\n",
        "*   hidden dimension: 512\n",
        "*   layers: 2\n",
        "*   skip connections: True\n",
        "*   gradient clipping: 0.99\n",
        "*   dropout: 20%\n",
        "\n",
        "\n",
        "\n",
        "\n",
        "\n"
      ],
      "metadata": {
        "id": "SzZPPXglU9YD"
      }
    },
    {
      "cell_type": "code",
      "source": [
        "reset_seed()"
      ],
      "metadata": {
        "id": "4BKbYW4bU9YE"
      },
      "execution_count": 60,
      "outputs": []
    },
    {
      "cell_type": "code",
      "source": [
        "model = MyRNN(CellType.LSTM, len(tweet_field.vocab), tweet_field.vocab.vectors, 300, 512, 2, dropout=0.25, skip_connections=True)\n",
        "model"
      ],
      "metadata": {
        "colab": {
          "base_uri": "https://localhost:8080/"
        },
        "outputId": "4bfc4577-1c62-4843-d1be-c6db342aa942",
        "id": "U_4J9sL3U9YE"
      },
      "execution_count": 61,
      "outputs": [
        {
          "output_type": "execute_result",
          "data": {
            "text/plain": [
              "MyRNN(\n",
              "  (embedding): Embedding(18266, 300)\n",
              "  (cells_forward): ModuleList(\n",
              "    (0): LSTM(300, 512, batch_first=True)\n",
              "    (1): LSTM(512, 512, batch_first=True)\n",
              "  )\n",
              "  (cells_backward): ModuleList(\n",
              "    (0): LSTM(300, 512, batch_first=True)\n",
              "    (1): LSTM(512, 512, batch_first=True)\n",
              "  )\n",
              "  (dropout): Dropout(p=0.25, inplace=False)\n",
              "  (linear): Linear(in_features=1024, out_features=3, bias=True)\n",
              ")"
            ]
          },
          "metadata": {},
          "execution_count": 61
        }
      ]
    },
    {
      "cell_type": "code",
      "source": [
        "train_iterator, validation_iterator, test_iterator = data.BucketIterator.splits((train_data, validation_data, test_data), batch_size=1024, sort=False, shuffle=True, device=device)"
      ],
      "metadata": {
        "id": "r1jbx03KU9YF"
      },
      "execution_count": 62,
      "outputs": []
    },
    {
      "cell_type": "code",
      "source": [
        "train_losses, validation_losses = train(model, train_iterator,validation_iterator, learning_rate=0.001, epochs=9, optimizer=\"Adam\", clip_grad_value=0.99)"
      ],
      "metadata": {
        "colab": {
          "base_uri": "https://localhost:8080/"
        },
        "outputId": "0a66dfc1-93bb-4aea-c897-37e929b636a7",
        "id": "luH6LK0DU9YF"
      },
      "execution_count": 63,
      "outputs": [
        {
          "output_type": "stream",
          "name": "stdout",
          "text": [
            "Epoch   0: Loss = 0.92307 Val_loss = 0.80650 Val_accuracy = 63.97897 F1_Score = 0.59694\n",
            "Epoch   1: Loss = 0.77940 Val_loss = 0.74970 Val_accuracy = 66.12621 F1_Score = 0.63364\n",
            "Epoch   2: Loss = 0.72243 Val_loss = 0.69989 Val_accuracy = 68.49255 F1_Score = 0.67364\n",
            "Epoch   3: Loss = 0.68769 Val_loss = 0.67982 Val_accuracy = 69.98247 F1_Score = 0.69188\n",
            "Epoch   4: Loss = 0.66532 Val_loss = 0.67153 Val_accuracy = 70.20158 F1_Score = 0.70250\n",
            "Epoch   5: Loss = 0.64219 Val_loss = 0.65144 Val_accuracy = 71.86678 F1_Score = 0.71741\n",
            "Epoch   6: Loss = 0.62271 Val_loss = 0.65590 Val_accuracy = 71.51621 F1_Score = 0.70202\n",
            "Epoch   7: Loss = 0.60344 Val_loss = 0.64846 Val_accuracy = 72.34882 F1_Score = 0.71476\n",
            "Epoch   8: Loss = 0.58551 Val_loss = 0.64755 Val_accuracy = 73.79492 F1_Score = 0.73719\n"
          ]
        }
      ]
    },
    {
      "cell_type": "code",
      "source": [
        "y_pred, y_true, scores = model.predict(test_iterator)"
      ],
      "metadata": {
        "id": "erdbSlXMU9YF"
      },
      "execution_count": 64,
      "outputs": []
    },
    {
      "cell_type": "code",
      "source": [
        "evaluate_model(y_true, y_pred)"
      ],
      "metadata": {
        "colab": {
          "base_uri": "https://localhost:8080/",
          "height": 505
        },
        "outputId": "3f7412e9-0680-44bf-f53c-da6ab1b0f4a2",
        "id": "Om_G_xaFU9YG"
      },
      "execution_count": 65,
      "outputs": [
        {
          "output_type": "stream",
          "name": "stdout",
          "text": [
            "              precision    recall  f1-score   support\n",
            "\n",
            "           0       0.81      0.78      0.79      1065\n",
            "           1       0.60      0.52      0.56       296\n",
            "           2       0.70      0.76      0.73       921\n",
            "\n",
            "    accuracy                           0.74      2282\n",
            "   macro avg       0.70      0.69      0.69      2282\n",
            "weighted avg       0.74      0.74      0.74      2282\n",
            "\n",
            "Precision: 0.7387190534417\n",
            "Recall: 0.7379491673970202\n",
            "F1 Score: 0.7371872540348149\n"
          ]
        },
        {
          "output_type": "display_data",
          "data": {
            "image/png": "[encoded data removed]",
            "text/plain": [
              "<Figure size 432x288 with 2 Axes>"
            ]
          },
          "metadata": {
            "needs_background": "light"
          }
        }
      ]
    },
    {
      "cell_type": "code",
      "source": [
        "plot_loss_vs_epochs(train_losses, validation_losses)"
      ],
      "metadata": {
        "colab": {
          "base_uri": "https://localhost:8080/",
          "height": 279
        },
        "outputId": "444e005c-c033-42a0-9338-84eb232ac3c9",
        "id": "c8zUrjRdU9YG"
      },
      "execution_count": 66,
      "outputs": [
        {
          "output_type": "display_data",
          "data": {
            "image/png": "[encoded data removed]",
            "text/plain": [
              "<Figure size 432x288 with 1 Axes>"
            ]
          },
          "metadata": {
            "needs_background": "light"
          }
        }
      ]
    },
    {
      "cell_type": "code",
      "source": [
        "plot_roc_curve(y_true, scores)"
      ],
      "metadata": {
        "colab": {
          "base_uri": "https://localhost:8080/",
          "height": 279
        },
        "outputId": "76dde11a-110d-43ae-b87e-f6747fa65042",
        "id": "oFc4Y_3PU9YH"
      },
      "execution_count": 67,
      "outputs": [
        {
          "output_type": "display_data",
          "data": {
            "image/png": "[encoded data removed]",
            "text/plain": [
              "<Figure size 432x288 with 1 Axes>"
            ]
          },
          "metadata": {
            "needs_background": "light"
          }
        }
      ]
    },
    {
      "cell_type": "markdown",
      "source": [
        "As you can see, the results are still the same as without the skip connections. This may be because we only have 2 layers and we don't have much information to preserve from previous layer outputs."
      ],
      "metadata": {
        "id": "BfiHE2wqA6d9"
      }
    },
    {
      "cell_type": "markdown",
      "source": [
        "## Model 3:\n",
        "\n",
        "Let's try a different cell type (GRU):\n",
        "\n",
        "*   cell: GRU\n",
        "*   hidden dimension: 512\n",
        "*   layers: 2\n",
        "*   skip connections: False\n",
        "*   gradient clipping: 1.0\n",
        "*   dropout: 20%\n"
      ],
      "metadata": {
        "id": "rcBOLjF6Xtnr"
      }
    },
    {
      "cell_type": "code",
      "source": [
        "reset_seed()"
      ],
      "metadata": {
        "id": "hIsMHkzEXtn0"
      },
      "execution_count": 76,
      "outputs": []
    },
    {
      "cell_type": "code",
      "source": [
        "model = MyRNN(CellType.GRU, len(tweet_field.vocab), tweet_field.vocab.vectors, 300, 512, 2, dropout=0.2)\n",
        "model"
      ],
      "metadata": {
        "colab": {
          "base_uri": "https://localhost:8080/"
        },
        "outputId": "3902c21a-0c3d-4d4c-e682-82a640c875d6",
        "id": "A3ro2AeZXtn0"
      },
      "execution_count": 77,
      "outputs": [
        {
          "output_type": "execute_result",
          "data": {
            "text/plain": [
              "MyRNN(\n",
              "  (embedding): Embedding(18266, 300)\n",
              "  (cells_forward): ModuleList(\n",
              "    (0): GRU(300, 512, batch_first=True)\n",
              "    (1): GRU(512, 512, batch_first=True)\n",
              "  )\n",
              "  (cells_backward): ModuleList(\n",
              "    (0): GRU(300, 512, batch_first=True)\n",
              "    (1): GRU(512, 512, batch_first=True)\n",
              "  )\n",
              "  (dropout): Dropout(p=0.2, inplace=False)\n",
              "  (linear): Linear(in_features=1024, out_features=3, bias=True)\n",
              ")"
            ]
          },
          "metadata": {},
          "execution_count": 77
        }
      ]
    },
    {
      "cell_type": "code",
      "source": [
        "train_iterator, validation_iterator, test_iterator = data.BucketIterator.splits((train_data, validation_data, test_data), batch_size=1024, sort=False, shuffle=True, device=device)"
      ],
      "metadata": {
        "id": "1eKpFdEtsw1m"
      },
      "execution_count": 78,
      "outputs": []
    },
    {
      "cell_type": "code",
      "source": [
        "train_losses, validation_losses = train(model, train_iterator,validation_iterator, learning_rate=0.001, epochs=10, optimizer=\"Adam\", clip_grad_value=1.0)"
      ],
      "metadata": {
        "colab": {
          "base_uri": "https://localhost:8080/"
        },
        "outputId": "b2245841-074a-44c2-c1d7-3a0df45495db",
        "id": "HFge5DJ0Xtn0"
      },
      "execution_count": 79,
      "outputs": [
        {
          "output_type": "stream",
          "name": "stdout",
          "text": [
            "Epoch   0: Loss = 0.87374 Val_loss = 0.76804 Val_accuracy = 64.68011 F1_Score = 0.62160\n",
            "Epoch   1: Loss = 0.73559 Val_loss = 0.72192 Val_accuracy = 67.87905 F1_Score = 0.66733\n",
            "Epoch   2: Loss = 0.69893 Val_loss = 0.69581 Val_accuracy = 68.79930 F1_Score = 0.68329\n",
            "Epoch   3: Loss = 0.68079 Val_loss = 0.68942 Val_accuracy = 69.85101 F1_Score = 0.67980\n",
            "Epoch   4: Loss = 0.65845 Val_loss = 0.66701 Val_accuracy = 70.85890 F1_Score = 0.70137\n",
            "Epoch   5: Loss = 0.63284 Val_loss = 0.66062 Val_accuracy = 71.77914 F1_Score = 0.71695\n",
            "Epoch   6: Loss = 0.61323 Val_loss = 0.65416 Val_accuracy = 71.99825 F1_Score = 0.71071\n",
            "Epoch   7: Loss = 0.59494 Val_loss = 0.64848 Val_accuracy = 72.39264 F1_Score = 0.72068\n",
            "Epoch   8: Loss = 0.57388 Val_loss = 0.66171 Val_accuracy = 72.56792 F1_Score = 0.72412\n",
            "Epoch   9: Loss = 0.55373 Val_loss = 0.64899 Val_accuracy = 73.22524 F1_Score = 0.73044\n"
          ]
        }
      ]
    },
    {
      "cell_type": "code",
      "source": [
        "y_pred, y_true, scores = model.predict(test_iterator)"
      ],
      "metadata": {
        "id": "e1tllXTgTzpC"
      },
      "execution_count": 80,
      "outputs": []
    },
    {
      "cell_type": "code",
      "source": [
        "evaluate_model(y_true, y_pred)"
      ],
      "metadata": {
        "colab": {
          "base_uri": "https://localhost:8080/",
          "height": 505
        },
        "outputId": "50552440-f7a7-4e6c-b772-846add5b70aa",
        "id": "Z5Ks_AwkXtn1"
      },
      "execution_count": 81,
      "outputs": [
        {
          "output_type": "stream",
          "name": "stdout",
          "text": [
            "              precision    recall  f1-score   support\n",
            "\n",
            "           0       0.80      0.80      0.80      1065\n",
            "           1       0.56      0.49      0.52       296\n",
            "           2       0.71      0.73      0.72       921\n",
            "\n",
            "    accuracy                           0.73      2282\n",
            "   macro avg       0.69      0.67      0.68      2282\n",
            "weighted avg       0.73      0.73      0.73      2282\n",
            "\n",
            "Precision: 0.7294818301107826\n",
            "Recall: 0.7322524101665207\n",
            "F1 Score: 0.7304409027763678\n"
          ]
        },
        {
          "output_type": "display_data",
          "data": {
            "image/png": "[encoded data removed]",
            "text/plain": [
              "<Figure size 432x288 with 2 Axes>"
            ]
          },
          "metadata": {
            "needs_background": "light"
          }
        }
      ]
    },
    {
      "cell_type": "code",
      "source": [
        "plot_loss_vs_epochs(train_losses, validation_losses)"
      ],
      "metadata": {
        "colab": {
          "base_uri": "https://localhost:8080/",
          "height": 279
        },
        "id": "b3Xy3ncwZrLb",
        "outputId": "00de831f-1aae-4971-9268-1d376be06c76"
      },
      "execution_count": 82,
      "outputs": [
        {
          "output_type": "display_data",
          "data": {
            "image/png": "[encoded data removed]",
            "text/plain": [
              "<Figure size 432x288 with 1 Axes>"
            ]
          },
          "metadata": {
            "needs_background": "light"
          }
        }
      ]
    },
    {
      "cell_type": "code",
      "source": [
        "plot_roc_curve(y_true, scores)"
      ],
      "metadata": {
        "colab": {
          "base_uri": "https://localhost:8080/",
          "height": 279
        },
        "outputId": "cd7185f7-0263-41aa-deed-f8704d493c93",
        "id": "InvjtVwiXtn1"
      },
      "execution_count": 83,
      "outputs": [
        {
          "output_type": "display_data",
          "data": {
            "image/png": "[encoded data removed]",
            "text/plain": [
              "<Figure size 432x288 with 1 Axes>"
            ]
          },
          "metadata": {
            "needs_background": "light"
          }
        }
      ]
    },
    {
      "cell_type": "markdown",
      "source": [
        "Hmmmm the results are worse than the best model (Model 1) which has accuracy 73.79492% and f1 score 0.73719 . This may be because LSTM has better and more advanced mechanism to keep past info than GRU."
      ],
      "metadata": {
        "id": "I1409f4aBTmU"
      }
    },
    {
      "cell_type": "markdown",
      "source": [
        "## Model 4:\n",
        "\n",
        "Now, let's try with 3 layers on the best cell type (LSTM):\n",
        "\n",
        "*   cell: LSTM\n",
        "*   hidden dimension: 512\n",
        "*   layers: 3\n",
        "*   skip connections: *False*\n",
        "*   gradient clipping: 1.0\n",
        "*   dropout: 45%\n"
      ],
      "metadata": {
        "id": "ppzE-u39UruN"
      }
    },
    {
      "cell_type": "code",
      "source": [
        "reset_seed()"
      ],
      "metadata": {
        "id": "GhtwLPklUruO"
      },
      "execution_count": 103,
      "outputs": []
    },
    {
      "cell_type": "code",
      "source": [
        "model = MyRNN(CellType.LSTM, len(tweet_field.vocab), tweet_field.vocab.vectors, 300, 512, 3, dropout=0.45, skip_connections=False)\n",
        "model"
      ],
      "metadata": {
        "colab": {
          "base_uri": "https://localhost:8080/"
        },
        "outputId": "2e198260-e17f-48cb-c243-7666f81fa657",
        "id": "cN_jnj05UruO"
      },
      "execution_count": 104,
      "outputs": [
        {
          "output_type": "execute_result",
          "data": {
            "text/plain": [
              "MyRNN(\n",
              "  (embedding): Embedding(18266, 300)\n",
              "  (cells_forward): ModuleList(\n",
              "    (0): LSTM(300, 512, batch_first=True)\n",
              "    (1): LSTM(512, 512, batch_first=True)\n",
              "    (2): LSTM(512, 512, batch_first=True)\n",
              "  )\n",
              "  (cells_backward): ModuleList(\n",
              "    (0): LSTM(300, 512, batch_first=True)\n",
              "    (1): LSTM(512, 512, batch_first=True)\n",
              "    (2): LSTM(512, 512, batch_first=True)\n",
              "  )\n",
              "  (dropout): Dropout(p=0.45, inplace=False)\n",
              "  (linear): Linear(in_features=1024, out_features=3, bias=True)\n",
              ")"
            ]
          },
          "metadata": {},
          "execution_count": 104
        }
      ]
    },
    {
      "cell_type": "code",
      "source": [
        "train_iterator, validation_iterator, test_iterator = data.BucketIterator.splits((train_data, validation_data, test_data), batch_size=1024, sort=False, shuffle=True, device=device)"
      ],
      "metadata": {
        "id": "JNUfncUGUruP"
      },
      "execution_count": 105,
      "outputs": []
    },
    {
      "cell_type": "code",
      "source": [
        "train_losses, validation_losses = train(model, train_iterator,validation_iterator, learning_rate=0.001, epochs=15, optimizer=\"Adam\", clip_grad_value=1.0)"
      ],
      "metadata": {
        "colab": {
          "base_uri": "https://localhost:8080/"
        },
        "outputId": "e46afdcf-0e2d-449f-d075-2e2a390018cd",
        "id": "IukCc5n7UruP"
      },
      "execution_count": 106,
      "outputs": [
        {
          "output_type": "stream",
          "name": "stdout",
          "text": [
            "Epoch   0: Loss = 0.96617 Val_loss = 0.83035 Val_accuracy = 62.92726 F1_Score = 0.58381\n",
            "Epoch   1: Loss = 0.81117 Val_loss = 0.77236 Val_accuracy = 65.33742 F1_Score = 0.60924\n",
            "Epoch   2: Loss = 0.75460 Val_loss = 0.72943 Val_accuracy = 67.22174 F1_Score = 0.63545\n",
            "Epoch   3: Loss = 0.71669 Val_loss = 0.71441 Val_accuracy = 67.87905 F1_Score = 0.66576\n",
            "Epoch   4: Loss = 0.69142 Val_loss = 0.67848 Val_accuracy = 70.68361 F1_Score = 0.70480\n",
            "Epoch   5: Loss = 0.66831 Val_loss = 0.66525 Val_accuracy = 70.94654 F1_Score = 0.70636\n",
            "Epoch   6: Loss = 0.64916 Val_loss = 0.65091 Val_accuracy = 71.60386 F1_Score = 0.70895\n",
            "Epoch   7: Loss = 0.64687 Val_loss = 0.66193 Val_accuracy = 69.71954 F1_Score = 0.69127\n",
            "Epoch   8: Loss = 0.62891 Val_loss = 0.64465 Val_accuracy = 72.52410 F1_Score = 0.72576\n",
            "Epoch   9: Loss = 0.61181 Val_loss = 0.64013 Val_accuracy = 71.91060 F1_Score = 0.71567\n",
            "Epoch  10: Loss = 0.59541 Val_loss = 0.65009 Val_accuracy = 72.30500 F1_Score = 0.72619\n",
            "Epoch  11: Loss = 0.58558 Val_loss = 0.63496 Val_accuracy = 72.26117 F1_Score = 0.71379\n",
            "Epoch  12: Loss = 0.56792 Val_loss = 0.63570 Val_accuracy = 72.74321 F1_Score = 0.72581\n",
            "Epoch  13: Loss = 0.55178 Val_loss = 0.64572 Val_accuracy = 72.91849 F1_Score = 0.72557\n",
            "Epoch  14: Loss = 0.52872 Val_loss = 0.65560 Val_accuracy = 73.22524 F1_Score = 0.73283\n"
          ]
        }
      ]
    },
    {
      "cell_type": "code",
      "source": [
        "y_pred, y_true, scores = model.predict(test_iterator)"
      ],
      "metadata": {
        "id": "h4R57-G1UruQ"
      },
      "execution_count": 107,
      "outputs": []
    },
    {
      "cell_type": "code",
      "source": [
        "evaluate_model(y_true, y_pred)"
      ],
      "metadata": {
        "colab": {
          "base_uri": "https://localhost:8080/",
          "height": 508
        },
        "outputId": "b80e8d00-1da7-4467-ba9b-410cb751973b",
        "id": "5OHAcU3yUruQ"
      },
      "execution_count": 108,
      "outputs": [
        {
          "output_type": "stream",
          "name": "stdout",
          "text": [
            "              precision    recall  f1-score   support\n",
            "\n",
            "           0       0.83      0.75      0.79      1065\n",
            "           1       0.55      0.52      0.53       296\n",
            "           2       0.69      0.78      0.73       921\n",
            "\n",
            "    accuracy                           0.73      2282\n",
            "   macro avg       0.69      0.68      0.68      2282\n",
            "weighted avg       0.74      0.73      0.73      2282\n",
            "\n",
            "Precision: 0.7374740710643297\n",
            "Recall: 0.7322524101665207\n",
            "F1 Score: 0.7328258726058826\n"
          ]
        },
        {
          "output_type": "display_data",
          "data": {
            "image/png": "[encoded data removed]",
            "text/plain": [
              "<Figure size 432x288 with 2 Axes>"
            ]
          },
          "metadata": {
            "needs_background": "light"
          }
        }
      ]
    },
    {
      "cell_type": "code",
      "source": [
        "plot_loss_vs_epochs(train_losses, validation_losses)"
      ],
      "metadata": {
        "colab": {
          "base_uri": "https://localhost:8080/",
          "height": 279
        },
        "outputId": "f8fa14ab-cd49-437c-9e91-6b592d855682",
        "id": "9GJNf8ugUruR"
      },
      "execution_count": 109,
      "outputs": [
        {
          "output_type": "display_data",
          "data": {
            "image/png": "[encoded data removed]",
            "text/plain": [
              "<Figure size 432x288 with 1 Axes>"
            ]
          },
          "metadata": {
            "needs_background": "light"
          }
        }
      ]
    },
    {
      "cell_type": "code",
      "source": [
        "plot_roc_curve(y_true, scores)"
      ],
      "metadata": {
        "colab": {
          "base_uri": "https://localhost:8080/",
          "height": 279
        },
        "outputId": "ac044252-907f-4b19-c924-34c767a71118",
        "id": "xMnEUIFjUruR"
      },
      "execution_count": 110,
      "outputs": [
        {
          "output_type": "display_data",
          "data": {
            "image/png": "[encoded data removed]",
            "text/plain": [
              "<Figure size 432x288 with 1 Axes>"
            ]
          },
          "metadata": {
            "needs_background": "light"
          }
        }
      ]
    },
    {
      "cell_type": "markdown",
      "source": [
        "As you can see the results did not improve from our best model. This may be because of the degradation problem which appears when we increase the number of hidden layers. So, we will try to train the same model but this time with skip connections enabled."
      ],
      "metadata": {
        "id": "0TyQjaU_DT0t"
      }
    },
    {
      "cell_type": "markdown",
      "source": [
        "## Model 5:\n",
        "\n",
        "Same as the previous one but this time with skip connections enabled:\n",
        "\n",
        "*   cell: LSTM\n",
        "*   hidden dimension: 512\n",
        "*   layers: 3\n",
        "*   skip connections: True\n",
        "*   gradient clipping: 1.0\n",
        "*   dropout: 45%\n"
      ],
      "metadata": {
        "id": "tfYpqfqxv3hx"
      }
    },
    {
      "cell_type": "code",
      "source": [
        "reset_seed()"
      ],
      "metadata": {
        "id": "7GFpMC9Av3h3"
      },
      "execution_count": 84,
      "outputs": []
    },
    {
      "cell_type": "code",
      "source": [
        "model = MyRNN(CellType.LSTM, len(tweet_field.vocab), tweet_field.vocab.vectors, 300, 512, 3, dropout=0.45, skip_connections=True)\n",
        "model"
      ],
      "metadata": {
        "colab": {
          "base_uri": "https://localhost:8080/"
        },
        "outputId": "2cb3830b-4903-4ff0-de4d-36eed7e7964e",
        "id": "y0JUSV-zv3h4"
      },
      "execution_count": 85,
      "outputs": [
        {
          "output_type": "execute_result",
          "data": {
            "text/plain": [
              "MyRNN(\n",
              "  (embedding): Embedding(18266, 300)\n",
              "  (cells_forward): ModuleList(\n",
              "    (0): LSTM(300, 512, batch_first=True)\n",
              "    (1): LSTM(512, 512, batch_first=True)\n",
              "    (2): LSTM(512, 512, batch_first=True)\n",
              "  )\n",
              "  (cells_backward): ModuleList(\n",
              "    (0): LSTM(300, 512, batch_first=True)\n",
              "    (1): LSTM(512, 512, batch_first=True)\n",
              "    (2): LSTM(512, 512, batch_first=True)\n",
              "  )\n",
              "  (dropout): Dropout(p=0.45, inplace=False)\n",
              "  (linear): Linear(in_features=1024, out_features=3, bias=True)\n",
              ")"
            ]
          },
          "metadata": {},
          "execution_count": 85
        }
      ]
    },
    {
      "cell_type": "code",
      "source": [
        "train_iterator, validation_iterator, test_iterator = data.BucketIterator.splits((train_data, validation_data, test_data), batch_size=1024, sort=False, shuffle=True, device=device)"
      ],
      "metadata": {
        "id": "eWNvUOVMv3h4"
      },
      "execution_count": 86,
      "outputs": []
    },
    {
      "cell_type": "code",
      "source": [
        "train_losses, validation_losses = train(model, train_iterator,validation_iterator, learning_rate=0.001, epochs=15, optimizer=\"Adam\", clip_grad_value=1.0)"
      ],
      "metadata": {
        "colab": {
          "base_uri": "https://localhost:8080/"
        },
        "outputId": "41696c67-afca-4572-f72f-6b1687448110",
        "id": "nY4mu84ov3h4"
      },
      "execution_count": 87,
      "outputs": [
        {
          "output_type": "stream",
          "name": "stdout",
          "text": [
            "Epoch   0: Loss = 0.93563 Val_loss = 0.80102 Val_accuracy = 64.06661 F1_Score = 0.59855\n",
            "Epoch   1: Loss = 0.78186 Val_loss = 0.74810 Val_accuracy = 66.73970 F1_Score = 0.66599\n",
            "Epoch   2: Loss = 0.73354 Val_loss = 0.70692 Val_accuracy = 68.40491 F1_Score = 0.68545\n",
            "Epoch   3: Loss = 0.70869 Val_loss = 0.69745 Val_accuracy = 69.85101 F1_Score = 0.69531\n",
            "Epoch   4: Loss = 0.68804 Val_loss = 0.68498 Val_accuracy = 68.62401 F1_Score = 0.68741\n",
            "Epoch   5: Loss = 0.66164 Val_loss = 0.65943 Val_accuracy = 71.51621 F1_Score = 0.70618\n",
            "Epoch   6: Loss = 0.64406 Val_loss = 0.65403 Val_accuracy = 71.25329 F1_Score = 0.70767\n",
            "Epoch   7: Loss = 0.63240 Val_loss = 0.65216 Val_accuracy = 71.03418 F1_Score = 0.70594\n",
            "Epoch   8: Loss = 0.61937 Val_loss = 0.63993 Val_accuracy = 72.83085 F1_Score = 0.72726\n",
            "Epoch   9: Loss = 0.60046 Val_loss = 0.63912 Val_accuracy = 72.91849 F1_Score = 0.72784\n",
            "Epoch  10: Loss = 0.58418 Val_loss = 0.66331 Val_accuracy = 71.69150 F1_Score = 0.72150\n",
            "Epoch  11: Loss = 0.57788 Val_loss = 0.64453 Val_accuracy = 71.82296 F1_Score = 0.70972\n",
            "Epoch  12: Loss = 0.55820 Val_loss = 0.65127 Val_accuracy = 71.38475 F1_Score = 0.70952\n",
            "Epoch  13: Loss = 0.54819 Val_loss = 0.64276 Val_accuracy = 72.17353 F1_Score = 0.71820\n",
            "Epoch  14: Loss = 0.51827 Val_loss = 0.67366 Val_accuracy = 73.44435 F1_Score = 0.73685\n"
          ]
        }
      ]
    },
    {
      "cell_type": "code",
      "source": [
        "y_pred, y_true, scores = model.predict(test_iterator)"
      ],
      "metadata": {
        "id": "btT6ixlCv3h4"
      },
      "execution_count": 88,
      "outputs": []
    },
    {
      "cell_type": "code",
      "source": [
        "evaluate_model(y_true, y_pred)"
      ],
      "metadata": {
        "colab": {
          "base_uri": "https://localhost:8080/",
          "height": 505
        },
        "outputId": "024ac7a7-5977-485f-9c50-dc08e7c850e8",
        "id": "8PjEziOqv3h5"
      },
      "execution_count": 89,
      "outputs": [
        {
          "output_type": "stream",
          "name": "stdout",
          "text": [
            "              precision    recall  f1-score   support\n",
            "\n",
            "           0       0.84      0.74      0.79      1065\n",
            "           1       0.53      0.57      0.55       296\n",
            "           2       0.70      0.78      0.74       921\n",
            "\n",
            "    accuracy                           0.73      2282\n",
            "   macro avg       0.69      0.70      0.69      2282\n",
            "weighted avg       0.74      0.73      0.74      2282\n",
            "\n",
            "Precision: 0.7447112419018108\n",
            "Recall: 0.7344434706397897\n",
            "F1 Score: 0.7368484454455432\n"
          ]
        },
        {
          "output_type": "display_data",
          "data": {
            "image/png": "[encoded data removed]",
            "text/plain": [
              "<Figure size 432x288 with 2 Axes>"
            ]
          },
          "metadata": {
            "needs_background": "light"
          }
        }
      ]
    },
    {
      "cell_type": "code",
      "source": [
        "plot_loss_vs_epochs(train_losses, validation_losses)"
      ],
      "metadata": {
        "colab": {
          "base_uri": "https://localhost:8080/",
          "height": 279
        },
        "outputId": "f35aafd4-590b-413b-fcaf-eb5c7e5c3ca7",
        "id": "slaMCeiWv3h5"
      },
      "execution_count": 90,
      "outputs": [
        {
          "output_type": "display_data",
          "data": {
            "image/png": "[encoded data removed]",
            "text/plain": [
              "<Figure size 432x288 with 1 Axes>"
            ]
          },
          "metadata": {
            "needs_background": "light"
          }
        }
      ]
    },
    {
      "cell_type": "code",
      "source": [
        "plot_roc_curve(y_true, scores)"
      ],
      "metadata": {
        "colab": {
          "base_uri": "https://localhost:8080/",
          "height": 279
        },
        "outputId": "5aedf7e0-715f-42d8-f9bb-d6d1da46f935",
        "id": "Bm7aElorv3h5"
      },
      "execution_count": 91,
      "outputs": [
        {
          "output_type": "display_data",
          "data": {
            "image/png": "[encoded data removed]",
            "text/plain": [
              "<Figure size 432x288 with 1 Axes>"
            ]
          },
          "metadata": {
            "needs_background": "light"
          }
        }
      ]
    },
    {
      "cell_type": "markdown",
      "source": [
        "As you can see, the results are much better than without the skip connections enabled which was expected."
      ],
      "metadata": {
        "id": "Wrr6t5UiEAya"
      }
    },
    {
      "cell_type": "markdown",
      "source": [
        "So to conclude, our best model is **Model 1** with accuracy 73.79492% and F1_Score 0.73719."
      ],
      "metadata": {
        "id": "y2ulOiJQEMS5"
      }
    },
    {
      "cell_type": "markdown",
      "source": [
        "# Adding Attention\n",
        "\n",
        "We will now retrain our best Model (Model 1) but this time with a self-attention layer on the rnn final outputs. For the self attention, i used multihead attention like in the transformers model from the paper [Attention is all you need](https://arxiv.org/pdf/1706.03762.pdf) to add attention context to the rnn outputs and for the calculation of the text vector i took the weighted sum of the rnn output vectors and their corresponding attention layer outputs. As you will see, from this technique, i got an improvement on both accuracy and f1 score."
      ],
      "metadata": {
        "id": "pFWqxau672Z5"
      }
    },
    {
      "cell_type": "markdown",
      "source": [
        "## Model 1:\n",
        "\n",
        "*   cell: LSTM\n",
        "*   hidden dimension: 512\n",
        "*   layers: 2\n",
        "*   skip connections: False\n",
        "*   gradient clipping: 0.99\n",
        "*   dropout: 20%"
      ],
      "metadata": {
        "id": "aW-uiN0177r1"
      }
    },
    {
      "cell_type": "code",
      "source": [
        "reset_seed()"
      ],
      "metadata": {
        "id": "IYXPyFJR77r1"
      },
      "execution_count": 64,
      "outputs": []
    },
    {
      "cell_type": "code",
      "source": [
        "model = MyRNN(CellType.LSTM, len(tweet_field.vocab), tweet_field.vocab.vectors, 300, 512, 2, dropout=0.25, skip_connections=False, attention=True)\n",
        "model"
      ],
      "metadata": {
        "colab": {
          "base_uri": "https://localhost:8080/"
        },
        "outputId": "d243f13d-7c74-452f-e101-1179dcf07c01",
        "id": "Q5Cx5tWf77r1"
      },
      "execution_count": 65,
      "outputs": [
        {
          "output_type": "execute_result",
          "data": {
            "text/plain": [
              "MyRNN(\n",
              "  (embedding): Embedding(18266, 300)\n",
              "  (cells_forward): ModuleList(\n",
              "    (0): LSTM(300, 512, batch_first=True)\n",
              "    (1): LSTM(512, 512, batch_first=True)\n",
              "  )\n",
              "  (cells_backward): ModuleList(\n",
              "    (0): LSTM(300, 512, batch_first=True)\n",
              "    (1): LSTM(512, 512, batch_first=True)\n",
              "  )\n",
              "  (dropout): Dropout(p=0.25, inplace=False)\n",
              "  (W_Q_att): Linear(in_features=1024, out_features=1024, bias=False)\n",
              "  (W_K_att): Linear(in_features=1024, out_features=1024, bias=False)\n",
              "  (W_V_att): Linear(in_features=1024, out_features=1024, bias=False)\n",
              "  (mh_att): MultiheadAttention(\n",
              "    (out_proj): NonDynamicallyQuantizableLinear(in_features=1024, out_features=1024, bias=True)\n",
              "  )\n",
              "  (linear): Linear(in_features=1024, out_features=3, bias=True)\n",
              ")"
            ]
          },
          "metadata": {},
          "execution_count": 65
        }
      ]
    },
    {
      "cell_type": "code",
      "source": [
        "train_iterator, validation_iterator, test_iterator = data.BucketIterator.splits((train_data, validation_data, test_data), batch_size=1024, sort=False, shuffle=True, device=device)"
      ],
      "metadata": {
        "id": "6hjPbLKs77r2"
      },
      "execution_count": 66,
      "outputs": []
    },
    {
      "cell_type": "code",
      "source": [
        "train_losses, validation_losses = train(model, train_iterator,validation_iterator, learning_rate=0.001, epochs=11, optimizer=\"Adam\", clip_grad_value=0.99)"
      ],
      "metadata": {
        "colab": {
          "base_uri": "https://localhost:8080/"
        },
        "outputId": "94ac9db1-d272-49dd-e083-49bdcc643a9d",
        "id": "ysOacnXz77r2"
      },
      "execution_count": 67,
      "outputs": [
        {
          "output_type": "stream",
          "name": "stdout",
          "text": [
            "Epoch   0: Loss = 0.94879 Val_loss = 0.80007 Val_accuracy = 64.94303 F1_Score = 0.60478\n",
            "Epoch   1: Loss = 0.76572 Val_loss = 0.73023 Val_accuracy = 67.30938 F1_Score = 0.63461\n",
            "Epoch   2: Loss = 0.71203 Val_loss = 0.69222 Val_accuracy = 69.80719 F1_Score = 0.68013\n",
            "Epoch   3: Loss = 0.69198 Val_loss = 0.69513 Val_accuracy = 69.80719 F1_Score = 0.68764\n",
            "Epoch   4: Loss = 0.67217 Val_loss = 0.66245 Val_accuracy = 71.07800 F1_Score = 0.70605\n",
            "Epoch   5: Loss = 0.64148 Val_loss = 0.64646 Val_accuracy = 72.52410 F1_Score = 0.72102\n",
            "Epoch   6: Loss = 0.62080 Val_loss = 0.64638 Val_accuracy = 71.86678 F1_Score = 0.71541\n",
            "Epoch   7: Loss = 0.61527 Val_loss = 0.65195 Val_accuracy = 71.77914 F1_Score = 0.71417\n",
            "Epoch   8: Loss = 0.59577 Val_loss = 0.64170 Val_accuracy = 72.30500 F1_Score = 0.71827\n",
            "Epoch   9: Loss = 0.58394 Val_loss = 0.63075 Val_accuracy = 72.78703 F1_Score = 0.72256\n",
            "Epoch  10: Loss = 0.56118 Val_loss = 0.63648 Val_accuracy = 73.88256 F1_Score = 0.73920\n"
          ]
        }
      ]
    },
    {
      "cell_type": "code",
      "source": [
        "y_pred, y_true, scores = model.predict(test_iterator)"
      ],
      "metadata": {
        "id": "YLwz2vzZ77r2"
      },
      "execution_count": 45,
      "outputs": []
    },
    {
      "cell_type": "code",
      "source": [
        "evaluate_model(y_true, y_pred)"
      ],
      "metadata": {
        "colab": {
          "base_uri": "https://localhost:8080/",
          "height": 508
        },
        "outputId": "6c68cc9a-1280-4a4f-8dd6-c7f4a38911bf",
        "id": "Mo6yYh0O77r2"
      },
      "execution_count": 46,
      "outputs": [
        {
          "output_type": "stream",
          "name": "stdout",
          "text": [
            "              precision    recall  f1-score   support\n",
            "\n",
            "           0       0.84      0.75      0.80      1065\n",
            "           1       0.57      0.52      0.55       296\n",
            "           2       0.69      0.79      0.74       921\n",
            "\n",
            "    accuracy                           0.74      2282\n",
            "   macro avg       0.70      0.69      0.69      2282\n",
            "weighted avg       0.74      0.74      0.74      2282\n",
            "\n",
            "Precision: 0.7448391138333071\n",
            "Recall: 0.7388255915863278\n",
            "F1 Score: 0.7391981829840351\n"
          ]
        },
        {
          "output_type": "display_data",
          "data": {
            "image/png": "[encoded data removed]",
            "text/plain": [
              "<Figure size 432x288 with 2 Axes>"
            ]
          },
          "metadata": {
            "needs_background": "light"
          }
        }
      ]
    },
    {
      "cell_type": "code",
      "source": [
        "plot_loss_vs_epochs(train_losses, validation_losses)"
      ],
      "metadata": {
        "colab": {
          "base_uri": "https://localhost:8080/",
          "height": 279
        },
        "outputId": "6958d177-fee7-42c8-eb85-af73f657e2a1",
        "id": "9RA4qKZe77r2"
      },
      "execution_count": 47,
      "outputs": [
        {
          "output_type": "display_data",
          "data": {
            "image/png": "[encoded data removed]",
            "text/plain": [
              "<Figure size 432x288 with 1 Axes>"
            ]
          },
          "metadata": {
            "needs_background": "light"
          }
        }
      ]
    },
    {
      "cell_type": "code",
      "source": [
        "plot_roc_curve(y_true, scores)"
      ],
      "metadata": {
        "colab": {
          "base_uri": "https://localhost:8080/",
          "height": 279
        },
        "outputId": "b598c071-23b3-490d-8c69-2a51e5f0d6b9",
        "id": "zpigjZYH77r2"
      },
      "execution_count": 48,
      "outputs": [
        {
          "output_type": "display_data",
          "data": {
            "image/png": "[encoded data removed]",
            "text/plain": [
              "<Figure size 432x288 with 1 Axes>"
            ]
          },
          "metadata": {
            "needs_background": "light"
          }
        }
      ]
    },
    {
      "cell_type": "markdown",
      "source": [
        "As you can see, we got 9% improvement in the accuracy of the best model and some improvement on the f1 score. Note that i tried different kind of attentions (basic dot product, multiplicative, additive) but this is the one that improved the accuracy of my best model (the other ones gave worse results)."
      ],
      "metadata": {
        "id": "G2SprvqXKVbo"
      }
    }
  ]
}